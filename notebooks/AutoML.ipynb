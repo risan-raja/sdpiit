{
 "cells": [
  {
   "cell_type": "code",
   "execution_count": 2,
   "id": "ee2aba7b-b4e8-45f3-9d62-3d3823e0b750",
   "metadata": {},
   "outputs": [
    {
     "name": "stderr",
     "output_type": "stream",
     "text": [
      "Intel(R) Extension for Scikit-learn* enabled (https://github.com/intel/scikit-learn-intelex)\n"
     ]
    }
   ],
   "source": [
    "import pandas as pd\n",
    "import numpy as np\n",
    "from sklearn.preprocessing import (\n",
    "    Binarizer,\n",
    "    StandardScaler,\n",
    "    LabelBinarizer,\n",
    "    OneHotEncoder,\n",
    ")\n",
    "from sklearn.linear_model import LogisticRegression\n",
    "from sklearnex import patch_sklearn\n",
    "\n",
    "patch_sklearn()\n",
    "from sklearn.compose import ColumnTransformer\n",
    "from sklearn.pipeline import Pipeline, make_pipeline\n",
    "\n",
    "# from xgboost import XGBRFClassifier, XGBClassifier\n",
    "from sklearn.neural_network import MLPClassifier\n",
    "\n",
    "# import dtale\n",
    "import matplotlib.pyplot as plt\n",
    "import seaborn as sns\n",
    "from collections import defaultdict\n",
    "\n",
    "# sns.set()\n",
    "pd.options.display.max_columns = 50\n",
    "pd.options.plotting.backend = \"plotly\"\n",
    "from sklearn import set_config\n",
    "from sklearn.ensemble import StackingClassifier, HistGradientBoostingClassifier\n",
    "from sklearn.gaussian_process.kernels import (\n",
    "    Product,\n",
    "    RBF,\n",
    "    CompoundKernel,\n",
    "    Exponentiation,\n",
    "    Matern,\n",
    "    Sum,\n",
    ")\n",
    "from sklearn.gaussian_process import GaussianProcessClassifier\n",
    "from category_encoders import (\n",
    "    TargetEncoder,\n",
    "    BackwardDifferenceEncoder,\n",
    "    BaseNEncoder,\n",
    "    BinaryEncoder,\n",
    "    CatBoostEncoder,\n",
    "    CatBoostEncoder,\n",
    "    GLMMEncoder,\n",
    "    HelmertEncoder,\n",
    "    JamesSteinEncoder,\n",
    "    PolynomialEncoder,\n",
    "    QuantileEncoder,\n",
    "    SumEncoder,\n",
    "    SummaryEncoder,\n",
    "    WOEEncoder,\n",
    ")\n",
    "\n",
    "set_config(display=\"diagram\")\n",
    "from sklearn.preprocessing import (\n",
    "    StandardScaler,\n",
    "    OneHotEncoder,\n",
    "    OrdinalEncoder,\n",
    "    MinMaxScaler,\n",
    ")\n",
    "from sklearn.pipeline import Pipeline, make_pipeline\n",
    "from sklearn.tree import DecisionTreeClassifier, plot_tree, export_graphviz\n",
    "import warnings\n",
    "from sklearn.multiclass import OneVsRestClassifier\n",
    "from sklearn.metrics import classification_report\n",
    "import plotly.express as px\n",
    "\n",
    "warnings.filterwarnings(\"ignore\")\n",
    "from sklearn.experimental import enable_hist_gradient_boosting\n",
    "from sklearn.ensemble import (\n",
    "    RandomForestClassifier,\n",
    "    ExtraTreesClassifier,\n",
    "    AdaBoostClassifier,\n",
    "    HistGradientBoostingClassifier,\n",
    "    GradientBoostingClassifier,\n",
    ")\n",
    "from sklearn.model_selection import (\n",
    "    train_test_split,\n",
    "    cross_validate,\n",
    "    # StratifiedGroupKFold,\n",
    "    StratifiedKFold,\n",
    ")\n",
    "import sigopt\n",
    "\n",
    "from sklearn.naive_bayes import (\n",
    "    BernoulliNB,\n",
    "    CategoricalNB,\n",
    "    MultinomialNB,\n",
    "    ComplementNB,\n",
    "    GaussianNB,\n",
    ")\n",
    "from sklearn.model_selection import cross_validate\n",
    "from sklearn.preprocessing import QuantileTransformer\n",
    "\n",
    "nb_est = [CategoricalNB(), MultinomialNB(), ComplementNB(), GaussianNB()]\n",
    "from sklearn.multiclass import OneVsRestClassifier, OneVsOneClassifier\n",
    "from sklearn.tree import export_graphviz, plot_tree\n",
    "\n",
    "# import seaborn as sns\n",
    "# import matplotlib.pyplot as plt\n",
    "from tqdm import tqdm\n",
    "from sklearn.feature_selection import (\n",
    "    mutual_info_classif,\n",
    "    SelectKBest,\n",
    "    f_classif,\n",
    "    chi2,\n",
    "    RFE,\n",
    "    SelectFdr,\n",
    "    SelectFpr,\n",
    "    SelectFwe,\n",
    "    SelectPercentile,\n",
    ")\n",
    "\n",
    "# from xgboost import XGBClassifier\n",
    "from joblib import parallel_backend\n",
    "\n",
    "# from autosklearn.automl import AutoMLClassifier\n",
    "import sklearn.metrics\n",
    "\n",
    "dtype_info = {\n",
    "    \"v_1\": \"Binary\",\n",
    "    \"v_26\": \"Binary\",\n",
    "    \"v_11\": \"Binary\",\n",
    "    \"v_14\": \"Binary\",\n",
    "    \"v_30\": \"Binary\",\n",
    "    \"v_28\": \"Binary\",\n",
    "    \"v_9\": \"Binary\",\n",
    "    \"v_27\": \"Binary\",\n",
    "    \"v_32\": \"Nominal\",\n",
    "    \"v_4\": \"Nominal\",\n",
    "    \"v_3\": \"Nominal\",\n",
    "    \"v_20\": \"Nominal\",\n",
    "    \"v_21\": \"Nominal\",\n",
    "    \"v_18\": \"Nominal\",\n",
    "    \"v_25\": \"Nominal\",\n",
    "    \"v_12\": \"Nominal\",\n",
    "    \"v_31\": \"Ordinal\",\n",
    "    \"v_15\": \"Ordinal\",\n",
    "    \"v_19\": \"Ordinal\",\n",
    "    \"v_13\": \"Ordinal\",\n",
    "    \"v_33\": \"Ordinal\",\n",
    "    \"v_17\": \"Ordinal\",\n",
    "    \"v_29\": \"Ordinal\",\n",
    "    \"v_23\": \"Ordinal\",\n",
    "    \"v_6\": \"Ordinal\",\n",
    "    \"v_24\": \"Ordinal\",\n",
    "    \"v_10\": \"Ordinal\",\n",
    "    \"v_5\": \"Ordinal\",\n",
    "    \"v_22\": \"Ordinal\",\n",
    "    \"v_0\": \"Ordinal\",\n",
    "    \"v_16\": \"Ratio\",\n",
    "    \"v_2\": \"Ratio\",\n",
    "    \"v_8\": \"Ratio\",\n",
    "    \"v_7\": \"Ratio\",\n",
    "    \"v_39\": \"Ratio\",\n",
    "    \"v_37\": \"Ratio\",\n",
    "    \"v_38\": \"Ratio\",\n",
    "    \"v_34\": \"Ratio\",\n",
    "    \"v_40\": \"Ratio\",\n",
    "    \"v_36\": \"Ratio\",\n",
    "    \"v_35\": \"Ratio\",\n",
    "}\n",
    "# data = pd.read_csv(\n",
    "#     \"../data/train.csv\",\n",
    "#     index_col=0,\n",
    "# )\n",
    "data__ = pd.read_parquet(\"../data/data_with_ridit.hdfs\", engine=\"fastparquet\")\n",
    "prediction_data = pd.read_parquet(\"../data/test.parquet\", engine=\"fastparquet\")\n",
    "data = pd.read_parquet(\"../data/train.parquet\", engine=\"fastparquet\")\n",
    "ordinal = [i for i in dtype_info if dtype_info[i] == \"Ordinal\"]\n",
    "nominal = [i for i in dtype_info if dtype_info[i] == \"Nominal\"]\n",
    "binary = [i for i in dtype_info if dtype_info[i] == \"Binary\"]\n",
    "ratio = [i for i in dtype_info if dtype_info[i] == \"Ratio\"]\n",
    "\n",
    "\n",
    "final_data = pd.read_parquet(\"../data/final_data.parquet\", engine=\"fastparquet\")\n",
    "final_pred_data = pd.read_parquet(\n",
    "    \"../data/final_pred_data.parquet\", engine=\"fastparquet\"\n",
    ")\n",
    "\n",
    "\n",
    "def categorise_data(data):\n",
    "    ordinal_data = data.loc[:, ordinal]\n",
    "    nominal_data = data.loc[:, nominal]\n",
    "    binary_data = data.loc[:, binary]\n",
    "    ratio_data = data.loc[:, ratio]\n",
    "    return ordinal_data, nominal_data, binary_data, ratio_data\n",
    "\n",
    "\n",
    "ordinal_data, nominal_data, binary_data, ratio_data = categorise_data(final_data)\n",
    "\n",
    "\n",
    "def gen_train_test(data, p):\n",
    "    Y = data.label\n",
    "    X_2 = Y_2 = Y[Y == 2].index\n",
    "    X_0 = Y_0 = Y[Y == 0].index\n",
    "    X_1 = Y_1 = Y[Y == 1].index\n",
    "    train_size = int(p * Y_2.shape[0])\n",
    "    test_size = int((1 - p) * Y_2.shape[0])\n",
    "\n",
    "    train_idx_2 = np.random.choice(Y_2, (train_size,))\n",
    "    train_idx_1 = np.random.choice(Y_1, (train_size,))\n",
    "    train_idx_0 = np.random.choice(Y_0, (train_size,))\n",
    "    train_idx = np.r_[train_idx_0, train_idx_1, train_idx_2]\n",
    "    # train_idx.shape\n",
    "\n",
    "    test_idx_2 = np.random.choice(np.setdiff1d(Y_2, train_idx_2), (test_size,))\n",
    "    test_idx_1 = np.random.choice(np.setdiff1d(Y_1, train_idx_1), (test_size,))\n",
    "    test_idx_0 = np.random.choice(np.setdiff1d(Y_0, train_idx_0), (test_size,))\n",
    "    test_idx = np.r_[test_idx_0, test_idx_1, test_idx_2]\n",
    "    # test_idx.shape\n",
    "    return train_idx, test_idx\n",
    "\n",
    "\n",
    "def best_n_features(n, X_train, y_train):\n",
    "    ohe = OneHotEncoder(\n",
    "        min_frequency=0.00001, handle_unknown=\"infrequent_if_exist\", sparse=False\n",
    "    )\n",
    "    X_train_t = ohe.fit_transform(X_train)\n",
    "    mic = mutual_info_classif(X_train_t, y_train, discrete_features=True)\n",
    "\n",
    "    return ohe.get_feature_names_out()[mic.argsort()[-n:]]\n",
    "\n",
    "\n",
    "# prediction_data = pd.read_pickle(\"../data/pred_data.pkl\")\n",
    "\n",
    "import os\n",
    "from sklearn.svm import SVC, NuSVC\n",
    "from sklearn.linear_model import PassiveAggressiveClassifier, SGDClassifier\n",
    "from sklearn.neighbors import KNeighborsClassifier, RadiusNeighborsClassifier\n",
    "from sklearn.model_selection import RepeatedStratifiedKFold\n",
    "\n",
    "# est_ = [(\"cnb\",CategoricalNB()),]\n",
    "def iv_woe(data, target, bins=10, show_woe=False):\n",
    "\n",
    "    # Empty Dataframe\n",
    "    newDF, woeDF = pd.DataFrame(), pd.DataFrame()\n",
    "\n",
    "    # Extract Column Names\n",
    "    cols = data.columns\n",
    "\n",
    "    # Run WOE and IV on all the independent variables\n",
    "    for ivars in cols[~cols.isin([target])]:\n",
    "        if (data[ivars].dtype.kind in \"bifc\") and (len(np.unique(data[ivars])) > 1000):\n",
    "            binned_x = pd.qcut(data[ivars], bins, duplicates=\"drop\")\n",
    "            d0 = pd.DataFrame({\"x\": binned_x, \"y\": data[target]})\n",
    "        else:\n",
    "            d0 = pd.DataFrame({\"x\": data[ivars], \"y\": data[target]})\n",
    "        d0 = d0.astype({\"x\": str})\n",
    "        d = d0.groupby(\"x\", as_index=False, dropna=False).agg({\"y\": [\"count\", \"sum\"]})\n",
    "        d.columns = [\"Cutoff\", \"N\", \"Events\"]\n",
    "        d[\"% of Events\"] = np.maximum(d[\"Events\"], 0.5) / d[\"Events\"].sum()\n",
    "        d[\"Non-Events\"] = d[\"N\"] - d[\"Events\"]\n",
    "        d[\"% of Non-Events\"] = np.maximum(d[\"Non-Events\"], 0.5) / d[\"Non-Events\"].sum()\n",
    "        d[\"WoE\"] = np.log(d[\"% of Non-Events\"] / d[\"% of Events\"])\n",
    "        d[\"IV\"] = d[\"WoE\"] * (d[\"% of Non-Events\"] - d[\"% of Events\"])\n",
    "        d.insert(loc=0, column=\"Variable\", value=ivars)\n",
    "        print(\"Information value of \" + ivars + \" is \" + str(round(d[\"IV\"].sum(), 6)))\n",
    "        temp = pd.DataFrame(\n",
    "            {\"Variable\": [ivars], \"IV\": [d[\"IV\"].sum()]}, columns=[\"Variable\", \"IV\"]\n",
    "        )\n",
    "        newDF = pd.concat([newDF, temp], axis=0)\n",
    "        woeDF = pd.concat([woeDF, d], axis=0)\n",
    "\n",
    "        # Show WOE Table\n",
    "        if show_woe == True:\n",
    "            print(d)\n",
    "    return newDF, woeDF\n",
    "\n",
    "\n",
    "os.environ[\"SIGOPT_PROJECT\"] = \"notebooks\""
   ]
  },
  {
   "cell_type": "code",
   "execution_count": 4,
   "id": "0174951c-f545-493b-afa7-4b2dab8e567a",
   "metadata": {
    "collapsed": true,
    "jupyter": {
     "outputs_hidden": true,
     "source_hidden": true
    },
    "tags": []
   },
   "outputs": [],
   "source": [
    "# final_data = data.copy()\n",
    "# final_pred_data = prediction_data.copy()\n",
    "\n",
    "\n",
    "def remove_nominal_junk(\n",
    "    hi_f,\n",
    "    final_data: pd.DataFrame = final_data,\n",
    "    data: pd.DataFrame = data,\n",
    "    final_pred_data: pd.DataFrame = final_pred_data,\n",
    "    prediction_data: pd.DataFrame = prediction_data,\n",
    "):\n",
    "    # hi_f = nominal\n",
    "    hi1 = data.loc[:, hi_f]\n",
    "    hi2 = prediction_data.loc[:, hi_f]\n",
    "\n",
    "    for c in hi_f:\n",
    "        print(c)\n",
    "        # print(hi_df[c].unique())\n",
    "        # print('-'*80)\n",
    "        print(\"Junk\")\n",
    "        junk = np.setdiff1d(hi1[c].unique(), hi2[c].unique())\n",
    "        print(junk)\n",
    "        # vc1 = hi1[c].value_counts().to_dict()\n",
    "        # total_junk = 0\n",
    "        for j in junk:\n",
    "            junk_idx = final_data[final_data[c] == j].index\n",
    "            final_data.loc[junk_idx, c] = 0\n",
    "        #     total_junk+= vc1[j]\n",
    "        # print(total_junk)\n",
    "\n",
    "        # print('Missing')\n",
    "        missing = np.setdiff1d(hi2[c].unique(), hi1[c].unique())\n",
    "        print(missing)\n",
    "        # vc2 = hi2[c].value_counts().to_dict()\n",
    "        # total_missing=0\n",
    "        for m in missing:\n",
    "            missing_idx = final_pred_data[final_pred_data[c] == m].index\n",
    "            final_pred_data.loc[missing_idx, c] = 0\n",
    "        # print(total_missing)\n",
    "        print(\"-\" * 80)\n",
    "    return final_data, final_pred_data\n",
    "\n",
    "\n",
    "def round_up_ordinal(\n",
    "    hi_f,\n",
    "    final_data: pd.DataFrame = final_data,\n",
    "    final_pred_data: pd.DataFrame = final_pred_data,\n",
    "):\n",
    "    final_data.loc[:, hi_f] = final_data.loc[:, hi_f].round(1)\n",
    "    final_pred_data.loc[:, hi_f] = final_pred_data.loc[:, hi_f].round(1)\n",
    "    return final_data, final_pred_data\n",
    "\n",
    "\n",
    "def register_category(\n",
    "    hi_f,\n",
    "    final_data: pd.DataFrame = final_data,\n",
    "    final_pred_data: pd.DataFrame = final_pred_data,\n",
    "):\n",
    "    final_data.loc[:, hi_f] = final_data.loc[:, hi_f].astype(\"category\")\n",
    "    final_pred_data.loc[:, hi_f] = final_pred_data.loc[:, hi_f].astype(\"category\")\n",
    "    return final_data, final_pred_data\n",
    "\n",
    "\n",
    "# final_data, final_pred_data = round_up_ordinal(ordinal)\n",
    "# final_data, final_pred_data = remove_nominal_junk(nominal)\n",
    "# final_data, final_pred_data = register_category(ordinal+nominal)\n",
    "# final_data.to_parquet('../data/final_data.parquet',engine='fastparquet',compression='brotli')\n",
    "# final_pred_data.to_parquet('../data/final_pred_data.parquet',engine='fastparquet',compr\n",
    "from distributed import Client\n",
    "\n",
    "client = Client()"
   ]
  },
  {
   "cell_type": "code",
   "execution_count": 36,
   "id": "ecc317d5-3852-4367-a02e-23e7f5339075",
   "metadata": {
    "collapsed": true,
    "jupyter": {
     "outputs_hidden": true,
     "source_hidden": true
    }
   },
   "outputs": [
    {
     "name": "stdout",
     "output_type": "stream",
     "text": [
      "________________________________________________________________________________\n",
      "[Memory] Calling sklearn.pipeline._fit_transform_one...\n",
      "_fit_transform_one(OneHotEncoder(handle_unknown='infrequent_if_exist', min_frequency=0.001,\n",
      "              sparse=False), \n",
      "     v_32  v_4  v_3 v_20 v_21 v_18 v_25 v_12\n",
      "id                                          \n",
      "285     6   76   39    0    3    3   27   16\n",
      "2034    0  172   96  257   10  106  181   22\n",
      "2226   92   96  131  242    3  121  165   16\n",
      "3438  120   55   91  252   11   14  183   22\n",
      "1285  116   59   39  251    3  103  181   16\n",
      "...   ...  ...  ...  ...  ...  ...  ...  ...\n",
      "2162    6   96   45    6    3   23    1   16\n",
      "2832    6  121   17   60    3   30    3   41\n",
      "2663  116  167   44  168    3  103  183   16\n",
      "2069    6  155   70  251    3  103  181   16\n",
      "1541   13  121    0  168    7   20    7   23\n",
      "\n",
      "[1656 rows x 8 columns], \n",
      "id\n",
      "285     0\n",
      "2034    0\n",
      "2226    0\n",
      "3438    0\n",
      "1285    0\n",
      "       ..\n",
      "2162    2\n",
      "2832    2\n",
      "2663    2\n",
      "2069    2\n",
      "1541    2\n",
      "Name: label, Length: 1656, dtype: int64, \n",
      "None, message_clsname='Pipeline', message=None)\n",
      "________________________________________________fit_transform_one - 0.0s, 0.0min\n",
      "              precision    recall  f1-score   support\n",
      "\n",
      "           0       0.48      0.44      0.46       151\n",
      "           1       0.44      0.41      0.42       146\n",
      "           2       0.31      0.38      0.34       114\n",
      "\n",
      "    accuracy                           0.41       411\n",
      "   macro avg       0.41      0.41      0.41       411\n",
      "weighted avg       0.42      0.41      0.41       411\n",
      "\n"
     ]
    }
   ],
   "source": [
    "from joblib import Memory\n",
    "from sklearn.neural_network import MLPClassifier\n",
    "\n",
    "ms = Memory(location=\"../data/tpot1/\")\n",
    "# kernel_rbf = Exponentiation(RBF(),30)\n",
    "# comp_kern = Sum(Matern(nu=1),kernel_rbf)\n",
    "\n",
    "estimators = [\n",
    "    # SVC(),\n",
    "    # NuSVC(),\n",
    "    # CategoricalNB(),\n",
    "    MultinomialNB(),\n",
    "    # ComplementNB(),\n",
    "    # GaussianNB(),\n",
    "    # AdaBoostClassifier(),\n",
    "    # PassiveAggressiveClassifier(),\n",
    "    # SGDClassifier(),\n",
    "    # MLPClassifier(),\n",
    "    # KNeighborsClassifier(),\n",
    "    # RadiusNeighborsClassifier(),\n",
    "    # ExtraTreesClassifier(),\n",
    "    # RandomForestClassifier(),\n",
    "    # DecisionTreeClassifier(),\n",
    "    # HistGradientBoostingClassifier(),\n",
    "    # GradientBoostingClassifier(),\n",
    "]\n",
    "est_ = []\n",
    "for e in estimators:\n",
    "    est_.append((e.__class__.__name__, e))\n",
    "\n",
    "\n",
    "train_idx, test_idx = gen_train_test(data, 0.8)\n",
    "X_train, y_train = (\n",
    "    final_data.loc[train_idx, nominal],\n",
    "    data[\"label\"].loc[train_idx],\n",
    ")\n",
    "X_test, y_test = (\n",
    "    final_data.loc[test_idx, nominal],\n",
    "    data[\"label\"].loc[test_idx],\n",
    ")\n",
    "# model = StackingClassifier(\n",
    "#     estimators=est_,\n",
    "#     final_estimator=RandomForestClassifier(n_jobs=-1, max_features=None),\n",
    "#     cv=4,\n",
    "#     stack_method=\"auto\",\n",
    "#     n_jobs=-1,\n",
    "#     passthrough=True,\n",
    "#     verbose=1,\n",
    "# )\n",
    "ohe = OneHotEncoder(\n",
    "    min_frequency=0.001, handle_unknown=\"infrequent_if_exist\", sparse=False\n",
    ")\n",
    "# dtc = RandomForestClassifier(random_state=42,n_jobs=-1, criterion='entropy', max_features=None)\n",
    "model = GaussianProcessClassifier(\n",
    "    n_jobs=-1, n_restarts_optimizer=10, max_iter_predict=10000\n",
    ")\n",
    "fs = SelectKBest(score_func=mutual_info_classif, k=90)\n",
    "ovr = Pipeline(\n",
    "    [(\"OHE\", ohe), (\"feature_selector\", fs), (\"Model\", model)],\n",
    "    memory=ms,\n",
    ")\n",
    "with parallel_backend(\"threading\"):\n",
    "    ovr.fit(X_train, y_train)\n",
    "    print(classification_report(ovr.predict(X_test), y_test))"
   ]
  },
  {
   "cell_type": "code",
   "execution_count": 7,
   "id": "2b5c21c6-69de-4839-96d6-906d3fc70eee",
   "metadata": {
    "collapsed": true,
    "jupyter": {
     "outputs_hidden": true,
     "source_hidden": true
    }
   },
   "outputs": [],
   "source": [
    "%reload_ext sigopt\n",
    "# %sigopt config"
   ]
  },
  {
   "cell_type": "code",
   "execution_count": null,
   "id": "9e9b195e-218a-4d67-94af-d5436d03311e",
   "metadata": {
    "collapsed": true,
    "jupyter": {
     "outputs_hidden": true,
     "source_hidden": true
    }
   },
   "outputs": [],
   "source": [
    "dtc__params = {\n",
    "    \"ccp_alpha\": 0.0,\n",
    "    \"class_weight\": None,\n",
    "    \"criterion\": \"gini\",\n",
    "    \"max_depth\": None,\n",
    "    \"max_features\": None,\n",
    "    \"max_leaf_nodes\": None,\n",
    "    \"min_impurity_decrease\": 0.0,\n",
    "    \"min_impurity_split\": None,\n",
    "    \"min_samples_leaf\": 1,\n",
    "    \"min_samples_split\": 2,\n",
    "    \"min_weight_fraction_leaf\": 0.0,\n",
    "    \"random_state\": None,\n",
    "    \"splitter\": \"best\",\n",
    "}\n",
    "\n",
    "# dtc.get_params()\n",
    "def evaluate_best_dtc(n_cv):\n",
    "    global data\n",
    "    dtc__params = {\n",
    "        \"ccp_alpha\": 0.0,\n",
    "        \"class_weight\": None,\n",
    "        \"criterion\": \"gini\",\n",
    "        \"max_depth\": None,\n",
    "        \"max_features\": None,\n",
    "        \"max_leaf_nodes\": None,\n",
    "        \"min_impurity_decrease\": 0.0,\n",
    "        \"min_impurity_split\": None,\n",
    "        \"min_samples_leaf\": np.random.randint(1, 5),\n",
    "        \"min_samples_split\": 2,\n",
    "        \"min_weight_fraction_leaf\": 0.0,\n",
    "        \"random_state\": 42,\n",
    "        \"splitter\": \"best\",\n",
    "    }\n",
    "    sigopt.log_dataset(\"Ordinal_Data\")\n",
    "    sigopt.log_model(DecisionTreeClassifier().__class__.__name__)\n",
    "    sigopt.log_metadata(key=\"Features\", value=ordinal)\n",
    "\n",
    "    train_idx, test_idx = gen_train_test(data, 1.0)\n",
    "    # X_train, y_train = ordinal_data.loc[train_idx, :], pd.get_dummies(data['label'].loc[train_idx])\n",
    "    X_train, y_train = ordinal_data.loc[train_idx, :], data[\"label\"].loc[train_idx]\n",
    "    for k, v in dtc__params.items():\n",
    "        sigopt.params.setdefault(k, v)\n",
    "    # clf = OneVsRestClassifier(model, n_jobs=-1)\n",
    "    with parallel_backend(\"threading\", n_jobs=-1):\n",
    "        model = DecisionTreeClassifier(\n",
    "            max_features=14,\n",
    "            min_samples_leaf=dtc__params[\"min_samples_leaf\"],\n",
    "            min_impurity_decrease=sigopt.params.min_impurity_decrease,\n",
    "            random_state=42,\n",
    "            ccp_alpha=sigopt.params.ccp_alpha,\n",
    "        )\n",
    "        cv_results = cross_validate(\n",
    "            model,\n",
    "            X_train,\n",
    "            y_train,\n",
    "            scoring=\"f1_macro\",\n",
    "            return_train_score=True,\n",
    "            n_jobs=-1,\n",
    "            cv=n_cv,\n",
    "            return_estimator=True,\n",
    "        )\n",
    "        sigopt.params.min_samples_leaf = model.min_samples_leaf\n",
    "    # sigopt.params.ccp_alpha=0\n",
    "    # print(sigopt.params)\n",
    "    sigopt.log_metric(name=\"f1_macro\", value=cv_results[\"test_score\"].mean())\n",
    "    return cv_results"
   ]
  },
  {
   "cell_type": "code",
   "execution_count": 8,
   "id": "8e7c40f3-1d2e-4c4f-8bf6-d9196f02f743",
   "metadata": {
    "collapsed": true,
    "jupyter": {
     "outputs_hidden": true,
     "source_hidden": true
    }
   },
   "outputs": [
    {
     "name": "stdout",
     "output_type": "stream",
     "text": [
      "Experiment created, view it on the SigOpt dashboard at https://app.sigopt.com/experiment/527060\n"
     ]
    }
   ],
   "source": [
    "%%experiment\n",
    "{\n",
    "    'name': 'DTC Optimization',\n",
    "    'metrics': [\n",
    "        {\n",
    "            'name': 'f1_macro',\n",
    "            'strategy': 'optimize',\n",
    "            'objective': 'maximize',\n",
    "        }\n",
    "    ],\n",
    "    'parameters': [\n",
    "        {\n",
    "            'name': 'min_impurity_decrease',\n",
    "            'type': 'double',\n",
    "            'bounds': {'min': 0.0, 'max': 1.0}\n",
    "        }\n",
    "\n",
    "    ],\n",
    "    'type':'offline',\n",
    "    'budget': 10\n",
    "}\n",
    "\n"
   ]
  },
  {
   "cell_type": "code",
   "execution_count": null,
   "id": "3c650483-e91f-4159-b8e1-5ca7b53c5eaf",
   "metadata": {
    "collapsed": true,
    "jupyter": {
     "outputs_hidden": true,
     "source_hidden": true
    },
    "scrolled": true,
    "tags": []
   },
   "outputs": [],
   "source": [
    "%%optimize \n",
    "evaluate_best_dtc(5)"
   ]
  },
  {
   "cell_type": "code",
   "execution_count": null,
   "id": "8405a38b-7b89-40fb-b1e0-cabfcc0a9e74",
   "metadata": {
    "collapsed": true,
    "jupyter": {
     "outputs_hidden": true,
     "source_hidden": true
    }
   },
   "outputs": [],
   "source": [
    "# X_train, y_train = nom_dum.loc[train_idx,:], data['label'].loc[train_idx]\n",
    "# X_train, y_train = nominal_data.loc[train_idx,:], data['label'].loc[train_idx]\n",
    "# X_train, y_train = nom_dum.iloc[train_idx,imp_nom], data['label'].loc[train_idx]\n",
    "# cv_results = cross_validate(dtc, X_train, y_train, scoring='f1_macro', return_train_score=True, n_jobs=-1, cv=10, return_estimator=True, )\n",
    "# cv_results\n",
    "train_idx, test_idx = gen_train_test(data, 0.75)\n",
    "X_train, y_train = (\n",
    "    nominal_data.loc[train_idx, :].astype(\"category\"),\n",
    "    data[\"label\"].loc[train_idx],\n",
    ")\n",
    "X_test, y_test = (\n",
    "    nominal_data.loc[test_idx, :].astype(\"category\"),\n",
    "    data[\"label\"].loc[test_idx],\n",
    ")"
   ]
  },
  {
   "cell_type": "code",
   "execution_count": null,
   "id": "f8d561de-5b2f-47a8-9560-9c92eb65d6ce",
   "metadata": {
    "collapsed": true,
    "jupyter": {
     "outputs_hidden": true,
     "source_hidden": true
    }
   },
   "outputs": [],
   "source": [
    "def qt_trial():\n",
    "    qt = QuantileTransformer(\n",
    "        n_quantiles=200, output_distribution=\"normal\", random_state=42\n",
    "    )\n",
    "    train_idx, test_idx = gen_train_test(data, 1.0)\n",
    "    X_train, y_train = (\n",
    "        ordinal_data.loc[\n",
    "            train_idx, [\"v_10\", \"v_17\", \"v_5\", \"v_29\", \"v_19\", \"v_22\", \"v_6\"]\n",
    "        ],\n",
    "        data[\"label\"].loc[train_idx],\n",
    "    )\n",
    "    for c in X_train:\n",
    "        med = X_train[c].median()\n",
    "        X_train[c] = (X_train[c]) / med\n",
    "    with parallel_backend(\"threading\", n_jobs=-1):\n",
    "        model = DecisionTreeClassifier(\n",
    "            criterion=\"entropy\",\n",
    "            # max_features='sqrt',\n",
    "            # learning_rate=0.\n",
    "            # n_jobs=-1,\n",
    "            # min_samples_leaf=1,\n",
    "            random_state=42,\n",
    "        )\n",
    "        model_wf = make_pipeline(qt, model)\n",
    "        cv_results = cross_validate(\n",
    "            model_wf,\n",
    "            X_train,\n",
    "            y_train,\n",
    "            scoring=\"f1_macro\",\n",
    "            return_train_score=True,\n",
    "            n_jobs=-1,\n",
    "            cv=3,\n",
    "            return_estimator=True,\n",
    "        )\n",
    "    cv_results[\"test_score\"].mean(), cv_results[\"train_score\"].mean()"
   ]
  },
  {
   "cell_type": "code",
   "execution_count": null,
   "id": "fdb61bc8-db87-4ec5-b93e-4c27aa35dc8e",
   "metadata": {
    "collapsed": true,
    "jupyter": {
     "outputs_hidden": true,
     "source_hidden": true
    }
   },
   "outputs": [],
   "source": [
    "category_data = data.loc[:, nominal + ordinal].astype(\"category\")\n",
    "pre_category_data = prediction_data.loc[:, nominal + ordinal].astype(\"category\")"
   ]
  },
  {
   "cell_type": "code",
   "execution_count": null,
   "id": "e8b277a1-074a-49bc-bad4-d37221cc9ef7",
   "metadata": {
    "collapsed": true,
    "jupyter": {
     "outputs_hidden": true,
     "source_hidden": true
    },
    "tags": []
   },
   "outputs": [],
   "source": [
    "N = pre_category_data.shape[0]\n",
    "\n",
    "for i in [0.1, 0.25, 0.5, 0.75, 0.80]:\n",
    "    s = f'pfig.add_hline(y={i*N}, line_dash=\"dot\", line_width=1,line_color=\"red\",annotation_text=\"{i*100}%\", annotation_position=\"bottom right\",annotation_font_size=11,annotation_font_color=\"black\")'\n",
    "    print(s)"
   ]
  },
  {
   "cell_type": "code",
   "execution_count": null,
   "id": "0ab7a5d4-3f96-4d45-9419-99f4f34cbd28",
   "metadata": {
    "collapsed": true,
    "jupyter": {
     "outputs_hidden": true,
     "source_hidden": true
    },
    "tags": []
   },
   "outputs": [],
   "source": [
    "N = pre_category_data.shape[0]\n",
    "# fig = plt.axhline(y = 0.5*N, color = 'r', linestyle = '--', label = \"50%\")\n",
    "# fig = plt.axhline(y = 0.80*N, color = 'g', linestyle = '--', label = \"80%\")\n",
    "# fig = plt.axhline(y = 0.25*N, color = 'y', linestyle = '--', label = \"25%\")\n",
    "# fig = plt.axhline(y = 0.15*N, color = 'black', linestyle = '--', label = \"15%\")\n",
    "\n",
    "# fig = plt.legend()\n",
    "pfig = (\n",
    "    pre_category_data.describe()\n",
    "    .loc[\"freq\", :]\n",
    "    .sort_values()\n",
    "    .plot(kind=\"bar\", title=\"Category Data Max_Freq from Test set\")\n",
    ")\n",
    "pfig.add_hline(\n",
    "    y=162.8,\n",
    "    line_dash=\"dot\",\n",
    "    line_width=1,\n",
    "    line_color=\"red\",\n",
    "    annotation_text=\"10.0%\",\n",
    "    annotation_position=\"bottom right\",\n",
    "    annotation_font_size=11,\n",
    "    annotation_font_color=\"black\",\n",
    ")\n",
    "pfig.add_hline(\n",
    "    y=407.0,\n",
    "    line_dash=\"dot\",\n",
    "    line_width=1,\n",
    "    line_color=\"red\",\n",
    "    annotation_text=\"25.0%\",\n",
    "    annotation_position=\"bottom left\",\n",
    "    annotation_font_size=11,\n",
    "    annotation_font_color=\"black\",\n",
    ")\n",
    "pfig.add_hline(\n",
    "    y=814.0,\n",
    "    line_dash=\"dot\",\n",
    "    line_width=1,\n",
    "    line_color=\"red\",\n",
    "    annotation_text=\"50.0%\",\n",
    "    annotation_position=\"bottom right\",\n",
    "    annotation_font_size=11,\n",
    "    annotation_font_color=\"black\",\n",
    ")\n",
    "pfig.add_hline(\n",
    "    y=0.7 * N,\n",
    "    line_dash=\"dot\",\n",
    "    line_width=1,\n",
    "    line_color=\"red\",\n",
    "    annotation_text=\"70.0%\",\n",
    "    annotation_position=\"bottom left\",\n",
    "    annotation_font_size=11,\n",
    "    annotation_font_color=\"black\",\n",
    ")\n",
    "pfig.add_hline(\n",
    "    y=1302.4,\n",
    "    line_dash=\"dot\",\n",
    "    line_width=1,\n",
    "    line_color=\"red\",\n",
    "    annotation_text=\"80.0%\",\n",
    "    annotation_position=\"bottom right\",\n",
    "    annotation_font_size=11,\n",
    "    annotation_font_color=\"black\",\n",
    ")\n",
    "\n",
    "pfig"
   ]
  },
  {
   "cell_type": "code",
   "execution_count": null,
   "id": "2a7f650d-8407-407d-ad56-788559530c2b",
   "metadata": {
    "collapsed": true,
    "jupyter": {
     "outputs_hidden": true,
     "source_hidden": true
    },
    "tags": []
   },
   "outputs": [],
   "source": [
    "N = pre_category_data.shape[0]\n",
    "# fig = plt.axhline(y = 0.5*N, color = 'r', linestyle = '--', label = \"50%\")\n",
    "# fig = plt.axhline(y = 0.80*N, color = 'g', linestyle = '--', label = \"80%\")\n",
    "# fig = plt.axhline(y = 0.25*N, color = 'y', linestyle = '--', label = \"25%\")\n",
    "# fig = plt.axhline(y = 0.15*N, color = 'black', linestyle = '--', label = \"15%\")\n",
    "\n",
    "# fig = plt.legend()\n",
    "pfig = (\n",
    "    pre_category_data.round(2)\n",
    "    .describe()\n",
    "    .loc[\"freq\", :]\n",
    "    .sort_values()\n",
    "    .plot(kind=\"bar\", title=\"Category Data Max_Freq from Test set round 2\")\n",
    ")\n",
    "pfig.add_hline(\n",
    "    y=162.8,\n",
    "    line_dash=\"dot\",\n",
    "    line_width=1,\n",
    "    line_color=\"red\",\n",
    "    annotation_text=\"10.0%\",\n",
    "    annotation_position=\"bottom right\",\n",
    "    annotation_font_size=11,\n",
    "    annotation_font_color=\"black\",\n",
    ")\n",
    "pfig.add_hline(\n",
    "    y=407.0,\n",
    "    line_dash=\"dot\",\n",
    "    line_width=1,\n",
    "    line_color=\"red\",\n",
    "    annotation_text=\"25.0%\",\n",
    "    annotation_position=\"bottom left\",\n",
    "    annotation_font_size=11,\n",
    "    annotation_font_color=\"black\",\n",
    ")\n",
    "pfig.add_hline(\n",
    "    y=814.0,\n",
    "    line_dash=\"dot\",\n",
    "    line_width=1,\n",
    "    line_color=\"red\",\n",
    "    annotation_text=\"50.0%\",\n",
    "    annotation_position=\"bottom right\",\n",
    "    annotation_font_size=11,\n",
    "    annotation_font_color=\"black\",\n",
    ")\n",
    "pfig.add_hline(\n",
    "    y=0.7 * N,\n",
    "    line_dash=\"dot\",\n",
    "    line_width=1,\n",
    "    line_color=\"red\",\n",
    "    annotation_text=\"70.0%\",\n",
    "    annotation_position=\"bottom left\",\n",
    "    annotation_font_size=11,\n",
    "    annotation_font_color=\"black\",\n",
    ")\n",
    "pfig.add_hline(\n",
    "    y=1302.4,\n",
    "    line_dash=\"dot\",\n",
    "    line_width=1,\n",
    "    line_color=\"red\",\n",
    "    annotation_text=\"80.0%\",\n",
    "    annotation_position=\"bottom right\",\n",
    "    annotation_font_size=11,\n",
    "    annotation_font_color=\"black\",\n",
    ")\n",
    "\n",
    "pfig"
   ]
  },
  {
   "cell_type": "code",
   "execution_count": null,
   "id": "513be8ef-cb97-4743-b22b-bf67cf886a79",
   "metadata": {
    "collapsed": true,
    "jupyter": {
     "outputs_hidden": true,
     "source_hidden": true
    },
    "tags": []
   },
   "outputs": [],
   "source": [
    "N = category_data.shape[0]\n",
    "fig = (\n",
    "    category_data.round(1)\n",
    "    .describe()\n",
    "    .loc[\"freq\", :]\n",
    "    .sort_values()\n",
    "    .plot(kind=\"bar\", title=\"Category Data Max_Freq from Train set\")\n",
    ")\n",
    "fig.add_hline(\n",
    "    y=379.6,\n",
    "    line_dash=\"dot\",\n",
    "    line_width=1,\n",
    "    line_color=\"red\",\n",
    "    annotation_text=\"10.0%\",\n",
    "    annotation_position=\"bottom right\",\n",
    "    annotation_font_size=11,\n",
    "    annotation_font_color=\"black\",\n",
    ")\n",
    "fig.add_hline(\n",
    "    y=949.0,\n",
    "    line_dash=\"dot\",\n",
    "    line_width=1,\n",
    "    line_color=\"green\",\n",
    "    annotation_text=\"25.0%\",\n",
    "    annotation_position=\"bottom left\",\n",
    "    annotation_font_size=11,\n",
    "    annotation_font_color=\"black\",\n",
    ")\n",
    "fig.add_hline(\n",
    "    y=1898.0,\n",
    "    line_dash=\"dot\",\n",
    "    line_width=1,\n",
    "    line_color=\"red\",\n",
    "    annotation_text=\"50.0%\",\n",
    "    annotation_position=\"bottom right\",\n",
    "    annotation_font_size=11,\n",
    "    annotation_font_color=\"black\",\n",
    ")\n",
    "fig.add_hline(\n",
    "    y=0.7 * N,\n",
    "    line_dash=\"dot\",\n",
    "    line_width=1,\n",
    "    line_color=\"red\",\n",
    "    annotation_text=\"70.0%\",\n",
    "    annotation_position=\"bottom left\",\n",
    "    annotation_font_size=11,\n",
    "    annotation_font_color=\"black\",\n",
    ")\n",
    "fig.add_hline(\n",
    "    y=3036.8,\n",
    "    line_dash=\"dot\",\n",
    "    line_width=1,\n",
    "    line_color=\"red\",\n",
    "    annotation_text=\"80.0%\",\n",
    "    annotation_position=\"top right\",\n",
    "    annotation_font_size=11,\n",
    "    annotation_font_color=\"black\",\n",
    ")\n",
    "\n",
    "\n",
    "# fig = plt.axhline(y = 0.60*N, color = 'r', linestyle = '--', label = \"50%\")\n",
    "# fig = plt.axhline(y = 0.75*N, color = 'g', linestyle = '--', label = \"75%\")\n",
    "# fig = plt.axhline(y = 0.25*N, color = 'y', linestyle = '--', label = \"25%\")\n",
    "# fig = plt.axhline(y = 0.15*N, color = 'black', linestyle = '--', label = \"15%\")\n",
    "# fig = plt.legend()\n",
    "fig"
   ]
  },
  {
   "cell_type": "code",
   "execution_count": null,
   "id": "b9be8d16-8a4e-4a92-ab90-5377bb33f6e8",
   "metadata": {
    "collapsed": true,
    "jupyter": {
     "outputs_hidden": true,
     "source_hidden": true
    },
    "tags": []
   },
   "outputs": [],
   "source": [
    "# fig = data.corrwith(data.label, method='kendall').sort_values().iloc[:-1].plot(kind='bar', figsize=(20,5))\n",
    "fig = (\n",
    "    data.round(1)\n",
    "    .corrwith(data.label, method=\"kendall\")\n",
    "    .sort_values()\n",
    "    .iloc[:-1]\n",
    "    .plot(kind=\"bar\", title=\"Kendall Correlation\")\n",
    ")\n",
    "fig"
   ]
  },
  {
   "cell_type": "code",
   "execution_count": null,
   "id": "bde44b0b-5713-45ab-8a39-18e2d948f90d",
   "metadata": {
    "collapsed": true,
    "jupyter": {
     "outputs_hidden": true,
     "source_hidden": true
    },
    "tags": []
   },
   "outputs": [],
   "source": [
    "# fig = data.corrwith(data.label, method='spearman').sort_values().iloc[:-1].plot(kind='bar', figsize=(20,5))\n",
    "fig = (\n",
    "    data.round(1)\n",
    "    .corrwith(data.label, method=\"spearman\")\n",
    "    .sort_values()\n",
    "    .iloc[:-1]\n",
    "    .plot(kind=\"bar\", title=\"Spearman Correlation\")\n",
    ")\n",
    "fig"
   ]
  },
  {
   "cell_type": "code",
   "execution_count": null,
   "id": "f3af6d62-a265-4bea-872d-c008cf4834a8",
   "metadata": {
    "collapsed": true,
    "jupyter": {
     "outputs_hidden": true,
     "source_hidden": true
    },
    "tags": []
   },
   "outputs": [],
   "source": [
    "# fig = data.corrwith(data.label, method='pearson').sort_values().iloc[:-1].plot(kind='bar', figsize=(20,5))\n",
    "fig = (\n",
    "    data.round(1)\n",
    "    .corrwith(data.label, method=\"pearson\")\n",
    "    .sort_values()\n",
    "    .iloc[:-1]\n",
    "    .plot(kind=\"bar\", title=\"Pearson Correlation\")\n",
    ")\n",
    "fig"
   ]
  },
  {
   "cell_type": "code",
   "execution_count": null,
   "id": "23078306-20ca-400c-90e5-c16aabcfd17b",
   "metadata": {
    "collapsed": true,
    "jupyter": {
     "outputs_hidden": true,
     "source_hidden": true
    }
   },
   "outputs": [],
   "source": [
    "nominal"
   ]
  },
  {
   "cell_type": "code",
   "execution_count": null,
   "id": "8e421bde-cd0b-4076-b26a-2c0e1bddf078",
   "metadata": {
    "collapsed": true,
    "jupyter": {
     "outputs_hidden": true,
     "source_hidden": true
    }
   },
   "outputs": [],
   "source": [
    "print(ordinal)"
   ]
  },
  {
   "cell_type": "code",
   "execution_count": null,
   "id": "18548af2-17d7-4be7-8f1a-19c9286a1bcf",
   "metadata": {
    "collapsed": true,
    "jupyter": {
     "outputs_hidden": true,
     "source_hidden": true
    }
   },
   "outputs": [],
   "source": [
    "# pre_category_data.describe()\n",
    "total_category_data = pd.concat(\n",
    "    [category_data, pre_category_data],\n",
    "    axis=0,\n",
    ").astype(\"category\")"
   ]
  },
  {
   "cell_type": "code",
   "execution_count": null,
   "id": "e446db6e-2909-463e-a6e6-109ad0f27c77",
   "metadata": {
    "collapsed": true,
    "jupyter": {
     "outputs_hidden": true,
     "source_hidden": true
    }
   },
   "outputs": [],
   "source": [
    "# categorise_data\n",
    "tc_stat = total_category_data.describe()\n",
    "tc_stat.loc[\"freq\", :] = tc_stat.loc[\"freq\", :] / 5424\n",
    "tc_stat.loc[\"freq\", :].sort_values().index"
   ]
  },
  {
   "cell_type": "code",
   "execution_count": null,
   "id": "0aae339b-0d46-43d1-b3b4-6d63824d5357",
   "metadata": {
    "collapsed": true,
    "jupyter": {
     "outputs_hidden": true,
     "source_hidden": true
    }
   },
   "outputs": [],
   "source": [
    "def print_junk_missing(\n",
    "    hi_f, data: pd.DataFrame = data, prediction_data: pd.DataFrame = prediction_data\n",
    "):\n",
    "    # hi_f = nominal\n",
    "    hi1 = data.loc[:, hi_f].round(1)\n",
    "    hi2 = prediction_data.loc[:, hi_f].round(1)\n",
    "\n",
    "    for c in hi_f:\n",
    "        print(c)\n",
    "        # print(hi_df[c].unique())\n",
    "        # print('-'*80)\n",
    "        print(\"Junk\")\n",
    "        junk = np.setdiff1d(hi1[c].unique(), hi2[c].unique())\n",
    "        print(np.setdiff1d(hi1[c].unique(), hi2[c].unique()))\n",
    "        vc1 = hi1[c].value_counts().to_dict()\n",
    "        total_junk = 0\n",
    "        for j in junk:\n",
    "            total_junk += vc1[j]\n",
    "        print(total_junk)\n",
    "        print(\"Missing\")\n",
    "        missing = np.setdiff1d(hi2[c].unique(), hi1[c].unique())\n",
    "        print(np.setdiff1d(hi2[c].unique(), hi1[c].unique()))\n",
    "        vc2 = hi2[c].value_counts().to_dict()\n",
    "        total_missing = 0\n",
    "        for m in missing:\n",
    "            total_missing += vc2[m]\n",
    "        print(total_missing)\n",
    "        print(\"-\" * 80)\n",
    "\n",
    "\n",
    "print_junk_missing(nominal, data=final_data, prediction_data=final_pred_data)"
   ]
  },
  {
   "cell_type": "code",
   "execution_count": null,
   "id": "7348e4e1-e475-469f-bc95-86e99fb53cb0",
   "metadata": {
    "collapsed": true,
    "jupyter": {
     "outputs_hidden": true,
     "source_hidden": true
    }
   },
   "outputs": [],
   "source": [
    "final_data.corrwith(final_data.label, method=\"kendall\").sort_values().iloc[:-1].plot(\n",
    "    kind=\"bar\"\n",
    ")"
   ]
  },
  {
   "cell_type": "code",
   "execution_count": null,
   "id": "a11df823-cc9b-4c2a-933e-07dfe0216514",
   "metadata": {
    "collapsed": true,
    "jupyter": {
     "outputs_hidden": true,
     "source_hidden": true
    }
   },
   "outputs": [],
   "source": [
    "final_cat_df = final_data.select_dtypes(include=\"category\")\n",
    "count = 0\n",
    "for c in nominal:\n",
    "\n",
    "    _unique = final_cat_df[c].unique()\n",
    "    count += len(_unique)\n",
    "    print(len(_unique))\n",
    "count"
   ]
  },
  {
   "cell_type": "code",
   "execution_count": null,
   "id": "a92a1d80-63eb-4591-9348-d34dcb3ffdc3",
   "metadata": {
    "collapsed": true,
    "jupyter": {
     "outputs_hidden": true,
     "source_hidden": true
    }
   },
   "outputs": [],
   "source": [
    "ohe_nominal_final = pd.get_dummies(final_data, columns=nominal, sparse=False)\n",
    "ohe_train_labels = pd.get_dummies(data.label)\n",
    "\n",
    "# ohe_nominal_final.corrwith(data.label, method='kendall').sort_values().iloc[:-1].plot(kind='bar')\n",
    "ohe_nominal_final.columns"
   ]
  },
  {
   "cell_type": "code",
   "execution_count": null,
   "id": "1e466398-1797-47ff-bde4-e9fed4d68be1",
   "metadata": {
    "collapsed": true,
    "jupyter": {
     "outputs_hidden": true,
     "source_hidden": true
    }
   },
   "outputs": [],
   "source": [
    "ohe_nominal_final.corrwith(ohe_train_labels[0], method=\"kendall\").sort_values().iloc[\n",
    "    :-1\n",
    "]"
   ]
  },
  {
   "cell_type": "code",
   "execution_count": null,
   "id": "701f3193-dc60-4e52-956d-45468f03ba58",
   "metadata": {
    "collapsed": true,
    "jupyter": {
     "outputs_hidden": true,
     "source_hidden": true
    }
   },
   "outputs": [],
   "source": [
    "ohe_nominal_final.corrwith(ohe_train_labels[1], method=\"kendall\").sort_values().iloc[\n",
    "    :-1\n",
    "]"
   ]
  },
  {
   "cell_type": "code",
   "execution_count": null,
   "id": "7da7ebb8-4a37-40b2-8dfb-163688ea7a44",
   "metadata": {
    "collapsed": true,
    "jupyter": {
     "outputs_hidden": true,
     "source_hidden": true
    }
   },
   "outputs": [],
   "source": [
    "ohe_nominal_final.corrwith(ohe_train_labels[2], method=\"kendall\").sort_values().iloc[\n",
    "    :-1\n",
    "]"
   ]
  },
  {
   "cell_type": "code",
   "execution_count": 189,
   "id": "2f042feb-85ca-4182-8a8b-df6cb06d605c",
   "metadata": {
    "collapsed": true,
    "jupyter": {
     "outputs_hidden": true,
     "source_hidden": true
    }
   },
   "outputs": [
    {
     "data": {
      "text/html": [
       "<style>#sk-27aadc72-618a-4665-a5e6-0d6dcca9c67e {color: black;background-color: white;}#sk-27aadc72-618a-4665-a5e6-0d6dcca9c67e pre{padding: 0;}#sk-27aadc72-618a-4665-a5e6-0d6dcca9c67e div.sk-toggleable {background-color: white;}#sk-27aadc72-618a-4665-a5e6-0d6dcca9c67e label.sk-toggleable__label {cursor: pointer;display: block;width: 100%;margin-bottom: 0;padding: 0.3em;box-sizing: border-box;text-align: center;}#sk-27aadc72-618a-4665-a5e6-0d6dcca9c67e label.sk-toggleable__label-arrow:before {content: \"▸\";float: left;margin-right: 0.25em;color: #696969;}#sk-27aadc72-618a-4665-a5e6-0d6dcca9c67e label.sk-toggleable__label-arrow:hover:before {color: black;}#sk-27aadc72-618a-4665-a5e6-0d6dcca9c67e div.sk-estimator:hover label.sk-toggleable__label-arrow:before {color: black;}#sk-27aadc72-618a-4665-a5e6-0d6dcca9c67e div.sk-toggleable__content {max-height: 0;max-width: 0;overflow: hidden;text-align: left;background-color: #f0f8ff;}#sk-27aadc72-618a-4665-a5e6-0d6dcca9c67e div.sk-toggleable__content pre {margin: 0.2em;color: black;border-radius: 0.25em;background-color: #f0f8ff;}#sk-27aadc72-618a-4665-a5e6-0d6dcca9c67e input.sk-toggleable__control:checked~div.sk-toggleable__content {max-height: 200px;max-width: 100%;overflow: auto;}#sk-27aadc72-618a-4665-a5e6-0d6dcca9c67e input.sk-toggleable__control:checked~label.sk-toggleable__label-arrow:before {content: \"▾\";}#sk-27aadc72-618a-4665-a5e6-0d6dcca9c67e div.sk-estimator input.sk-toggleable__control:checked~label.sk-toggleable__label {background-color: #d4ebff;}#sk-27aadc72-618a-4665-a5e6-0d6dcca9c67e div.sk-label input.sk-toggleable__control:checked~label.sk-toggleable__label {background-color: #d4ebff;}#sk-27aadc72-618a-4665-a5e6-0d6dcca9c67e input.sk-hidden--visually {border: 0;clip: rect(1px 1px 1px 1px);clip: rect(1px, 1px, 1px, 1px);height: 1px;margin: -1px;overflow: hidden;padding: 0;position: absolute;width: 1px;}#sk-27aadc72-618a-4665-a5e6-0d6dcca9c67e div.sk-estimator {font-family: monospace;background-color: #f0f8ff;border: 1px dotted black;border-radius: 0.25em;box-sizing: border-box;margin-bottom: 0.5em;}#sk-27aadc72-618a-4665-a5e6-0d6dcca9c67e div.sk-estimator:hover {background-color: #d4ebff;}#sk-27aadc72-618a-4665-a5e6-0d6dcca9c67e div.sk-parallel-item::after {content: \"\";width: 100%;border-bottom: 1px solid gray;flex-grow: 1;}#sk-27aadc72-618a-4665-a5e6-0d6dcca9c67e div.sk-label:hover label.sk-toggleable__label {background-color: #d4ebff;}#sk-27aadc72-618a-4665-a5e6-0d6dcca9c67e div.sk-serial::before {content: \"\";position: absolute;border-left: 1px solid gray;box-sizing: border-box;top: 2em;bottom: 0;left: 50%;}#sk-27aadc72-618a-4665-a5e6-0d6dcca9c67e div.sk-serial {display: flex;flex-direction: column;align-items: center;background-color: white;padding-right: 0.2em;padding-left: 0.2em;}#sk-27aadc72-618a-4665-a5e6-0d6dcca9c67e div.sk-item {z-index: 1;}#sk-27aadc72-618a-4665-a5e6-0d6dcca9c67e div.sk-parallel {display: flex;align-items: stretch;justify-content: center;background-color: white;}#sk-27aadc72-618a-4665-a5e6-0d6dcca9c67e div.sk-parallel::before {content: \"\";position: absolute;border-left: 1px solid gray;box-sizing: border-box;top: 2em;bottom: 0;left: 50%;}#sk-27aadc72-618a-4665-a5e6-0d6dcca9c67e div.sk-parallel-item {display: flex;flex-direction: column;position: relative;background-color: white;}#sk-27aadc72-618a-4665-a5e6-0d6dcca9c67e div.sk-parallel-item:first-child::after {align-self: flex-end;width: 50%;}#sk-27aadc72-618a-4665-a5e6-0d6dcca9c67e div.sk-parallel-item:last-child::after {align-self: flex-start;width: 50%;}#sk-27aadc72-618a-4665-a5e6-0d6dcca9c67e div.sk-parallel-item:only-child::after {width: 0;}#sk-27aadc72-618a-4665-a5e6-0d6dcca9c67e div.sk-dashed-wrapped {border: 1px dashed gray;margin: 0 0.4em 0.5em 0.4em;box-sizing: border-box;padding-bottom: 0.4em;background-color: white;position: relative;}#sk-27aadc72-618a-4665-a5e6-0d6dcca9c67e div.sk-label label {font-family: monospace;font-weight: bold;background-color: white;display: inline-block;line-height: 1.2em;}#sk-27aadc72-618a-4665-a5e6-0d6dcca9c67e div.sk-label-container {position: relative;z-index: 2;text-align: center;}#sk-27aadc72-618a-4665-a5e6-0d6dcca9c67e div.sk-container {/* jupyter's `normalize.less` sets `[hidden] { display: none; }` but bootstrap.min.css set `[hidden] { display: none !important; }` so we also need the `!important` here to be able to override the default hidden behavior on the sphinx rendered scikit-learn.org. See: https://github.com/scikit-learn/scikit-learn/issues/21755 */display: inline-block !important;position: relative;}#sk-27aadc72-618a-4665-a5e6-0d6dcca9c67e div.sk-text-repr-fallback {display: none;}</style><div id=\"sk-27aadc72-618a-4665-a5e6-0d6dcca9c67e\" class=\"sk-top-container\"><div class=\"sk-text-repr-fallback\"><pre>TPOTClassifier(generations=10, log_file=&#x27;../data/tpot_08_02_48_2022.log&#x27;,\n",
       "               n_jobs=-1,\n",
       "               periodic_checkpoint_folder=&#x27;../data/tpot/periodic_checkpoints/&#x27;,\n",
       "               population_size=10, random_state=42, scoring=&#x27;f1_macro&#x27;,\n",
       "               use_dask=True, warm_start=True)</pre><b>Please rerun this cell to show the HTML repr or trust the notebook.</b></div><div class=\"sk-container\" hidden><div class=\"sk-item\"><div class=\"sk-estimator sk-toggleable\"><input class=\"sk-toggleable__control sk-hidden--visually\" id=\"a59aeff3-ae5c-4e1d-8fc7-861a11906681\" type=\"checkbox\" checked><label for=\"a59aeff3-ae5c-4e1d-8fc7-861a11906681\" class=\"sk-toggleable__label sk-toggleable__label-arrow\">TPOTClassifier</label><div class=\"sk-toggleable__content\"><pre>TPOTClassifier(generations=10, log_file=&#x27;../data/tpot_08_02_48_2022.log&#x27;,\n",
       "               n_jobs=-1,\n",
       "               periodic_checkpoint_folder=&#x27;../data/tpot/periodic_checkpoints/&#x27;,\n",
       "               population_size=10, random_state=42, scoring=&#x27;f1_macro&#x27;,\n",
       "               use_dask=True, warm_start=True)</pre></div></div></div></div></div>"
      ],
      "text/plain": [
       "TPOTClassifier(generations=10, log_file='../data/tpot_08_02_48_2022.log',\n",
       "               n_jobs=-1,\n",
       "               periodic_checkpoint_folder='../data/tpot/periodic_checkpoints/',\n",
       "               population_size=10, random_state=42, scoring='f1_macro',\n",
       "               use_dask=True, warm_start=True)"
      ]
     },
     "execution_count": 189,
     "metadata": {},
     "output_type": "execute_result"
    }
   ],
   "source": [
    "from tpot import TPOTClassifier\n",
    "\n",
    "run_time = time.asctime().replace(\" \", \"_\")[11:].replace(\":\", \"_\")\n",
    "tclf = TPOTClassifier(\n",
    "    generations=10,\n",
    "    population_size=10,\n",
    "    n_jobs=-1,\n",
    "    scoring=\"f1_macro\",\n",
    "    random_state=42,\n",
    "    warm_start=True,\n",
    "    periodic_checkpoint_folder=\"../data/tpot/periodic_checkpoints/\",\n",
    "    use_dask=True,\n",
    "    verbosity=0,\n",
    "    log_file=f\"../data/tpot_{run_time}.log\",\n",
    ")\n",
    "# tclf.fit()\n",
    "tclf"
   ]
  },
  {
   "cell_type": "code",
   "execution_count": 51,
   "id": "923ac0dd-b620-49c2-aa4e-571ff8b84990",
   "metadata": {
    "collapsed": true,
    "jupyter": {
     "outputs_hidden": true,
     "source_hidden": true
    },
    "scrolled": true,
    "tags": []
   },
   "outputs": [
    {
     "data": {
      "text/html": [
       "<style>#sk-container-id-6 {color: black;background-color: white;}#sk-container-id-6 pre{padding: 0;}#sk-container-id-6 div.sk-toggleable {background-color: white;}#sk-container-id-6 label.sk-toggleable__label {cursor: pointer;display: block;width: 100%;margin-bottom: 0;padding: 0.3em;box-sizing: border-box;text-align: center;}#sk-container-id-6 label.sk-toggleable__label-arrow:before {content: \"▸\";float: left;margin-right: 0.25em;color: #696969;}#sk-container-id-6 label.sk-toggleable__label-arrow:hover:before {color: black;}#sk-container-id-6 div.sk-estimator:hover label.sk-toggleable__label-arrow:before {color: black;}#sk-container-id-6 div.sk-toggleable__content {max-height: 0;max-width: 0;overflow: hidden;text-align: left;background-color: #f0f8ff;}#sk-container-id-6 div.sk-toggleable__content pre {margin: 0.2em;color: black;border-radius: 0.25em;background-color: #f0f8ff;}#sk-container-id-6 input.sk-toggleable__control:checked~div.sk-toggleable__content {max-height: 200px;max-width: 100%;overflow: auto;}#sk-container-id-6 input.sk-toggleable__control:checked~label.sk-toggleable__label-arrow:before {content: \"▾\";}#sk-container-id-6 div.sk-estimator input.sk-toggleable__control:checked~label.sk-toggleable__label {background-color: #d4ebff;}#sk-container-id-6 div.sk-label input.sk-toggleable__control:checked~label.sk-toggleable__label {background-color: #d4ebff;}#sk-container-id-6 input.sk-hidden--visually {border: 0;clip: rect(1px 1px 1px 1px);clip: rect(1px, 1px, 1px, 1px);height: 1px;margin: -1px;overflow: hidden;padding: 0;position: absolute;width: 1px;}#sk-container-id-6 div.sk-estimator {font-family: monospace;background-color: #f0f8ff;border: 1px dotted black;border-radius: 0.25em;box-sizing: border-box;margin-bottom: 0.5em;}#sk-container-id-6 div.sk-estimator:hover {background-color: #d4ebff;}#sk-container-id-6 div.sk-parallel-item::after {content: \"\";width: 100%;border-bottom: 1px solid gray;flex-grow: 1;}#sk-container-id-6 div.sk-label:hover label.sk-toggleable__label {background-color: #d4ebff;}#sk-container-id-6 div.sk-serial::before {content: \"\";position: absolute;border-left: 1px solid gray;box-sizing: border-box;top: 0;bottom: 0;left: 50%;z-index: 0;}#sk-container-id-6 div.sk-serial {display: flex;flex-direction: column;align-items: center;background-color: white;padding-right: 0.2em;padding-left: 0.2em;position: relative;}#sk-container-id-6 div.sk-item {position: relative;z-index: 1;}#sk-container-id-6 div.sk-parallel {display: flex;align-items: stretch;justify-content: center;background-color: white;position: relative;}#sk-container-id-6 div.sk-item::before, #sk-container-id-6 div.sk-parallel-item::before {content: \"\";position: absolute;border-left: 1px solid gray;box-sizing: border-box;top: 0;bottom: 0;left: 50%;z-index: -1;}#sk-container-id-6 div.sk-parallel-item {display: flex;flex-direction: column;z-index: 1;position: relative;background-color: white;}#sk-container-id-6 div.sk-parallel-item:first-child::after {align-self: flex-end;width: 50%;}#sk-container-id-6 div.sk-parallel-item:last-child::after {align-self: flex-start;width: 50%;}#sk-container-id-6 div.sk-parallel-item:only-child::after {width: 0;}#sk-container-id-6 div.sk-dashed-wrapped {border: 1px dashed gray;margin: 0 0.4em 0.5em 0.4em;box-sizing: border-box;padding-bottom: 0.4em;background-color: white;}#sk-container-id-6 div.sk-label label {font-family: monospace;font-weight: bold;display: inline-block;line-height: 1.2em;}#sk-container-id-6 div.sk-label-container {text-align: center;}#sk-container-id-6 div.sk-container {/* jupyter's `normalize.less` sets `[hidden] { display: none; }` but bootstrap.min.css set `[hidden] { display: none !important; }` so we also need the `!important` here to be able to override the default hidden behavior on the sphinx rendered scikit-learn.org. See: https://github.com/scikit-learn/scikit-learn/issues/21755 */display: inline-block !important;position: relative;}#sk-container-id-6 div.sk-text-repr-fallback {display: none;}</style><div id=\"sk-container-id-6\" class=\"sk-top-container\"><div class=\"sk-text-repr-fallback\"><pre>Nystroem(n_components=900)</pre><b>In a Jupyter environment, please rerun this cell to show the HTML representation or trust the notebook. <br />On GitHub, the HTML representation is unable to render, please try loading this page with nbviewer.org.</b></div><div class=\"sk-container\" hidden><div class=\"sk-item\"><div class=\"sk-estimator sk-toggleable\"><input class=\"sk-toggleable__control sk-hidden--visually\" id=\"sk-estimator-id-6\" type=\"checkbox\" checked><label for=\"sk-estimator-id-6\" class=\"sk-toggleable__label sk-toggleable__label-arrow\">Nystroem</label><div class=\"sk-toggleable__content\"><pre>Nystroem(n_components=900)</pre></div></div></div></div></div>"
      ],
      "text/plain": [
       "Nystroem(n_components=900)"
      ]
     },
     "execution_count": 51,
     "metadata": {},
     "output_type": "execute_result"
    }
   ],
   "source": [
    "train_idx, test_idx = gen_train_test(final_data, 1.0)\n",
    "\n",
    "\n",
    "X_train = final_data.loc[train_idx, nominal]\n",
    "y_train = data.label.loc[train_idx]\n",
    "# y_train = pd.get_dummies(data.label)\n",
    "from dask.distributed import Client\n",
    "\n",
    "# with parallel_backend('dask'):\n",
    "#     warnings.filterwarnings(\"ignore\")\n",
    "\n",
    "#     tclf.fit(X_train,y_train)\n",
    "# client = Client()\n",
    "# from sklearnex import unpatch_sklearn\n",
    "# unpatch_sklearn()\n",
    "from sklearn.kernel_approximation import Nystroem\n",
    "\n",
    "nys = Nystroem(\n",
    "    n_components=900,\n",
    ")\n",
    "nys"
   ]
  },
  {
   "cell_type": "code",
   "execution_count": 55,
   "id": "340a2b34-4d72-42b3-9e0d-b41e73b9714c",
   "metadata": {
    "collapsed": true,
    "jupyter": {
     "outputs_hidden": true,
     "source_hidden": true
    }
   },
   "outputs": [
    {
     "data": {
      "text/plain": [
       "{'fit_time': array([7.00602984, 6.08168387, 9.93439841]),\n",
       " 'score_time': array([2.10018253, 2.33061242, 2.09937835]),\n",
       " 'estimator': [Pipeline(memory=Memory(location=../data/tpot/joblib),\n",
       "           steps=[('OHE',\n",
       "                   OneHotEncoder(handle_unknown='infrequent_if_exist',\n",
       "                                 min_frequency=1e-05, sparse=False)),\n",
       "                  ('FS', SelectKBest(k=350)),\n",
       "                  ('ML',\n",
       "                   GaussianProcessClassifier(max_iter_predict=10000, n_jobs=-1,\n",
       "                                             n_restarts_optimizer=10))]),\n",
       "  Pipeline(memory=Memory(location=../data/tpot/joblib),\n",
       "           steps=[('OHE',\n",
       "                   OneHotEncoder(handle_unknown='infrequent_if_exist',\n",
       "                                 min_frequency=1e-05, sparse=False)),\n",
       "                  ('FS', SelectKBest(k=350)),\n",
       "                  ('ML',\n",
       "                   GaussianProcessClassifier(max_iter_predict=10000, n_jobs=-1,\n",
       "                                             n_restarts_optimizer=10))]),\n",
       "  Pipeline(memory=Memory(location=../data/tpot/joblib),\n",
       "           steps=[('OHE',\n",
       "                   OneHotEncoder(handle_unknown='infrequent_if_exist',\n",
       "                                 min_frequency=1e-05, sparse=False)),\n",
       "                  ('FS', SelectKBest(k=350)),\n",
       "                  ('ML',\n",
       "                   GaussianProcessClassifier(max_iter_predict=10000, n_jobs=-1,\n",
       "                                             n_restarts_optimizer=10))])],\n",
       " 'test_score': array([0.62559796, 0.57727457, 0.60423042]),\n",
       " 'train_score': array([0.94281443, 0.92323658, 0.94859325])}"
      ]
     },
     "execution_count": 55,
     "metadata": {},
     "output_type": "execute_result"
    }
   ],
   "source": [
    "# dtc = RandomForestClassifier(random_state=42,n_jobs=-1, criterion='entropy', max_features=None)\n",
    "model = GaussianProcessClassifier(\n",
    "    n_jobs=-1, n_restarts_optimizer=10, max_iter_predict=10000\n",
    ")\n",
    "# model = LogisticRegression(max_iter=10000,n_jobs=-1)\n",
    "# dtc = LogisticRegression(max_iter=10000,n_jobs=-1,random_state=42)\n",
    "# fs = SelectFpr(alpha=1)\n",
    "# fs = SelectFwe()\n",
    "# fs = SelectPercentile(percentile=30)\n",
    "# fs = SelectFdr(alpha=0.5)\n",
    "with parallel_backend(\"dask\"):\n",
    "    cv_results = cross_validate(\n",
    "        ovr,\n",
    "        X_train,\n",
    "        y_train,\n",
    "        cv=3,\n",
    "        n_jobs=-1,\n",
    "        scoring=\"f1_macro\",\n",
    "        return_train_score=True,\n",
    "        return_estimator=True,\n",
    "    )\n",
    "# client.close()\n",
    "cv_results"
   ]
  },
  {
   "cell_type": "code",
   "execution_count": 10,
   "id": "234458cf-b88c-437b-9dca-6355d2ea4772",
   "metadata": {},
   "outputs": [
    {
     "name": "stdout",
     "output_type": "stream",
     "text": [
      "classification_report\n",
      "~~~~~~~~~~~~~~~~~~~~\n",
      "              precision    recall  f1-score   support\n",
      "\n",
      "           0       0.41      0.45      0.43       300\n",
      "           1       0.60      0.56      0.58       495\n",
      "           2       0.22      0.22      0.22       154\n",
      "\n",
      "    accuracy                           0.47       949\n",
      "   macro avg       0.41      0.41      0.41       949\n",
      "weighted avg       0.48      0.47      0.47       949\n",
      "\n",
      "##########################################################################################\n",
      "balanced_accuracy\n",
      "~~~~~~~~~~~~~~~~~~~~\n",
      "0.4098893698893699\n",
      "##########################################################################################\n"
     ]
    },
    {
     "data": {
      "image/png": "[encoded data removed]",
      "text/plain": [
       "<Figure size 432x288 with 1 Axes>"
      ]
     },
     "metadata": {
      "needs_background": "light"
     },
     "output_type": "display_data"
    }
   ],
   "source": [
    "# from pymongo import MongoClient\n",
    "# mongo_client = MongoClient()\n",
    "# db = mongo_client.get_database('ml_results')\n",
    "# cv_db = db.cv_results\n",
    "# from tbb import Monkey\n",
    "\n",
    "\n",
    "class evaluate_model:\n",
    "    # mongo_client = MongoClient()\n",
    "    # db = mongo_client.get_database('ml_results')\n",
    "    # cv_db = db.cv_results\n",
    "    def __init__(self, model, data=pd.DataFrame(), features=[]):\n",
    "        self.model = model\n",
    "        if data.shape[0]>0:\n",
    "            self.data = data\n",
    "        else:\n",
    "            self.data = pd.read_parquet('../data/final_data.parquet', engine='fastparquet')\n",
    "        if len(features)>0:\n",
    "            self.features = features\n",
    "        else:\n",
    "            self.features = list(self.data.columns)\n",
    "        self.train_idx, self.test_idx = gen_train_test(self.data, 1.0)\n",
    "        self.X_train = self.data.loc[self.train_idx, self.features]\n",
    "        self.y_train = self.data.label.loc[self.train_idx]\n",
    "        self.cv = RepeatedStratifiedKFold(n_splits=3, n_repeats=5)\n",
    "        self.cv_results = None\n",
    "        self.legacy=0\n",
    "        \n",
    "    def run(self, custom_model=None):\n",
    "        if custom_model:\n",
    "            selected_model = custom_model\n",
    "        else:\n",
    "            selected_model = self.model\n",
    "        with parallel_backend('threading'):\n",
    "            cv_results = cross_validate(\n",
    "                selected_model,\n",
    "                self.X_train,\n",
    "                self.y_train,\n",
    "                cv=self.cv,\n",
    "                n_jobs=-1,\n",
    "                scoring=['f1_micro',\n",
    "                         'f1_macro',\n",
    "                         'f1_weighted',\n",
    "                         'precision_micro',\n",
    "                         'precision_macro',\n",
    "                         'precision_weighted',\n",
    "                         'recall_micro',\n",
    "                         'recall_macro',\n",
    "                         'recall_weighted'],\n",
    "                return_train_score=True,\n",
    "                return_estimator=True,\n",
    "            )\n",
    "        ## Save this results\n",
    "        self.cv_results = cv_results\n",
    "        # cv_db.insert_one(cv_results)\n",
    "        # cnst = {'estimator_params': selected_model.get_params()}\n",
    "        record =  {}\n",
    "        record['estimator_params'] = selected_model.get_params()\n",
    "        record['model_name'] = selected_model.__class__.__name__\n",
    "        record['features'] = list(self.features)\n",
    "        # record['data_idx'] = {'train_idx': list(self.train_idx),'test_idx': list(self.test_idx)}\n",
    "        # cnst['fit_time'] = list(cv_results['fit_time'])\n",
    "        for k,v in cv_results.items():\n",
    "            if k in ['estimator','fit_time','score_time']:\n",
    "                continue\n",
    "            else:\n",
    "                record[k] = v.mean()\n",
    "        # cv_db.insert_one(record)\n",
    "        # for _ in cv_db.find():\n",
    "        #     print(_.keys())\n",
    "        if self.legacy ==1:\n",
    "            # print(self.legacy_run())\n",
    "            l_rpt = self.legacy_run()\n",
    "            for k, v in l_rpt.items():\n",
    "                print(k)\n",
    "                print('~'*20)\n",
    "                print(v)\n",
    "                print(\"#\"*90)\n",
    "        return cv_results\n",
    "    \n",
    "    def plot(self):\n",
    "        sns.set()\n",
    "        fig, axes = plt.subplots(3, 3, figsize=(18, 15))        \n",
    "        # fig.layout='constrained'\n",
    "\n",
    "        metrics = ['f1_micro', 'f1_macro', 'f1_weighted', 'precision_micro', 'precision_macro', 'precision_weighted', 'recall_micro', 'recall_macro', 'recall_weighted']\n",
    "        for m  in metrics:\n",
    "            n = len(cv_results['test_'+m])\n",
    "        idx=0\n",
    "        for i in range(3):\n",
    "            n = len(cv_results['test_'+ metrics[0]])\n",
    "            for j in range(3):\n",
    "                axes[i,j].plot(range(n),cv_results['test_'+metrics[idx]],label=['test_'+metrics[idx]])\n",
    "                axes[i,j].plot(range(n),cv_results['train_'+metrics[idx]],label=['train_'+metrics[idx]])\n",
    "                axes[i,j].fill_between(range(n),cv_results['test_'+metrics[idx]],cv_results['train_'+metrics[idx]])\n",
    "                axes[i,j].legend()\n",
    "                axes[i,j].set_title(metrics[idx])\n",
    "                # axes[i,j].autoscale(enable=False)\n",
    "                idx+=1\n",
    "        plt.legend()\n",
    "    \n",
    "    def plot_metric(self, metric):\n",
    "        ydata = self.cv_results['test_'+metric]\n",
    "        n = ydata.shape[0]\n",
    "        ffig = plt.plot(np.arange(n),ydata,)\n",
    "        \n",
    "        return\n",
    "    \n",
    "    def switch_to_main_data(self):\n",
    "        self.legacy = 1\n",
    "        self.X_train_old = self.X_train\n",
    "        self.y_train_old = self.y_train\n",
    "        self.X_train, self.X_test, self.y_train, self.y_test = train_test_split(self.data.loc[:,self.features], self.data.label)\n",
    "        \n",
    "    def reset(self):\n",
    "        self.legacy = 0\n",
    "        self.X_train = self.X_train_old\n",
    "        self.y_train = self.y_train_old\n",
    "        \n",
    "    def legacy_run(self):\n",
    "        self.model.fit(self.X_train, self.y_train)\n",
    "        self.y_pred = self.model.predict(self.X_test)\n",
    "        self.legacy_report = {}\n",
    "        self.legacy_report['classification_report'] = classification_report(self.y_test, self.y_pred)\n",
    "        self.legacy_report['balanced_accuracy'] = sklearn.metrics.balanced_accuracy_score(self.y_test, self.y_pred)\n",
    "        return self.legacy_report\n",
    "em = evaluate_model(DecisionTreeClassifier(), features=nominal)\n",
    "report = em.run()\n",
    "em.plot_metric('f1_macro')\n",
    "# report\n",
    "em.switch_to_main_data()\n",
    "report = em.run()"
   ]
  },
  {
   "cell_type": "code",
   "execution_count": 13,
   "id": "1d8ab124-a918-4e86-9547-a9ad58acb441",
   "metadata": {},
   "outputs": [
    {
     "name": "stderr",
     "output_type": "stream",
     "text": [
      "100%|█████████████████████████████████████████| 300/300 [00:05<00:00, 57.67it/s]\n"
     ]
    },
    {
     "data": {
      "application/vnd.plotly.v1+json": {
       "config": {
        "plotlyServerURL": "https://plot.ly"
       },
       "data": [
        {
         "hovertemplate": "x=%{x}<br>y=%{y}<extra></extra>",
         "legendgroup": "",
         "line": {
          "color": "#636efa",
          "dash": "solid"
         },
         "marker": {
          "symbol": "circle"
         },
         "mode": "lines",
         "name": "",
         "orientation": "v",
         "showlegend": false,
         "type": "scatter",
         "x": [
          0.0001,
          0.0014374581939799332,
          0.002774916387959866,
          0.0041123745819397995,
          0.005449832775919733,
          0.006787290969899666,
          0.008124749163879598,
          0.009462207357859532,
          0.010799665551839465,
          0.012137123745819397,
          0.013474581939799331,
          0.014812040133779264,
          0.016149498327759196,
          0.01748695652173913,
          0.018824414715719065,
          0.020161872909698998,
          0.02149933110367893,
          0.022836789297658863,
          0.024174247491638795,
          0.02551170568561873,
          0.026849163879598664,
          0.028186622073578596,
          0.02952408026755853,
          0.03086153846153846,
          0.0321989966555184,
          0.03353645484949833,
          0.03487391304347826,
          0.0362113712374582,
          0.037548829431438134,
          0.03888628762541806,
          0.040223745819398,
          0.04156120401337793,
          0.042898662207357864,
          0.0442361204013378,
          0.04557357859531773,
          0.046911036789297665,
          0.048248494983277594,
          0.04958595317725753,
          0.050923411371237466,
          0.052260869565217395,
          0.05359832775919733,
          0.05493578595317726,
          0.056273244147157196,
          0.05761070234113713,
          0.05894816053511706,
          0.060285618729097,
          0.061623076923076926,
          0.06296053511705686,
          0.06429799331103679,
          0.06563545150501673,
          0.06697290969899666,
          0.06831036789297659,
          0.06964782608695652,
          0.07098528428093646,
          0.0723227424749164,
          0.07366020066889632,
          0.07499765886287627,
          0.0763351170568562,
          0.07767257525083612,
          0.07901003344481607,
          0.080347491638796,
          0.08168494983277592,
          0.08302240802675585,
          0.0843598662207358,
          0.08569732441471573,
          0.08703478260869565,
          0.0883722408026756,
          0.08970969899665553,
          0.09104715719063546,
          0.09238461538461538,
          0.09372207357859533,
          0.09505953177257526,
          0.09639698996655519,
          0.09773444816053513,
          0.09907190635451506,
          0.10040936454849499,
          0.10174682274247493,
          0.10308428093645486,
          0.10442173913043479,
          0.10575919732441472,
          0.10709665551839466,
          0.10843411371237459,
          0.10977157190635452,
          0.11110903010033446,
          0.11244648829431439,
          0.11378394648829432,
          0.11512140468227426,
          0.11645886287625419,
          0.11779632107023412,
          0.11913377926421405,
          0.12047123745819399,
          0.12180869565217392,
          0.12314615384615385,
          0.12448361204013379,
          0.1258210702341137,
          0.12715852842809364,
          0.12849598662207357,
          0.1298334448160535,
          0.13117090301003345,
          0.13250836120401338,
          0.1338458193979933,
          0.13518327759197324,
          0.13652073578595317,
          0.1378581939799331,
          0.13919565217391303,
          0.14053311036789298,
          0.1418705685618729,
          0.14320802675585284,
          0.14454548494983277,
          0.1458829431438127,
          0.14722040133779263,
          0.14855785953177256,
          0.1498953177257525,
          0.15123277591973244,
          0.15257023411371237,
          0.1539076923076923,
          0.15524515050167223,
          0.15658260869565216,
          0.15792006688963212,
          0.15925752508361204,
          0.16059498327759197,
          0.1619324414715719,
          0.16326989966555183,
          0.16460735785953176,
          0.1659448160535117,
          0.16728227424749165,
          0.16861973244147158,
          0.1699571906354515,
          0.17129464882943143,
          0.17263210702341136,
          0.1739695652173913,
          0.17530702341137122,
          0.17664448160535118,
          0.1779819397993311,
          0.17931939799331104,
          0.18065685618729097,
          0.1819943143812709,
          0.18333177257525082,
          0.18466923076923075,
          0.1860066889632107,
          0.18734414715719064,
          0.18868160535117057,
          0.1900190635451505,
          0.19135652173913043,
          0.19269397993311035,
          0.1940314381270903,
          0.19536889632107024,
          0.19670635451505017,
          0.1980438127090301,
          0.19938127090301003,
          0.20071872909698996,
          0.20205618729096989,
          0.20339364548494984,
          0.20473110367892977,
          0.2060685618729097,
          0.20740602006688963,
          0.20874347826086956,
          0.2100809364548495,
          0.21141839464882942,
          0.21275585284280937,
          0.2140933110367893,
          0.21543076923076923,
          0.21676822742474916,
          0.2181056856187291,
          0.21944314381270902,
          0.22078060200668895,
          0.2221180602006689,
          0.22345551839464883,
          0.22479297658862876,
          0.2261304347826087,
          0.22746789297658862,
          0.22880535117056855,
          0.2301428093645485,
          0.23148026755852844,
          0.23281772575250836,
          0.2341551839464883,
          0.23549264214046822,
          0.23683010033444815,
          0.23816755852842808,
          0.23950501672240804,
          0.24084247491638797,
          0.2421799331103679,
          0.24351739130434782,
          0.24485484949832775,
          0.24619230769230768,
          0.2475297658862876,
          0.24886722408026757,
          0.25020468227424747,
          0.2515421404682274,
          0.2528795986622074,
          0.2542170568561873,
          0.25555451505016724,
          0.25689197324414714,
          0.2582294314381271,
          0.259566889632107,
          0.26090434782608696,
          0.2622418060200669,
          0.2635792642140468,
          0.2649167224080268,
          0.2662541806020067,
          0.26759163879598663,
          0.26892909698996653,
          0.2702665551839465,
          0.27160401337792645,
          0.27294147157190635,
          0.2742789297658863,
          0.2756163879598662,
          0.27695384615384616,
          0.27829130434782606,
          0.279628762541806,
          0.280966220735786,
          0.2823036789297659,
          0.28364113712374583,
          0.28497859531772574,
          0.2863160535117057,
          0.2876535117056856,
          0.28899096989966555,
          0.2903284280936455,
          0.2916658862876254,
          0.29300334448160537,
          0.29434080267558527,
          0.2956782608695652,
          0.2970157190635451,
          0.2983531772575251,
          0.29969063545150504,
          0.30102809364548494,
          0.3023655518394649,
          0.3037030100334448,
          0.30504046822742475,
          0.30637792642140466,
          0.3077153846153846,
          0.30905284280936457,
          0.31039030100334447,
          0.3117277591973244,
          0.31306521739130433,
          0.3144026755852843,
          0.31574013377926424,
          0.31707759197324414,
          0.3184150501672241,
          0.319752508361204,
          0.32108996655518396,
          0.32242742474916386,
          0.3237648829431438,
          0.3251023411371238,
          0.3264397993311037,
          0.32777725752508363,
          0.32911471571906353,
          0.3304521739130435,
          0.3317896321070234,
          0.33312709030100335,
          0.3344645484949833,
          0.3358020066889632,
          0.33713946488294316,
          0.33847692307692306,
          0.339814381270903,
          0.3411518394648829,
          0.3424892976588629,
          0.34382675585284284,
          0.34516421404682274,
          0.3465016722408027,
          0.3478391304347826,
          0.34917658862876255,
          0.35051404682274245,
          0.3518515050167224,
          0.35318896321070237,
          0.35452642140468227,
          0.3558638795986622,
          0.3572013377926421,
          0.3585387959866221,
          0.359876254180602,
          0.36121371237458194,
          0.3625511705685619,
          0.3638886287625418,
          0.36522608695652176,
          0.36656354515050166,
          0.3679010033444816,
          0.3692384615384615,
          0.37057591973244147,
          0.37191337792642143,
          0.37325083612040133,
          0.3745882943143813,
          0.3759257525083612,
          0.37726321070234115,
          0.3786006688963211,
          0.379938127090301,
          0.38127558528428096,
          0.38261304347826086,
          0.3839505016722408,
          0.3852879598662207,
          0.3866254180602007,
          0.38796287625418063,
          0.38930033444816053,
          0.3906377926421405,
          0.3919752508361204,
          0.39331270903010035,
          0.39465016722408025,
          0.3959876254180602,
          0.39732508361204016,
          0.39866254180602007,
          0.4
         ],
         "xaxis": "x",
         "y": [
          -0.0026417503923027957,
          -0.002193394815547752,
          -0.0021359140848636543,
          -0.002883122675682194,
          -0.0038005341729950024,
          -0.004652772561997323,
          -0.005238701119171307,
          -0.005979194888903458,
          -0.005946574344058754,
          -0.006205552422392237,
          -0.004917995263540448,
          -0.005297255601976203,
          -0.005185426415515952,
          -0.005318102214374074,
          -0.005747824064945454,
          -0.0064687297420562805,
          -0.006392215721708101,
          -0.005208464569729694,
          -0.005208464569729694,
          -0.005208464569729694,
          -0.0028057349402852236,
          -0.0011051637288927289,
          0.000568171046642265,
          0.000568171046642265,
          0.000568171046642265,
          0.000568171046642265,
          0.000568171046642265,
          0.000568171046642265,
          0.0005469492443341341,
          0.0009267769394824678,
          0.0004975224290838568,
          0.0004975224290838568,
          0.0011581592999021066,
          0.0011581592999021066,
          0.0009738272552592339,
          0.0009738272552592339,
          0.0009738272552592339,
          0.0008058743581614077,
          0.001918279425468892,
          0.0018520179822611351,
          0.0018520179822611351,
          0.0018520179822611351,
          0.0018520179822611351,
          0.0018520179822611351,
          0.0018520179822611351,
          0.0019236993531117723,
          0.0022705256826928964,
          0.002213693010707905,
          0.0016894961253448727,
          0.0016650451945742846,
          0.0016650451945742846,
          0.0007407236108348158,
          0.0006322815906655553,
          0.0006322815906655553,
          0.0006322815906655553,
          -6.358448744747512e-05,
          -6.358448744747512e-05,
          -6.358448744747512e-05,
          -6.358448744747512e-05,
          -4.069869129934058e-06,
          -4.069869129934058e-06,
          -4.069869129934058e-06,
          -4.069869129934058e-06,
          -4.069869129934058e-06,
          -4.069869129934058e-06,
          -4.069869129934058e-06,
          0.0009042612690744422,
          0.0009042612690744422,
          0.0009042612690744422,
          0.0009042612690744422,
          0.0008718916417084881,
          0.0008718916417084881,
          0.0006059908916627477,
          0.0006059908916627477,
          0.0006059908916627477,
          0.0006059908916627477,
          0.0006059908916627477,
          0.0006059908916627477,
          0.0006059908916627477,
          0.0006059908916627477,
          0.0003711005161467666,
          0.0003704278423671614,
          0.0003704278423671614,
          0.0003704278423671614,
          0.0003704278423671614,
          0.0003704278423671614,
          0.0003704278423671614,
          0.0003704278423671614,
          0.0003704278423671614,
          0.0003704278423671614,
          0.0003704278423671614,
          0.0003704278423671614,
          0.00015083928680617643,
          0.00015083928680617643,
          -5.495810253702479e-05,
          -5.495810253702479e-05,
          -5.495810253702479e-05,
          -5.495810253702479e-05,
          -5.495810253702479e-05,
          -5.495810253702479e-05,
          -5.495810253702479e-05,
          -5.495810253702479e-05,
          -5.495810253702479e-05,
          -5.495810253702479e-05,
          -5.495810253702479e-05,
          -5.495810253702479e-05,
          -6.019220754055426e-05,
          -6.019220754055426e-05,
          -6.019220754055426e-05,
          -6.019220754055426e-05,
          -6.019220754055426e-05,
          0.002190601851986069,
          0.002190601851986069,
          0.002190601851986069,
          0.002190601851986069,
          0.002020705651242074,
          0.002020705651242074,
          0.002020705651242074,
          0.002020705651242074,
          0.002020705651242074,
          0.002020705651242074,
          0.002020705651242074,
          0.0011815981129858143,
          0.0011815981129858143,
          0.0011815981129858143,
          0.0011815981129858143,
          0.0011815981129858143,
          0.0011815981129858143,
          0.0008770405081616997,
          0.0008770405081616997,
          0.0008770405081616997,
          0.0008770405081616997,
          0.0008770405081616997,
          0.00021746937454645968,
          0.00021746937454645968,
          0.00021746937454645968,
          0.00021746937454645968,
          0.00021746937454645968,
          0.00021746937454645968,
          0.00021746937454645968,
          -0.0001797606453823421,
          -0.0001797606453823421,
          -0.0001797606453823421,
          -0.0001797606453823421,
          -0.0001797606453823421,
          -9.912705577010326e-19,
          0,
          0,
          0,
          0,
          0,
          0,
          0,
          0,
          0,
          0,
          0,
          0,
          0,
          0,
          0,
          0,
          0,
          0,
          0,
          0,
          0,
          0,
          0,
          4.336808689942018e-19,
          4.336808689942018e-19,
          4.336808689942018e-19,
          4.336808689942018e-19,
          4.336808689942018e-19,
          4.336808689942018e-19,
          4.336808689942018e-19,
          4.336808689942018e-19,
          4.336808689942018e-19,
          4.336808689942018e-19,
          4.336808689942018e-19,
          4.336808689942018e-19,
          4.336808689942018e-19,
          4.336808689942018e-19,
          4.336808689942018e-19,
          4.336808689942018e-19,
          4.336808689942018e-19,
          4.336808689942018e-19,
          4.336808689942018e-19,
          4.336808689942018e-19,
          4.336808689942018e-19,
          4.336808689942018e-19,
          4.336808689942018e-19,
          4.336808689942018e-19,
          4.336808689942018e-19,
          4.336808689942018e-19,
          4.336808689942018e-19,
          4.336808689942018e-19,
          4.336808689942018e-19,
          4.336808689942018e-19,
          4.336808689942018e-19,
          4.336808689942018e-19,
          4.336808689942018e-19,
          4.336808689942018e-19,
          4.336808689942018e-19,
          4.336808689942018e-19,
          4.336808689942018e-19,
          4.336808689942018e-19,
          4.336808689942018e-19,
          4.336808689942018e-19,
          4.336808689942018e-19,
          4.336808689942018e-19,
          4.336808689942018e-19,
          4.336808689942018e-19,
          4.336808689942018e-19,
          4.336808689942018e-19,
          4.336808689942018e-19,
          4.336808689942018e-19,
          0,
          0,
          0,
          0,
          0,
          0,
          0,
          0,
          0,
          0,
          0,
          0,
          0,
          0,
          0,
          0,
          0,
          0,
          0,
          0,
          0,
          0,
          0,
          0,
          0,
          0,
          0,
          0,
          0,
          0,
          0,
          0,
          0,
          0,
          0,
          0,
          0,
          0,
          0,
          0,
          0,
          0,
          0,
          0,
          0,
          0,
          0,
          0,
          0,
          0,
          0,
          0,
          0,
          0,
          0,
          0,
          0,
          0,
          0,
          0,
          0,
          0,
          0,
          0,
          0,
          0,
          0,
          0,
          0,
          0,
          0,
          0,
          0,
          0,
          0,
          0,
          0,
          0,
          0,
          0,
          0,
          0,
          0
         ],
         "yaxis": "y"
        }
       ],
       "layout": {
        "autosize": true,
        "legend": {
         "tracegroupgap": 0
        },
        "margin": {
         "t": 60
        },
        "template": {
         "data": {
          "bar": [
           {
            "error_x": {
             "color": "#2a3f5f"
            },
            "error_y": {
             "color": "#2a3f5f"
            },
            "marker": {
             "line": {
              "color": "#E5ECF6",
              "width": 0.5
             },
             "pattern": {
              "fillmode": "overlay",
              "size": 10,
              "solidity": 0.2
             }
            },
            "type": "bar"
           }
          ],
          "barpolar": [
           {
            "marker": {
             "line": {
              "color": "#E5ECF6",
              "width": 0.5
             },
             "pattern": {
              "fillmode": "overlay",
              "size": 10,
              "solidity": 0.2
             }
            },
            "type": "barpolar"
           }
          ],
          "carpet": [
           {
            "aaxis": {
             "endlinecolor": "#2a3f5f",
             "gridcolor": "white",
             "linecolor": "white",
             "minorgridcolor": "white",
             "startlinecolor": "#2a3f5f"
            },
            "baxis": {
             "endlinecolor": "#2a3f5f",
             "gridcolor": "white",
             "linecolor": "white",
             "minorgridcolor": "white",
             "startlinecolor": "#2a3f5f"
            },
            "type": "carpet"
           }
          ],
          "choropleth": [
           {
            "colorbar": {
             "outlinewidth": 0,
             "ticks": ""
            },
            "type": "choropleth"
           }
          ],
          "contour": [
           {
            "colorbar": {
             "outlinewidth": 0,
             "ticks": ""
            },
            "colorscale": [
             [
              0,
              "#0d0887"
             ],
             [
              0.1111111111111111,
              "#46039f"
             ],
             [
              0.2222222222222222,
              "#7201a8"
             ],
             [
              0.3333333333333333,
              "#9c179e"
             ],
             [
              0.4444444444444444,
              "#bd3786"
             ],
             [
              0.5555555555555556,
              "#d8576b"
             ],
             [
              0.6666666666666666,
              "#ed7953"
             ],
             [
              0.7777777777777778,
              "#fb9f3a"
             ],
             [
              0.8888888888888888,
              "#fdca26"
             ],
             [
              1,
              "#f0f921"
             ]
            ],
            "type": "contour"
           }
          ],
          "contourcarpet": [
           {
            "colorbar": {
             "outlinewidth": 0,
             "ticks": ""
            },
            "type": "contourcarpet"
           }
          ],
          "heatmap": [
           {
            "colorbar": {
             "outlinewidth": 0,
             "ticks": ""
            },
            "colorscale": [
             [
              0,
              "#0d0887"
             ],
             [
              0.1111111111111111,
              "#46039f"
             ],
             [
              0.2222222222222222,
              "#7201a8"
             ],
             [
              0.3333333333333333,
              "#9c179e"
             ],
             [
              0.4444444444444444,
              "#bd3786"
             ],
             [
              0.5555555555555556,
              "#d8576b"
             ],
             [
              0.6666666666666666,
              "#ed7953"
             ],
             [
              0.7777777777777778,
              "#fb9f3a"
             ],
             [
              0.8888888888888888,
              "#fdca26"
             ],
             [
              1,
              "#f0f921"
             ]
            ],
            "type": "heatmap"
           }
          ],
          "heatmapgl": [
           {
            "colorbar": {
             "outlinewidth": 0,
             "ticks": ""
            },
            "colorscale": [
             [
              0,
              "#0d0887"
             ],
             [
              0.1111111111111111,
              "#46039f"
             ],
             [
              0.2222222222222222,
              "#7201a8"
             ],
             [
              0.3333333333333333,
              "#9c179e"
             ],
             [
              0.4444444444444444,
              "#bd3786"
             ],
             [
              0.5555555555555556,
              "#d8576b"
             ],
             [
              0.6666666666666666,
              "#ed7953"
             ],
             [
              0.7777777777777778,
              "#fb9f3a"
             ],
             [
              0.8888888888888888,
              "#fdca26"
             ],
             [
              1,
              "#f0f921"
             ]
            ],
            "type": "heatmapgl"
           }
          ],
          "histogram": [
           {
            "marker": {
             "pattern": {
              "fillmode": "overlay",
              "size": 10,
              "solidity": 0.2
             }
            },
            "type": "histogram"
           }
          ],
          "histogram2d": [
           {
            "colorbar": {
             "outlinewidth": 0,
             "ticks": ""
            },
            "colorscale": [
             [
              0,
              "#0d0887"
             ],
             [
              0.1111111111111111,
              "#46039f"
             ],
             [
              0.2222222222222222,
              "#7201a8"
             ],
             [
              0.3333333333333333,
              "#9c179e"
             ],
             [
              0.4444444444444444,
              "#bd3786"
             ],
             [
              0.5555555555555556,
              "#d8576b"
             ],
             [
              0.6666666666666666,
              "#ed7953"
             ],
             [
              0.7777777777777778,
              "#fb9f3a"
             ],
             [
              0.8888888888888888,
              "#fdca26"
             ],
             [
              1,
              "#f0f921"
             ]
            ],
            "type": "histogram2d"
           }
          ],
          "histogram2dcontour": [
           {
            "colorbar": {
             "outlinewidth": 0,
             "ticks": ""
            },
            "colorscale": [
             [
              0,
              "#0d0887"
             ],
             [
              0.1111111111111111,
              "#46039f"
             ],
             [
              0.2222222222222222,
              "#7201a8"
             ],
             [
              0.3333333333333333,
              "#9c179e"
             ],
             [
              0.4444444444444444,
              "#bd3786"
             ],
             [
              0.5555555555555556,
              "#d8576b"
             ],
             [
              0.6666666666666666,
              "#ed7953"
             ],
             [
              0.7777777777777778,
              "#fb9f3a"
             ],
             [
              0.8888888888888888,
              "#fdca26"
             ],
             [
              1,
              "#f0f921"
             ]
            ],
            "type": "histogram2dcontour"
           }
          ],
          "mesh3d": [
           {
            "colorbar": {
             "outlinewidth": 0,
             "ticks": ""
            },
            "type": "mesh3d"
           }
          ],
          "parcoords": [
           {
            "line": {
             "colorbar": {
              "outlinewidth": 0,
              "ticks": ""
             }
            },
            "type": "parcoords"
           }
          ],
          "pie": [
           {
            "automargin": true,
            "type": "pie"
           }
          ],
          "scatter": [
           {
            "fillpattern": {
             "fillmode": "overlay",
             "size": 10,
             "solidity": 0.2
            },
            "type": "scatter"
           }
          ],
          "scatter3d": [
           {
            "line": {
             "colorbar": {
              "outlinewidth": 0,
              "ticks": ""
             }
            },
            "marker": {
             "colorbar": {
              "outlinewidth": 0,
              "ticks": ""
             }
            },
            "type": "scatter3d"
           }
          ],
          "scattercarpet": [
           {
            "marker": {
             "colorbar": {
              "outlinewidth": 0,
              "ticks": ""
             }
            },
            "type": "scattercarpet"
           }
          ],
          "scattergeo": [
           {
            "marker": {
             "colorbar": {
              "outlinewidth": 0,
              "ticks": ""
             }
            },
            "type": "scattergeo"
           }
          ],
          "scattergl": [
           {
            "marker": {
             "colorbar": {
              "outlinewidth": 0,
              "ticks": ""
             }
            },
            "type": "scattergl"
           }
          ],
          "scattermapbox": [
           {
            "marker": {
             "colorbar": {
              "outlinewidth": 0,
              "ticks": ""
             }
            },
            "type": "scattermapbox"
           }
          ],
          "scatterpolar": [
           {
            "marker": {
             "colorbar": {
              "outlinewidth": 0,
              "ticks": ""
             }
            },
            "type": "scatterpolar"
           }
          ],
          "scatterpolargl": [
           {
            "marker": {
             "colorbar": {
              "outlinewidth": 0,
              "ticks": ""
             }
            },
            "type": "scatterpolargl"
           }
          ],
          "scatterternary": [
           {
            "marker": {
             "colorbar": {
              "outlinewidth": 0,
              "ticks": ""
             }
            },
            "type": "scatterternary"
           }
          ],
          "surface": [
           {
            "colorbar": {
             "outlinewidth": 0,
             "ticks": ""
            },
            "colorscale": [
             [
              0,
              "#0d0887"
             ],
             [
              0.1111111111111111,
              "#46039f"
             ],
             [
              0.2222222222222222,
              "#7201a8"
             ],
             [
              0.3333333333333333,
              "#9c179e"
             ],
             [
              0.4444444444444444,
              "#bd3786"
             ],
             [
              0.5555555555555556,
              "#d8576b"
             ],
             [
              0.6666666666666666,
              "#ed7953"
             ],
             [
              0.7777777777777778,
              "#fb9f3a"
             ],
             [
              0.8888888888888888,
              "#fdca26"
             ],
             [
              1,
              "#f0f921"
             ]
            ],
            "type": "surface"
           }
          ],
          "table": [
           {
            "cells": {
             "fill": {
              "color": "#EBF0F8"
             },
             "line": {
              "color": "white"
             }
            },
            "header": {
             "fill": {
              "color": "#C8D4E3"
             },
             "line": {
              "color": "white"
             }
            },
            "type": "table"
           }
          ]
         },
         "layout": {
          "annotationdefaults": {
           "arrowcolor": "#2a3f5f",
           "arrowhead": 0,
           "arrowwidth": 1
          },
          "autotypenumbers": "strict",
          "coloraxis": {
           "colorbar": {
            "outlinewidth": 0,
            "ticks": ""
           }
          },
          "colorscale": {
           "diverging": [
            [
             0,
             "#8e0152"
            ],
            [
             0.1,
             "#c51b7d"
            ],
            [
             0.2,
             "#de77ae"
            ],
            [
             0.3,
             "#f1b6da"
            ],
            [
             0.4,
             "#fde0ef"
            ],
            [
             0.5,
             "#f7f7f7"
            ],
            [
             0.6,
             "#e6f5d0"
            ],
            [
             0.7,
             "#b8e186"
            ],
            [
             0.8,
             "#7fbc41"
            ],
            [
             0.9,
             "#4d9221"
            ],
            [
             1,
             "#276419"
            ]
           ],
           "sequential": [
            [
             0,
             "#0d0887"
            ],
            [
             0.1111111111111111,
             "#46039f"
            ],
            [
             0.2222222222222222,
             "#7201a8"
            ],
            [
             0.3333333333333333,
             "#9c179e"
            ],
            [
             0.4444444444444444,
             "#bd3786"
            ],
            [
             0.5555555555555556,
             "#d8576b"
            ],
            [
             0.6666666666666666,
             "#ed7953"
            ],
            [
             0.7777777777777778,
             "#fb9f3a"
            ],
            [
             0.8888888888888888,
             "#fdca26"
            ],
            [
             1,
             "#f0f921"
            ]
           ],
           "sequentialminus": [
            [
             0,
             "#0d0887"
            ],
            [
             0.1111111111111111,
             "#46039f"
            ],
            [
             0.2222222222222222,
             "#7201a8"
            ],
            [
             0.3333333333333333,
             "#9c179e"
            ],
            [
             0.4444444444444444,
             "#bd3786"
            ],
            [
             0.5555555555555556,
             "#d8576b"
            ],
            [
             0.6666666666666666,
             "#ed7953"
            ],
            [
             0.7777777777777778,
             "#fb9f3a"
            ],
            [
             0.8888888888888888,
             "#fdca26"
            ],
            [
             1,
             "#f0f921"
            ]
           ]
          },
          "colorway": [
           "#636efa",
           "#EF553B",
           "#00cc96",
           "#ab63fa",
           "#FFA15A",
           "#19d3f3",
           "#FF6692",
           "#B6E880",
           "#FF97FF",
           "#FECB52"
          ],
          "font": {
           "color": "#2a3f5f"
          },
          "geo": {
           "bgcolor": "white",
           "lakecolor": "white",
           "landcolor": "#E5ECF6",
           "showlakes": true,
           "showland": true,
           "subunitcolor": "white"
          },
          "hoverlabel": {
           "align": "left"
          },
          "hovermode": "closest",
          "mapbox": {
           "style": "light"
          },
          "paper_bgcolor": "white",
          "plot_bgcolor": "#E5ECF6",
          "polar": {
           "angularaxis": {
            "gridcolor": "white",
            "linecolor": "white",
            "ticks": ""
           },
           "bgcolor": "#E5ECF6",
           "radialaxis": {
            "gridcolor": "white",
            "linecolor": "white",
            "ticks": ""
           }
          },
          "scene": {
           "xaxis": {
            "backgroundcolor": "#E5ECF6",
            "gridcolor": "white",
            "gridwidth": 2,
            "linecolor": "white",
            "showbackground": true,
            "ticks": "",
            "zerolinecolor": "white"
           },
           "yaxis": {
            "backgroundcolor": "#E5ECF6",
            "gridcolor": "white",
            "gridwidth": 2,
            "linecolor": "white",
            "showbackground": true,
            "ticks": "",
            "zerolinecolor": "white"
           },
           "zaxis": {
            "backgroundcolor": "#E5ECF6",
            "gridcolor": "white",
            "gridwidth": 2,
            "linecolor": "white",
            "showbackground": true,
            "ticks": "",
            "zerolinecolor": "white"
           }
          },
          "shapedefaults": {
           "line": {
            "color": "#2a3f5f"
           }
          },
          "ternary": {
           "aaxis": {
            "gridcolor": "white",
            "linecolor": "white",
            "ticks": ""
           },
           "baxis": {
            "gridcolor": "white",
            "linecolor": "white",
            "ticks": ""
           },
           "bgcolor": "#E5ECF6",
           "caxis": {
            "gridcolor": "white",
            "linecolor": "white",
            "ticks": ""
           }
          },
          "title": {
           "x": 0.05
          },
          "xaxis": {
           "automargin": true,
           "gridcolor": "white",
           "linecolor": "white",
           "ticks": "",
           "title": {
            "standoff": 15
           },
           "zerolinecolor": "white",
           "zerolinewidth": 2
          },
          "yaxis": {
           "automargin": true,
           "gridcolor": "white",
           "linecolor": "white",
           "ticks": "",
           "title": {
            "standoff": 15
           },
           "zerolinecolor": "white",
           "zerolinewidth": 2
          }
         }
        },
        "xaxis": {
         "anchor": "y",
         "autorange": true,
         "domain": [
          0,
          1
         ],
         "range": [
          0.0001,
          0.4
         ],
         "title": {
          "text": "x"
         },
         "type": "linear"
        },
        "yaxis": {
         "anchor": "x",
         "autorange": true,
         "domain": [
          0,
          1
         ],
         "range": [
          -0.006954243932320124,
          0.0027560398729567395
         ],
         "title": {
          "text": "y"
         },
         "type": "linear"
        }
       }
      },
      "image/png": "[encoded data removed]",
      "text/html": [
       "<div>                            <div id=\"9a2b44e9-15c5-4626-bc51-01ea1ca80e52\" class=\"plotly-graph-div\" style=\"height:525px; width:100%;\"></div>            <script type=\"text/javascript\">                require([\"plotly\"], function(Plotly) {                    window.PLOTLYENV=window.PLOTLYENV || {};                                    if (document.getElementById(\"9a2b44e9-15c5-4626-bc51-01ea1ca80e52\")) {                    Plotly.newPlot(                        \"9a2b44e9-15c5-4626-bc51-01ea1ca80e52\",                        [{\"hovertemplate\":\"x=%{x}<br>y=%{y}<extra></extra>\",\"legendgroup\":\"\",\"line\":{\"color\":\"#636efa\",\"dash\":\"solid\"},\"marker\":{\"symbol\":\"circle\"},\"mode\":\"lines\",\"name\":\"\",\"orientation\":\"v\",\"showlegend\":false,\"x\":[0.0001,0.0014374581939799332,0.002774916387959866,0.0041123745819397995,0.005449832775919733,0.006787290969899666,0.008124749163879598,0.009462207357859532,0.010799665551839465,0.012137123745819397,0.013474581939799331,0.014812040133779264,0.016149498327759196,0.01748695652173913,0.018824414715719065,0.020161872909698998,0.02149933110367893,0.022836789297658863,0.024174247491638795,0.02551170568561873,0.026849163879598664,0.028186622073578596,0.02952408026755853,0.03086153846153846,0.0321989966555184,0.03353645484949833,0.03487391304347826,0.0362113712374582,0.037548829431438134,0.03888628762541806,0.040223745819398,0.04156120401337793,0.042898662207357864,0.0442361204013378,0.04557357859531773,0.046911036789297665,0.048248494983277594,0.04958595317725753,0.050923411371237466,0.052260869565217395,0.05359832775919733,0.05493578595317726,0.056273244147157196,0.05761070234113713,0.05894816053511706,0.060285618729097,0.061623076923076926,0.06296053511705686,0.06429799331103679,0.06563545150501673,0.06697290969899666,0.06831036789297659,0.06964782608695652,0.07098528428093646,0.0723227424749164,0.07366020066889632,0.07499765886287627,0.0763351170568562,0.07767257525083612,0.07901003344481607,0.080347491638796,0.08168494983277592,0.08302240802675585,0.0843598662207358,0.08569732441471573,0.08703478260869565,0.0883722408026756,0.08970969899665553,0.09104715719063546,0.09238461538461538,0.09372207357859533,0.09505953177257526,0.09639698996655519,0.09773444816053513,0.09907190635451506,0.10040936454849499,0.10174682274247493,0.10308428093645486,0.10442173913043479,0.10575919732441472,0.10709665551839466,0.10843411371237459,0.10977157190635452,0.11110903010033446,0.11244648829431439,0.11378394648829432,0.11512140468227426,0.11645886287625419,0.11779632107023412,0.11913377926421405,0.12047123745819399,0.12180869565217392,0.12314615384615385,0.12448361204013379,0.1258210702341137,0.12715852842809364,0.12849598662207357,0.1298334448160535,0.13117090301003345,0.13250836120401338,0.1338458193979933,0.13518327759197324,0.13652073578595317,0.1378581939799331,0.13919565217391303,0.14053311036789298,0.1418705685618729,0.14320802675585284,0.14454548494983277,0.1458829431438127,0.14722040133779263,0.14855785953177256,0.1498953177257525,0.15123277591973244,0.15257023411371237,0.1539076923076923,0.15524515050167223,0.15658260869565216,0.15792006688963212,0.15925752508361204,0.16059498327759197,0.1619324414715719,0.16326989966555183,0.16460735785953176,0.1659448160535117,0.16728227424749165,0.16861973244147158,0.1699571906354515,0.17129464882943143,0.17263210702341136,0.1739695652173913,0.17530702341137122,0.17664448160535118,0.1779819397993311,0.17931939799331104,0.18065685618729097,0.1819943143812709,0.18333177257525082,0.18466923076923075,0.1860066889632107,0.18734414715719064,0.18868160535117057,0.1900190635451505,0.19135652173913043,0.19269397993311035,0.1940314381270903,0.19536889632107024,0.19670635451505017,0.1980438127090301,0.19938127090301003,0.20071872909698996,0.20205618729096989,0.20339364548494984,0.20473110367892977,0.2060685618729097,0.20740602006688963,0.20874347826086956,0.2100809364548495,0.21141839464882942,0.21275585284280937,0.2140933110367893,0.21543076923076923,0.21676822742474916,0.2181056856187291,0.21944314381270902,0.22078060200668895,0.2221180602006689,0.22345551839464883,0.22479297658862876,0.2261304347826087,0.22746789297658862,0.22880535117056855,0.2301428093645485,0.23148026755852844,0.23281772575250836,0.2341551839464883,0.23549264214046822,0.23683010033444815,0.23816755852842808,0.23950501672240804,0.24084247491638797,0.2421799331103679,0.24351739130434782,0.24485484949832775,0.24619230769230768,0.2475297658862876,0.24886722408026757,0.25020468227424747,0.2515421404682274,0.2528795986622074,0.2542170568561873,0.25555451505016724,0.25689197324414714,0.2582294314381271,0.259566889632107,0.26090434782608696,0.2622418060200669,0.2635792642140468,0.2649167224080268,0.2662541806020067,0.26759163879598663,0.26892909698996653,0.2702665551839465,0.27160401337792645,0.27294147157190635,0.2742789297658863,0.2756163879598662,0.27695384615384616,0.27829130434782606,0.279628762541806,0.280966220735786,0.2823036789297659,0.28364113712374583,0.28497859531772574,0.2863160535117057,0.2876535117056856,0.28899096989966555,0.2903284280936455,0.2916658862876254,0.29300334448160537,0.29434080267558527,0.2956782608695652,0.2970157190635451,0.2983531772575251,0.29969063545150504,0.30102809364548494,0.3023655518394649,0.3037030100334448,0.30504046822742475,0.30637792642140466,0.3077153846153846,0.30905284280936457,0.31039030100334447,0.3117277591973244,0.31306521739130433,0.3144026755852843,0.31574013377926424,0.31707759197324414,0.3184150501672241,0.319752508361204,0.32108996655518396,0.32242742474916386,0.3237648829431438,0.3251023411371238,0.3264397993311037,0.32777725752508363,0.32911471571906353,0.3304521739130435,0.3317896321070234,0.33312709030100335,0.3344645484949833,0.3358020066889632,0.33713946488294316,0.33847692307692306,0.339814381270903,0.3411518394648829,0.3424892976588629,0.34382675585284284,0.34516421404682274,0.3465016722408027,0.3478391304347826,0.34917658862876255,0.35051404682274245,0.3518515050167224,0.35318896321070237,0.35452642140468227,0.3558638795986622,0.3572013377926421,0.3585387959866221,0.359876254180602,0.36121371237458194,0.3625511705685619,0.3638886287625418,0.36522608695652176,0.36656354515050166,0.3679010033444816,0.3692384615384615,0.37057591973244147,0.37191337792642143,0.37325083612040133,0.3745882943143813,0.3759257525083612,0.37726321070234115,0.3786006688963211,0.379938127090301,0.38127558528428096,0.38261304347826086,0.3839505016722408,0.3852879598662207,0.3866254180602007,0.38796287625418063,0.38930033444816053,0.3906377926421405,0.3919752508361204,0.39331270903010035,0.39465016722408025,0.3959876254180602,0.39732508361204016,0.39866254180602007,0.4],\"xaxis\":\"x\",\"y\":[-0.0026417503923027957,-0.002193394815547752,-0.0021359140848636543,-0.002883122675682194,-0.0038005341729950024,-0.004652772561997323,-0.005238701119171307,-0.005979194888903458,-0.005946574344058754,-0.006205552422392237,-0.004917995263540448,-0.005297255601976203,-0.005185426415515952,-0.005318102214374074,-0.005747824064945454,-0.0064687297420562805,-0.006392215721708101,-0.005208464569729694,-0.005208464569729694,-0.005208464569729694,-0.0028057349402852236,-0.0011051637288927289,0.000568171046642265,0.000568171046642265,0.000568171046642265,0.000568171046642265,0.000568171046642265,0.000568171046642265,0.0005469492443341341,0.0009267769394824678,0.0004975224290838568,0.0004975224290838568,0.0011581592999021066,0.0011581592999021066,0.0009738272552592339,0.0009738272552592339,0.0009738272552592339,0.0008058743581614077,0.001918279425468892,0.0018520179822611351,0.0018520179822611351,0.0018520179822611351,0.0018520179822611351,0.0018520179822611351,0.0018520179822611351,0.0019236993531117723,0.0022705256826928964,0.002213693010707905,0.0016894961253448727,0.0016650451945742846,0.0016650451945742846,0.0007407236108348158,0.0006322815906655553,0.0006322815906655553,0.0006322815906655553,-6.358448744747512e-05,-6.358448744747512e-05,-6.358448744747512e-05,-6.358448744747512e-05,-4.069869129934058e-06,-4.069869129934058e-06,-4.069869129934058e-06,-4.069869129934058e-06,-4.069869129934058e-06,-4.069869129934058e-06,-4.069869129934058e-06,0.0009042612690744422,0.0009042612690744422,0.0009042612690744422,0.0009042612690744422,0.0008718916417084881,0.0008718916417084881,0.0006059908916627477,0.0006059908916627477,0.0006059908916627477,0.0006059908916627477,0.0006059908916627477,0.0006059908916627477,0.0006059908916627477,0.0006059908916627477,0.0003711005161467666,0.0003704278423671614,0.0003704278423671614,0.0003704278423671614,0.0003704278423671614,0.0003704278423671614,0.0003704278423671614,0.0003704278423671614,0.0003704278423671614,0.0003704278423671614,0.0003704278423671614,0.0003704278423671614,0.00015083928680617643,0.00015083928680617643,-5.495810253702479e-05,-5.495810253702479e-05,-5.495810253702479e-05,-5.495810253702479e-05,-5.495810253702479e-05,-5.495810253702479e-05,-5.495810253702479e-05,-5.495810253702479e-05,-5.495810253702479e-05,-5.495810253702479e-05,-5.495810253702479e-05,-5.495810253702479e-05,-6.019220754055426e-05,-6.019220754055426e-05,-6.019220754055426e-05,-6.019220754055426e-05,-6.019220754055426e-05,0.002190601851986069,0.002190601851986069,0.002190601851986069,0.002190601851986069,0.002020705651242074,0.002020705651242074,0.002020705651242074,0.002020705651242074,0.002020705651242074,0.002020705651242074,0.002020705651242074,0.0011815981129858143,0.0011815981129858143,0.0011815981129858143,0.0011815981129858143,0.0011815981129858143,0.0011815981129858143,0.0008770405081616997,0.0008770405081616997,0.0008770405081616997,0.0008770405081616997,0.0008770405081616997,0.00021746937454645968,0.00021746937454645968,0.00021746937454645968,0.00021746937454645968,0.00021746937454645968,0.00021746937454645968,0.00021746937454645968,-0.0001797606453823421,-0.0001797606453823421,-0.0001797606453823421,-0.0001797606453823421,-0.0001797606453823421,-9.912705577010326e-19,0.0,0.0,0.0,0.0,0.0,0.0,0.0,0.0,0.0,0.0,0.0,0.0,0.0,0.0,0.0,0.0,0.0,0.0,0.0,0.0,0.0,0.0,0.0,4.336808689942018e-19,4.336808689942018e-19,4.336808689942018e-19,4.336808689942018e-19,4.336808689942018e-19,4.336808689942018e-19,4.336808689942018e-19,4.336808689942018e-19,4.336808689942018e-19,4.336808689942018e-19,4.336808689942018e-19,4.336808689942018e-19,4.336808689942018e-19,4.336808689942018e-19,4.336808689942018e-19,4.336808689942018e-19,4.336808689942018e-19,4.336808689942018e-19,4.336808689942018e-19,4.336808689942018e-19,4.336808689942018e-19,4.336808689942018e-19,4.336808689942018e-19,4.336808689942018e-19,4.336808689942018e-19,4.336808689942018e-19,4.336808689942018e-19,4.336808689942018e-19,4.336808689942018e-19,4.336808689942018e-19,4.336808689942018e-19,4.336808689942018e-19,4.336808689942018e-19,4.336808689942018e-19,4.336808689942018e-19,4.336808689942018e-19,4.336808689942018e-19,4.336808689942018e-19,4.336808689942018e-19,4.336808689942018e-19,4.336808689942018e-19,4.336808689942018e-19,4.336808689942018e-19,4.336808689942018e-19,4.336808689942018e-19,4.336808689942018e-19,4.336808689942018e-19,4.336808689942018e-19,0.0,0.0,0.0,0.0,0.0,0.0,0.0,0.0,0.0,0.0,0.0,0.0,0.0,0.0,0.0,0.0,0.0,0.0,0.0,0.0,0.0,0.0,0.0,0.0,0.0,0.0,0.0,0.0,0.0,0.0,0.0,0.0,0.0,0.0,0.0,0.0,0.0,0.0,0.0,0.0,0.0,0.0,0.0,0.0,0.0,0.0,0.0,0.0,0.0,0.0,0.0,0.0,0.0,0.0,0.0,0.0,0.0,0.0,0.0,0.0,0.0,0.0,0.0,0.0,0.0,0.0,0.0,0.0,0.0,0.0,0.0,0.0,0.0,0.0,0.0,0.0,0.0,0.0,0.0,0.0,0.0,0.0,0.0],\"yaxis\":\"y\",\"type\":\"scatter\"}],                        {\"template\":{\"data\":{\"histogram2dcontour\":[{\"type\":\"histogram2dcontour\",\"colorbar\":{\"outlinewidth\":0,\"ticks\":\"\"},\"colorscale\":[[0.0,\"#0d0887\"],[0.1111111111111111,\"#46039f\"],[0.2222222222222222,\"#7201a8\"],[0.3333333333333333,\"#9c179e\"],[0.4444444444444444,\"#bd3786\"],[0.5555555555555556,\"#d8576b\"],[0.6666666666666666,\"#ed7953\"],[0.7777777777777778,\"#fb9f3a\"],[0.8888888888888888,\"#fdca26\"],[1.0,\"#f0f921\"]]}],\"choropleth\":[{\"type\":\"choropleth\",\"colorbar\":{\"outlinewidth\":0,\"ticks\":\"\"}}],\"histogram2d\":[{\"type\":\"histogram2d\",\"colorbar\":{\"outlinewidth\":0,\"ticks\":\"\"},\"colorscale\":[[0.0,\"#0d0887\"],[0.1111111111111111,\"#46039f\"],[0.2222222222222222,\"#7201a8\"],[0.3333333333333333,\"#9c179e\"],[0.4444444444444444,\"#bd3786\"],[0.5555555555555556,\"#d8576b\"],[0.6666666666666666,\"#ed7953\"],[0.7777777777777778,\"#fb9f3a\"],[0.8888888888888888,\"#fdca26\"],[1.0,\"#f0f921\"]]}],\"heatmap\":[{\"type\":\"heatmap\",\"colorbar\":{\"outlinewidth\":0,\"ticks\":\"\"},\"colorscale\":[[0.0,\"#0d0887\"],[0.1111111111111111,\"#46039f\"],[0.2222222222222222,\"#7201a8\"],[0.3333333333333333,\"#9c179e\"],[0.4444444444444444,\"#bd3786\"],[0.5555555555555556,\"#d8576b\"],[0.6666666666666666,\"#ed7953\"],[0.7777777777777778,\"#fb9f3a\"],[0.8888888888888888,\"#fdca26\"],[1.0,\"#f0f921\"]]}],\"heatmapgl\":[{\"type\":\"heatmapgl\",\"colorbar\":{\"outlinewidth\":0,\"ticks\":\"\"},\"colorscale\":[[0.0,\"#0d0887\"],[0.1111111111111111,\"#46039f\"],[0.2222222222222222,\"#7201a8\"],[0.3333333333333333,\"#9c179e\"],[0.4444444444444444,\"#bd3786\"],[0.5555555555555556,\"#d8576b\"],[0.6666666666666666,\"#ed7953\"],[0.7777777777777778,\"#fb9f3a\"],[0.8888888888888888,\"#fdca26\"],[1.0,\"#f0f921\"]]}],\"contourcarpet\":[{\"type\":\"contourcarpet\",\"colorbar\":{\"outlinewidth\":0,\"ticks\":\"\"}}],\"contour\":[{\"type\":\"contour\",\"colorbar\":{\"outlinewidth\":0,\"ticks\":\"\"},\"colorscale\":[[0.0,\"#0d0887\"],[0.1111111111111111,\"#46039f\"],[0.2222222222222222,\"#7201a8\"],[0.3333333333333333,\"#9c179e\"],[0.4444444444444444,\"#bd3786\"],[0.5555555555555556,\"#d8576b\"],[0.6666666666666666,\"#ed7953\"],[0.7777777777777778,\"#fb9f3a\"],[0.8888888888888888,\"#fdca26\"],[1.0,\"#f0f921\"]]}],\"surface\":[{\"type\":\"surface\",\"colorbar\":{\"outlinewidth\":0,\"ticks\":\"\"},\"colorscale\":[[0.0,\"#0d0887\"],[0.1111111111111111,\"#46039f\"],[0.2222222222222222,\"#7201a8\"],[0.3333333333333333,\"#9c179e\"],[0.4444444444444444,\"#bd3786\"],[0.5555555555555556,\"#d8576b\"],[0.6666666666666666,\"#ed7953\"],[0.7777777777777778,\"#fb9f3a\"],[0.8888888888888888,\"#fdca26\"],[1.0,\"#f0f921\"]]}],\"mesh3d\":[{\"type\":\"mesh3d\",\"colorbar\":{\"outlinewidth\":0,\"ticks\":\"\"}}],\"scatter\":[{\"fillpattern\":{\"fillmode\":\"overlay\",\"size\":10,\"solidity\":0.2},\"type\":\"scatter\"}],\"parcoords\":[{\"type\":\"parcoords\",\"line\":{\"colorbar\":{\"outlinewidth\":0,\"ticks\":\"\"}}}],\"scatterpolargl\":[{\"type\":\"scatterpolargl\",\"marker\":{\"colorbar\":{\"outlinewidth\":0,\"ticks\":\"\"}}}],\"bar\":[{\"error_x\":{\"color\":\"#2a3f5f\"},\"error_y\":{\"color\":\"#2a3f5f\"},\"marker\":{\"line\":{\"color\":\"#E5ECF6\",\"width\":0.5},\"pattern\":{\"fillmode\":\"overlay\",\"size\":10,\"solidity\":0.2}},\"type\":\"bar\"}],\"scattergeo\":[{\"type\":\"scattergeo\",\"marker\":{\"colorbar\":{\"outlinewidth\":0,\"ticks\":\"\"}}}],\"scatterpolar\":[{\"type\":\"scatterpolar\",\"marker\":{\"colorbar\":{\"outlinewidth\":0,\"ticks\":\"\"}}}],\"histogram\":[{\"marker\":{\"pattern\":{\"fillmode\":\"overlay\",\"size\":10,\"solidity\":0.2}},\"type\":\"histogram\"}],\"scattergl\":[{\"type\":\"scattergl\",\"marker\":{\"colorbar\":{\"outlinewidth\":0,\"ticks\":\"\"}}}],\"scatter3d\":[{\"type\":\"scatter3d\",\"line\":{\"colorbar\":{\"outlinewidth\":0,\"ticks\":\"\"}},\"marker\":{\"colorbar\":{\"outlinewidth\":0,\"ticks\":\"\"}}}],\"scattermapbox\":[{\"type\":\"scattermapbox\",\"marker\":{\"colorbar\":{\"outlinewidth\":0,\"ticks\":\"\"}}}],\"scatterternary\":[{\"type\":\"scatterternary\",\"marker\":{\"colorbar\":{\"outlinewidth\":0,\"ticks\":\"\"}}}],\"scattercarpet\":[{\"type\":\"scattercarpet\",\"marker\":{\"colorbar\":{\"outlinewidth\":0,\"ticks\":\"\"}}}],\"carpet\":[{\"aaxis\":{\"endlinecolor\":\"#2a3f5f\",\"gridcolor\":\"white\",\"linecolor\":\"white\",\"minorgridcolor\":\"white\",\"startlinecolor\":\"#2a3f5f\"},\"baxis\":{\"endlinecolor\":\"#2a3f5f\",\"gridcolor\":\"white\",\"linecolor\":\"white\",\"minorgridcolor\":\"white\",\"startlinecolor\":\"#2a3f5f\"},\"type\":\"carpet\"}],\"table\":[{\"cells\":{\"fill\":{\"color\":\"#EBF0F8\"},\"line\":{\"color\":\"white\"}},\"header\":{\"fill\":{\"color\":\"#C8D4E3\"},\"line\":{\"color\":\"white\"}},\"type\":\"table\"}],\"barpolar\":[{\"marker\":{\"line\":{\"color\":\"#E5ECF6\",\"width\":0.5},\"pattern\":{\"fillmode\":\"overlay\",\"size\":10,\"solidity\":0.2}},\"type\":\"barpolar\"}],\"pie\":[{\"automargin\":true,\"type\":\"pie\"}]},\"layout\":{\"autotypenumbers\":\"strict\",\"colorway\":[\"#636efa\",\"#EF553B\",\"#00cc96\",\"#ab63fa\",\"#FFA15A\",\"#19d3f3\",\"#FF6692\",\"#B6E880\",\"#FF97FF\",\"#FECB52\"],\"font\":{\"color\":\"#2a3f5f\"},\"hovermode\":\"closest\",\"hoverlabel\":{\"align\":\"left\"},\"paper_bgcolor\":\"white\",\"plot_bgcolor\":\"#E5ECF6\",\"polar\":{\"bgcolor\":\"#E5ECF6\",\"angularaxis\":{\"gridcolor\":\"white\",\"linecolor\":\"white\",\"ticks\":\"\"},\"radialaxis\":{\"gridcolor\":\"white\",\"linecolor\":\"white\",\"ticks\":\"\"}},\"ternary\":{\"bgcolor\":\"#E5ECF6\",\"aaxis\":{\"gridcolor\":\"white\",\"linecolor\":\"white\",\"ticks\":\"\"},\"baxis\":{\"gridcolor\":\"white\",\"linecolor\":\"white\",\"ticks\":\"\"},\"caxis\":{\"gridcolor\":\"white\",\"linecolor\":\"white\",\"ticks\":\"\"}},\"coloraxis\":{\"colorbar\":{\"outlinewidth\":0,\"ticks\":\"\"}},\"colorscale\":{\"sequential\":[[0.0,\"#0d0887\"],[0.1111111111111111,\"#46039f\"],[0.2222222222222222,\"#7201a8\"],[0.3333333333333333,\"#9c179e\"],[0.4444444444444444,\"#bd3786\"],[0.5555555555555556,\"#d8576b\"],[0.6666666666666666,\"#ed7953\"],[0.7777777777777778,\"#fb9f3a\"],[0.8888888888888888,\"#fdca26\"],[1.0,\"#f0f921\"]],\"sequentialminus\":[[0.0,\"#0d0887\"],[0.1111111111111111,\"#46039f\"],[0.2222222222222222,\"#7201a8\"],[0.3333333333333333,\"#9c179e\"],[0.4444444444444444,\"#bd3786\"],[0.5555555555555556,\"#d8576b\"],[0.6666666666666666,\"#ed7953\"],[0.7777777777777778,\"#fb9f3a\"],[0.8888888888888888,\"#fdca26\"],[1.0,\"#f0f921\"]],\"diverging\":[[0,\"#8e0152\"],[0.1,\"#c51b7d\"],[0.2,\"#de77ae\"],[0.3,\"#f1b6da\"],[0.4,\"#fde0ef\"],[0.5,\"#f7f7f7\"],[0.6,\"#e6f5d0\"],[0.7,\"#b8e186\"],[0.8,\"#7fbc41\"],[0.9,\"#4d9221\"],[1,\"#276419\"]]},\"xaxis\":{\"gridcolor\":\"white\",\"linecolor\":\"white\",\"ticks\":\"\",\"title\":{\"standoff\":15},\"zerolinecolor\":\"white\",\"automargin\":true,\"zerolinewidth\":2},\"yaxis\":{\"gridcolor\":\"white\",\"linecolor\":\"white\",\"ticks\":\"\",\"title\":{\"standoff\":15},\"zerolinecolor\":\"white\",\"automargin\":true,\"zerolinewidth\":2},\"scene\":{\"xaxis\":{\"backgroundcolor\":\"#E5ECF6\",\"gridcolor\":\"white\",\"linecolor\":\"white\",\"showbackground\":true,\"ticks\":\"\",\"zerolinecolor\":\"white\",\"gridwidth\":2},\"yaxis\":{\"backgroundcolor\":\"#E5ECF6\",\"gridcolor\":\"white\",\"linecolor\":\"white\",\"showbackground\":true,\"ticks\":\"\",\"zerolinecolor\":\"white\",\"gridwidth\":2},\"zaxis\":{\"backgroundcolor\":\"#E5ECF6\",\"gridcolor\":\"white\",\"linecolor\":\"white\",\"showbackground\":true,\"ticks\":\"\",\"zerolinecolor\":\"white\",\"gridwidth\":2}},\"shapedefaults\":{\"line\":{\"color\":\"#2a3f5f\"}},\"annotationdefaults\":{\"arrowcolor\":\"#2a3f5f\",\"arrowhead\":0,\"arrowwidth\":1},\"geo\":{\"bgcolor\":\"white\",\"landcolor\":\"#E5ECF6\",\"subunitcolor\":\"white\",\"showland\":true,\"showlakes\":true,\"lakecolor\":\"white\"},\"title\":{\"x\":0.05},\"mapbox\":{\"style\":\"light\"}}},\"xaxis\":{\"anchor\":\"y\",\"domain\":[0.0,1.0],\"title\":{\"text\":\"x\"}},\"yaxis\":{\"anchor\":\"x\",\"domain\":[0.0,1.0],\"title\":{\"text\":\"y\"}},\"legend\":{\"tracegroupgap\":0},\"margin\":{\"t\":60}},                        {\"responsive\": true}                    ).then(function(){\n",
       "                            \n",
       "var gd = document.getElementById('9a2b44e9-15c5-4626-bc51-01ea1ca80e52');\n",
       "var x = new MutationObserver(function (mutations, observer) {{\n",
       "        var display = window.getComputedStyle(gd).display;\n",
       "        if (!display || display === 'none') {{\n",
       "            console.log([gd, 'removed!']);\n",
       "            Plotly.purge(gd);\n",
       "            observer.disconnect();\n",
       "        }}\n",
       "}});\n",
       "\n",
       "// Listen for the removal of the full notebook cells\n",
       "var notebookContainer = gd.closest('#notebook-container');\n",
       "if (notebookContainer) {{\n",
       "    x.observe(notebookContainer, {childList: true});\n",
       "}}\n",
       "\n",
       "// Listen for the clearing of the current output cell\n",
       "var outputEl = gd.closest('.output');\n",
       "if (outputEl) {{\n",
       "    x.observe(outputEl, {childList: true});\n",
       "}}\n",
       "\n",
       "                        })                };                });            </script>        </div>"
      ]
     },
     "metadata": {},
     "output_type": "display_data"
    }
   ],
   "source": [
    "# ode = OneHotEncoder(min_frequency=0.01,handle_unknown='infrequent_if_exist')\n",
    "import plotly.express as px\n",
    "\n",
    "result_columns = []\n",
    "search_space = np.linspace(0.0001, 0.4, num=300)\n",
    "for s in tqdm(search_space):\n",
    "    p = OneHotEncoder(\n",
    "        min_frequency=s, handle_unknown=\"infrequent_if_exist\", sparse=False\n",
    "    )\n",
    "    ohe_nominal = p.fit_transform(nominal_data)\n",
    "    ohe_nominal = pd.DataFrame(\n",
    "        ohe_nominal,\n",
    "        index=nominal_data.index,\n",
    "        columns=p.get_feature_names_out(),\n",
    "    )\n",
    "    # result_columns.append(len(ohe_nominal.columns))\n",
    "    corr_ = ohe_nominal.corrwith(final_data.label,method='kendall')\n",
    "    result_columns.append(corr_.mean())\n",
    "px.line(\n",
    "    x=search_space,\n",
    "    y=result_columns,\n",
    ")"
   ]
  },
  {
   "cell_type": "code",
   "execution_count": 80,
   "id": "c3c29e96-6744-4552-8fff-7b31b730d9a8",
   "metadata": {},
   "outputs": [
    {
     "data": {
      "image/png": "[encoded data removed]",
      "text/plain": [
       "<Figure size 432x288 with 1 Axes>"
      ]
     },
     "metadata": {
      "needs_background": "light"
     },
     "output_type": "display_data"
    }
   ],
   "source": [
    "# plt.figure(figsize=(10,20))\n",
    "# plt.plot(search_space,result_columns)\n",
    "# sklearn.metrics.hamming_loss()\n",
    "from sklearn.preprocessing import OneHotEncoder\n",
    "from sklearn.feature_selection import VarianceThreshold\n",
    "\n",
    "# pipe = make_pipeline(VarianceThreshold(threshold=1000),OneHotEncoder(min_frequency=0.0001,handle_unknown='infrequent_if_exist',sparse=False),SVC())\n",
    "pipe = make_pipeline(CountEncoder(), RandomForestClassifier())\n",
    "# pipe = make_pipeline(JamesSteinEnco0der(),LogisticRegression(max_iter=1000,n_jobs=-1,multi_class='ovr'))\n",
    "clf = OneVsRestClassifier(pipe)\n",
    "# em = evaluate_model(pipe,\n",
    "#                     # data=fin_data,\n",
    "#                     features=nominal)\n",
    "\n",
    "report = em.run(custom_model=pipe)\n",
    "em.plot_metric(\"f1_macro\")"
   ]
  },
  {
   "cell_type": "code",
   "execution_count": 6,
   "id": "9bf50f7b-22b2-4bb0-be82-b47ed01c64b9",
   "metadata": {},
   "outputs": [],
   "source": []
  },
  {
   "cell_type": "code",
   "execution_count": 18,
   "id": "890724fc-05b8-4bbc-b906-b659a77b6385",
   "metadata": {},
   "outputs": [
    {
     "name": "stdout",
     "output_type": "stream",
     "text": [
      "Information value of v_32 is 0.476683\n",
      "Information value of v_4 is 0.352446\n",
      "Information value of v_3 is 0.224104\n",
      "Information value of v_20 is 0.21722\n",
      "Information value of v_21 is 0.051162\n",
      "Information value of v_18 is 0.212168\n",
      "Information value of v_25 is 0.224095\n",
      "Information value of v_12 is 0.019726\n"
     ]
    }
   ],
   "source": [
    "fi__ = pd.get_dummies(final_data, columns=[\"label\"])\n",
    "ndf, wdf = iv_woe(fi__.loc[:, nominal + [\"label_0\"]], \"label_0\", show_woe=False)"
   ]
  },
  {
   "cell_type": "code",
   "execution_count": null,
   "id": "87e3fbc7-c05e-45ce-9207-81eea04b362e",
   "metadata": {},
   "outputs": [],
   "source": []
  },
  {
   "cell_type": "code",
   "execution_count": null,
   "id": "ea0ccd37-de6c-4627-b5d4-ab495befaa63",
   "metadata": {},
   "outputs": [],
   "source": []
  }
 ],
 "metadata": {
  "kernelspec": {
   "display_name": "Python (autoskl)",
   "language": "python",
   "name": "autoskl"
  },
  "language_info": {
   "codemirror_mode": {
    "name": "ipython",
    "version": 3
   },
   "file_extension": ".py",
   "mimetype": "text/x-python",
   "name": "python",
   "nbconvert_exporter": "python",
   "pygments_lexer": "ipython3",
   "version": "3.9.10"
  },
  "widgets": {
   "application/vnd.jupyter.widget-state+json": {
    "state": {},
    "version_major": 2,
    "version_minor": 0
   }
  }
 },
 "nbformat": 4,
 "nbformat_minor": 5
}
