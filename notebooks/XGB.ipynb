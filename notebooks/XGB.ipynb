{
  "nbformat": 4,
  "nbformat_minor": 0,
  "metadata": {
    "colab": {
      "name": "XGB.ipynb",
      "provenance": [],
      "authorship_tag": "ABX9TyPysBQa8OrfAE4su7j0p8lV",
      "include_colab_link": true
    },
    "kernelspec": {
      "name": "python3",
      "display_name": "Python 3"
    },
    "language_info": {
      "name": "python"
    },
    "accelerator": "GPU",
    "gpuClass": "standard"
  },
  "cells": [
    {
      "cell_type": "markdown",
      "metadata": {
        "id": "view-in-github",
        "colab_type": "text"
      },
      "source": [
        "<a href=\"https://colab.research.google.com/github/risan-raja/sdpiit/blob/main/notebooks/XGB.ipynb\" target=\"_parent\"><img src=\"https://colab.research.google.com/assets/colab-badge.svg\" alt=\"Open In Colab\"/></a>"
      ]
    },
    {
      "cell_type": "code",
      "execution_count": 2,
      "metadata": {
        "colab": {
          "base_uri": "https://localhost:8080/"
        },
        "id": "qYgbc6D1MkCv",
        "outputId": "df38e14b-b887-441c-de3c-d4494e5383a5"
      },
      "outputs": [
        {
          "output_type": "stream",
          "name": "stdout",
          "text": [
            "Looking in indexes: https://pypi.org/simple, https://us-python.pkg.dev/colab-wheels/public/simple/\n",
            "Collecting xgboost==1.6.1+a55d3bdde2042b3cd866d3e64dab4dff6c344798\n",
            "  Using cached https://s3-us-west-2.amazonaws.com/xgboost-nightly-builds/release_1.6.0/xgboost-1.6.1%2Ba55d3bdde2042b3cd866d3e64dab4dff6c344798-py3-none-manylinux2014_x86_64.whl (192.9 MB)\n",
            "Requirement already satisfied: scipy in /usr/local/lib/python3.7/dist-packages (from xgboost==1.6.1+a55d3bdde2042b3cd866d3e64dab4dff6c344798) (1.7.3)\n",
            "Requirement already satisfied: numpy in /usr/local/lib/python3.7/dist-packages (from xgboost==1.6.1+a55d3bdde2042b3cd866d3e64dab4dff6c344798) (1.21.6)\n"
          ]
        }
      ],
      "source": [
        "pip install https://s3-us-west-2.amazonaws.com/xgboost-nightly-builds/release_1.6.0/xgboost-1.6.1%2Ba55d3bdde2042b3cd866d3e64dab4dff6c344798-py3-none-manylinux2014_x86_64.whl"
      ]
    },
    {
      "cell_type": "code",
      "source": [
        "import pandas as pd\n",
        "import numpy as np\n",
        "from sklearn.preprocessing import (\n",
        "    Binarizer,\n",
        "    StandardScaler,\n",
        "    LabelBinarizer,\n",
        "    OneHotEncoder,\n",
        ")\n",
        "from sklearn.linear_model import LogisticRegression\n",
        "# from sklearnex import patch_sklearn\n",
        "\n",
        "# patch_sklearn()\n",
        "from sklearn.compose import ColumnTransformer\n",
        "from sklearn.pipeline import Pipeline, make_pipeline\n",
        "from xgboost import XGBRFClassifier, XGBClassifier\n",
        "from sklearn.neural_network import MLPClassifier\n",
        "# import dtale\n",
        "import matplotlib.pyplot as plt\n",
        "import seaborn as sns\n",
        "from collections import defaultdict\n",
        "\n",
        "sns.set()\n",
        "pd.options.display.max_columns = 50\n",
        "pd.options.plotting.backend = \"matplotlib\"\n",
        "from sklearn import set_config\n",
        "\n",
        "set_config(display=\"diagram\")\n",
        "from sklearn.preprocessing import (\n",
        "    StandardScaler,\n",
        "    OneHotEncoder,\n",
        "    OrdinalEncoder,\n",
        "    MinMaxScaler,\n",
        ")\n",
        "from sklearn.pipeline import Pipeline, make_pipeline\n",
        "from sklearn.tree import DecisionTreeClassifier, plot_tree, export_graphviz\n",
        "import warnings\n",
        "from sklearn.multiclass import OneVsRestClassifier\n",
        "from sklearn.metrics import classification_report\n",
        "\n",
        "warnings.filterwarnings(\"ignore\")\n",
        "from sklearn.experimental import enable_hist_gradient_boosting\n",
        "from sklearn.ensemble import (\n",
        "    RandomForestClassifier,\n",
        "    ExtraTreesClassifier,\n",
        "    AdaBoostClassifier,\n",
        "    HistGradientBoostingClassifier,\n",
        "    GradientBoostingClassifier,\n",
        ")\n",
        "from sklearn.model_selection import (\n",
        "    train_test_split,\n",
        "    cross_validate,\n",
        "    # StratifiedGroupKFold,\n",
        "\n",
        "    StratifiedKFold,\n",
        ")\n",
        "\n",
        "from sklearn.naive_bayes import BernoulliNB, CategoricalNB, MultinomialNB, ComplementNB, GaussianNB\n",
        "from sklearn.model_selection import cross_validate\n",
        "nb_est = [CategoricalNB(), MultinomialNB(), ComplementNB(), GaussianNB()]\n",
        "from sklearn.multiclass import OneVsRestClassifier, OneVsOneClassifier\n",
        "from sklearn.tree import export_graphviz, plot_tree\n",
        "import seaborn as sns\n",
        "import matplotlib.pyplot as plt\n",
        "from tqdm import tqdm\n",
        "from xgboost import XGBClassifier\n",
        "from joblib import parallel_backend\n",
        "import sklearn.metrics"
      ],
      "metadata": {
        "id": "UywYg7bSPxMi"
      },
      "execution_count": 7,
      "outputs": []
    },
    {
      "cell_type": "code",
      "source": [
        "dtype_info = {\n",
        "    \"v_1\": \"Binary\",\n",
        "    \"v_26\": \"Binary\",\n",
        "    \"v_11\": \"Binary\",\n",
        "    \"v_14\": \"Binary\",\n",
        "    \"v_30\": \"Binary\",\n",
        "    \"v_28\": \"Binary\",\n",
        "    \"v_9\": \"Binary\",\n",
        "    \"v_27\": \"Binary\",\n",
        "    \"v_32\": \"Nominal\",\n",
        "    \"v_4\": \"Nominal\",\n",
        "    \"v_3\": \"Nominal\",\n",
        "    \"v_20\": \"Nominal\",\n",
        "    \"v_21\": \"Nominal\",\n",
        "    \"v_18\": \"Nominal\",\n",
        "    \"v_25\": \"Nominal\",\n",
        "    \"v_12\": \"Nominal\",\n",
        "    \"v_31\": \"Ordinal\",\n",
        "    \"v_15\": \"Ordinal\",\n",
        "    \"v_19\": \"Ordinal\",\n",
        "    \"v_13\": \"Ordinal\",\n",
        "    \"v_33\": \"Ordinal\",\n",
        "    \"v_17\": \"Ordinal\",\n",
        "    \"v_29\": \"Ordinal\",\n",
        "    \"v_23\": \"Ordinal\",\n",
        "    \"v_6\": \"Ordinal\",\n",
        "    \"v_24\": \"Ordinal\",\n",
        "    \"v_10\": \"Ordinal\",\n",
        "    \"v_5\": \"Ordinal\",\n",
        "    \"v_22\": \"Ordinal\",\n",
        "    \"v_0\": \"Ordinal\",\n",
        "    \"v_16\": \"Ratio\",\n",
        "    \"v_2\": \"Ratio\",\n",
        "    \"v_8\": \"Ratio\",\n",
        "    \"v_7\": \"Ratio\",\n",
        "    \"v_39\": \"Ratio\",\n",
        "    \"v_37\": \"Ratio\",\n",
        "    \"v_38\": \"Ratio\",\n",
        "    \"v_34\": \"Ratio\",\n",
        "    \"v_40\": \"Ratio\",\n",
        "    \"v_36\": \"Ratio\",\n",
        "    \"v_35\": \"Ratio\",\n",
        "}\n",
        "data = pd.read_csv('sdpiit/data/train.csv',index_col=0,)\n",
        "ordinal = [i for i in dtype_info if dtype_info[i] == \"Ordinal\"]\n",
        "nominal = [i for i in dtype_info if dtype_info[i] == \"Nominal\"]\n",
        "binary = [i for i in dtype_info if dtype_info[i] == \"Binary\"]\n",
        "ratio = [i for i in dtype_info if dtype_info[i] == \"Ratio\"]\n",
        "def categorise_data(data):\n",
        "    ordinal_data = data.loc[:, ordinal]\n",
        "    nominal_data = data.loc[:, nominal]\n",
        "    binary_data = data.loc[:, binary]\n",
        "    ratio_data = data.loc[:, ratio]\n",
        "    return ordinal_data, nominal_data, binary_data, ratio_data\n",
        "ordinal_data, nominal_data, binary_data, ratio_data = categorise_data(data)\n",
        "def gen_train_test(data, p):\n",
        "    Y = data.label\n",
        "    X_2= Y_2 = Y[Y==2].index\n",
        "    X_0= Y_0 = Y[Y==0].index\n",
        "    X_1= Y_1 = Y[Y==1].index\n",
        "    train_size = int(p*Y_2.shape[0])\n",
        "    test_size = int((1-p)*Y_2.shape[0])\n",
        "    \n",
        "    train_idx_2 = np.random.choice(Y_2,(train_size,))\n",
        "    train_idx_1 = np.random.choice(Y_1,(train_size,))\n",
        "    train_idx_0 = np.random.choice(Y_0,(train_size,))\n",
        "    train_idx = np.r_[train_idx_0, train_idx_1,train_idx_2]\n",
        "    # train_idx.shape\n",
        "\n",
        "    test_idx_2 = np.random.choice(np.setdiff1d(Y_2, train_idx_2),(test_size,))\n",
        "    test_idx_1 = np.random.choice(np.setdiff1d(Y_1, train_idx_1),(test_size,))\n",
        "    test_idx_0 = np.random.choice(np.setdiff1d(Y_0, train_idx_0),(test_size,))\n",
        "    test_idx = np.r_[test_idx_0, test_idx_1,test_idx_2]\n",
        "    # test_idx.shape\n",
        "    return train_idx, test_idx\n"
      ],
      "metadata": {
        "id": "wZc_Y9u_QC0u"
      },
      "execution_count": 8,
      "outputs": []
    },
    {
      "cell_type": "code",
      "source": [
        "data['label'].loc[1]"
      ],
      "metadata": {
        "colab": {
          "base_uri": "https://localhost:8080/"
        },
        "id": "ezYX9VnORxuF",
        "outputId": "d0e2a8d4-3123-49f4-cb24-caa4a4603d1e"
      },
      "execution_count": 16,
      "outputs": [
        {
          "output_type": "execute_result",
          "data": {
            "text/plain": [
              "2"
            ]
          },
          "metadata": {},
          "execution_count": 16
        }
      ]
    },
    {
      "cell_type": "code",
      "source": [
        "results = []\n",
        "\n",
        "n_runs = 100\n",
        "r_max = -100\n",
        "r_max_data = None\n",
        "for _ in tqdm(range(100)):\n",
        "\n",
        "    train_idx, test_idx = gen_train_test(data,0.8)\n",
        "    X_train, y_train = ordinal_data.loc[train_idx,:].astype('int'), data[\"label\"].loc[train_idx]\n",
        "    X_test, y_test = ordinal_data.loc[test_idx,:].astype('int'), data[\"label\"].loc[test_idx]\n",
        "\n",
        "    dtc= RandomForestClassifier(n_jobs=-1,random_state=42, criterion='entropy', min_samples_leaf=4)\n",
        "    wf = make_pipeline(dtc)\n",
        "    with parallel_backend('threading',n_jobs=10):\n",
        "        wf.fit(X_train, y_train)\n",
        "        wf.score(X_test, y_test)\n",
        "        r = sklearn.metrics.f1_score(wf.predict(X_test), y_test, average='macro')\n",
        "        if r > r_max:\n",
        "            r_max =r\n",
        "            r_max_data = (train_idx, test_idx)\n",
        "        results.append(r)\n",
        "results.sort()\n",
        "plt.hist(results)\n",
        "import gc\n",
        "gc.collect()\n",
        "# print(r)"
      ],
      "metadata": {
        "colab": {
          "base_uri": "https://localhost:8080/",
          "height": 303
        },
        "id": "HcLJzpF3Rob7",
        "outputId": "a66e947d-9e1d-4f5f-ef92-f97bf0095690"
      },
      "execution_count": 9,
      "outputs": [
        {
          "output_type": "stream",
          "name": "stderr",
          "text": [
            "100%|██████████| 100/100 [00:54<00:00,  1.84it/s]\n"
          ]
        },
        {
          "output_type": "execute_result",
          "data": {
            "text/plain": [
              "373"
            ]
          },
          "metadata": {},
          "execution_count": 9
        },
        {
          "output_type": "display_data",
          "data": {
            "text/plain": [
              "<Figure size 432x288 with 1 Axes>"
            ],
            "image/png": "[encoded data removed]"
          },
          "metadata": {}
        }
      ]
    },
    {
      "cell_type": "code",
      "source": [
        "train_idx, test_idx = r_max_data"
      ],
      "metadata": {
        "id": "2trHTcNKSzcg"
      },
      "execution_count": 11,
      "outputs": []
    },
    {
      "cell_type": "code",
      "source": [
        "# from scipy._lib.six import X\n",
        "with parallel_backend('threading', n_jobs=-1):\n",
        "    clf=XGBClassifier(base_score=None, booster='gbtree', colsample_bylevel=None,\n",
        "                colsample_bynode=None, colsample_bytree=None,\n",
        "                enable_categorical=False, gamma=None, gpu_id=None,\n",
        "                importance_type=None, interaction_constraints=None,\n",
        "                learning_rate=None, max_delta_step=None, max_depth=None,\n",
        "                min_child_weight=None, monotone_constraints=None,\n",
        "                n_estimators=100, n_jobs=-1, num_parallel_tree=20,\n",
        "                objective='multi:softmax', predictor=None, random_state=None,\n",
        "                reg_alpha=None, reg_lambda=None, scale_pos_weight=None,\n",
        "                subsample=None,tree_method='gpu_hist', use_label_encoder=False,\n",
        "                validate_parameters=None, verbosity=2)\n",
        "    X_train, y_train = ordinal_data.loc[train_idx,:], data.label.loc[train_idx]\n",
        "    X_test, y_test = ordinal_data.loc[test_idx,:], data.label.loc[test_idx]\n",
        "    clf.fit(X_train, y_train)\n",
        "    clf.save_model(\"sdpiit/data/categorical-model.json\")"
      ],
      "metadata": {
        "id": "Y02AnMJ4S8iu"
      },
      "execution_count": 16,
      "outputs": []
    },
    {
      "cell_type": "code",
      "source": [
        "r = sklearn.metrics.f1_score(clf.predict(X_test), y_test, average='macro')\n",
        "clf\n",
        "r"
      ],
      "metadata": {
        "colab": {
          "base_uri": "https://localhost:8080/"
        },
        "id": "k3nea191S8bo",
        "outputId": "14aba1ff-a234-41f2-d223-2de358c67e4d"
      },
      "execution_count": 17,
      "outputs": [
        {
          "output_type": "execute_result",
          "data": {
            "text/plain": [
              "0.6880005931510564"
            ]
          },
          "metadata": {},
          "execution_count": 17
        }
      ]
    },
    {
      "cell_type": "code",
      "source": [
        "import xgboost\n",
        "xgboost.to_graphviz(clf)"
      ],
      "metadata": {
        "colab": {
          "base_uri": "https://localhost:8080/",
          "height": 796
        },
        "id": "vPgZcZN7W7w4",
        "outputId": "c515f65e-c31f-44de-8ae6-3c5f5f52aa00"
      },
      "execution_count": 20,
      "outputs": [
        {
          "output_type": "execute_result",
          "data": {
            "text/plain": [
              "<graphviz.files.Source at 0x7fabfdd65d10>"
            ],
            "image/svg+xml": "<?xml version=\"1.0\" encoding=\"UTF-8\" standalone=\"no\"?>\n<!DOCTYPE svg PUBLIC \"-//W3C//DTD SVG 1.1//EN\"\n \"http://www.w3.org/Graphics/SVG/1.1/DTD/svg11.dtd\">\n<!-- Generated by graphviz version 2.40.1 (20161225.0304)\n -->\n<!-- Title: %3 Pages: 1 -->\n<svg width=\"5537pt\" height=\"566pt\"\n viewBox=\"0.00 0.00 5536.88 566.00\" xmlns=\"http://www.w3.org/2000/svg\" xmlns:xlink=\"http://www.w3.org/1999/xlink\">\n<g id=\"graph0\" class=\"graph\" transform=\"scale(1 1) rotate(0) translate(4 562)\">\n<title>%3</title>\n<polygon fill=\"#ffffff\" stroke=\"transparent\" points=\"-4,4 -4,-562 5532.8835,-562 5532.8835,4 -4,4\"/>\n<!-- 0 -->\n<g id=\"node1\" class=\"node\">\n<title>0</title>\n<ellipse fill=\"none\" stroke=\"#000000\" cx=\"1628.9418\" cy=\"-540\" rx=\"45.4919\" ry=\"18\"/>\n<text text-anchor=\"middle\" x=\"1628.9418\" y=\"-536.3\" font-family=\"Times,serif\" font-size=\"14.00\" fill=\"#000000\">v_22&lt;23</text>\n</g>\n<!-- 1 -->\n<g id=\"node2\" class=\"node\">\n<title>1</title>\n<ellipse fill=\"none\" stroke=\"#000000\" cx=\"1298.9418\" cy=\"-453\" rx=\"45.4919\" ry=\"18\"/>\n<text text-anchor=\"middle\" x=\"1298.9418\" y=\"-449.3\" font-family=\"Times,serif\" font-size=\"14.00\" fill=\"#000000\">v_10&lt;23</text>\n</g>\n<!-- 0&#45;&gt;1 -->\n<g id=\"edge1\" class=\"edge\">\n<title>0&#45;&gt;1</title>\n<path fill=\"none\" stroke=\"#ff0000\" d=\"M1590.7642,-529.935C1530.3287,-514.002 1412.7329,-482.9995 1346.7664,-465.6083\"/>\n<polygon fill=\"#ff0000\" stroke=\"#ff0000\" points=\"1347.592,-462.2065 1337.0301,-463.0415 1345.8075,-468.9752 1347.592,-462.2065\"/>\n<text text-anchor=\"middle\" x=\"1493.4418\" y=\"-492.8\" font-family=\"Times,serif\" font-size=\"14.00\" fill=\"#000000\">yes</text>\n</g>\n<!-- 2 -->\n<g id=\"node3\" class=\"node\">\n<title>2</title>\n<ellipse fill=\"none\" stroke=\"#000000\" cx=\"2019.9418\" cy=\"-453\" rx=\"40.0939\" ry=\"18\"/>\n<text text-anchor=\"middle\" x=\"2019.9418\" y=\"-449.3\" font-family=\"Times,serif\" font-size=\"14.00\" fill=\"#000000\">v_6&lt;12</text>\n</g>\n<!-- 0&#45;&gt;2 -->\n<g id=\"edge2\" class=\"edge\">\n<title>0&#45;&gt;2</title>\n<path fill=\"none\" stroke=\"#0000ff\" d=\"M1668.9481,-531.0983C1741.9664,-514.8513 1896.4243,-480.4834 1973.7731,-463.2728\"/>\n<polygon fill=\"#0000ff\" stroke=\"#0000ff\" points=\"1974.7098,-466.6501 1983.7109,-461.0616 1973.1894,-459.8172 1974.7098,-466.6501\"/>\n<text text-anchor=\"middle\" x=\"1881.4418\" y=\"-492.8\" font-family=\"Times,serif\" font-size=\"14.00\" fill=\"#000000\">no, missing</text>\n</g>\n<!-- 3 -->\n<g id=\"node4\" class=\"node\">\n<title>3</title>\n<ellipse fill=\"none\" stroke=\"#000000\" cx=\"975.9418\" cy=\"-366\" rx=\"45.4919\" ry=\"18\"/>\n<text text-anchor=\"middle\" x=\"975.9418\" y=\"-362.3\" font-family=\"Times,serif\" font-size=\"14.00\" fill=\"#000000\">v_19&lt;20</text>\n</g>\n<!-- 1&#45;&gt;3 -->\n<g id=\"edge3\" class=\"edge\">\n<title>1&#45;&gt;3</title>\n<path fill=\"none\" stroke=\"#ff0000\" d=\"M1261.2574,-442.8497C1202.3372,-426.9796 1088.4679,-396.3089 1023.822,-378.8965\"/>\n<polygon fill=\"#ff0000\" stroke=\"#ff0000\" points=\"1024.4515,-375.4414 1013.8854,-376.2201 1022.6309,-382.2005 1024.4515,-375.4414\"/>\n<text text-anchor=\"middle\" x=\"1166.4418\" y=\"-405.8\" font-family=\"Times,serif\" font-size=\"14.00\" fill=\"#000000\">yes</text>\n</g>\n<!-- 4 -->\n<g id=\"node5\" class=\"node\">\n<title>4</title>\n<ellipse fill=\"none\" stroke=\"#000000\" cx=\"1298.9418\" cy=\"-366\" rx=\"45.4919\" ry=\"18\"/>\n<text text-anchor=\"middle\" x=\"1298.9418\" y=\"-362.3\" font-family=\"Times,serif\" font-size=\"14.00\" fill=\"#000000\">v_19&lt;29</text>\n</g>\n<!-- 1&#45;&gt;4 -->\n<g id=\"edge4\" class=\"edge\">\n<title>1&#45;&gt;4</title>\n<path fill=\"none\" stroke=\"#0000ff\" d=\"M1298.9418,-434.9735C1298.9418,-423.1918 1298.9418,-407.5607 1298.9418,-394.1581\"/>\n<polygon fill=\"#0000ff\" stroke=\"#0000ff\" points=\"1302.4419,-394.0033 1298.9418,-384.0034 1295.4419,-394.0034 1302.4419,-394.0033\"/>\n<text text-anchor=\"middle\" x=\"1332.4418\" y=\"-405.8\" font-family=\"Times,serif\" font-size=\"14.00\" fill=\"#000000\">no, missing</text>\n</g>\n<!-- 5 -->\n<g id=\"node24\" class=\"node\">\n<title>5</title>\n<ellipse fill=\"none\" stroke=\"#000000\" cx=\"2019.9418\" cy=\"-366\" rx=\"45.4919\" ry=\"18\"/>\n<text text-anchor=\"middle\" x=\"2019.9418\" y=\"-362.3\" font-family=\"Times,serif\" font-size=\"14.00\" fill=\"#000000\">v_31&lt;34</text>\n</g>\n<!-- 2&#45;&gt;5 -->\n<g id=\"edge23\" class=\"edge\">\n<title>2&#45;&gt;5</title>\n<path fill=\"none\" stroke=\"#ff0000\" d=\"M2019.9418,-434.9735C2019.9418,-423.1918 2019.9418,-407.5607 2019.9418,-394.1581\"/>\n<polygon fill=\"#ff0000\" stroke=\"#ff0000\" points=\"2023.4419,-394.0033 2019.9418,-384.0034 2016.4419,-394.0034 2023.4419,-394.0033\"/>\n<text text-anchor=\"middle\" x=\"2029.4418\" y=\"-405.8\" font-family=\"Times,serif\" font-size=\"14.00\" fill=\"#000000\">yes</text>\n</g>\n<!-- 6 -->\n<g id=\"node25\" class=\"node\">\n<title>6</title>\n<ellipse fill=\"none\" stroke=\"#000000\" cx=\"3650.9418\" cy=\"-366\" rx=\"45.4919\" ry=\"18\"/>\n<text text-anchor=\"middle\" x=\"3650.9418\" y=\"-362.3\" font-family=\"Times,serif\" font-size=\"14.00\" fill=\"#000000\">v_24&lt;16</text>\n</g>\n<!-- 2&#45;&gt;6 -->\n<g id=\"edge24\" class=\"edge\">\n<title>2&#45;&gt;6</title>\n<path fill=\"none\" stroke=\"#0000ff\" d=\"M2060.2588,-450.8494C2280.7694,-439.0871 3340.2175,-382.5745 3595.5092,-368.9569\"/>\n<polygon fill=\"#0000ff\" stroke=\"#0000ff\" points=\"3595.858,-372.4433 3605.6574,-368.4155 3595.4851,-365.4533 3595.858,-372.4433\"/>\n<text text-anchor=\"middle\" x=\"2967.4418\" y=\"-405.8\" font-family=\"Times,serif\" font-size=\"14.00\" fill=\"#000000\">no, missing</text>\n</g>\n<!-- 7 -->\n<g id=\"node6\" class=\"node\">\n<title>7</title>\n<ellipse fill=\"none\" stroke=\"#000000\" cx=\"784.9418\" cy=\"-279\" rx=\"45.4919\" ry=\"18\"/>\n<text text-anchor=\"middle\" x=\"784.9418\" y=\"-275.3\" font-family=\"Times,serif\" font-size=\"14.00\" fill=\"#000000\">v_31&lt;34</text>\n</g>\n<!-- 3&#45;&gt;7 -->\n<g id=\"edge5\" class=\"edge\">\n<title>3&#45;&gt;7</title>\n<path fill=\"none\" stroke=\"#ff0000\" d=\"M946.098,-352.4063C913.2554,-337.4465 860.3333,-313.3407 824.1604,-296.864\"/>\n<polygon fill=\"#ff0000\" stroke=\"#ff0000\" points=\"825.4417,-293.6017 814.8905,-292.6416 822.5401,-299.972 825.4417,-293.6017\"/>\n<text text-anchor=\"middle\" x=\"901.4418\" y=\"-318.8\" font-family=\"Times,serif\" font-size=\"14.00\" fill=\"#000000\">yes</text>\n</g>\n<!-- 8 -->\n<g id=\"node7\" class=\"node\">\n<title>8</title>\n<ellipse fill=\"none\" stroke=\"#000000\" cx=\"975.9418\" cy=\"-279\" rx=\"85.2851\" ry=\"18\"/>\n<text text-anchor=\"middle\" x=\"975.9418\" y=\"-275.3\" font-family=\"Times,serif\" font-size=\"14.00\" fill=\"#000000\">leaf=0.0144000007</text>\n</g>\n<!-- 3&#45;&gt;8 -->\n<g id=\"edge6\" class=\"edge\">\n<title>3&#45;&gt;8</title>\n<path fill=\"none\" stroke=\"#0000ff\" d=\"M975.9418,-347.9735C975.9418,-336.1918 975.9418,-320.5607 975.9418,-307.1581\"/>\n<polygon fill=\"#0000ff\" stroke=\"#0000ff\" points=\"979.4419,-307.0033 975.9418,-297.0034 972.4419,-307.0034 979.4419,-307.0033\"/>\n<text text-anchor=\"middle\" x=\"1009.4418\" y=\"-318.8\" font-family=\"Times,serif\" font-size=\"14.00\" fill=\"#000000\">no, missing</text>\n</g>\n<!-- 9 -->\n<g id=\"node16\" class=\"node\">\n<title>9</title>\n<ellipse fill=\"none\" stroke=\"#000000\" cx=\"1189.9418\" cy=\"-279\" rx=\"45.4919\" ry=\"18\"/>\n<text text-anchor=\"middle\" x=\"1189.9418\" y=\"-275.3\" font-family=\"Times,serif\" font-size=\"14.00\" fill=\"#000000\">v_15&lt;20</text>\n</g>\n<!-- 4&#45;&gt;9 -->\n<g id=\"edge15\" class=\"edge\">\n<title>4&#45;&gt;9</title>\n<path fill=\"none\" stroke=\"#ff0000\" d=\"M1278.6951,-349.8399C1261.748,-336.3133 1237.3698,-316.8554 1218.4492,-301.7537\"/>\n<polygon fill=\"#ff0000\" stroke=\"#ff0000\" points=\"1220.4489,-298.8716 1210.4498,-295.3688 1216.0821,-304.3426 1220.4489,-298.8716\"/>\n<text text-anchor=\"middle\" x=\"1261.4418\" y=\"-318.8\" font-family=\"Times,serif\" font-size=\"14.00\" fill=\"#000000\">yes</text>\n</g>\n<!-- 10 -->\n<g id=\"node17\" class=\"node\">\n<title>10</title>\n<ellipse fill=\"none\" stroke=\"#000000\" cx=\"1347.9418\" cy=\"-279\" rx=\"94.7833\" ry=\"18\"/>\n<text text-anchor=\"middle\" x=\"1347.9418\" y=\"-275.3\" font-family=\"Times,serif\" font-size=\"14.00\" fill=\"#000000\">leaf=&#45;3.83172744e&#45;10</text>\n</g>\n<!-- 4&#45;&gt;10 -->\n<g id=\"edge16\" class=\"edge\">\n<title>4&#45;&gt;10</title>\n<path fill=\"none\" stroke=\"#0000ff\" d=\"M1308.8576,-348.3943C1315.674,-336.2917 1324.8585,-319.9846 1332.6114,-306.2193\"/>\n<polygon fill=\"#0000ff\" stroke=\"#0000ff\" points=\"1335.8455,-307.6091 1337.7033,-297.1785 1329.7463,-304.174 1335.8455,-307.6091\"/>\n<text text-anchor=\"middle\" x=\"1360.4418\" y=\"-318.8\" font-family=\"Times,serif\" font-size=\"14.00\" fill=\"#000000\">no, missing</text>\n</g>\n<!-- 15 -->\n<g id=\"node8\" class=\"node\">\n<title>15</title>\n<ellipse fill=\"none\" stroke=\"#000000\" cx=\"599.9418\" cy=\"-192\" rx=\"44.6926\" ry=\"18\"/>\n<text text-anchor=\"middle\" x=\"599.9418\" y=\"-188.3\" font-family=\"Times,serif\" font-size=\"14.00\" fill=\"#000000\">v_15&lt;11</text>\n</g>\n<!-- 7&#45;&gt;15 -->\n<g id=\"edge7\" class=\"edge\">\n<title>7&#45;&gt;15</title>\n<path fill=\"none\" stroke=\"#ff0000\" d=\"M755.628,-265.2146C723.9641,-250.324 673.3784,-226.5351 638.5081,-210.1366\"/>\n<polygon fill=\"#ff0000\" stroke=\"#ff0000\" points=\"639.6572,-206.8093 629.1184,-205.7209 636.6782,-213.1438 639.6572,-206.8093\"/>\n<text text-anchor=\"middle\" x=\"713.4418\" y=\"-231.8\" font-family=\"Times,serif\" font-size=\"14.00\" fill=\"#000000\">yes</text>\n</g>\n<!-- 16 -->\n<g id=\"node9\" class=\"node\">\n<title>16</title>\n<ellipse fill=\"none\" stroke=\"#000000\" cx=\"784.9418\" cy=\"-192\" rx=\"85.2851\" ry=\"18\"/>\n<text text-anchor=\"middle\" x=\"784.9418\" y=\"-188.3\" font-family=\"Times,serif\" font-size=\"14.00\" fill=\"#000000\">leaf=0.0128571428</text>\n</g>\n<!-- 7&#45;&gt;16 -->\n<g id=\"edge8\" class=\"edge\">\n<title>7&#45;&gt;16</title>\n<path fill=\"none\" stroke=\"#0000ff\" d=\"M784.9418,-260.9735C784.9418,-249.1918 784.9418,-233.5607 784.9418,-220.1581\"/>\n<polygon fill=\"#0000ff\" stroke=\"#0000ff\" points=\"788.4419,-220.0033 784.9418,-210.0034 781.4419,-220.0034 788.4419,-220.0033\"/>\n<text text-anchor=\"middle\" x=\"818.4418\" y=\"-231.8\" font-family=\"Times,serif\" font-size=\"14.00\" fill=\"#000000\">no, missing</text>\n</g>\n<!-- 27 -->\n<g id=\"node10\" class=\"node\">\n<title>27</title>\n<ellipse fill=\"none\" stroke=\"#000000\" cx=\"288.9418\" cy=\"-105\" rx=\"45.4919\" ry=\"18\"/>\n<text text-anchor=\"middle\" x=\"288.9418\" y=\"-101.3\" font-family=\"Times,serif\" font-size=\"14.00\" fill=\"#000000\">v_31&lt;31</text>\n</g>\n<!-- 15&#45;&gt;27 -->\n<g id=\"edge9\" class=\"edge\">\n<title>15&#45;&gt;27</title>\n<path fill=\"none\" stroke=\"#ff0000\" d=\"M563.0447,-181.6783C506.4988,-165.86 398.4375,-135.6307 336.2221,-118.2263\"/>\n<polygon fill=\"#ff0000\" stroke=\"#ff0000\" points=\"336.8477,-114.767 326.2745,-115.4436 334.9619,-121.5082 336.8477,-114.767\"/>\n<text text-anchor=\"middle\" x=\"473.4418\" y=\"-144.8\" font-family=\"Times,serif\" font-size=\"14.00\" fill=\"#000000\">yes</text>\n</g>\n<!-- 28 -->\n<g id=\"node11\" class=\"node\">\n<title>28</title>\n<ellipse fill=\"none\" stroke=\"#000000\" cx=\"599.9418\" cy=\"-105\" rx=\"45.4919\" ry=\"18\"/>\n<text text-anchor=\"middle\" x=\"599.9418\" y=\"-101.3\" font-family=\"Times,serif\" font-size=\"14.00\" fill=\"#000000\">v_15&lt;13</text>\n</g>\n<!-- 15&#45;&gt;28 -->\n<g id=\"edge10\" class=\"edge\">\n<title>15&#45;&gt;28</title>\n<path fill=\"none\" stroke=\"#0000ff\" d=\"M599.9418,-173.9735C599.9418,-162.1918 599.9418,-146.5607 599.9418,-133.1581\"/>\n<polygon fill=\"#0000ff\" stroke=\"#0000ff\" points=\"603.4419,-133.0033 599.9418,-123.0034 596.4419,-133.0034 603.4419,-133.0033\"/>\n<text text-anchor=\"middle\" x=\"633.4418\" y=\"-144.8\" font-family=\"Times,serif\" font-size=\"14.00\" fill=\"#000000\">no, missing</text>\n</g>\n<!-- 43 -->\n<g id=\"node12\" class=\"node\">\n<title>43</title>\n<ellipse fill=\"none\" stroke=\"#000000\" cx=\"92.9418\" cy=\"-18\" rx=\"92.8835\" ry=\"18\"/>\n<text text-anchor=\"middle\" x=\"92.9418\" y=\"-14.3\" font-family=\"Times,serif\" font-size=\"14.00\" fill=\"#000000\">leaf=&#45;0.00264705974</text>\n</g>\n<!-- 27&#45;&gt;43 -->\n<g id=\"edge11\" class=\"edge\">\n<title>27&#45;&gt;43</title>\n<path fill=\"none\" stroke=\"#ff0000\" d=\"M258.3168,-91.4063C226.591,-77.3239 176.6064,-55.1369 139.8881,-38.8385\"/>\n<polygon fill=\"#ff0000\" stroke=\"#ff0000\" points=\"140.9449,-35.4782 130.3848,-34.6201 138.1049,-41.8763 140.9449,-35.4782\"/>\n<text text-anchor=\"middle\" x=\"212.4418\" y=\"-57.8\" font-family=\"Times,serif\" font-size=\"14.00\" fill=\"#000000\">yes</text>\n</g>\n<!-- 44 -->\n<g id=\"node13\" class=\"node\">\n<title>44</title>\n<ellipse fill=\"none\" stroke=\"#000000\" cx=\"288.9418\" cy=\"-18\" rx=\"85.2851\" ry=\"18\"/>\n<text text-anchor=\"middle\" x=\"288.9418\" y=\"-14.3\" font-family=\"Times,serif\" font-size=\"14.00\" fill=\"#000000\">leaf=0.0144000007</text>\n</g>\n<!-- 27&#45;&gt;44 -->\n<g id=\"edge12\" class=\"edge\">\n<title>27&#45;&gt;44</title>\n<path fill=\"none\" stroke=\"#0000ff\" d=\"M288.9418,-86.9735C288.9418,-75.1918 288.9418,-59.5607 288.9418,-46.1581\"/>\n<polygon fill=\"#0000ff\" stroke=\"#0000ff\" points=\"292.4419,-46.0033 288.9418,-36.0034 285.4419,-46.0034 292.4419,-46.0033\"/>\n<text text-anchor=\"middle\" x=\"322.4418\" y=\"-57.8\" font-family=\"Times,serif\" font-size=\"14.00\" fill=\"#000000\">no, missing</text>\n</g>\n<!-- 45 -->\n<g id=\"node14\" class=\"node\">\n<title>45</title>\n<ellipse fill=\"none\" stroke=\"#000000\" cx=\"484.9418\" cy=\"-18\" rx=\"92.8835\" ry=\"18\"/>\n<text text-anchor=\"middle\" x=\"484.9418\" y=\"-14.3\" font-family=\"Times,serif\" font-size=\"14.00\" fill=\"#000000\">leaf=&#45;0.00978261046</text>\n</g>\n<!-- 28&#45;&gt;45 -->\n<g id=\"edge13\" class=\"edge\">\n<title>28&#45;&gt;45</title>\n<path fill=\"none\" stroke=\"#ff0000\" d=\"M578.849,-89.0429C561.3738,-75.8225 536.2772,-56.8364 516.4242,-41.8172\"/>\n<polygon fill=\"#ff0000\" stroke=\"#ff0000\" points=\"518.361,-38.8936 508.2743,-35.6516 514.1377,-44.4761 518.361,-38.8936\"/>\n<text text-anchor=\"middle\" x=\"559.4418\" y=\"-57.8\" font-family=\"Times,serif\" font-size=\"14.00\" fill=\"#000000\">yes</text>\n</g>\n<!-- 46 -->\n<g id=\"node15\" class=\"node\">\n<title>46</title>\n<ellipse fill=\"none\" stroke=\"#000000\" cx=\"688.9418\" cy=\"-18\" rx=\"92.8835\" ry=\"18\"/>\n<text text-anchor=\"middle\" x=\"688.9418\" y=\"-14.3\" font-family=\"Times,serif\" font-size=\"14.00\" fill=\"#000000\">leaf=&#45;0.00367347035</text>\n</g>\n<!-- 28&#45;&gt;46 -->\n<g id=\"edge14\" class=\"edge\">\n<title>28&#45;&gt;46</title>\n<path fill=\"none\" stroke=\"#0000ff\" d=\"M617.1018,-88.2255C630.1783,-75.443 648.397,-57.6336 663.2151,-43.1485\"/>\n<polygon fill=\"#0000ff\" stroke=\"#0000ff\" points=\"665.9044,-45.4141 670.6088,-35.921 661.0112,-40.4084 665.9044,-45.4141\"/>\n<text text-anchor=\"middle\" x=\"683.4418\" y=\"-57.8\" font-family=\"Times,serif\" font-size=\"14.00\" fill=\"#000000\">no, missing</text>\n</g>\n<!-- 17 -->\n<g id=\"node18\" class=\"node\">\n<title>17</title>\n<ellipse fill=\"none\" stroke=\"#000000\" cx=\"1068.9418\" cy=\"-192\" rx=\"45.4919\" ry=\"18\"/>\n<text text-anchor=\"middle\" x=\"1068.9418\" y=\"-188.3\" font-family=\"Times,serif\" font-size=\"14.00\" fill=\"#000000\">v_31&lt;32</text>\n</g>\n<!-- 9&#45;&gt;17 -->\n<g id=\"edge17\" class=\"edge\">\n<title>9&#45;&gt;17</title>\n<path fill=\"none\" stroke=\"#ff0000\" d=\"M1167.7485,-263.0429C1148.5599,-249.2461 1120.6378,-229.1699 1099.3672,-213.8761\"/>\n<polygon fill=\"#ff0000\" stroke=\"#ff0000\" points=\"1101.1567,-210.8521 1090.9943,-207.856 1097.0703,-216.5355 1101.1567,-210.8521\"/>\n<text text-anchor=\"middle\" x=\"1146.4418\" y=\"-231.8\" font-family=\"Times,serif\" font-size=\"14.00\" fill=\"#000000\">yes</text>\n</g>\n<!-- 18 -->\n<g id=\"node19\" class=\"node\">\n<title>18</title>\n<ellipse fill=\"none\" stroke=\"#000000\" cx=\"1222.9418\" cy=\"-192\" rx=\"90.1842\" ry=\"18\"/>\n<text text-anchor=\"middle\" x=\"1222.9418\" y=\"-188.3\" font-family=\"Times,serif\" font-size=\"14.00\" fill=\"#000000\">leaf=0.00359999994</text>\n</g>\n<!-- 9&#45;&gt;18 -->\n<g id=\"edge18\" class=\"edge\">\n<title>9&#45;&gt;18</title>\n<path fill=\"none\" stroke=\"#0000ff\" d=\"M1196.7794,-260.9735C1201.3368,-248.9585 1207.4128,-232.9401 1212.5621,-219.3646\"/>\n<polygon fill=\"#0000ff\" stroke=\"#0000ff\" points=\"1215.8388,-220.5947 1216.1129,-210.0034 1209.2938,-218.112 1215.8388,-220.5947\"/>\n<text text-anchor=\"middle\" x=\"1242.4418\" y=\"-231.8\" font-family=\"Times,serif\" font-size=\"14.00\" fill=\"#000000\">no, missing</text>\n</g>\n<!-- 29 -->\n<g id=\"node20\" class=\"node\">\n<title>29</title>\n<ellipse fill=\"none\" stroke=\"#000000\" cx=\"937.9418\" cy=\"-105\" rx=\"45.4919\" ry=\"18\"/>\n<text text-anchor=\"middle\" x=\"937.9418\" y=\"-101.3\" font-family=\"Times,serif\" font-size=\"14.00\" fill=\"#000000\">v_33&lt;29</text>\n</g>\n<!-- 17&#45;&gt;29 -->\n<g id=\"edge19\" class=\"edge\">\n<title>17&#45;&gt;29</title>\n<path fill=\"none\" stroke=\"#ff0000\" d=\"M1045.5216,-176.4461C1024.5087,-162.491 993.476,-141.8815 970.1336,-126.3793\"/>\n<polygon fill=\"#ff0000\" stroke=\"#ff0000\" points=\"971.8675,-123.3293 961.6008,-120.7125 967.9948,-129.1605 971.8675,-123.3293\"/>\n<text text-anchor=\"middle\" x=\"1021.4418\" y=\"-144.8\" font-family=\"Times,serif\" font-size=\"14.00\" fill=\"#000000\">yes</text>\n</g>\n<!-- 30 -->\n<g id=\"node21\" class=\"node\">\n<title>30</title>\n<ellipse fill=\"none\" stroke=\"#000000\" cx=\"1086.9418\" cy=\"-105\" rx=\"85.2851\" ry=\"18\"/>\n<text text-anchor=\"middle\" x=\"1086.9418\" y=\"-101.3\" font-family=\"Times,serif\" font-size=\"14.00\" fill=\"#000000\">leaf=0.0208264478</text>\n</g>\n<!-- 17&#45;&gt;30 -->\n<g id=\"edge20\" class=\"edge\">\n<title>17&#45;&gt;30</title>\n<path fill=\"none\" stroke=\"#0000ff\" d=\"M1072.6714,-173.9735C1075.109,-162.1918 1078.343,-146.5607 1081.1159,-133.1581\"/>\n<polygon fill=\"#0000ff\" stroke=\"#0000ff\" points=\"1084.6182,-133.5051 1083.2169,-123.0034 1077.7634,-132.0868 1084.6182,-133.5051\"/>\n<text text-anchor=\"middle\" x=\"1113.4418\" y=\"-144.8\" font-family=\"Times,serif\" font-size=\"14.00\" fill=\"#000000\">no, missing</text>\n</g>\n<!-- 47 -->\n<g id=\"node22\" class=\"node\">\n<title>47</title>\n<ellipse fill=\"none\" stroke=\"#000000\" cx=\"889.9418\" cy=\"-18\" rx=\"90.1842\" ry=\"18\"/>\n<text text-anchor=\"middle\" x=\"889.9418\" y=\"-14.3\" font-family=\"Times,serif\" font-size=\"14.00\" fill=\"#000000\">leaf=0.00957446825</text>\n</g>\n<!-- 29&#45;&gt;47 -->\n<g id=\"edge21\" class=\"edge\">\n<title>29&#45;&gt;47</title>\n<path fill=\"none\" stroke=\"#ff0000\" d=\"M928.2282,-87.3943C921.5509,-75.2917 912.5539,-58.9846 904.9593,-45.2193\"/>\n<polygon fill=\"#ff0000\" stroke=\"#ff0000\" points=\"907.8666,-43.2435 899.9712,-36.1785 901.7375,-46.625 907.8666,-43.2435\"/>\n<text text-anchor=\"middle\" x=\"926.4418\" y=\"-57.8\" font-family=\"Times,serif\" font-size=\"14.00\" fill=\"#000000\">yes</text>\n</g>\n<!-- 48 -->\n<g id=\"node23\" class=\"node\">\n<title>48</title>\n<ellipse fill=\"none\" stroke=\"#000000\" cx=\"1078.9418\" cy=\"-18\" rx=\"80.6858\" ry=\"18\"/>\n<text text-anchor=\"middle\" x=\"1078.9418\" y=\"-14.3\" font-family=\"Times,serif\" font-size=\"14.00\" fill=\"#000000\">leaf=0.018880127</text>\n</g>\n<!-- 29&#45;&gt;48 -->\n<g id=\"edge22\" class=\"edge\">\n<title>29&#45;&gt;48</title>\n<path fill=\"none\" stroke=\"#0000ff\" d=\"M962.5021,-89.8458C984.6641,-76.1713 1017.5538,-55.8777 1042.7309,-40.3429\"/>\n<polygon fill=\"#0000ff\" stroke=\"#0000ff\" points=\"1044.6119,-43.2949 1051.2844,-35.0652 1040.9362,-37.3376 1044.6119,-43.2949\"/>\n<text text-anchor=\"middle\" x=\"1050.4418\" y=\"-57.8\" font-family=\"Times,serif\" font-size=\"14.00\" fill=\"#000000\">no, missing</text>\n</g>\n<!-- 11 -->\n<g id=\"node26\" class=\"node\">\n<title>11</title>\n<ellipse fill=\"none\" stroke=\"#000000\" cx=\"1911.9418\" cy=\"-279\" rx=\"45.4919\" ry=\"18\"/>\n<text text-anchor=\"middle\" x=\"1911.9418\" y=\"-275.3\" font-family=\"Times,serif\" font-size=\"14.00\" fill=\"#000000\">v_15&lt;12</text>\n</g>\n<!-- 5&#45;&gt;11 -->\n<g id=\"edge25\" class=\"edge\">\n<title>5&#45;&gt;11</title>\n<path fill=\"none\" stroke=\"#ff0000\" d=\"M1999.8809,-349.8399C1983.0893,-336.3133 1958.9347,-316.8554 1940.1877,-301.7537\"/>\n<polygon fill=\"#ff0000\" stroke=\"#ff0000\" points=\"1942.2449,-298.9165 1932.2617,-295.3688 1937.8536,-304.3678 1942.2449,-298.9165\"/>\n<text text-anchor=\"middle\" x=\"1982.4418\" y=\"-318.8\" font-family=\"Times,serif\" font-size=\"14.00\" fill=\"#000000\">yes</text>\n</g>\n<!-- 12 -->\n<g id=\"node27\" class=\"node\">\n<title>12</title>\n<ellipse fill=\"none\" stroke=\"#000000\" cx=\"2318.9418\" cy=\"-279\" rx=\"81.7856\" ry=\"18\"/>\n<text text-anchor=\"middle\" x=\"2318.9418\" y=\"-275.3\" font-family=\"Times,serif\" font-size=\"14.00\" fill=\"#000000\">v_22&lt;24.1000004</text>\n</g>\n<!-- 5&#45;&gt;12 -->\n<g id=\"edge26\" class=\"edge\">\n<title>5&#45;&gt;12</title>\n<path fill=\"none\" stroke=\"#0000ff\" d=\"M2056.605,-355.3321C2107.272,-340.5895 2199.2786,-313.8184 2259.7529,-296.2222\"/>\n<polygon fill=\"#0000ff\" stroke=\"#0000ff\" points=\"2260.9231,-299.5269 2269.547,-293.3724 2258.9674,-292.8057 2260.9231,-299.5269\"/>\n<text text-anchor=\"middle\" x=\"2221.4418\" y=\"-318.8\" font-family=\"Times,serif\" font-size=\"14.00\" fill=\"#000000\">no, missing</text>\n</g>\n<!-- 13 -->\n<g id=\"node48\" class=\"node\">\n<title>13</title>\n<ellipse fill=\"none\" stroke=\"#000000\" cx=\"3650.9418\" cy=\"-279\" rx=\"45.4919\" ry=\"18\"/>\n<text text-anchor=\"middle\" x=\"3650.9418\" y=\"-275.3\" font-family=\"Times,serif\" font-size=\"14.00\" fill=\"#000000\">v_17&lt;57</text>\n</g>\n<!-- 6&#45;&gt;13 -->\n<g id=\"edge47\" class=\"edge\">\n<title>6&#45;&gt;13</title>\n<path fill=\"none\" stroke=\"#ff0000\" d=\"M3650.9418,-347.9735C3650.9418,-336.1918 3650.9418,-320.5607 3650.9418,-307.1581\"/>\n<polygon fill=\"#ff0000\" stroke=\"#ff0000\" points=\"3654.4419,-307.0033 3650.9418,-297.0034 3647.4419,-307.0034 3654.4419,-307.0033\"/>\n<text text-anchor=\"middle\" x=\"3660.4418\" y=\"-318.8\" font-family=\"Times,serif\" font-size=\"14.00\" fill=\"#000000\">yes</text>\n</g>\n<!-- 14 -->\n<g id=\"node49\" class=\"node\">\n<title>14</title>\n<ellipse fill=\"none\" stroke=\"#000000\" cx=\"4322.9418\" cy=\"-279\" rx=\"40.0939\" ry=\"18\"/>\n<text text-anchor=\"middle\" x=\"4322.9418\" y=\"-275.3\" font-family=\"Times,serif\" font-size=\"14.00\" fill=\"#000000\">v_6&lt;15</text>\n</g>\n<!-- 6&#45;&gt;14 -->\n<g id=\"edge48\" class=\"edge\">\n<title>6&#45;&gt;14</title>\n<path fill=\"none\" stroke=\"#0000ff\" d=\"M3694.2579,-360.3921C3813.8233,-344.9127 4147.9289,-301.6579 4273.9751,-285.3394\"/>\n<polygon fill=\"#0000ff\" stroke=\"#0000ff\" points=\"4274.6349,-288.7833 4284.1028,-284.0283 4273.7361,-281.8412 4274.6349,-288.7833\"/>\n<text text-anchor=\"middle\" x=\"4061.4418\" y=\"-318.8\" font-family=\"Times,serif\" font-size=\"14.00\" fill=\"#000000\">no, missing</text>\n</g>\n<!-- 19 -->\n<g id=\"node28\" class=\"node\">\n<title>19</title>\n<ellipse fill=\"none\" stroke=\"#000000\" cx=\"1471.9418\" cy=\"-192\" rx=\"45.4919\" ry=\"18\"/>\n<text text-anchor=\"middle\" x=\"1471.9418\" y=\"-188.3\" font-family=\"Times,serif\" font-size=\"14.00\" fill=\"#000000\">v_19&lt;19</text>\n</g>\n<!-- 11&#45;&gt;19 -->\n<g id=\"edge27\" class=\"edge\">\n<title>11&#45;&gt;19</title>\n<path fill=\"none\" stroke=\"#ff0000\" d=\"M1870.9427,-270.8934C1790.1908,-254.9265 1610.7659,-219.4493 1522.6969,-202.0357\"/>\n<polygon fill=\"#ff0000\" stroke=\"#ff0000\" points=\"1523.1663,-198.5608 1512.6773,-200.0545 1521.8085,-205.4279 1523.1663,-198.5608\"/>\n<text text-anchor=\"middle\" x=\"1728.4418\" y=\"-231.8\" font-family=\"Times,serif\" font-size=\"14.00\" fill=\"#000000\">yes</text>\n</g>\n<!-- 20 -->\n<g id=\"node29\" class=\"node\">\n<title>20</title>\n<ellipse fill=\"none\" stroke=\"#000000\" cx=\"1911.9418\" cy=\"-192\" rx=\"81.7856\" ry=\"18\"/>\n<text text-anchor=\"middle\" x=\"1911.9418\" y=\"-188.3\" font-family=\"Times,serif\" font-size=\"14.00\" fill=\"#000000\">v_22&lt;25.5166664</text>\n</g>\n<!-- 11&#45;&gt;20 -->\n<g id=\"edge28\" class=\"edge\">\n<title>11&#45;&gt;20</title>\n<path fill=\"none\" stroke=\"#0000ff\" d=\"M1911.9418,-260.9735C1911.9418,-249.1918 1911.9418,-233.5607 1911.9418,-220.1581\"/>\n<polygon fill=\"#0000ff\" stroke=\"#0000ff\" points=\"1915.4419,-220.0033 1911.9418,-210.0034 1908.4419,-220.0034 1915.4419,-220.0033\"/>\n<text text-anchor=\"middle\" x=\"1945.4418\" y=\"-231.8\" font-family=\"Times,serif\" font-size=\"14.00\" fill=\"#000000\">no, missing</text>\n</g>\n<!-- 21 -->\n<g id=\"node40\" class=\"node\">\n<title>21</title>\n<ellipse fill=\"none\" stroke=\"#000000\" cx=\"2318.9418\" cy=\"-192\" rx=\"85.2851\" ry=\"18\"/>\n<text text-anchor=\"middle\" x=\"2318.9418\" y=\"-188.3\" font-family=\"Times,serif\" font-size=\"14.00\" fill=\"#000000\">leaf=0.0210638307</text>\n</g>\n<!-- 12&#45;&gt;21 -->\n<g id=\"edge39\" class=\"edge\">\n<title>12&#45;&gt;21</title>\n<path fill=\"none\" stroke=\"#ff0000\" d=\"M2318.9418,-260.9735C2318.9418,-249.1918 2318.9418,-233.5607 2318.9418,-220.1581\"/>\n<polygon fill=\"#ff0000\" stroke=\"#ff0000\" points=\"2322.4419,-220.0033 2318.9418,-210.0034 2315.4419,-220.0034 2322.4419,-220.0033\"/>\n<text text-anchor=\"middle\" x=\"2328.4418\" y=\"-231.8\" font-family=\"Times,serif\" font-size=\"14.00\" fill=\"#000000\">yes</text>\n</g>\n<!-- 22 -->\n<g id=\"node41\" class=\"node\">\n<title>22</title>\n<ellipse fill=\"none\" stroke=\"#000000\" cx=\"2569.9418\" cy=\"-192\" rx=\"45.4919\" ry=\"18\"/>\n<text text-anchor=\"middle\" x=\"2569.9418\" y=\"-188.3\" font-family=\"Times,serif\" font-size=\"14.00\" fill=\"#000000\">v_33&lt;27</text>\n</g>\n<!-- 12&#45;&gt;22 -->\n<g id=\"edge40\" class=\"edge\">\n<title>12&#45;&gt;22</title>\n<path fill=\"none\" stroke=\"#0000ff\" d=\"M2362.9498,-263.7462C2408.7949,-247.8557 2480.2008,-223.1054 2526.0155,-207.2254\"/>\n<polygon fill=\"#0000ff\" stroke=\"#0000ff\" points=\"2527.3647,-210.4622 2535.6669,-203.8801 2525.0721,-203.8482 2527.3647,-210.4622\"/>\n<text text-anchor=\"middle\" x=\"2493.4418\" y=\"-231.8\" font-family=\"Times,serif\" font-size=\"14.00\" fill=\"#000000\">no, missing</text>\n</g>\n<!-- 31 -->\n<g id=\"node30\" class=\"node\">\n<title>31</title>\n<ellipse fill=\"none\" stroke=\"#000000\" cx=\"1322.9418\" cy=\"-105\" rx=\"85.2851\" ry=\"18\"/>\n<text text-anchor=\"middle\" x=\"1322.9418\" y=\"-101.3\" font-family=\"Times,serif\" font-size=\"14.00\" fill=\"#000000\">leaf=0.0133783789</text>\n</g>\n<!-- 19&#45;&gt;31 -->\n<g id=\"edge29\" class=\"edge\">\n<title>19&#45;&gt;31</title>\n<path fill=\"none\" stroke=\"#ff0000\" d=\"M1446.3277,-177.0442C1422.7799,-163.2947 1387.5658,-142.7335 1360.7771,-127.0918\"/>\n<polygon fill=\"#ff0000\" stroke=\"#ff0000\" points=\"1362.4448,-124.0126 1352.0442,-121.9927 1358.9151,-130.0576 1362.4448,-124.0126\"/>\n<text text-anchor=\"middle\" x=\"1416.4418\" y=\"-144.8\" font-family=\"Times,serif\" font-size=\"14.00\" fill=\"#000000\">yes</text>\n</g>\n<!-- 32 -->\n<g id=\"node31\" class=\"node\">\n<title>32</title>\n<ellipse fill=\"none\" stroke=\"#000000\" cx=\"1471.9418\" cy=\"-105\" rx=\"45.4919\" ry=\"18\"/>\n<text text-anchor=\"middle\" x=\"1471.9418\" y=\"-101.3\" font-family=\"Times,serif\" font-size=\"14.00\" fill=\"#000000\">v_24&lt;18</text>\n</g>\n<!-- 19&#45;&gt;32 -->\n<g id=\"edge30\" class=\"edge\">\n<title>19&#45;&gt;32</title>\n<path fill=\"none\" stroke=\"#0000ff\" d=\"M1471.9418,-173.9735C1471.9418,-162.1918 1471.9418,-146.5607 1471.9418,-133.1581\"/>\n<polygon fill=\"#0000ff\" stroke=\"#0000ff\" points=\"1475.4419,-133.0033 1471.9418,-123.0034 1468.4419,-133.0034 1475.4419,-133.0033\"/>\n<text text-anchor=\"middle\" x=\"1505.4418\" y=\"-144.8\" font-family=\"Times,serif\" font-size=\"14.00\" fill=\"#000000\">no, missing</text>\n</g>\n<!-- 33 -->\n<g id=\"node34\" class=\"node\">\n<title>33</title>\n<ellipse fill=\"none\" stroke=\"#000000\" cx=\"1860.9418\" cy=\"-105\" rx=\"40.0939\" ry=\"18\"/>\n<text text-anchor=\"middle\" x=\"1860.9418\" y=\"-101.3\" font-family=\"Times,serif\" font-size=\"14.00\" fill=\"#000000\">v_5&lt;43</text>\n</g>\n<!-- 20&#45;&gt;33 -->\n<g id=\"edge33\" class=\"edge\">\n<title>20&#45;&gt;33</title>\n<path fill=\"none\" stroke=\"#ff0000\" d=\"M1901.3745,-173.9735C1894.2154,-161.7609 1884.6317,-145.4123 1876.5917,-131.697\"/>\n<polygon fill=\"#ff0000\" stroke=\"#ff0000\" points=\"1879.3976,-129.5627 1871.321,-122.7057 1873.3587,-133.1027 1879.3976,-129.5627\"/>\n<text text-anchor=\"middle\" x=\"1899.4418\" y=\"-144.8\" font-family=\"Times,serif\" font-size=\"14.00\" fill=\"#000000\">yes</text>\n</g>\n<!-- 34 -->\n<g id=\"node35\" class=\"node\">\n<title>34</title>\n<ellipse fill=\"none\" stroke=\"#000000\" cx=\"2064.9418\" cy=\"-105\" rx=\"81.7856\" ry=\"18\"/>\n<text text-anchor=\"middle\" x=\"2064.9418\" y=\"-101.3\" font-family=\"Times,serif\" font-size=\"14.00\" fill=\"#000000\">v_29&lt;19.6857147</text>\n</g>\n<!-- 20&#45;&gt;34 -->\n<g id=\"edge34\" class=\"edge\">\n<title>20&#45;&gt;34</title>\n<path fill=\"none\" stroke=\"#0000ff\" d=\"M1941.8049,-175.019C1965.9983,-161.2619 2000.255,-141.7826 2026.4963,-126.8612\"/>\n<polygon fill=\"#0000ff\" stroke=\"#0000ff\" points=\"2028.4514,-129.7758 2035.4142,-121.7902 2024.9912,-123.6907 2028.4514,-129.7758\"/>\n<text text-anchor=\"middle\" x=\"2031.4418\" y=\"-144.8\" font-family=\"Times,serif\" font-size=\"14.00\" fill=\"#000000\">no, missing</text>\n</g>\n<!-- 49 -->\n<g id=\"node32\" class=\"node\">\n<title>49</title>\n<ellipse fill=\"none\" stroke=\"#000000\" cx=\"1270.9418\" cy=\"-18\" rx=\"92.8835\" ry=\"18\"/>\n<text text-anchor=\"middle\" x=\"1270.9418\" y=\"-14.3\" font-family=\"Times,serif\" font-size=\"14.00\" fill=\"#000000\">leaf=&#45;0.00490521407</text>\n</g>\n<!-- 32&#45;&gt;49 -->\n<g id=\"edge31\" class=\"edge\">\n<title>32&#45;&gt;49</title>\n<path fill=\"none\" stroke=\"#ff0000\" d=\"M1440.976,-91.5969C1408.2872,-77.448 1356.3478,-54.9668 1318.4677,-38.5709\"/>\n<polygon fill=\"#ff0000\" stroke=\"#ff0000\" points=\"1319.7279,-35.3026 1309.1603,-34.5424 1316.9473,-41.7267 1319.7279,-35.3026\"/>\n<text text-anchor=\"middle\" x=\"1393.4418\" y=\"-57.8\" font-family=\"Times,serif\" font-size=\"14.00\" fill=\"#000000\">yes</text>\n</g>\n<!-- 50 -->\n<g id=\"node33\" class=\"node\">\n<title>50</title>\n<ellipse fill=\"none\" stroke=\"#000000\" cx=\"1471.9418\" cy=\"-18\" rx=\"90.1842\" ry=\"18\"/>\n<text text-anchor=\"middle\" x=\"1471.9418\" y=\"-14.3\" font-family=\"Times,serif\" font-size=\"14.00\" fill=\"#000000\">leaf=0.00899999961</text>\n</g>\n<!-- 32&#45;&gt;50 -->\n<g id=\"edge32\" class=\"edge\">\n<title>32&#45;&gt;50</title>\n<path fill=\"none\" stroke=\"#0000ff\" d=\"M1471.9418,-86.9735C1471.9418,-75.1918 1471.9418,-59.5607 1471.9418,-46.1581\"/>\n<polygon fill=\"#0000ff\" stroke=\"#0000ff\" points=\"1475.4419,-46.0033 1471.9418,-36.0034 1468.4419,-46.0034 1475.4419,-46.0033\"/>\n<text text-anchor=\"middle\" x=\"1505.4418\" y=\"-57.8\" font-family=\"Times,serif\" font-size=\"14.00\" fill=\"#000000\">no, missing</text>\n</g>\n<!-- 51 -->\n<g id=\"node36\" class=\"node\">\n<title>51</title>\n<ellipse fill=\"none\" stroke=\"#000000\" cx=\"1664.9418\" cy=\"-18\" rx=\"85.2851\" ry=\"18\"/>\n<text text-anchor=\"middle\" x=\"1664.9418\" y=\"-14.3\" font-family=\"Times,serif\" font-size=\"14.00\" fill=\"#000000\">leaf=0.0124752475</text>\n</g>\n<!-- 33&#45;&gt;51 -->\n<g id=\"edge35\" class=\"edge\">\n<title>33&#45;&gt;51</title>\n<path fill=\"none\" stroke=\"#ff0000\" d=\"M1832.0213,-92.1629C1800.1172,-78.0013 1748.3391,-55.0182 1710.8714,-38.3871\"/>\n<polygon fill=\"#ff0000\" stroke=\"#ff0000\" points=\"1712.2349,-35.1631 1701.6749,-34.305 1709.3949,-41.5611 1712.2349,-35.1631\"/>\n<text text-anchor=\"middle\" x=\"1784.4418\" y=\"-57.8\" font-family=\"Times,serif\" font-size=\"14.00\" fill=\"#000000\">yes</text>\n</g>\n<!-- 52 -->\n<g id=\"node37\" class=\"node\">\n<title>52</title>\n<ellipse fill=\"none\" stroke=\"#000000\" cx=\"1860.9418\" cy=\"-18\" rx=\"92.8835\" ry=\"18\"/>\n<text text-anchor=\"middle\" x=\"1860.9418\" y=\"-14.3\" font-family=\"Times,serif\" font-size=\"14.00\" fill=\"#000000\">leaf=&#45;0.00219512265</text>\n</g>\n<!-- 33&#45;&gt;52 -->\n<g id=\"edge36\" class=\"edge\">\n<title>33&#45;&gt;52</title>\n<path fill=\"none\" stroke=\"#0000ff\" d=\"M1860.9418,-86.9735C1860.9418,-75.1918 1860.9418,-59.5607 1860.9418,-46.1581\"/>\n<polygon fill=\"#0000ff\" stroke=\"#0000ff\" points=\"1864.4419,-46.0033 1860.9418,-36.0034 1857.4419,-46.0034 1864.4419,-46.0033\"/>\n<text text-anchor=\"middle\" x=\"1894.4418\" y=\"-57.8\" font-family=\"Times,serif\" font-size=\"14.00\" fill=\"#000000\">no, missing</text>\n</g>\n<!-- 53 -->\n<g id=\"node38\" class=\"node\">\n<title>53</title>\n<ellipse fill=\"none\" stroke=\"#000000\" cx=\"2064.9418\" cy=\"-18\" rx=\"92.8835\" ry=\"18\"/>\n<text text-anchor=\"middle\" x=\"2064.9418\" y=\"-14.3\" font-family=\"Times,serif\" font-size=\"14.00\" fill=\"#000000\">leaf=&#45;0.00878048874</text>\n</g>\n<!-- 34&#45;&gt;53 -->\n<g id=\"edge37\" class=\"edge\">\n<title>34&#45;&gt;53</title>\n<path fill=\"none\" stroke=\"#ff0000\" d=\"M2064.9418,-86.9735C2064.9418,-75.1918 2064.9418,-59.5607 2064.9418,-46.1581\"/>\n<polygon fill=\"#ff0000\" stroke=\"#ff0000\" points=\"2068.4419,-46.0033 2064.9418,-36.0034 2061.4419,-46.0034 2068.4419,-46.0033\"/>\n<text text-anchor=\"middle\" x=\"2074.4418\" y=\"-57.8\" font-family=\"Times,serif\" font-size=\"14.00\" fill=\"#000000\">yes</text>\n</g>\n<!-- 54 -->\n<g id=\"node39\" class=\"node\">\n<title>54</title>\n<ellipse fill=\"none\" stroke=\"#000000\" cx=\"2260.9418\" cy=\"-18\" rx=\"85.2851\" ry=\"18\"/>\n<text text-anchor=\"middle\" x=\"2260.9418\" y=\"-14.3\" font-family=\"Times,serif\" font-size=\"14.00\" fill=\"#000000\">leaf=0.0128571428</text>\n</g>\n<!-- 34&#45;&gt;54 -->\n<g id=\"edge38\" class=\"edge\">\n<title>34&#45;&gt;54</title>\n<path fill=\"none\" stroke=\"#0000ff\" d=\"M2101.3485,-88.8399C2133.3254,-74.646 2180.0155,-53.9213 2214.6409,-38.5519\"/>\n<polygon fill=\"#0000ff\" stroke=\"#0000ff\" points=\"2216.3448,-41.625 2224.0649,-34.3688 2213.5048,-35.2269 2216.3448,-41.625\"/>\n<text text-anchor=\"middle\" x=\"2208.4418\" y=\"-57.8\" font-family=\"Times,serif\" font-size=\"14.00\" fill=\"#000000\">no, missing</text>\n</g>\n<!-- 35 -->\n<g id=\"node42\" class=\"node\">\n<title>35</title>\n<ellipse fill=\"none\" stroke=\"#000000\" cx=\"2569.9418\" cy=\"-105\" rx=\"45.4919\" ry=\"18\"/>\n<text text-anchor=\"middle\" x=\"2569.9418\" y=\"-101.3\" font-family=\"Times,serif\" font-size=\"14.00\" fill=\"#000000\">v_31&lt;41</text>\n</g>\n<!-- 22&#45;&gt;35 -->\n<g id=\"edge41\" class=\"edge\">\n<title>22&#45;&gt;35</title>\n<path fill=\"none\" stroke=\"#ff0000\" d=\"M2569.9418,-173.9735C2569.9418,-162.1918 2569.9418,-146.5607 2569.9418,-133.1581\"/>\n<polygon fill=\"#ff0000\" stroke=\"#ff0000\" points=\"2573.4419,-133.0033 2569.9418,-123.0034 2566.4419,-133.0034 2573.4419,-133.0033\"/>\n<text text-anchor=\"middle\" x=\"2579.4418\" y=\"-144.8\" font-family=\"Times,serif\" font-size=\"14.00\" fill=\"#000000\">yes</text>\n</g>\n<!-- 36 -->\n<g id=\"node43\" class=\"node\">\n<title>36</title>\n<ellipse fill=\"none\" stroke=\"#000000\" cx=\"2856.9418\" cy=\"-105\" rx=\"79.8859\" ry=\"18\"/>\n<text text-anchor=\"middle\" x=\"2856.9418\" y=\"-101.3\" font-family=\"Times,serif\" font-size=\"14.00\" fill=\"#000000\">v_22&lt;28.1111107</text>\n</g>\n<!-- 22&#45;&gt;36 -->\n<g id=\"edge42\" class=\"edge\">\n<title>22&#45;&gt;36</title>\n<path fill=\"none\" stroke=\"#0000ff\" d=\"M2606.2905,-180.9814C2654.9838,-166.2207 2741.9198,-139.8673 2799.5152,-122.408\"/>\n<polygon fill=\"#0000ff\" stroke=\"#0000ff\" points=\"2800.6488,-125.7218 2809.2034,-119.4712 2798.6181,-119.0228 2800.6488,-125.7218\"/>\n<text text-anchor=\"middle\" x=\"2764.4418\" y=\"-144.8\" font-family=\"Times,serif\" font-size=\"14.00\" fill=\"#000000\">no, missing</text>\n</g>\n<!-- 55 -->\n<g id=\"node44\" class=\"node\">\n<title>55</title>\n<ellipse fill=\"none\" stroke=\"#000000\" cx=\"2458.9418\" cy=\"-18\" rx=\"94.7833\" ry=\"18\"/>\n<text text-anchor=\"middle\" x=\"2458.9418\" y=\"-14.3\" font-family=\"Times,serif\" font-size=\"14.00\" fill=\"#000000\">leaf=&#45;3.83172744e&#45;10</text>\n</g>\n<!-- 35&#45;&gt;55 -->\n<g id=\"edge43\" class=\"edge\">\n<title>35&#45;&gt;55</title>\n<path fill=\"none\" stroke=\"#ff0000\" d=\"M2549.3236,-88.8399C2532.5025,-75.6557 2508.4922,-56.8368 2489.4461,-41.9088\"/>\n<polygon fill=\"#ff0000\" stroke=\"#ff0000\" points=\"2491.3859,-38.9823 2481.3562,-35.5681 2487.0677,-44.4917 2491.3859,-38.9823\"/>\n<text text-anchor=\"middle\" x=\"2531.4418\" y=\"-57.8\" font-family=\"Times,serif\" font-size=\"14.00\" fill=\"#000000\">yes</text>\n</g>\n<!-- 56 -->\n<g id=\"node45\" class=\"node\">\n<title>56</title>\n<ellipse fill=\"none\" stroke=\"#000000\" cx=\"2664.9418\" cy=\"-18\" rx=\"92.8835\" ry=\"18\"/>\n<text text-anchor=\"middle\" x=\"2664.9418\" y=\"-14.3\" font-family=\"Times,serif\" font-size=\"14.00\" fill=\"#000000\">leaf=&#45;0.00642857235</text>\n</g>\n<!-- 35&#45;&gt;56 -->\n<g id=\"edge44\" class=\"edge\">\n<title>35&#45;&gt;56</title>\n<path fill=\"none\" stroke=\"#0000ff\" d=\"M2588.2587,-88.2255C2602.4374,-75.2408 2622.2801,-57.0691 2638.2284,-42.4638\"/>\n<polygon fill=\"#0000ff\" stroke=\"#0000ff\" points=\"2640.6918,-44.9538 2645.7028,-35.6188 2635.9642,-39.7914 2640.6918,-44.9538\"/>\n<text text-anchor=\"middle\" x=\"2657.4418\" y=\"-57.8\" font-family=\"Times,serif\" font-size=\"14.00\" fill=\"#000000\">no, missing</text>\n</g>\n<!-- 57 -->\n<g id=\"node46\" class=\"node\">\n<title>57</title>\n<ellipse fill=\"none\" stroke=\"#000000\" cx=\"2856.9418\" cy=\"-18\" rx=\"80.6858\" ry=\"18\"/>\n<text text-anchor=\"middle\" x=\"2856.9418\" y=\"-14.3\" font-family=\"Times,serif\" font-size=\"14.00\" fill=\"#000000\">leaf=0.015352942</text>\n</g>\n<!-- 36&#45;&gt;57 -->\n<g id=\"edge45\" class=\"edge\">\n<title>36&#45;&gt;57</title>\n<path fill=\"none\" stroke=\"#ff0000\" d=\"M2856.9418,-86.9735C2856.9418,-75.1918 2856.9418,-59.5607 2856.9418,-46.1581\"/>\n<polygon fill=\"#ff0000\" stroke=\"#ff0000\" points=\"2860.4419,-46.0033 2856.9418,-36.0034 2853.4419,-46.0034 2860.4419,-46.0033\"/>\n<text text-anchor=\"middle\" x=\"2866.4418\" y=\"-57.8\" font-family=\"Times,serif\" font-size=\"14.00\" fill=\"#000000\">yes</text>\n</g>\n<!-- 58 -->\n<g id=\"node47\" class=\"node\">\n<title>58</title>\n<ellipse fill=\"none\" stroke=\"#000000\" cx=\"3049.9418\" cy=\"-18\" rx=\"94.7833\" ry=\"18\"/>\n<text text-anchor=\"middle\" x=\"3049.9418\" y=\"-14.3\" font-family=\"Times,serif\" font-size=\"14.00\" fill=\"#000000\">leaf=&#45;5.36441835e&#45;10</text>\n</g>\n<!-- 36&#45;&gt;58 -->\n<g id=\"edge46\" class=\"edge\">\n<title>36&#45;&gt;58</title>\n<path fill=\"none\" stroke=\"#0000ff\" d=\"M2892.7913,-88.8399C2924.0794,-74.7359 2969.6728,-54.1834 3003.7008,-38.8444\"/>\n<polygon fill=\"#0000ff\" stroke=\"#0000ff\" points=\"3005.292,-41.9663 3012.9702,-34.6659 3002.4153,-35.5847 3005.292,-41.9663\"/>\n<text text-anchor=\"middle\" x=\"2999.4418\" y=\"-57.8\" font-family=\"Times,serif\" font-size=\"14.00\" fill=\"#000000\">no, missing</text>\n</g>\n<!-- 23 -->\n<g id=\"node50\" class=\"node\">\n<title>23</title>\n<ellipse fill=\"none\" stroke=\"#000000\" cx=\"3508.9418\" cy=\"-192\" rx=\"81.7856\" ry=\"18\"/>\n<text text-anchor=\"middle\" x=\"3508.9418\" y=\"-188.3\" font-family=\"Times,serif\" font-size=\"14.00\" fill=\"#000000\">v_22&lt;25.8571434</text>\n</g>\n<!-- 13&#45;&gt;23 -->\n<g id=\"edge49\" class=\"edge\">\n<title>13&#45;&gt;23</title>\n<path fill=\"none\" stroke=\"#ff0000\" d=\"M3626.2072,-263.8458C3603.8881,-250.1713 3570.7651,-229.8777 3545.4095,-214.3429\"/>\n<polygon fill=\"#ff0000\" stroke=\"#ff0000\" points=\"3547.1506,-211.305 3536.7952,-209.0652 3543.4936,-217.2738 3547.1506,-211.305\"/>\n<text text-anchor=\"middle\" x=\"3598.4418\" y=\"-231.8\" font-family=\"Times,serif\" font-size=\"14.00\" fill=\"#000000\">yes</text>\n</g>\n<!-- 24 -->\n<g id=\"node51\" class=\"node\">\n<title>24</title>\n<ellipse fill=\"none\" stroke=\"#000000\" cx=\"3698.9418\" cy=\"-192\" rx=\"90.1842\" ry=\"18\"/>\n<text text-anchor=\"middle\" x=\"3698.9418\" y=\"-188.3\" font-family=\"Times,serif\" font-size=\"14.00\" fill=\"#000000\">leaf=0.00818181783</text>\n</g>\n<!-- 13&#45;&gt;24 -->\n<g id=\"edge50\" class=\"edge\">\n<title>13&#45;&gt;24</title>\n<path fill=\"none\" stroke=\"#0000ff\" d=\"M3660.6553,-261.3943C3667.3326,-249.2917 3676.3296,-232.9846 3683.9242,-219.2193\"/>\n<polygon fill=\"#0000ff\" stroke=\"#0000ff\" points=\"3687.146,-220.625 3688.9123,-210.1785 3681.0169,-217.2435 3687.146,-220.625\"/>\n<text text-anchor=\"middle\" x=\"3711.4418\" y=\"-231.8\" font-family=\"Times,serif\" font-size=\"14.00\" fill=\"#000000\">no, missing</text>\n</g>\n<!-- 25 -->\n<g id=\"node58\" class=\"node\">\n<title>25</title>\n<ellipse fill=\"none\" stroke=\"#000000\" cx=\"4322.9418\" cy=\"-192\" rx=\"77.1866\" ry=\"18\"/>\n<text text-anchor=\"middle\" x=\"4322.9418\" y=\"-188.3\" font-family=\"Times,serif\" font-size=\"14.00\" fill=\"#000000\">v_29&lt;18.514286</text>\n</g>\n<!-- 14&#45;&gt;25 -->\n<g id=\"edge57\" class=\"edge\">\n<title>14&#45;&gt;25</title>\n<path fill=\"none\" stroke=\"#ff0000\" d=\"M4322.9418,-260.9735C4322.9418,-249.1918 4322.9418,-233.5607 4322.9418,-220.1581\"/>\n<polygon fill=\"#ff0000\" stroke=\"#ff0000\" points=\"4326.4419,-220.0033 4322.9418,-210.0034 4319.4419,-220.0034 4326.4419,-220.0033\"/>\n<text text-anchor=\"middle\" x=\"4332.4418\" y=\"-231.8\" font-family=\"Times,serif\" font-size=\"14.00\" fill=\"#000000\">yes</text>\n</g>\n<!-- 26 -->\n<g id=\"node59\" class=\"node\">\n<title>26</title>\n<ellipse fill=\"none\" stroke=\"#000000\" cx=\"4931.9418\" cy=\"-192\" rx=\"45.4919\" ry=\"18\"/>\n<text text-anchor=\"middle\" x=\"4931.9418\" y=\"-188.3\" font-family=\"Times,serif\" font-size=\"14.00\" fill=\"#000000\">v_13&lt;26</text>\n</g>\n<!-- 14&#45;&gt;26 -->\n<g id=\"edge58\" class=\"edge\">\n<title>14&#45;&gt;26</title>\n<path fill=\"none\" stroke=\"#0000ff\" d=\"M4361.4994,-273.4918C4466.6808,-258.4659 4758.7241,-216.7454 4879.0667,-199.5536\"/>\n<polygon fill=\"#0000ff\" stroke=\"#0000ff\" points=\"4879.7382,-202.9933 4889.1427,-198.1142 4878.7482,-196.0636 4879.7382,-202.9933\"/>\n<text text-anchor=\"middle\" x=\"4697.4418\" y=\"-231.8\" font-family=\"Times,serif\" font-size=\"14.00\" fill=\"#000000\">no, missing</text>\n</g>\n<!-- 37 -->\n<g id=\"node52\" class=\"node\">\n<title>37</title>\n<ellipse fill=\"none\" stroke=\"#000000\" cx=\"3447.9418\" cy=\"-105\" rx=\"45.4919\" ry=\"18\"/>\n<text text-anchor=\"middle\" x=\"3447.9418\" y=\"-101.3\" font-family=\"Times,serif\" font-size=\"14.00\" fill=\"#000000\">v_13&lt;15</text>\n</g>\n<!-- 23&#45;&gt;37 -->\n<g id=\"edge51\" class=\"edge\">\n<title>23&#45;&gt;37</title>\n<path fill=\"none\" stroke=\"#ff0000\" d=\"M3496.3025,-173.9735C3487.5172,-161.4437 3475.6792,-144.56 3465.9146,-130.6335\"/>\n<polygon fill=\"#ff0000\" stroke=\"#ff0000\" points=\"3468.7553,-128.5883 3460.1486,-122.4097 3463.0238,-132.607 3468.7553,-128.5883\"/>\n<text text-anchor=\"middle\" x=\"3492.4418\" y=\"-144.8\" font-family=\"Times,serif\" font-size=\"14.00\" fill=\"#000000\">yes</text>\n</g>\n<!-- 38 -->\n<g id=\"node53\" class=\"node\">\n<title>38</title>\n<ellipse fill=\"none\" stroke=\"#000000\" cx=\"3648.9418\" cy=\"-105\" rx=\"45.4919\" ry=\"18\"/>\n<text text-anchor=\"middle\" x=\"3648.9418\" y=\"-101.3\" font-family=\"Times,serif\" font-size=\"14.00\" fill=\"#000000\">v_19&lt;23</text>\n</g>\n<!-- 23&#45;&gt;38 -->\n<g id=\"edge52\" class=\"edge\">\n<title>23&#45;&gt;38</title>\n<path fill=\"none\" stroke=\"#0000ff\" d=\"M3536.2675,-175.019C3559.0882,-160.8376 3591.694,-140.5754 3615.9636,-125.4936\"/>\n<polygon fill=\"#0000ff\" stroke=\"#0000ff\" points=\"3617.8481,-128.4433 3624.4943,-120.1923 3614.1534,-122.4978 3617.8481,-128.4433\"/>\n<text text-anchor=\"middle\" x=\"3621.4418\" y=\"-144.8\" font-family=\"Times,serif\" font-size=\"14.00\" fill=\"#000000\">no, missing</text>\n</g>\n<!-- 59 -->\n<g id=\"node54\" class=\"node\">\n<title>59</title>\n<ellipse fill=\"none\" stroke=\"#000000\" cx=\"3250.9418\" cy=\"-18\" rx=\"88.2844\" ry=\"18\"/>\n<text text-anchor=\"middle\" x=\"3250.9418\" y=\"-14.3\" font-family=\"Times,serif\" font-size=\"14.00\" fill=\"#000000\">leaf=&#45;0.0063196905</text>\n</g>\n<!-- 37&#45;&gt;59 -->\n<g id=\"edge53\" class=\"edge\">\n<title>37&#45;&gt;59</title>\n<path fill=\"none\" stroke=\"#ff0000\" d=\"M3417.1605,-91.4063C3385.1736,-77.28 3334.7201,-54.9985 3297.7831,-38.6863\"/>\n<polygon fill=\"#ff0000\" stroke=\"#ff0000\" points=\"3298.7892,-35.3045 3288.2275,-34.4663 3295.9613,-41.7079 3298.7892,-35.3045\"/>\n<text text-anchor=\"middle\" x=\"3371.4418\" y=\"-57.8\" font-family=\"Times,serif\" font-size=\"14.00\" fill=\"#000000\">yes</text>\n</g>\n<!-- 60 -->\n<g id=\"node55\" class=\"node\">\n<title>60</title>\n<ellipse fill=\"none\" stroke=\"#000000\" cx=\"3447.9418\" cy=\"-18\" rx=\"90.1842\" ry=\"18\"/>\n<text text-anchor=\"middle\" x=\"3447.9418\" y=\"-14.3\" font-family=\"Times,serif\" font-size=\"14.00\" fill=\"#000000\">leaf=0.00409090891</text>\n</g>\n<!-- 37&#45;&gt;60 -->\n<g id=\"edge54\" class=\"edge\">\n<title>37&#45;&gt;60</title>\n<path fill=\"none\" stroke=\"#0000ff\" d=\"M3447.9418,-86.9735C3447.9418,-75.1918 3447.9418,-59.5607 3447.9418,-46.1581\"/>\n<polygon fill=\"#0000ff\" stroke=\"#0000ff\" points=\"3451.4419,-46.0033 3447.9418,-36.0034 3444.4419,-46.0034 3451.4419,-46.0033\"/>\n<text text-anchor=\"middle\" x=\"3481.4418\" y=\"-57.8\" font-family=\"Times,serif\" font-size=\"14.00\" fill=\"#000000\">no, missing</text>\n</g>\n<!-- 61 -->\n<g id=\"node56\" class=\"node\">\n<title>61</title>\n<ellipse fill=\"none\" stroke=\"#000000\" cx=\"3648.9418\" cy=\"-18\" rx=\"92.8835\" ry=\"18\"/>\n<text text-anchor=\"middle\" x=\"3648.9418\" y=\"-14.3\" font-family=\"Times,serif\" font-size=\"14.00\" fill=\"#000000\">leaf=&#45;0.00523255905</text>\n</g>\n<!-- 38&#45;&gt;61 -->\n<g id=\"edge55\" class=\"edge\">\n<title>38&#45;&gt;61</title>\n<path fill=\"none\" stroke=\"#ff0000\" d=\"M3648.9418,-86.9735C3648.9418,-75.1918 3648.9418,-59.5607 3648.9418,-46.1581\"/>\n<polygon fill=\"#ff0000\" stroke=\"#ff0000\" points=\"3652.4419,-46.0033 3648.9418,-36.0034 3645.4419,-46.0034 3652.4419,-46.0033\"/>\n<text text-anchor=\"middle\" x=\"3658.4418\" y=\"-57.8\" font-family=\"Times,serif\" font-size=\"14.00\" fill=\"#000000\">yes</text>\n</g>\n<!-- 62 -->\n<g id=\"node57\" class=\"node\">\n<title>62</title>\n<ellipse fill=\"none\" stroke=\"#000000\" cx=\"3852.9418\" cy=\"-18\" rx=\"92.8835\" ry=\"18\"/>\n<text text-anchor=\"middle\" x=\"3852.9418\" y=\"-14.3\" font-family=\"Times,serif\" font-size=\"14.00\" fill=\"#000000\">leaf=&#45;0.00908055436</text>\n</g>\n<!-- 38&#45;&gt;62 -->\n<g id=\"edge56\" class=\"edge\">\n<title>38&#45;&gt;62</title>\n<path fill=\"none\" stroke=\"#0000ff\" d=\"M3679.925,-91.7866C3713.1144,-77.6322 3766.2187,-54.9848 3804.8484,-38.5104\"/>\n<polygon fill=\"#0000ff\" stroke=\"#0000ff\" points=\"3806.5113,-41.6063 3814.3367,-34.4639 3803.7652,-35.1674 3806.5113,-41.6063\"/>\n<text text-anchor=\"middle\" x=\"3797.4418\" y=\"-57.8\" font-family=\"Times,serif\" font-size=\"14.00\" fill=\"#000000\">no, missing</text>\n</g>\n<!-- 39 -->\n<g id=\"node60\" class=\"node\">\n<title>39</title>\n<ellipse fill=\"none\" stroke=\"#000000\" cx=\"4241.9418\" cy=\"-105\" rx=\"81.7856\" ry=\"18\"/>\n<text text-anchor=\"middle\" x=\"4241.9418\" y=\"-101.3\" font-family=\"Times,serif\" font-size=\"14.00\" fill=\"#000000\">v_22&lt;25.0828571</text>\n</g>\n<!-- 25&#45;&gt;39 -->\n<g id=\"edge59\" class=\"edge\">\n<title>25&#45;&gt;39</title>\n<path fill=\"none\" stroke=\"#ff0000\" d=\"M4306.5502,-174.3943C4294.7709,-161.7424 4278.7136,-144.4957 4265.5541,-130.3614\"/>\n<polygon fill=\"#ff0000\" stroke=\"#ff0000\" points=\"4267.9628,-127.8122 4258.5869,-122.8782 4262.8395,-132.5821 4267.9628,-127.8122\"/>\n<text text-anchor=\"middle\" x=\"4297.4418\" y=\"-144.8\" font-family=\"Times,serif\" font-size=\"14.00\" fill=\"#000000\">yes</text>\n</g>\n<!-- 40 -->\n<g id=\"node61\" class=\"node\">\n<title>40</title>\n<ellipse fill=\"none\" stroke=\"#000000\" cx=\"4442.9418\" cy=\"-105\" rx=\"45.4919\" ry=\"18\"/>\n<text text-anchor=\"middle\" x=\"4442.9418\" y=\"-101.3\" font-family=\"Times,serif\" font-size=\"14.00\" fill=\"#000000\">v_19&lt;27</text>\n</g>\n<!-- 25&#45;&gt;40 -->\n<g id=\"edge60\" class=\"edge\">\n<title>25&#45;&gt;40</title>\n<path fill=\"none\" stroke=\"#0000ff\" d=\"M4346.6499,-174.8116C4365.536,-161.1192 4392.1064,-141.8557 4412.5535,-127.0315\"/>\n<polygon fill=\"#0000ff\" stroke=\"#0000ff\" points=\"4414.8596,-129.6827 4420.9013,-120.9793 4410.7508,-124.0154 4414.8596,-129.6827\"/>\n<text text-anchor=\"middle\" x=\"4424.4418\" y=\"-144.8\" font-family=\"Times,serif\" font-size=\"14.00\" fill=\"#000000\">no, missing</text>\n</g>\n<!-- 41 -->\n<g id=\"node66\" class=\"node\">\n<title>41</title>\n<ellipse fill=\"none\" stroke=\"#000000\" cx=\"4931.9418\" cy=\"-105\" rx=\"45.4919\" ry=\"18\"/>\n<text text-anchor=\"middle\" x=\"4931.9418\" y=\"-101.3\" font-family=\"Times,serif\" font-size=\"14.00\" fill=\"#000000\">v_19&lt;24</text>\n</g>\n<!-- 26&#45;&gt;41 -->\n<g id=\"edge65\" class=\"edge\">\n<title>26&#45;&gt;41</title>\n<path fill=\"none\" stroke=\"#ff0000\" d=\"M4931.9418,-173.9735C4931.9418,-162.1918 4931.9418,-146.5607 4931.9418,-133.1581\"/>\n<polygon fill=\"#ff0000\" stroke=\"#ff0000\" points=\"4935.4419,-133.0033 4931.9418,-123.0034 4928.4419,-133.0034 4935.4419,-133.0033\"/>\n<text text-anchor=\"middle\" x=\"4941.4418\" y=\"-144.8\" font-family=\"Times,serif\" font-size=\"14.00\" fill=\"#000000\">yes</text>\n</g>\n<!-- 42 -->\n<g id=\"node67\" class=\"node\">\n<title>42</title>\n<ellipse fill=\"none\" stroke=\"#000000\" cx=\"5239.9418\" cy=\"-105\" rx=\"40.0939\" ry=\"18\"/>\n<text text-anchor=\"middle\" x=\"5239.9418\" y=\"-101.3\" font-family=\"Times,serif\" font-size=\"14.00\" fill=\"#000000\">v_6&lt;25</text>\n</g>\n<!-- 26&#45;&gt;42 -->\n<g id=\"edge66\" class=\"edge\">\n<title>26&#45;&gt;42</title>\n<path fill=\"none\" stroke=\"#0000ff\" d=\"M4969.0937,-181.5058C5026.0803,-165.4089 5134.8522,-134.6844 5195.7833,-117.4733\"/>\n<polygon fill=\"#0000ff\" stroke=\"#0000ff\" points=\"5196.8255,-120.816 5205.4975,-114.7294 5194.9226,-114.0796 5196.8255,-120.816\"/>\n<text text-anchor=\"middle\" x=\"5138.4418\" y=\"-144.8\" font-family=\"Times,serif\" font-size=\"14.00\" fill=\"#000000\">no, missing</text>\n</g>\n<!-- 63 -->\n<g id=\"node62\" class=\"node\">\n<title>63</title>\n<ellipse fill=\"none\" stroke=\"#000000\" cx=\"4048.9418\" cy=\"-18\" rx=\"85.2851\" ry=\"18\"/>\n<text text-anchor=\"middle\" x=\"4048.9418\" y=\"-14.3\" font-family=\"Times,serif\" font-size=\"14.00\" fill=\"#000000\">leaf=0.0191803295</text>\n</g>\n<!-- 39&#45;&gt;63 -->\n<g id=\"edge61\" class=\"edge\">\n<title>39&#45;&gt;63</title>\n<path fill=\"none\" stroke=\"#ff0000\" d=\"M4205.6399,-88.636C4174.1997,-74.4634 4128.565,-53.8924 4094.6438,-38.6014\"/>\n<polygon fill=\"#ff0000\" stroke=\"#ff0000\" points=\"4095.9633,-35.3571 4085.4084,-34.4383 4093.0866,-41.7387 4095.9633,-35.3571\"/>\n<text text-anchor=\"middle\" x=\"4167.4418\" y=\"-57.8\" font-family=\"Times,serif\" font-size=\"14.00\" fill=\"#000000\">yes</text>\n</g>\n<!-- 64 -->\n<g id=\"node63\" class=\"node\">\n<title>64</title>\n<ellipse fill=\"none\" stroke=\"#000000\" cx=\"4241.9418\" cy=\"-18\" rx=\"90.1842\" ry=\"18\"/>\n<text text-anchor=\"middle\" x=\"4241.9418\" y=\"-14.3\" font-family=\"Times,serif\" font-size=\"14.00\" fill=\"#000000\">leaf=0.00734693883</text>\n</g>\n<!-- 39&#45;&gt;64 -->\n<g id=\"edge62\" class=\"edge\">\n<title>39&#45;&gt;64</title>\n<path fill=\"none\" stroke=\"#0000ff\" d=\"M4241.9418,-86.9735C4241.9418,-75.1918 4241.9418,-59.5607 4241.9418,-46.1581\"/>\n<polygon fill=\"#0000ff\" stroke=\"#0000ff\" points=\"4245.4419,-46.0033 4241.9418,-36.0034 4238.4419,-46.0034 4245.4419,-46.0033\"/>\n<text text-anchor=\"middle\" x=\"4275.4418\" y=\"-57.8\" font-family=\"Times,serif\" font-size=\"14.00\" fill=\"#000000\">no, missing</text>\n</g>\n<!-- 65 -->\n<g id=\"node64\" class=\"node\">\n<title>65</title>\n<ellipse fill=\"none\" stroke=\"#000000\" cx=\"4442.9418\" cy=\"-18\" rx=\"92.8835\" ry=\"18\"/>\n<text text-anchor=\"middle\" x=\"4442.9418\" y=\"-14.3\" font-family=\"Times,serif\" font-size=\"14.00\" fill=\"#000000\">leaf=&#45;0.00319797033</text>\n</g>\n<!-- 40&#45;&gt;65 -->\n<g id=\"edge63\" class=\"edge\">\n<title>40&#45;&gt;65</title>\n<path fill=\"none\" stroke=\"#ff0000\" d=\"M4442.9418,-86.9735C4442.9418,-75.1918 4442.9418,-59.5607 4442.9418,-46.1581\"/>\n<polygon fill=\"#ff0000\" stroke=\"#ff0000\" points=\"4446.4419,-46.0033 4442.9418,-36.0034 4439.4419,-46.0034 4446.4419,-46.0033\"/>\n<text text-anchor=\"middle\" x=\"4452.4418\" y=\"-57.8\" font-family=\"Times,serif\" font-size=\"14.00\" fill=\"#000000\">yes</text>\n</g>\n<!-- 66 -->\n<g id=\"node65\" class=\"node\">\n<title>66</title>\n<ellipse fill=\"none\" stroke=\"#000000\" cx=\"4643.9418\" cy=\"-18\" rx=\"90.1842\" ry=\"18\"/>\n<text text-anchor=\"middle\" x=\"4643.9418\" y=\"-14.3\" font-family=\"Times,serif\" font-size=\"14.00\" fill=\"#000000\">leaf=0.00683999993</text>\n</g>\n<!-- 40&#45;&gt;66 -->\n<g id=\"edge64\" class=\"edge\">\n<title>40&#45;&gt;66</title>\n<path fill=\"none\" stroke=\"#0000ff\" d=\"M4473.9075,-91.5969C4506.6978,-77.4041 4558.8585,-54.8271 4596.7683,-38.4183\"/>\n<polygon fill=\"#0000ff\" stroke=\"#0000ff\" points=\"4598.292,-41.5727 4606.0789,-34.3884 4595.5114,-35.1486 4598.292,-41.5727\"/>\n<text text-anchor=\"middle\" x=\"4589.4418\" y=\"-57.8\" font-family=\"Times,serif\" font-size=\"14.00\" fill=\"#000000\">no, missing</text>\n</g>\n<!-- 67 -->\n<g id=\"node68\" class=\"node\">\n<title>67</title>\n<ellipse fill=\"none\" stroke=\"#000000\" cx=\"4842.9418\" cy=\"-18\" rx=\"90.1842\" ry=\"18\"/>\n<text text-anchor=\"middle\" x=\"4842.9418\" y=\"-14.3\" font-family=\"Times,serif\" font-size=\"14.00\" fill=\"#000000\">leaf=0.00155172357</text>\n</g>\n<!-- 41&#45;&gt;67 -->\n<g id=\"edge67\" class=\"edge\">\n<title>41&#45;&gt;67</title>\n<path fill=\"none\" stroke=\"#ff0000\" d=\"M4914.7817,-88.2255C4901.7053,-75.443 4883.4865,-57.6336 4868.6684,-43.1485\"/>\n<polygon fill=\"#ff0000\" stroke=\"#ff0000\" points=\"4870.8723,-40.4084 4861.2747,-35.921 4865.9791,-45.4141 4870.8723,-40.4084\"/>\n<text text-anchor=\"middle\" x=\"4902.4418\" y=\"-57.8\" font-family=\"Times,serif\" font-size=\"14.00\" fill=\"#000000\">yes</text>\n</g>\n<!-- 68 -->\n<g id=\"node69\" class=\"node\">\n<title>68</title>\n<ellipse fill=\"none\" stroke=\"#000000\" cx=\"5043.9418\" cy=\"-18\" rx=\"92.8835\" ry=\"18\"/>\n<text text-anchor=\"middle\" x=\"5043.9418\" y=\"-14.3\" font-family=\"Times,serif\" font-size=\"14.00\" fill=\"#000000\">leaf=&#45;0.00685185287</text>\n</g>\n<!-- 41&#45;&gt;68 -->\n<g id=\"edge68\" class=\"edge\">\n<title>41&#45;&gt;68</title>\n<path fill=\"none\" stroke=\"#0000ff\" d=\"M4952.7456,-88.8399C4969.7944,-75.5966 4994.1624,-56.6679 5013.4208,-41.7082\"/>\n<polygon fill=\"#0000ff\" stroke=\"#0000ff\" points=\"5015.5751,-44.4667 5021.3253,-35.5681 5011.2809,-38.9386 5015.5751,-44.4667\"/>\n<text text-anchor=\"middle\" x=\"5028.4418\" y=\"-57.8\" font-family=\"Times,serif\" font-size=\"14.00\" fill=\"#000000\">no, missing</text>\n</g>\n<!-- 69 -->\n<g id=\"node70\" class=\"node\">\n<title>69</title>\n<ellipse fill=\"none\" stroke=\"#000000\" cx=\"5239.9418\" cy=\"-18\" rx=\"85.2851\" ry=\"18\"/>\n<text text-anchor=\"middle\" x=\"5239.9418\" y=\"-14.3\" font-family=\"Times,serif\" font-size=\"14.00\" fill=\"#000000\">leaf=0.0131538464</text>\n</g>\n<!-- 42&#45;&gt;69 -->\n<g id=\"edge69\" class=\"edge\">\n<title>42&#45;&gt;69</title>\n<path fill=\"none\" stroke=\"#ff0000\" d=\"M5239.9418,-86.9735C5239.9418,-75.1918 5239.9418,-59.5607 5239.9418,-46.1581\"/>\n<polygon fill=\"#ff0000\" stroke=\"#ff0000\" points=\"5243.4419,-46.0033 5239.9418,-36.0034 5236.4419,-46.0034 5243.4419,-46.0033\"/>\n<text text-anchor=\"middle\" x=\"5249.4418\" y=\"-57.8\" font-family=\"Times,serif\" font-size=\"14.00\" fill=\"#000000\">yes</text>\n</g>\n<!-- 70 -->\n<g id=\"node71\" class=\"node\">\n<title>70</title>\n<ellipse fill=\"none\" stroke=\"#000000\" cx=\"5435.9418\" cy=\"-18\" rx=\"92.8835\" ry=\"18\"/>\n<text text-anchor=\"middle\" x=\"5435.9418\" y=\"-14.3\" font-family=\"Times,serif\" font-size=\"14.00\" fill=\"#000000\">leaf=&#45;0.00775862159</text>\n</g>\n<!-- 42&#45;&gt;70 -->\n<g id=\"edge70\" class=\"edge\">\n<title>42&#45;&gt;70</title>\n<path fill=\"none\" stroke=\"#0000ff\" d=\"M5268.8622,-92.1629C5300.57,-78.0885 5351.9079,-55.3007 5389.3188,-38.6949\"/>\n<polygon fill=\"#0000ff\" stroke=\"#0000ff\" points=\"5390.7895,-41.8715 5398.5095,-34.6153 5387.9495,-35.4734 5390.7895,-41.8715\"/>\n<text text-anchor=\"middle\" x=\"5383.4418\" y=\"-57.8\" font-family=\"Times,serif\" font-size=\"14.00\" fill=\"#000000\">no, missing</text>\n</g>\n</g>\n</svg>\n"
          },
          "metadata": {},
          "execution_count": 20
        }
      ]
    }
  ]
}