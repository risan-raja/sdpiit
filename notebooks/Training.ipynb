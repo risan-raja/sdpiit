{
 "cells": [
  {
   "cell_type": "markdown",
   "id": "d228060e-999c-49c3-93dc-fdb62ef5ea9b",
   "metadata": {
    "tags": []
   },
   "source": [
    "## Library Setup\n",
    "\n",
    "### Transformations\n",
    " - <mark>__Scale Down Ordinal Data By Substracting all samples with Global Feature Minimum__</mark>\n",
    " - <mark>__Sort Columns by Name for better visibility__</mark>\n",
    " - <mark>__Ordinally Encode Nominal Data to reduce categorical distance within a feature__</mark>\n",
    " - <mark>__Add a Column - Sum of all Binary Features along x-axis__</mark>\n",
    " - <mark>__Standardise the Ratio Features using MinMaxScaler__</mark>\n",
    " - <mark>__Group By binary Literal__</mark>\n",
    " - <mark>__Generated A Normal Rank for all Ordinal Features__</mark>\n",
    " - <mark>__Generated Dummy Variable for categoricals__</mark>\n",
    " - <mark>__Made all Type Conversions__</mark>\n"
   ]
  },
  {
   "cell_type": "code",
   "execution_count": 1,
   "id": "2106e4b7-de89-443b-bd8f-18b772f5f5d6",
   "metadata": {
    "scrolled": true,
    "tags": []
   },
   "outputs": [
    {
     "name": "stdout",
     "output_type": "stream",
     "text": [
      "importing Jupyter notebook from setup_transform.ipynb\n"
     ]
    },
    {
     "name": "stderr",
     "output_type": "stream",
     "text": [
      "Intel(R) Extension for Scikit-learn* enabled (https://github.com/intel/scikit-learn-intelex)\n"
     ]
    }
   ],
   "source": [
    "# import widen_notebook\n",
    "from mysetup import NotebookFinder\n",
    "import sys\n",
    "sys.meta_path.append(NotebookFinder())\n",
    "\n",
    "from setup_transform import *\n",
    "%matplotlib inline\n",
    "cl_weight = sklearn.utils.compute_class_weight(class_weight='balanced',classes=[0,1,2],y=y)\n",
    "CLASS_WEIGHTS = {i:cl_weight[i] for i in range(3)}    \n",
    "lgr_params = dict(class_weight=CLASS_WEIGHTS,fit_intercept=True,multi_class='ovr',max_iter=200000,random_state=42,n_jobs=24, penalty ='elasticnet' ,cv=RepeatedStratifiedKFold(n_splits=3,n_repeats=5,random_state=30),scoring='f1_macro',solver='saga',Cs=100,l1_ratios= np.linspace(0,1,endpoint=False,num=10))\n",
    "def_cv = RepeatedStratifiedKFold(n_splits=3,n_repeats=2,random_state=42)\n",
    "from sklearnex import unpatch_sklearn\n",
    "# unpatch_sklearn()\n",
    "import copy\n",
    "import warnings\n",
    "warnings.filterwarnings('ignore')"
   ]
  },
  {
   "cell_type": "markdown",
   "id": "3f734e05-0ea6-4a5f-aefd-51dd0180fa5e",
   "metadata": {},
   "source": [
    "## Training"
   ]
  },
  {
   "cell_type": "code",
   "execution_count": null,
   "id": "c0aa1c51-fab7-4793-822e-96f8f12ff127",
   "metadata": {},
   "outputs": [],
   "source": [
    "raw_master = pd.concat([raw_data.loc[:,raw_data_eval.columns],raw_data_eval],ignore_index=True,axis=0)\n",
    "vc_master = {x:raw_master[x].value_counts().to_dict() for x in nominal}\n",
    "vc_train = {x:raw_data[x].value_counts().to_dict() for x in nominal}\n",
    "\n",
    "def count_encode(row):\n",
    "    for c in nominal:\n",
    "        key = row[c]\n",
    "        new_key = vc_master[c][key]\n",
    "        row[c] = new_key\n",
    "    return row\n",
    "\n",
    "raw_master_ = raw_master.copy()\n",
    "raw_data_ = raw_data.copy()\n",
    "raw_data_eval_ = raw_data_eval.copy()\n",
    "raw_data_.loc[:,nominal]=raw_data.loc[:,nominal].apply(count_encode,axis=1).astype('int')\n",
    "raw_master_.loc[:,nominal]=raw_master.loc[:,nominal].apply(count_encode,axis=1).astype('int')\n",
    "raw_data_eval_.loc[:,nominal]=raw_data_eval.loc[:,nominal].apply(count_encode,axis=1).astype('int')\n",
    "\n",
    "def ordinal_encode_nominal(raw_master_,raw_data_,raw_data_eval_):\n",
    "    ordinal_enc = OrdinalEncoder()\n",
    "    ordinal_enc.fit(raw_master_.loc[:,nominal])\n",
    "    raw_data_enc = ordinal_enc.transform(raw_data_.loc[:,nominal])\n",
    "    raw_data_eval_enc = ordinal_enc.transform(raw_data_eval_.loc[:,nominal])\n",
    "    raw_data_.loc[:,nominal] = raw_data_enc.astype('int')\n",
    "    raw_data_eval_.loc[:,nominal] = raw_data_eval_enc.astype('int')\n",
    "    return raw_master_,raw_data_,raw_data_eval_\n",
    "\n",
    "\n",
    "# raw_master_,raw_data_,raw_data_eval_ = ordinal_encode_nominal(raw_master_,raw_data_,raw_data_eval_)"
   ]
  },
  {
   "cell_type": "code",
   "execution_count": 32,
   "id": "225e2837-929a-45fa-87bb-7c68c21ee5c4",
   "metadata": {},
   "outputs": [],
   "source": [
    "# raw_data_.loc[:,nominal]/5424\n",
    "nominal_ohe_data = raw_data_ohe.loc[:,nominal_ohe]\n",
    "class_labels = [0,1,2]\n",
    "vc_i = {x:{} for x in range(3)}\n",
    "for cl in class_labels:\n",
    "    cp = raw_data[raw_data.target==cl]\n",
    "    cn = raw_data[raw_data.target!=cl]\n",
    "    vc_p = {x:{} for x in nominal }\n",
    "    vc_n = {x:{} for x in nominal }\n",
    "    for c in nominal:\n",
    "        vc_p[c] = cp[c].value_counts().to_dict()        \n",
    "        vc_n[c] = cn[c].value_counts().to_dict()\n",
    "    vc_i[cl]['p'] = vc_p\n",
    "    vc_i[cl]['n'] = vc_n\n",
    "    "
   ]
  },
  {
   "cell_type": "code",
   "execution_count": 33,
   "id": "4ff200f2-9c67-45f8-9058-6f0845552753",
   "metadata": {},
   "outputs": [],
   "source": [
    "raw_data.target.value_counts()\n",
    "N = raw_data.shape[0]\n",
    "Np_Nn = {1:(1863,N-1863),2:(690,N-690),0:(1243,N-1243)}\n",
    "for cl in vc_i:\n",
    "    Np , Nn = Np_Nn[cl]\n",
    "    # vc_i[cl]['p']\n",
    "    for c in vc_i[cl]['p']:\n",
    "        for k in vc_i[cl]['p'][c]:\n",
    "            vc_i[cl]['p'][c][k] = vc_i[cl]['p'][c][k]/vc_train[c][k]\n",
    "        for k in vc_i[cl]['n'][c]:\n",
    "            vc_i[cl]['n'][c][k] = vc_i[cl]['n'][c][k]/vc_train[c][k]"
   ]
  },
  {
   "cell_type": "code",
   "execution_count": 35,
   "id": "d016c58f-3b07-4279-8fb8-147e31e36f03",
   "metadata": {},
   "outputs": [],
   "source": [
    "for cl in vc_i:\n",
    "    positive = vc_i[cl]['p']    \n",
    "    negative = vc_i[cl]['n']\n"
   ]
  },
  {
   "cell_type": "code",
   "execution_count": 36,
   "id": "8efe4314-c310-4f62-ad68-933264c0962a",
   "metadata": {},
   "outputs": [
    {
     "data": {
      "text/html": [
       "<div>\n",
       "<style scoped>\n",
       "    .dataframe tbody tr th:only-of-type {\n",
       "        vertical-align: middle;\n",
       "    }\n",
       "\n",
       "    .dataframe tbody tr th {\n",
       "        vertical-align: top;\n",
       "    }\n",
       "\n",
       "    .dataframe thead th {\n",
       "        text-align: right;\n",
       "    }\n",
       "</style>\n",
       "<table border=\"1\" class=\"dataframe\">\n",
       "  <thead>\n",
       "    <tr style=\"text-align: right;\">\n",
       "      <th></th>\n",
       "      <th>nominal__v_12</th>\n",
       "      <th>nominal__v_18</th>\n",
       "      <th>nominal__v_20</th>\n",
       "      <th>nominal__v_21</th>\n",
       "      <th>nominal__v_25</th>\n",
       "      <th>nominal__v_3</th>\n",
       "      <th>nominal__v_32</th>\n",
       "      <th>nominal__v_4</th>\n",
       "    </tr>\n",
       "    <tr>\n",
       "      <th>id</th>\n",
       "      <th></th>\n",
       "      <th></th>\n",
       "      <th></th>\n",
       "      <th></th>\n",
       "      <th></th>\n",
       "      <th></th>\n",
       "      <th></th>\n",
       "      <th></th>\n",
       "    </tr>\n",
       "  </thead>\n",
       "  <tbody>\n",
       "    <tr>\n",
       "      <th>0</th>\n",
       "      <td>0</td>\n",
       "      <td>25</td>\n",
       "      <td>17</td>\n",
       "      <td>0</td>\n",
       "      <td>4</td>\n",
       "      <td>10</td>\n",
       "      <td>0</td>\n",
       "      <td>18</td>\n",
       "    </tr>\n",
       "    <tr>\n",
       "      <th>1</th>\n",
       "      <td>6</td>\n",
       "      <td>74</td>\n",
       "      <td>49</td>\n",
       "      <td>5</td>\n",
       "      <td>3</td>\n",
       "      <td>119</td>\n",
       "      <td>33</td>\n",
       "      <td>28</td>\n",
       "    </tr>\n",
       "    <tr>\n",
       "      <th>2</th>\n",
       "      <td>0</td>\n",
       "      <td>25</td>\n",
       "      <td>95</td>\n",
       "      <td>0</td>\n",
       "      <td>0</td>\n",
       "      <td>20</td>\n",
       "      <td>74</td>\n",
       "      <td>76</td>\n",
       "    </tr>\n",
       "    <tr>\n",
       "      <th>3</th>\n",
       "      <td>0</td>\n",
       "      <td>18</td>\n",
       "      <td>0</td>\n",
       "      <td>0</td>\n",
       "      <td>0</td>\n",
       "      <td>44</td>\n",
       "      <td>0</td>\n",
       "      <td>57</td>\n",
       "    </tr>\n",
       "    <tr>\n",
       "      <th>4</th>\n",
       "      <td>6</td>\n",
       "      <td>51</td>\n",
       "      <td>44</td>\n",
       "      <td>1</td>\n",
       "      <td>42</td>\n",
       "      <td>33</td>\n",
       "      <td>11</td>\n",
       "      <td>6</td>\n",
       "    </tr>\n",
       "    <tr>\n",
       "      <th>...</th>\n",
       "      <td>...</td>\n",
       "      <td>...</td>\n",
       "      <td>...</td>\n",
       "      <td>...</td>\n",
       "      <td>...</td>\n",
       "      <td>...</td>\n",
       "      <td>...</td>\n",
       "      <td>...</td>\n",
       "    </tr>\n",
       "    <tr>\n",
       "      <th>3791</th>\n",
       "      <td>0</td>\n",
       "      <td>18</td>\n",
       "      <td>0</td>\n",
       "      <td>0</td>\n",
       "      <td>0</td>\n",
       "      <td>10</td>\n",
       "      <td>28</td>\n",
       "      <td>47</td>\n",
       "    </tr>\n",
       "    <tr>\n",
       "      <th>3792</th>\n",
       "      <td>9</td>\n",
       "      <td>24</td>\n",
       "      <td>4</td>\n",
       "      <td>4</td>\n",
       "      <td>5</td>\n",
       "      <td>33</td>\n",
       "      <td>2</td>\n",
       "      <td>66</td>\n",
       "    </tr>\n",
       "    <tr>\n",
       "      <th>3793</th>\n",
       "      <td>7</td>\n",
       "      <td>23</td>\n",
       "      <td>50</td>\n",
       "      <td>2</td>\n",
       "      <td>0</td>\n",
       "      <td>31</td>\n",
       "      <td>76</td>\n",
       "      <td>22</td>\n",
       "    </tr>\n",
       "    <tr>\n",
       "      <th>3794</th>\n",
       "      <td>1</td>\n",
       "      <td>50</td>\n",
       "      <td>76</td>\n",
       "      <td>1</td>\n",
       "      <td>68</td>\n",
       "      <td>69</td>\n",
       "      <td>28</td>\n",
       "      <td>58</td>\n",
       "    </tr>\n",
       "    <tr>\n",
       "      <th>3795</th>\n",
       "      <td>0</td>\n",
       "      <td>7</td>\n",
       "      <td>0</td>\n",
       "      <td>0</td>\n",
       "      <td>0</td>\n",
       "      <td>71</td>\n",
       "      <td>0</td>\n",
       "      <td>41</td>\n",
       "    </tr>\n",
       "  </tbody>\n",
       "</table>\n",
       "<p>3796 rows × 8 columns</p>\n",
       "</div>"
      ],
      "text/plain": [
       "      nominal__v_12  nominal__v_18  nominal__v_20  nominal__v_21  \\\n",
       "id                                                                 \n",
       "0                 0             25             17              0   \n",
       "1                 6             74             49              5   \n",
       "2                 0             25             95              0   \n",
       "3                 0             18              0              0   \n",
       "4                 6             51             44              1   \n",
       "...             ...            ...            ...            ...   \n",
       "3791              0             18              0              0   \n",
       "3792              9             24              4              4   \n",
       "3793              7             23             50              2   \n",
       "3794              1             50             76              1   \n",
       "3795              0              7              0              0   \n",
       "\n",
       "      nominal__v_25  nominal__v_3  nominal__v_32  nominal__v_4  \n",
       "id                                                              \n",
       "0                 4            10              0            18  \n",
       "1                 3           119             33            28  \n",
       "2                 0            20             74            76  \n",
       "3                 0            44              0            57  \n",
       "4                42            33             11             6  \n",
       "...             ...           ...            ...           ...  \n",
       "3791              0            10             28            47  \n",
       "3792              5            33              2            66  \n",
       "3793              0            31             76            22  \n",
       "3794             68            69             28            58  \n",
       "3795              0            71              0            41  \n",
       "\n",
       "[3796 rows x 8 columns]"
      ]
     },
     "execution_count": 36,
     "metadata": {},
     "output_type": "execute_result"
    }
   ],
   "source": [
    "nominal_data"
   ]
  },
  {
   "cell_type": "code",
   "execution_count": 5,
   "id": "78716b26-76af-4462-897b-6acc2bf8448f",
   "metadata": {},
   "outputs": [
    {
     "name": "stdout",
     "output_type": "stream",
     "text": [
      "0.0005298962216687659\n"
     ]
    },
    {
     "data": {
      "text/plain": [
       "{'train': {'nominal__v_12': 9,\n",
       "  'nominal__v_18': 14,\n",
       "  'nominal__v_20': 15,\n",
       "  'nominal__v_21': 11,\n",
       "  'nominal__v_25': 15,\n",
       "  'nominal__v_3': 13,\n",
       "  'nominal__v_32': 14,\n",
       "  'nominal__v_4': 13},\n",
       " 'eval': {'nominal__v_12': 6,\n",
       "  'nominal__v_18': 7,\n",
       "  'nominal__v_20': 7,\n",
       "  'nominal__v_21': 6,\n",
       "  'nominal__v_25': 7,\n",
       "  'nominal__v_3': 7,\n",
       "  'nominal__v_32': 7,\n",
       "  'nominal__v_4': 4}}"
      ]
     },
     "execution_count": 5,
     "metadata": {},
     "output_type": "execute_result"
    }
   ],
   "source": [
    "# X_dn.loc[:,nominal].unique()\n",
    "\"\"\"\n",
    "Omit Unseen Categories and set them to zero\n",
    "\"\"\"\n",
    "X_dn = raw_data.copy()\n",
    "X_dn_eval  = raw_data_eval.copy()\n",
    "omit_nominal = {x:[] for x in nominal}\n",
    "for c in nominal:\n",
    "    unq_train = raw_data[c].unique()    \n",
    "    unq_eval = raw_data_eval[c].unique()\n",
    "    uni = np.union1d(unq_train,unq_eval)\n",
    "    inter = np.intersect1d(unq_train,unq_eval)\n",
    "    omit_nominal[c] = list(np.setdiff1d(uni,inter,assume_unique=True))\n",
    "\n",
    "def omit_nom(row):\n",
    "    for c in nominal:\n",
    "        if row[c] in omit_nominal[c]:\n",
    "            row[c] = 0\n",
    "    return row\n",
    "X_dn = X_dn.apply(omit_nom,axis=1)\n",
    "X_dn_eval = X_dn_eval.apply(omit_nom,axis=1)\n",
    "\n",
    "X_master = pd.concat([X_dn.loc[:,X_dn_eval.columns],X_dn_eval],ignore_index=True,axis=0)\n",
    "\"\"\"\n",
    "Find Lowest Slot for infrequent Values\n",
    "\"\"\"\n",
    "unique_n = {}\n",
    "for c in nominal:\n",
    "    unique_n[c]  = X_master[c].unique().astype('int')\n",
    "\n",
    "infreq_slot = {x:0 for x in nominal}\n",
    "\n",
    "for c in unique_n:\n",
    "    min_c = unique_n[c].min()    \n",
    "    max_c = unique_n[c].max()\n",
    "    c_range = np.arange(min_c,max_c,)\n",
    "    infreq_slot[c] = np.setdiff1d(c_range,unique_n[c]).min()\n",
    "    \n",
    "\"\"\"\n",
    "Find Lowest Infrequency Threshold\n",
    "\"\"\"\n",
    "vc_train = {x:X_dn[x].value_counts().to_dict() for x in nominal}\n",
    "vc_eval = {x:X_dn_eval[x].value_counts().to_dict() for x in nominal}\n",
    "infreq_threshold = {'train':{},'eval': {}}\n",
    "f2 = 0.0\n",
    "f1 = 0.006\n",
    "for c in nominal:\n",
    "\n",
    "    Tfreqs1 = list(vc_train[c].values())\n",
    "    Tfreqs1 = sorted(set(Tfreqs1))\n",
    "    infreq_threshold['train'][c] = min(0.005,Tfreqs1[12])\n",
    "    if '12' in c or '21' in c:\n",
    "        infreq_threshold['train'][c] = Tfreqs1[3]\n",
    "        \n",
    "\n",
    "        \n",
    "    Tfreqs2 = list(vc_eval[c].values())\n",
    "#     Tfreqs2 = sorted(Tfreqs2)\n",
    "    Tfreqs2 = sorted(set(Tfreqs2))\n",
    "    infreq_threshold['eval'][c] = Tfreqs2[6]\n",
    "    if '12' in c or '21' in c or '4' in c:\n",
    "        infreq_threshold['eval'][c] = Tfreqs2[3]\n",
    "\n",
    "train_infreq = {x:[] for x in nominal}\n",
    "eval_infreq = {x:[] for x in nominal}\n",
    "selected_infreq = {x:[] for x in nominal}\n",
    "\n",
    "\n",
    "\"\"\"\n",
    "Find Infrequent Categories\n",
    "\"\"\"\n",
    "\n",
    "for c in nominal:\n",
    "    for k in vc_train[c]:\n",
    "        if vc_train[c][k] < infreq_threshold['train'][c]:\n",
    "        # if vc_train[c][k] < 10:\n",
    "            train_infreq[c].append(k)\n",
    "    for k in vc_eval[c]:\n",
    "        if vc_eval[c][k] < infreq_threshold['eval'][c]:\n",
    "        # if vc_eval[c][k] < 5:\n",
    "            eval_infreq[c].append(k)\n",
    "\n",
    "for c in nominal:\n",
    "    cmmn_infreq = np.union1d(train_infreq[c],eval_infreq[c])\n",
    "    selected_infreq[c] = list(cmmn_infreq)\n",
    "    \n",
    "def mark_infreq_nom(row):\n",
    "    for c in nominal:\n",
    "        if row[c] in selected_infreq[c]:\n",
    "            row[c] = infreq_slot[c]\n",
    "    return row\n",
    "\n",
    "X_dn = X_dn.apply(mark_infreq_nom,axis=1)\n",
    "X_dn_eval = X_dn_eval.apply(mark_infreq_nom,axis=1)\n",
    "def ohe(df):\n",
    "    return pd.get_dummies(df.loc[:,nominal],columns=nominal)\n",
    "vt = VarianceThreshold()\n",
    "print(mutual_info_classif(vt.fit_transform(ohe(X_dn)),raw_data.target, random_state=42,discrete_features=True).mean() - mutual_info_classif(vt.fit_transform(ohe(raw_data)),raw_data.target, random_state=42,discrete_features=True).mean())\n",
    "\n",
    "infreq_threshold"
   ]
  },
  {
   "cell_type": "code",
   "execution_count": 19,
   "id": "b8a9922a-e038-4cf8-a5e8-0db4e76cdbee",
   "metadata": {},
   "outputs": [],
   "source": [
    "agg_tc =raw_data.groupby(['nominal__v_18'])['target'].value_counts().unstack().fillna(0).astype(np.uint16).sort_values(by=[1,0,2],ascending=False)\n",
    "agg_tc\n",
    "\n",
    "eval_freq  = raw_data_eval.nominal__v_18.value_counts()\n",
    "\n",
    "agg_tc['eval'] = eval_freq\n",
    "agg_tc['total_freq'] = agg_tc[0]+agg_tc[1]+agg_tc[2]\n",
    "agg_tc = agg_tc.fillna(0).astype('int')\n",
    "tmp: pd.DataFrame = agg_tc[agg_tc['eval'] ==0]\n",
    "# tmp.filter\n",
    "tmp\n",
    "agg_tc[agg_tc['eval'] == 0]\n",
    "\n",
    "agg_tc[agg_tc['total_freq']<=15]\n",
    "agg_tc['t_e'] = agg_tc['eval']/agg_tc['total_freq']\n",
    "\n",
    "# agg_tc[agg_tc['eval']==agg_tc['total_freq']]\n",
    "agg_tc"
   ]
  },
  {
   "cell_type": "code",
   "execution_count": 47,
   "id": "4e758b65-2d2d-4551-b36b-5328758d1758",
   "metadata": {},
   "outputs": [],
   "source": [
    "import copy\n",
    "discrete_ordinal = copy.deepcopy(ordinal)\n",
    "discrete_ordinal.remove('ordinal__norm')"
   ]
  },
  {
   "cell_type": "code",
   "execution_count": 50,
   "id": "84fd2c70-e4f3-432d-954c-348a9acae767",
   "metadata": {},
   "outputs": [
    {
     "data": {
      "text/plain": [
       "329"
      ]
     },
     "execution_count": 50,
     "metadata": {},
     "output_type": "execute_result"
    }
   ],
   "source": [
    "\"\"\"\n",
    "Min Samples with all Categories\n",
    "\"\"\"\n",
    "\n",
    "X = raw_data.loc[:,nominal+discrete_ordinal]\n",
    "cat_idx = {c:{} for c in nominal+discrete_ordinal}\n",
    "for c in nominal+discrete_ordinal:\n",
    "    categories = X[c].unique()\n",
    "    for ca in categories:\n",
    "        cat_idx[c][ca] = X[X[c]==ca].index\n",
    "    # for c_ in discrete_ordinal:\n",
    "from numpy.random import default_rng\n",
    "def gen_rand_unique_idx(cat_idx):\n",
    "    dfe1 = default_rng()\n",
    "    m_idx = set()\n",
    "    for c in cat_idx:\n",
    "        for k,v in cat_idx[c].items():\n",
    "            dfe = default_rng(seed=dfe1.integers(0,dfe1.integers(0,2121231212)))\n",
    "            _ = dfe.choice(v,replace=False)\n",
    "            # for e_ in _:\n",
    "            m_idx.add(_)\n",
    "    return m_idx\n",
    "fin_idx = gen_rand_unique_idx(cat_idx)\n",
    "for _ in range(100):\n",
    "    tmp = gen_rand_unique_idx(cat_idx)\n",
    "    fin_idx = fin_idx.intersection(tmp)\n",
    "    \n",
    "nw_X = X.loc[fin_idx,:]\n",
    "for c in nominal+discrete_ordinal:\n",
    "    tot = X[c].unique()\n",
    "    av = nw_X[c].unique()\n",
    "    miss = np.setdiff1d(tot,av)\n",
    "    for m in miss:\n",
    "        unc = np.setdiff1d(cat_idx[c][m],fin_idx)\n",
    "        dfe = default_rng()\n",
    "        ani  =dfe.choice(unc)\n",
    "        fin_idx.add(ani)\n",
    "len(fin_idx)\n"
   ]
  },
  {
   "cell_type": "code",
   "execution_count": 88,
   "id": "10005ad8-40ff-440d-8892-935acbc70e18",
   "metadata": {},
   "outputs": [],
   "source": [
    "other = raw_data.index.difference(fin_idx)\n",
    "X = pd.get_dummies(raw_data.loc[:,nominal+discrete_ordinal],columns=nominal+discrete_ordinal)\n",
    "y = raw_data.target\n",
    "X_train, X_test, y_train,y_test = gen_train_test(X.loc[other,:],y.loc[other],test_size=0.3)\n",
    "X_train = X.loc[X_train.index.union(fin_idx),:]\n",
    "y_train = y.loc[y_train.index.union(fin_idx)]\n",
    "clf1 =  CategoricalNB(fit_prior=False,alpha = 1.0e-10,min_categories=2)\n",
    "clf2_ = ComplementNB(alpha = 1.0e-10, fit_prior=True, norm=False)\n",
    "clf2  = OneVsRestClassifier(clf2_,n_jobs=-1)\n",
    "clf3_  = BernoulliNB(binarize=False,alpha = 1.0e-10,fit_prior=True)\n",
    "clf3  = OneVsRestClassifier(clf3_,n_jobs=-1)\n",
    "clf4_  = MultinomialNB(alpha = 1.0e-10,fit_prior=True)\n",
    "clf4  = OneVsRestClassifier(clf4_,n_jobs=-1)\n",
    "\n",
    "\n",
    "estimators = [\n",
    "('cnb',clf1),\n",
    "('comnb',clf2),\n",
    "('bnb',clf3),\n",
    "('mnb',clf4)\n",
    "]\n",
    "stc1 = StackingClassifier(estimators=estimators,final_estimator=LogisticRegressionCV(**lgr_params),n_jobs=-1)"
   ]
  },
  {
   "cell_type": "code",
   "execution_count": 89,
   "id": "82162ae1-f08e-4293-b8e5-a4c42f4d419e",
   "metadata": {},
   "outputs": [],
   "source": [
    "with parallel_backend('threading'):\n",
    "    stc1.fit(X_train,y_train)\n",
    "    "
   ]
  },
  {
   "cell_type": "code",
   "execution_count": 104,
   "id": "f39ae1fe-a848-4ada-a4b5-55650dcaa125",
   "metadata": {},
   "outputs": [
    {
     "name": "stdout",
     "output_type": "stream",
     "text": [
      "              precision    recall  f1-score   support\n",
      "\n",
      "           0       0.77      0.64      0.70       336\n",
      "           1       0.83      0.72      0.77       514\n",
      "           2       0.40      0.65      0.50       191\n",
      "\n",
      "    accuracy                           0.68      1041\n",
      "   macro avg       0.67      0.67      0.66      1041\n",
      "weighted avg       0.73      0.68      0.70      1041\n",
      "\n"
     ]
    }
   ],
   "source": [
    "y_pred = stc1.predict(X_test)\n",
    "print(classification_report(y_test,y_pred))"
   ]
  },
  {
   "cell_type": "code",
   "execution_count": 105,
   "id": "ead8a929-f716-4e27-b0d8-e8c1553009d6",
   "metadata": {
    "scrolled": true,
    "tags": []
   },
   "outputs": [],
   "source": [
    "# stc1.estimators_[0].predict(X_test)\n",
    "for clf in stc1.estimators_:\n",
    "        clf.partial_fit(X.loc[fin_idx,:],y.loc[fin_idx],classes=[0,1,2])\n",
    "        \n",
    "\n",
    "        cv  = RepeatedStratifiedKFold(n_splits=10,n_repeats=50, random_state=42)\n",
    "\n",
    "        for train_index, test_index in cv.split(X_train, y_train):\n",
    "            X_train_, X_test_ = X.loc[train_index,:], X.loc[test_index,:]\n",
    "            y_train_, y_test_ = y[train_index], y[test_index]\n",
    "#             # print(X_train.shape)\n",
    "\n",
    "            clf.partial_fit(X_train_,y_train_,classes=[0,1,2])   \n",
    "            clf.partial_fit(X_test_,y_test_,classes=[0,1,2])\n",
    "        # y_pred = clf.predict(X_test)\n",
    "        # print(classification_report(y_test,y_pred))"
   ]
  },
  {
   "cell_type": "code",
   "execution_count": 113,
   "id": "50ce86f5-2b36-43e7-9996-1bd7e161c41b",
   "metadata": {},
   "outputs": [],
   "source": [
    "ufo_val = {}\n",
    "ufo_idx = None\n",
    "cou = 0\n",
    "for c in nominal+discrete_ordinal:\n",
    "    i_ = raw_data[c].unique()\n",
    "    i__ = raw_data_eval[c].unique()\n",
    "    ufo = np.setdiff1d(i_,i__)\n",
    "    ufo_val[c] = list(ufo)\n",
    "    cou+=len(ufo)\n",
    "    if len(ufo)>0:\n",
    "        tmp = raw_data[raw_data[c]==list(ufo)[0]].index\n",
    "        for val in list(ufo):\n",
    "            tmp = tmp.union(raw_data[raw_data[c]==val].index)\n",
    "            if type(ufo_idx) == pd.core.indexes.numeric.Int64Index:\n",
    "                ufo_idx = ufo_idx.union(tmp)\n",
    "            else:\n",
    "                ufo_idx = tmp "
   ]
  },
  {
   "cell_type": "code",
   "execution_count": 114,
   "id": "96567acb-d11e-4c26-9e3b-e3fa88bc02ea",
   "metadata": {},
   "outputs": [
    {
     "data": {
      "text/plain": [
       "194"
      ]
     },
     "execution_count": 114,
     "metadata": {},
     "output_type": "execute_result"
    }
   ],
   "source": []
  },
  {
   "cell_type": "code",
   "execution_count": 100,
   "id": "44f41686-01a8-4149-8304-bb66141f757d",
   "metadata": {},
   "outputs": [
    {
     "data": {
      "text/html": [
       "<style>#sk-container-id-4 {color: black;background-color: white;}#sk-container-id-4 pre{padding: 0;}#sk-container-id-4 div.sk-toggleable {background-color: white;}#sk-container-id-4 label.sk-toggleable__label {cursor: pointer;display: block;width: 100%;margin-bottom: 0;padding: 0.3em;box-sizing: border-box;text-align: center;}#sk-container-id-4 label.sk-toggleable__label-arrow:before {content: \"▸\";float: left;margin-right: 0.25em;color: #696969;}#sk-container-id-4 label.sk-toggleable__label-arrow:hover:before {color: black;}#sk-container-id-4 div.sk-estimator:hover label.sk-toggleable__label-arrow:before {color: black;}#sk-container-id-4 div.sk-toggleable__content {max-height: 0;max-width: 0;overflow: hidden;text-align: left;background-color: #f0f8ff;}#sk-container-id-4 div.sk-toggleable__content pre {margin: 0.2em;color: black;border-radius: 0.25em;background-color: #f0f8ff;}#sk-container-id-4 input.sk-toggleable__control:checked~div.sk-toggleable__content {max-height: 200px;max-width: 100%;overflow: auto;}#sk-container-id-4 input.sk-toggleable__control:checked~label.sk-toggleable__label-arrow:before {content: \"▾\";}#sk-container-id-4 div.sk-estimator input.sk-toggleable__control:checked~label.sk-toggleable__label {background-color: #d4ebff;}#sk-container-id-4 div.sk-label input.sk-toggleable__control:checked~label.sk-toggleable__label {background-color: #d4ebff;}#sk-container-id-4 input.sk-hidden--visually {border: 0;clip: rect(1px 1px 1px 1px);clip: rect(1px, 1px, 1px, 1px);height: 1px;margin: -1px;overflow: hidden;padding: 0;position: absolute;width: 1px;}#sk-container-id-4 div.sk-estimator {font-family: monospace;background-color: #f0f8ff;border: 1px dotted black;border-radius: 0.25em;box-sizing: border-box;margin-bottom: 0.5em;}#sk-container-id-4 div.sk-estimator:hover {background-color: #d4ebff;}#sk-container-id-4 div.sk-parallel-item::after {content: \"\";width: 100%;border-bottom: 1px solid gray;flex-grow: 1;}#sk-container-id-4 div.sk-label:hover label.sk-toggleable__label {background-color: #d4ebff;}#sk-container-id-4 div.sk-serial::before {content: \"\";position: absolute;border-left: 1px solid gray;box-sizing: border-box;top: 0;bottom: 0;left: 50%;z-index: 0;}#sk-container-id-4 div.sk-serial {display: flex;flex-direction: column;align-items: center;background-color: white;padding-right: 0.2em;padding-left: 0.2em;position: relative;}#sk-container-id-4 div.sk-item {position: relative;z-index: 1;}#sk-container-id-4 div.sk-parallel {display: flex;align-items: stretch;justify-content: center;background-color: white;position: relative;}#sk-container-id-4 div.sk-item::before, #sk-container-id-4 div.sk-parallel-item::before {content: \"\";position: absolute;border-left: 1px solid gray;box-sizing: border-box;top: 0;bottom: 0;left: 50%;z-index: -1;}#sk-container-id-4 div.sk-parallel-item {display: flex;flex-direction: column;z-index: 1;position: relative;background-color: white;}#sk-container-id-4 div.sk-parallel-item:first-child::after {align-self: flex-end;width: 50%;}#sk-container-id-4 div.sk-parallel-item:last-child::after {align-self: flex-start;width: 50%;}#sk-container-id-4 div.sk-parallel-item:only-child::after {width: 0;}#sk-container-id-4 div.sk-dashed-wrapped {border: 1px dashed gray;margin: 0 0.4em 0.5em 0.4em;box-sizing: border-box;padding-bottom: 0.4em;background-color: white;}#sk-container-id-4 div.sk-label label {font-family: monospace;font-weight: bold;display: inline-block;line-height: 1.2em;}#sk-container-id-4 div.sk-label-container {text-align: center;}#sk-container-id-4 div.sk-container {/* jupyter's `normalize.less` sets `[hidden] { display: none; }` but bootstrap.min.css set `[hidden] { display: none !important; }` so we also need the `!important` here to be able to override the default hidden behavior on the sphinx rendered scikit-learn.org. See: https://github.com/scikit-learn/scikit-learn/issues/21755 */display: inline-block !important;position: relative;}#sk-container-id-4 div.sk-text-repr-fallback {display: none;}</style><div id=\"sk-container-id-4\" class=\"sk-top-container\"><div class=\"sk-text-repr-fallback\"><pre>LogisticRegressionCV(Cs=100,\n",
       "                     class_weight={0: 1.0179672834540092, 1: 0.6791912685632492,\n",
       "                                   2: 1.833816425120773},\n",
       "                     cv=RepeatedStratifiedKFold(n_repeats=5, n_splits=3, random_state=30),\n",
       "                     l1_ratios=array([0. , 0.1, 0.2, 0.3, 0.4, 0.5, 0.6, 0.7, 0.8, 0.9]),\n",
       "                     max_iter=200000, multi_class=&#x27;ovr&#x27;, n_jobs=24,\n",
       "                     penalty=&#x27;elasticnet&#x27;, random_state=42, scoring=&#x27;f1_macro&#x27;,\n",
       "                     solver=&#x27;saga&#x27;)</pre><b>In a Jupyter environment, please rerun this cell to show the HTML representation or trust the notebook. <br />On GitHub, the HTML representation is unable to render, please try loading this page with nbviewer.org.</b></div><div class=\"sk-container\" hidden><div class=\"sk-item\"><div class=\"sk-estimator sk-toggleable\"><input class=\"sk-toggleable__control sk-hidden--visually\" id=\"sk-estimator-id-12\" type=\"checkbox\" checked><label for=\"sk-estimator-id-12\" class=\"sk-toggleable__label sk-toggleable__label-arrow\">LogisticRegressionCV</label><div class=\"sk-toggleable__content\"><pre>LogisticRegressionCV(Cs=100,\n",
       "                     class_weight={0: 1.0179672834540092, 1: 0.6791912685632492,\n",
       "                                   2: 1.833816425120773},\n",
       "                     cv=RepeatedStratifiedKFold(n_repeats=5, n_splits=3, random_state=30),\n",
       "                     l1_ratios=array([0. , 0.1, 0.2, 0.3, 0.4, 0.5, 0.6, 0.7, 0.8, 0.9]),\n",
       "                     max_iter=200000, multi_class=&#x27;ovr&#x27;, n_jobs=24,\n",
       "                     penalty=&#x27;elasticnet&#x27;, random_state=42, scoring=&#x27;f1_macro&#x27;,\n",
       "                     solver=&#x27;saga&#x27;)</pre></div></div></div></div></div>"
      ],
      "text/plain": [
       "LogisticRegressionCV(Cs=100,\n",
       "                     class_weight={0: 1.0179672834540092, 1: 0.6791912685632492,\n",
       "                                   2: 1.833816425120773},\n",
       "                     cv=RepeatedStratifiedKFold(n_repeats=5, n_splits=3, random_state=30),\n",
       "                     l1_ratios=array([0. , 0.1, 0.2, 0.3, 0.4, 0.5, 0.6, 0.7, 0.8, 0.9]),\n",
       "                     max_iter=200000, multi_class='ovr', n_jobs=24,\n",
       "                     penalty='elasticnet', random_state=42, scoring='f1_macro',\n",
       "                     solver='saga')"
      ]
     },
     "execution_count": 100,
     "metadata": {},
     "output_type": "execute_result"
    }
   ],
   "source": [
    "new_probs = stc1.transform(X_train)\n",
    "stc1.final_estimator_.fit(new_probs,y_train)"
   ]
  },
  {
   "cell_type": "code",
   "execution_count": null,
   "id": "626e6cf2-82c2-442b-b56d-ffc48404cd36",
   "metadata": {},
   "outputs": [],
   "source": [
    "#     X_train2, X_valid, y_train2,y_valid = gen_train_test(X_train,y_train,test_size=0.3)\n",
    "#     for clf in [clf1,clf2,clf3,clf4]:\n",
    "#         clf.partial_fit(X.loc[fin_idx,:],y.loc[fin_idx],classes=[0,1,2])\n",
    "        \n",
    "\n",
    "#         cv  = RepeatedStratifiedKFold(n_splits=5,n_repeats=20, random_state=42)\n",
    "\n",
    "#         for train_index, test_index in cv.split(X_train2, y_train2):\n",
    "#             X_train_, X_test_ = X.loc[train_index,:], X.loc[test_index,:]\n",
    "#             y_train_, y_test_ = y[train_index], y[test_index]\n",
    "#             # print(X_train.shape)\n",
    "\n",
    "#             clf.partial_fit(X_train_,y_train_,classes=[0,1,2])   \n",
    "#             clf.partial_fit(X_test_,y_test_,classes=[0,1,2])\n",
    "#         y_pred = clf.predict(X_test)\n",
    "#         print(classification_report(y_test,y_pred))"
   ]
  },
  {
   "cell_type": "code",
   "execution_count": 809,
   "id": "fc3ec685-f717-4b0f-bd48-b337ca7909b5",
   "metadata": {},
   "outputs": [
    {
     "name": "stdout",
     "output_type": "stream",
     "text": [
      "              precision    recall  f1-score   support\n",
      "\n",
      "           0       0.73      0.67      0.70       335\n",
      "           1       0.78      0.80      0.79       511\n",
      "           2       0.48      0.50      0.49       192\n",
      "\n",
      "    accuracy                           0.70      1038\n",
      "   macro avg       0.66      0.66      0.66      1038\n",
      "weighted avg       0.71      0.70      0.70      1038\n",
      "\n"
     ]
    }
   ],
   "source": []
  },
  {
   "cell_type": "code",
   "execution_count": 95,
   "id": "8690e6b8-aa7d-4e03-b489-9dc49a8275bc",
   "metadata": {},
   "outputs": [
    {
     "data": {
      "image/png": "[encoded data removed]",
      "text/plain": [
       "<Figure size 432x288 with 1 Axes>"
      ]
     },
     "metadata": {
      "needs_background": "light"
     },
     "output_type": "display_data"
    }
   ],
   "source": [
    "ohe(X_dn).corrwith(raw_data.target,method='kendall').sort_values().plot(rot=90, label='New Nominal')\n",
    "_ = ohe(raw_data).corrwith(raw_data.target,method='kendall').sort_values().plot(rot=90,label='Old Nominal')\n",
    "\n",
    "_ = plt.legend()"
   ]
  },
  {
   "cell_type": "code",
   "execution_count": 116,
   "id": "93a54a39-bf63-471d-8855-5949630e917f",
   "metadata": {},
   "outputs": [],
   "source": [
    "import copy\n",
    "discrete_binary = copy.deepcopy(binary)\n",
    "discrete_binary.remove('binary__sum')\n",
    "discrete_binary.remove('binary__literal')\n",
    "discrete_ordinal = copy.deepcopy(ordinal)\n",
    "discrete_ordinal.remove('ordinal__norm')"
   ]
  },
  {
   "cell_type": "code",
   "execution_count": 7,
   "id": "fbc1c422-3362-41d1-b975-3b8aa785d1e0",
   "metadata": {},
   "outputs": [
    {
     "data": {
      "text/plain": [
       "[0.49077976817702845, 0.327449947312961, 0.18177028451001054]"
      ]
     },
     "execution_count": 7,
     "metadata": {},
     "output_type": "execute_result"
    }
   ],
   "source": [
    "(raw_data.target.value_counts()/3796).to_list()"
   ]
  },
  {
   "cell_type": "code",
   "execution_count": 111,
   "id": "3c44143c-a67e-4143-9e2b-fca04a922c62",
   "metadata": {},
   "outputs": [
    {
     "data": {
      "text/plain": [
       "[16, 49, 54, 15, 44, 61, 51, 64]"
      ]
     },
     "execution_count": 111,
     "metadata": {},
     "output_type": "execute_result"
    }
   ],
   "source": [
    "# X_dn.loc[:,nominal].nunique().to_list()\n",
    "discrete_ordinal = copy.deepcopy(ordinal)\n",
    "discrete_ordinal.remove('ordinal__norm')\n",
    "X = X_dn.loc[:,nominal]\n",
    "min_categories = X.nunique().to_list()\n",
    "min_categories"
   ]
  },
  {
   "cell_type": "code",
   "execution_count": 18,
   "id": "c95d0618-b05c-4c6c-8277-759cc29adb23",
   "metadata": {},
   "outputs": [],
   "source": [
    "clf = CategoricalNB(class_prior=np.array([0.49077976817702845, 0.327449947312961, 0.18177028451001054]),min_categories=[11, 10, 7, 11, 8, 13, 8, 17],alpha=0)"
   ]
  },
  {
   "cell_type": "code",
   "execution_count": 2,
   "id": "c44fa26b-f9bc-408d-9692-6180d9394723",
   "metadata": {},
   "outputs": [],
   "source": [
    "\n",
    "\n",
    "raw_data_ufo_train = \n",
    "raw_data_eval_ufo = \n"
   ]
  }
 ],
 "metadata": {
  "kernelspec": {
   "display_name": "Python (autoskl)",
   "language": "python",
   "name": "autoskl"
  },
  "language_info": {
   "codemirror_mode": {
    "name": "ipython",
    "version": 3
   },
   "file_extension": ".py",
   "mimetype": "text/x-python",
   "name": "python",
   "nbconvert_exporter": "python",
   "pygments_lexer": "ipython3",
   "version": "3.9.10"
  },
  "widgets": {
   "application/vnd.jupyter.widget-state+json": {
    "state": {},
    "version_major": 2,
    "version_minor": 0
   }
  }
 },
 "nbformat": 4,
 "nbformat_minor": 5
}
