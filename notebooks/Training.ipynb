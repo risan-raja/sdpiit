{
 "cells": [
  {
   "cell_type": "markdown",
   "id": "d228060e-999c-49c3-93dc-fdb62ef5ea9b",
   "metadata": {
    "tags": []
   },
   "source": [
    "## Library Setup\n",
    "\n",
    "### Transformations\n",
    " - <mark>__Scale Down Ordinal Data By Substracting all samples with Global Feature Minimum__</mark>\n",
    " - <mark>__Sort Columns by Name for better visibility__</mark>\n",
    " - <mark>__Ordinally Encode Nominal Data to reduce categorical distance within a feature__</mark>\n",
    " - <mark>__Add a Column - Sum of all Binary Features along x-axis__</mark>\n",
    " - <mark>__Standardise the Ratio Features using MinMaxScaler__</mark>\n",
    " - <mark>__Group By binary Literal__</mark>\n",
    " - <mark>__Generated A Normal Rank for all Ordinal Features__</mark>\n",
    " - <mark>__Generated Dummy Variable for categoricals__</mark>\n",
    " - <mark>__Made all Type Conversions__</mark>\n"
   ]
  },
  {
   "cell_type": "code",
   "execution_count": 1,
   "id": "2106e4b7-de89-443b-bd8f-18b772f5f5d6",
   "metadata": {
    "scrolled": true,
    "tags": []
   },
   "outputs": [
    {
     "name": "stdout",
     "output_type": "stream",
     "text": [
      "importing Jupyter notebook from setup_transform.ipynb\n"
     ]
    },
    {
     "name": "stderr",
     "output_type": "stream",
     "text": [
      "Intel(R) Extension for Scikit-learn* enabled (https://github.com/intel/scikit-learn-intelex)\n"
     ]
    }
   ],
   "source": [
    "# import widen_notebook\n",
    "from mysetup import NotebookFinder\n",
    "import sys\n",
    "sys.meta_path.append(NotebookFinder())\n",
    "\n",
    "from setup_transform import *\n",
    "%matplotlib inline\n",
    "cl_weight = sklearn.utils.compute_class_weight(class_weight='balanced',classes=[0,1,2],y=y)\n",
    "CLASS_WEIGHTS = {i:cl_weight[i] for i in range(3)}    \n",
    "lgr_params = dict(class_weight=CLASS_WEIGHTS,fit_intercept=True,multi_class='ovr',max_iter=200000,random_state=42,n_jobs=24, penalty ='elasticnet' ,cv=RepeatedStratifiedKFold(n_splits=3,n_repeats=5,random_state=30),scoring='f1_macro',solver='saga',Cs=100,l1_ratios= np.linspace(0,1,endpoint=False,num=10))\n",
    "def_cv = RepeatedStratifiedKFold(n_splits=3,n_repeats=2,random_state=42)\n",
    "from sklearnex import unpatch_sklearn\n",
    "# unpatch_sklearn()\n",
    "import copy\n",
    "import warnings\n",
    "warnings.filterwarnings('ignore')"
   ]
  },
  {
   "cell_type": "markdown",
   "id": "3f734e05-0ea6-4a5f-aefd-51dd0180fa5e",
   "metadata": {},
   "source": [
    "## Training"
   ]
  },
  {
   "cell_type": "code",
   "execution_count": null,
   "id": "c0aa1c51-fab7-4793-822e-96f8f12ff127",
   "metadata": {},
   "outputs": [],
   "source": []
  }
 ],
 "metadata": {
  "kernelspec": {
   "display_name": "Python (autoskl)",
   "language": "python",
   "name": "autoskl"
  },
  "language_info": {
   "codemirror_mode": {
    "name": "ipython",
    "version": 3
   },
   "file_extension": ".py",
   "mimetype": "text/x-python",
   "name": "python",
   "nbconvert_exporter": "python",
   "pygments_lexer": "ipython3",
   "version": "3.9.10"
  },
  "widgets": {
   "application/vnd.jupyter.widget-state+json": {
    "state": {},
    "version_major": 2,
    "version_minor": 0
   }
  }
 },
 "nbformat": 4,
 "nbformat_minor": 5
}
