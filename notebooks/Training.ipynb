{
 "cells": [
  {
   "cell_type": "code",
   "execution_count": 1,
   "id": "716e0b2d-804e-49c8-841c-1fcfe0418340",
   "metadata": {
    "execution": {
     "iopub.execute_input": "2022-09-07T06:59:14.692700Z",
     "iopub.status.busy": "2022-09-07T06:59:14.692288Z",
     "iopub.status.idle": "2022-09-07T06:59:48.143716Z",
     "shell.execute_reply": "2022-09-07T06:59:48.142375Z",
     "shell.execute_reply.started": "2022-09-07T06:59:14.692590Z"
    },
    "tags": []
   },
   "outputs": [
    {
     "name": "stdout",
     "output_type": "stream",
     "text": [
      "importing Jupyter notebook from setup_transform.ipynb\n"
     ]
    },
    {
     "name": "stderr",
     "output_type": "stream",
     "text": [
      "Intel(R) Extension for Scikit-learn* enabled (https://github.com/intel/scikit-learn-intelex)\n"
     ]
    }
   ],
   "source": [
    "# import widen_notebook\n",
    "from mysetup import NotebookFinder\n",
    "import sys\n",
    "sys.meta_path.append(NotebookFinder())\n",
    "\n",
    "from setup_transform import *\n",
    "%matplotlib inline\n",
    "cl_weight = sklearn.utils.compute_class_weight(class_weight='balanced',classes=[0,1,2],y=y)\n",
    "CLASS_WEIGHTS = {i:cl_weight[i] for i in range(3)}    \n",
    "def_cv = RepeatedStratifiedKFold(n_splits=3,n_repeats=5,random_state=42)\n",
    "lgr_params = dict(class_weight=CLASS_WEIGHTS,fit_intercept=False,multi_class='ovr',max_iter=2000000,random_state=42,n_jobs=24, penalty ='elasticnet' ,cv=def_cv,scoring='f1_macro',solver='saga',Cs=100,l1_ratios= np.linspace(0,1,endpoint=False,num=100))\n",
    "from sklearnex import unpatch_sklearn\n",
    "# unpatch_sklearn()\n",
    "import copy\n",
    "import warnings\n",
    "warnings.filterwarnings('ignore')"
   ]
  },
  {
   "cell_type": "code",
   "execution_count": 2,
   "id": "49353662-27b3-41d5-b1c0-720060700c08",
   "metadata": {
    "execution": {
     "iopub.execute_input": "2022-09-07T06:59:51.962281Z",
     "iopub.status.busy": "2022-09-07T06:59:51.961883Z",
     "iopub.status.idle": "2022-09-07T06:59:51.968645Z",
     "shell.execute_reply": "2022-09-07T06:59:51.967276Z",
     "shell.execute_reply.started": "2022-09-07T06:59:51.962234Z"
    },
    "tags": []
   },
   "outputs": [],
   "source": [
    "import copy\n",
    "discrete_ordinal = copy.deepcopy(ordinal)\n",
    "discrete_ordinal.remove('ordinal__norm')"
   ]
  },
  {
   "cell_type": "code",
   "execution_count": 2,
   "id": "0d89fae4-7165-4737-95da-20e41480435f",
   "metadata": {
    "execution": {
     "iopub.execute_input": "2022-09-06T02:54:56.307658Z",
     "iopub.status.busy": "2022-09-06T02:54:56.307290Z",
     "iopub.status.idle": "2022-09-06T02:54:56.320358Z",
     "shell.execute_reply": "2022-09-06T02:54:56.319400Z",
     "shell.execute_reply.started": "2022-09-06T02:54:56.307616Z"
    },
    "tags": []
   },
   "outputs": [],
   "source": [
    "from scipy.stats import chi2_contingency\n",
    "import numpy as np\n",
    "def cramer(data_df, varfs):\n",
    "    data_encoded = pd.DataFrame() \n",
    "\n",
    "    for i in varfs +['target']:\n",
    "        data_encoded[i]= data_df[i]\n",
    "\n",
    "\n",
    "\n",
    "    def cramers_V(var1,var2) :\n",
    "        crosstab =np.array(pd.crosstab(var1,var2, rownames=None, colnames=None)) # Cross table building\n",
    "        stat = chi2_contingency(crosstab)[0] # Keeping of the test statistic of the Chi2 test\n",
    "        obs = np.sum(crosstab) # Number of observations\n",
    "        mini = min(crosstab.shape)-1 # Take the minimum value between the columns and the rows of the cross table\n",
    "        return (stat/(obs*mini))\n",
    "\n",
    "\n",
    "\n",
    "    rows= []\n",
    "\n",
    "    for var1 in data_encoded:\n",
    "        col = []\n",
    "        for var2 in data_encoded :\n",
    "            cramers =cramers_V(data_encoded[var1], data_encoded[var2]) # Cramer's V test\n",
    "            col.append(round(cramers,2)) # Keeping of the rounded value of the Cramer's V  \n",
    "        rows.append(col)\n",
    "\n",
    "    cramers_results = np.array(rows)\n",
    "    df = pd.DataFrame(cramers_results, columns = data_encoded.columns, index =data_encoded.columns)\n",
    "\n",
    "\n",
    "    return df.target.iloc[:-1]"
   ]
  },
  {
   "cell_type": "code",
   "execution_count": 2,
   "id": "bfa062ce-c621-477d-b4dc-e032c095cc40",
   "metadata": {
    "execution": {
     "iopub.execute_input": "2022-09-06T08:53:27.513813Z",
     "iopub.status.busy": "2022-09-06T08:53:27.513398Z",
     "iopub.status.idle": "2022-09-06T08:53:31.581704Z",
     "shell.execute_reply": "2022-09-06T08:53:31.581177Z",
     "shell.execute_reply.started": "2022-09-06T08:53:27.513768Z"
    },
    "tags": []
   },
   "outputs": [
    {
     "name": "stdout",
     "output_type": "stream",
     "text": [
      "0.00035172395068976147\n"
     ]
    },
    {
     "data": {
      "text/plain": [
       "{'train': {'nominal__v_12': 9,\n",
       "  'nominal__v_18': 14,\n",
       "  'nominal__v_20': 15,\n",
       "  'nominal__v_21': 11,\n",
       "  'nominal__v_25': 15,\n",
       "  'nominal__v_3': 13,\n",
       "  'nominal__v_32': 14,\n",
       "  'nominal__v_4': 13},\n",
       " 'eval': {'nominal__v_12': 6,\n",
       "  'nominal__v_18': 7,\n",
       "  'nominal__v_20': 7,\n",
       "  'nominal__v_21': 6,\n",
       "  'nominal__v_25': 7,\n",
       "  'nominal__v_3': 7,\n",
       "  'nominal__v_32': 7,\n",
       "  'nominal__v_4': 4}}"
      ]
     },
     "execution_count": 2,
     "metadata": {},
     "output_type": "execute_result"
    }
   ],
   "source": [
    "# X_dn.loc[:,nominal].unique()\n",
    "\"\"\"\n",
    "Omit Unseen Categories and set them to zero\n",
    "\"\"\"\n",
    "X_dn = raw_data.copy()\n",
    "X_dn_eval  = raw_data_eval.copy()\n",
    "omit_nominal = {x:[] for x in nominal}\n",
    "for c in nominal:\n",
    "    unq_train = raw_data[c].unique()    \n",
    "    unq_eval = raw_data_eval[c].unique()\n",
    "    uni = np.union1d(unq_train,unq_eval)\n",
    "    inter = np.intersect1d(unq_train,unq_eval)\n",
    "    omit_nominal[c] = list(np.setdiff1d(uni,inter,assume_unique=True))\n",
    "\n",
    "def omit_nom(row):\n",
    "    for c in nominal:\n",
    "        if row[c] in omit_nominal[c]:\n",
    "            row[c] = 0\n",
    "    return row\n",
    "X_dn = X_dn.apply(omit_nom,axis=1)\n",
    "X_dn_eval = X_dn_eval.apply(omit_nom,axis=1)\n",
    "\n",
    "X_master = pd.concat([X_dn.loc[:,X_dn_eval.columns],X_dn_eval],ignore_index=True,axis=0)\n",
    "\"\"\"\n",
    "Find Lowest Slot for infrequent Values\n",
    "\"\"\"\n",
    "unique_n = {}\n",
    "for c in nominal:\n",
    "    unique_n[c]  = X_master[c].unique().astype('int')\n",
    "\n",
    "infreq_slot = {x:0 for x in nominal}\n",
    "\n",
    "for c in unique_n:\n",
    "    min_c = unique_n[c].min()    \n",
    "    max_c = unique_n[c].max()\n",
    "    c_range = np.arange(min_c,max_c,)\n",
    "    infreq_slot[c] = np.setdiff1d(c_range,unique_n[c]).min()\n",
    "    \n",
    "\"\"\"\n",
    "Find Lowest Infrequency Threshold\n",
    "\"\"\"\n",
    "vc_train = {x:X_dn[x].value_counts().to_dict() for x in nominal}\n",
    "vc_eval = {x:X_dn_eval[x].value_counts().to_dict() for x in nominal}\n",
    "infreq_threshold = {'train':{},'eval': {}}\n",
    "f2 = 0.0\n",
    "f1 = 0.006\n",
    "for c in nominal:\n",
    "\n",
    "    Tfreqs1 = list(vc_train[c].values())\n",
    "    Tfreqs1 = sorted(set(Tfreqs1))\n",
    "    infreq_threshold['train'][c] = Tfreqs1[12]\n",
    "    if '12' in c or '21' in c:\n",
    "        infreq_threshold['train'][c] = Tfreqs1[3]\n",
    "        \n",
    "\n",
    "        \n",
    "    Tfreqs2 = list(vc_eval[c].values())\n",
    "#     Tfreqs2 = sorted(Tfreqs2)\n",
    "    Tfreqs2 = sorted(set(Tfreqs2))\n",
    "    infreq_threshold['eval'][c] = Tfreqs2[6]\n",
    "    if '12' in c or '21' in c or '4' in c:\n",
    "        infreq_threshold['eval'][c] = Tfreqs2[3]\n",
    "\n",
    "train_infreq = {x:[] for x in nominal}\n",
    "eval_infreq = {x:[] for x in nominal}\n",
    "selected_infreq = {x:[] for x in nominal}\n",
    "\n",
    "\n",
    "\"\"\"\n",
    "Find Infrequent Categories\n",
    "\"\"\"\n",
    "\n",
    "for c in nominal:\n",
    "    for k in vc_train[c]:\n",
    "#         if vc_train[c][k] < infreq_threshold['train'][c]:\n",
    "        if vc_train[c][k] < 9:\n",
    "            train_infreq[c].append(k)\n",
    "    for k in vc_eval[c]:\n",
    "#         if vc_eval[c][k] < infreq_threshold['eval'][c]:\n",
    "        if vc_eval[c][k] < 3:\n",
    "            eval_infreq[c].append(k)\n",
    "\n",
    "for c in nominal:\n",
    "    cmmn_infreq = train_infreq[c]\n",
    "    selected_infreq[c] = list(cmmn_infreq)\n",
    "    \n",
    "def mark_infreq_nom(row):\n",
    "    for c in nominal:\n",
    "        if row[c] in selected_infreq[c]:\n",
    "            row[c] = infreq_slot[c]\n",
    "    return row\n",
    "\n",
    "X_dn = X_dn.apply(mark_infreq_nom,axis=1)\n",
    "X_dn_eval = X_dn_eval.apply(mark_infreq_nom,axis=1)\n",
    "def ohe(df):\n",
    "    return pd.get_dummies(df.loc[:,nominal],columns=nominal)\n",
    "vt = VarianceThreshold()\n",
    "print(mutual_info_classif(vt.fit_transform(ohe(X_dn)),raw_data.target, random_state=42,discrete_features=True).mean() - mutual_info_classif(vt.fit_transform(ohe(raw_data)),raw_data.target, random_state=42,discrete_features=True).mean())\n",
    "\n",
    "infreq_threshold"
   ]
  },
  {
   "cell_type": "code",
   "execution_count": 11,
   "id": "22db8fa9-6d12-44fb-92db-f28541b0c653",
   "metadata": {
    "execution": {
     "iopub.execute_input": "2022-09-06T09:03:55.678116Z",
     "iopub.status.busy": "2022-09-06T09:03:55.677719Z",
     "iopub.status.idle": "2022-09-06T09:04:09.218184Z",
     "shell.execute_reply": "2022-09-06T09:04:09.217678Z",
     "shell.execute_reply.started": "2022-09-06T09:03:55.678073Z"
    },
    "tags": []
   },
   "outputs": [
    {
     "data": {
      "text/plain": [
       "345"
      ]
     },
     "execution_count": 11,
     "metadata": {},
     "output_type": "execute_result"
    }
   ],
   "source": [
    "\"\"\"\n",
    "Min Samples with all Categories\n",
    "\"\"\"\n",
    "discrete_ordinal = copy.deepcopy(ordinal)\n",
    "discrete_ordinal.remove('ordinal__norm')\n",
    "X = X_dn.loc[:,nominal+discrete_ordinal]\n",
    "cat_idx = {c:{} for c in nominal+discrete_ordinal}\n",
    "for c in nominal+discrete_ordinal:\n",
    "    categories = X[c].unique()\n",
    "    for ca in categories:\n",
    "        cat_idx[c][ca] = X[X[c]==ca].index\n",
    "    # for c_ in discrete_ordinal:\n",
    "from numpy.random import default_rng\n",
    "def gen_rand_unique_idx(cat_idx):\n",
    "    dfe1 = default_rng()\n",
    "    m_idx = set()\n",
    "    for c in cat_idx:\n",
    "        for k,v in cat_idx[c].items():\n",
    "            dfe = default_rng(seed=dfe1.integers(0,dfe1.integers(0,2121231212)))\n",
    "            _ = dfe.choice(v,replace=False)\n",
    "            # for e_ in _:\n",
    "            m_idx.add(_)\n",
    "    return m_idx\n",
    "fin_idx = gen_rand_unique_idx(cat_idx)\n",
    "for _ in range(500):\n",
    "    tmp = gen_rand_unique_idx(cat_idx)\n",
    "    fin_idx = fin_idx.intersection(tmp)\n",
    "    \n",
    "nw_X = X.loc[fin_idx,:]\n",
    "for c in nominal+discrete_ordinal:\n",
    "    tot = X[c].unique()\n",
    "    av = nw_X[c].unique()\n",
    "    miss = np.setdiff1d(tot,av)\n",
    "    for m in miss:\n",
    "        unc = np.setdiff1d(cat_idx[c][m],fin_idx)\n",
    "        dfe = default_rng()\n",
    "        ani  =dfe.choice(unc)\n",
    "        fin_idx.add(ani)\n",
    "len(fin_idx)\n"
   ]
  },
  {
   "cell_type": "code",
   "execution_count": 24,
   "id": "b6573dd3-506e-4971-9ed9-ab702cc0b01b",
   "metadata": {
    "execution": {
     "iopub.execute_input": "2022-09-06T09:18:56.533965Z",
     "iopub.status.busy": "2022-09-06T09:18:56.533390Z",
     "iopub.status.idle": "2022-09-06T09:18:56.581723Z",
     "shell.execute_reply": "2022-09-06T09:18:56.581004Z",
     "shell.execute_reply.started": "2022-09-06T09:18:56.533916Z"
    },
    "tags": []
   },
   "outputs": [],
   "source": [
    "other = raw_data.index.difference(fin_idx)\n",
    "X = pd.get_dummies(X_dn.loc[:,nominal+discrete_ordinal],columns=nominal+discrete_ordinal)\n",
    "X_train, X_test, y_train,y_test = gen_train_test(X.loc[other,:],y.loc[other],test_size=0.3)\n",
    "# X_train2, X_valid, y_train2,y_valid = gen_train_test(X_train,y_train,test_size=0.3)"
   ]
  },
  {
   "cell_type": "code",
   "execution_count": 26,
   "id": "77cf55cd-917a-4d22-8815-f63692fdb9f4",
   "metadata": {
    "execution": {
     "iopub.execute_input": "2022-09-06T10:02:11.573701Z",
     "iopub.status.busy": "2022-09-06T10:02:11.573263Z",
     "iopub.status.idle": "2022-09-06T10:28:01.353672Z",
     "shell.execute_reply": "2022-09-06T10:28:01.352926Z",
     "shell.execute_reply.started": "2022-09-06T10:02:11.573649Z"
    },
    "tags": []
   },
   "outputs": [
    {
     "name": "stdout",
     "output_type": "stream",
     "text": [
      "              precision    recall  f1-score   support\n",
      "\n",
      "           0       0.75      0.66      0.70       337\n",
      "           1       0.81      0.78      0.80       510\n",
      "           2       0.44      0.57      0.49       189\n",
      "\n",
      "    accuracy                           0.70      1036\n",
      "   macro avg       0.67      0.67      0.67      1036\n",
      "weighted avg       0.72      0.70      0.71      1036\n",
      "\n"
     ]
    }
   ],
   "source": [
    "with parallel_backend('threading',n_jobs=24):\n",
    "    # clf1_ = CategoricalNB(fit_prior=False,alpha=0,min_categories=2)\n",
    "    # clf1 = OneVsRestClassifier(clf1,n_jobs=-1)\n",
    "    clf1 =  CategoricalNB(fit_prior=True,alpha=0,min_categories=2)\n",
    "    clf2_ = ComplementNB(alpha=0.0, fit_prior=True, norm=False)\n",
    "    clf2  = OneVsRestClassifier(clf2_,n_jobs=-1)\n",
    "    clf3_  = BernoulliNB(binarize=False,alpha=0,fit_prior=True)\n",
    "    clf3  = OneVsRestClassifier(clf3_,n_jobs=-1)\n",
    "    clf4_  = MultinomialNB(alpha=0,fit_prior=True)\n",
    "    clf4  = OneVsRestClassifier(clf4_,n_jobs=-1)\n",
    "\n",
    "#     for clf in [clf1,clf2,clf3,clf4]:\n",
    "        \n",
    "\n",
    "#         clf.partial_fit(X.loc[fin_idx,:],y.loc[fin_idx],classes=[0,1,2])\n",
    "#         cv  = RepeatedStratifiedKFold(n_splits=5,n_repeats=20, random_state=42)\n",
    "\n",
    "#         for train_index, test_index in cv.split(X_train2, y_train2):\n",
    "#             X_train_, X_test_ = X.loc[train_index,:], X.loc[test_index,:]\n",
    "#             y_train_, y_test_ = y[train_index], y[test_index]\n",
    "#             # print(X_train.shape)\n",
    "\n",
    "#             clf.partial_fit(X_train_,y_train_,classes=[0,1,2])   \n",
    "#             clf.partial_fit(X_test_,y_test_,classes=[0,1,2])\n",
    "# #         y_pred = clf.predict(X_test)\n",
    "# #         print(classification_report(y_test,y_pred))\n",
    "    estimators = [\n",
    "    ('cnb',clf1),\n",
    "    ('comnb',clf2),\n",
    "    ('bnb',clf3),\n",
    "    ('mnb',clf4)\n",
    "    ]\n",
    "    stc1 = StackingClassifier(estimators=estimators,final_estimator=LogisticRegressionCV(**lgr_params),cv=3,n_jobs=-1)\n",
    "    stc1.fit(X.loc[fin_idx.union(X_train.index),:],y.loc[fin_idx.union(X_train.index)])\n",
    "#     stc1.fit(X_train,y_train)\n",
    "    y_pred = clf.predict(X_test)\n",
    "    print(classification_report(y_test,y_pred))"
   ]
  },
  {
   "cell_type": "code",
   "execution_count": null,
   "id": "969b4a22-fb77-449b-8904-b676ed12a99d",
   "metadata": {
    "execution": {
     "iopub.execute_input": "2022-09-06T03:55:23.411245Z",
     "iopub.status.busy": "2022-09-06T03:55:23.410818Z"
    },
    "tags": []
   },
   "outputs": [],
   "source": [
    "X1 = ohe(X_dn)\n",
    "X2 = ohe(raw_data)\n",
    "y = raw_data.target\n",
    "logi = LogisticRegressionCV(**lgr_params)\n",
    "with parallel_backend('loky'):\n",
    "    s1 = cross_validate(logi,X1,y,cv=def_cv,scoring='f1_macro',n_jobs=24,return_train_score=True)\n",
    "    s2 = cross_validate(logi,X2,y,cv=def_cv,scoring='f1_macro',n_jobs=24,return_train_score=True)"
   ]
  },
  {
   "cell_type": "code",
   "execution_count": null,
   "id": "77517f3e-b9bc-4ed9-870f-7acd0ee454dc",
   "metadata": {},
   "outputs": [],
   "source": [
    "print(s1)\n"
   ]
  },
  {
   "cell_type": "code",
   "execution_count": null,
   "id": "c1f13c14-2c0b-4c61-9c87-529d1431f54b",
   "metadata": {},
   "outputs": [],
   "source": [
    "print(s2)"
   ]
  },
  {
   "cell_type": "code",
   "execution_count": 184,
   "id": "b486b9c3-26a2-4146-88d8-ac308115a646",
   "metadata": {
    "execution": {
     "iopub.execute_input": "2022-09-06T03:50:01.745820Z",
     "iopub.status.busy": "2022-09-06T03:50:01.745447Z",
     "iopub.status.idle": "2022-09-06T03:50:09.716825Z",
     "shell.execute_reply": "2022-09-06T03:50:09.716305Z",
     "shell.execute_reply.started": "2022-09-06T03:50:01.745777Z"
    },
    "tags": []
   },
   "outputs": [
    {
     "data": {
      "text/plain": [
       "2.5707606388648"
      ]
     },
     "execution_count": 184,
     "metadata": {},
     "output_type": "execute_result"
    }
   ],
   "source": [
    "mutual_info_classif(ohe(raw_data),raw_data.target,random_state=42).sum()"
   ]
  },
  {
   "cell_type": "code",
   "execution_count": 183,
   "id": "878bef3c-b333-47e7-88d4-2bfd6abbd643",
   "metadata": {
    "execution": {
     "iopub.execute_input": "2022-09-06T03:49:57.009917Z",
     "iopub.status.busy": "2022-09-06T03:49:57.009490Z",
     "iopub.status.idle": "2022-09-06T03:49:58.246917Z",
     "shell.execute_reply": "2022-09-06T03:49:58.246417Z",
     "shell.execute_reply.started": "2022-09-06T03:49:57.009869Z"
    },
    "tags": []
   },
   "outputs": [
    {
     "data": {
      "text/plain": [
       "0.4975812101770851"
      ]
     },
     "execution_count": 183,
     "metadata": {},
     "output_type": "execute_result"
    }
   ],
   "source": [
    "mutual_info_classif(ohe(X_dn),raw_data.target, random_state=42).sum()"
   ]
  },
  {
   "cell_type": "code",
   "execution_count": 131,
   "id": "2236cf4d-116b-4022-a214-22070d9f1368",
   "metadata": {
    "execution": {
     "iopub.execute_input": "2022-09-06T03:38:10.733778Z",
     "iopub.status.busy": "2022-09-06T03:38:10.733430Z",
     "iopub.status.idle": "2022-09-06T03:38:11.337389Z",
     "shell.execute_reply": "2022-09-06T03:38:11.336882Z",
     "shell.execute_reply.started": "2022-09-06T03:38:10.733738Z"
    },
    "tags": []
   },
   "outputs": [
    {
     "data": {
      "image/png": "[encoded data removed]",
      "text/plain": [
       "<Figure size 640x480 with 1 Axes>"
      ]
     },
     "metadata": {},
     "output_type": "display_data"
    }
   ],
   "source": [
    "# SpectralClustering\n",
    "ohe(X_dn).corrwith(raw_data.target,method='kendall').sort_values().plot(rot=90, label='New Nominal')\n",
    "_ = ohe(raw_data).corrwith(raw_data.target,method='kendall').sort_values().plot(rot=90,label='Old Nominal')\n",
    "\n",
    "_ = plt.legend()"
   ]
  },
  {
   "cell_type": "code",
   "execution_count": 3,
   "id": "1e7b6851-5079-410d-ac6c-237322d3664f",
   "metadata": {
    "execution": {
     "iopub.execute_input": "2022-09-07T07:03:43.680143Z",
     "iopub.status.busy": "2022-09-07T07:03:43.679732Z",
     "iopub.status.idle": "2022-09-07T07:03:43.867026Z",
     "shell.execute_reply": "2022-09-07T07:03:43.866015Z",
     "shell.execute_reply.started": "2022-09-07T07:03:43.680099Z"
    },
    "tags": []
   },
   "outputs": [
    {
     "data": {
      "text/html": [
       "<div>\n",
       "<style scoped>\n",
       "    .dataframe tbody tr th:only-of-type {\n",
       "        vertical-align: middle;\n",
       "    }\n",
       "\n",
       "    .dataframe tbody tr th {\n",
       "        vertical-align: top;\n",
       "    }\n",
       "\n",
       "    .dataframe thead th {\n",
       "        text-align: right;\n",
       "    }\n",
       "</style>\n",
       "<table border=\"1\" class=\"dataframe\">\n",
       "  <thead>\n",
       "    <tr style=\"text-align: right;\">\n",
       "      <th>target</th>\n",
       "      <th>0</th>\n",
       "      <th>1</th>\n",
       "      <th>2</th>\n",
       "      <th>eval</th>\n",
       "      <th>total_freq</th>\n",
       "      <th>t_e</th>\n",
       "    </tr>\n",
       "    <tr>\n",
       "      <th>nominal__v_18</th>\n",
       "      <th></th>\n",
       "      <th></th>\n",
       "      <th></th>\n",
       "      <th></th>\n",
       "      <th></th>\n",
       "      <th></th>\n",
       "    </tr>\n",
       "  </thead>\n",
       "  <tbody>\n",
       "    <tr>\n",
       "      <th>103</th>\n",
       "      <td>332</td>\n",
       "      <td>588</td>\n",
       "      <td>182</td>\n",
       "      <td>510</td>\n",
       "      <td>1102</td>\n",
       "      <td>0.462795</td>\n",
       "    </tr>\n",
       "    <tr>\n",
       "      <th>23</th>\n",
       "      <td>176</td>\n",
       "      <td>301</td>\n",
       "      <td>106</td>\n",
       "      <td>252</td>\n",
       "      <td>583</td>\n",
       "      <td>0.432247</td>\n",
       "    </tr>\n",
       "    <tr>\n",
       "      <th>30</th>\n",
       "      <td>123</td>\n",
       "      <td>203</td>\n",
       "      <td>79</td>\n",
       "      <td>157</td>\n",
       "      <td>405</td>\n",
       "      <td>0.387654</td>\n",
       "    </tr>\n",
       "    <tr>\n",
       "      <th>12</th>\n",
       "      <td>75</td>\n",
       "      <td>132</td>\n",
       "      <td>52</td>\n",
       "      <td>109</td>\n",
       "      <td>259</td>\n",
       "      <td>0.420849</td>\n",
       "    </tr>\n",
       "    <tr>\n",
       "      <th>38</th>\n",
       "      <td>58</td>\n",
       "      <td>102</td>\n",
       "      <td>36</td>\n",
       "      <td>94</td>\n",
       "      <td>196</td>\n",
       "      <td>0.479592</td>\n",
       "    </tr>\n",
       "    <tr>\n",
       "      <th>...</th>\n",
       "      <td>...</td>\n",
       "      <td>...</td>\n",
       "      <td>...</td>\n",
       "      <td>...</td>\n",
       "      <td>...</td>\n",
       "      <td>...</td>\n",
       "    </tr>\n",
       "    <tr>\n",
       "      <th>260</th>\n",
       "      <td>0</td>\n",
       "      <td>0</td>\n",
       "      <td>1</td>\n",
       "      <td>1</td>\n",
       "      <td>1</td>\n",
       "      <td>1.000000</td>\n",
       "    </tr>\n",
       "    <tr>\n",
       "      <th>287</th>\n",
       "      <td>0</td>\n",
       "      <td>0</td>\n",
       "      <td>1</td>\n",
       "      <td>0</td>\n",
       "      <td>1</td>\n",
       "      <td>0.000000</td>\n",
       "    </tr>\n",
       "    <tr>\n",
       "      <th>316</th>\n",
       "      <td>0</td>\n",
       "      <td>0</td>\n",
       "      <td>1</td>\n",
       "      <td>0</td>\n",
       "      <td>1</td>\n",
       "      <td>0.000000</td>\n",
       "    </tr>\n",
       "    <tr>\n",
       "      <th>320</th>\n",
       "      <td>0</td>\n",
       "      <td>0</td>\n",
       "      <td>1</td>\n",
       "      <td>0</td>\n",
       "      <td>1</td>\n",
       "      <td>0.000000</td>\n",
       "    </tr>\n",
       "    <tr>\n",
       "      <th>324</th>\n",
       "      <td>0</td>\n",
       "      <td>0</td>\n",
       "      <td>1</td>\n",
       "      <td>0</td>\n",
       "      <td>1</td>\n",
       "      <td>0.000000</td>\n",
       "    </tr>\n",
       "  </tbody>\n",
       "</table>\n",
       "<p>95 rows × 6 columns</p>\n",
       "</div>"
      ],
      "text/plain": [
       "target           0    1    2  eval  total_freq       t_e\n",
       "nominal__v_18                                           \n",
       "103            332  588  182   510        1102  0.462795\n",
       "23             176  301  106   252         583  0.432247\n",
       "30             123  203   79   157         405  0.387654\n",
       "12              75  132   52   109         259  0.420849\n",
       "38              58  102   36    94         196  0.479592\n",
       "...            ...  ...  ...   ...         ...       ...\n",
       "260              0    0    1     1           1  1.000000\n",
       "287              0    0    1     0           1  0.000000\n",
       "316              0    0    1     0           1  0.000000\n",
       "320              0    0    1     0           1  0.000000\n",
       "324              0    0    1     0           1  0.000000\n",
       "\n",
       "[95 rows x 6 columns]"
      ]
     },
     "execution_count": 3,
     "metadata": {},
     "output_type": "execute_result"
    }
   ],
   "source": [
    "agg_tc =raw_data.groupby(['nominal__v_18'])['target'].value_counts().unstack().fillna(0).astype(np.uint16).sort_values(by=[1,0,2],ascending=False)\n",
    "agg_tc\n",
    "\n",
    "eval_freq  = raw_data_eval.nominal__v_18.value_counts()\n",
    "\n",
    "agg_tc['eval'] = eval_freq\n",
    "agg_tc['total_freq'] = agg_tc[0]+agg_tc[1]+agg_tc[2]\n",
    "agg_tc = agg_tc.fillna(0).astype('int')\n",
    "tmp: pd.DataFrame = agg_tc[agg_tc['eval'] ==0]\n",
    "# tmp.filter\n",
    "tmp\n",
    "agg_tc[agg_tc['eval'] == 0]\n",
    "\n",
    "agg_tc[agg_tc['total_freq']<=15]\n",
    "agg_tc['t_e'] = agg_tc['eval']/agg_tc['total_freq']\n",
    "\n",
    "# agg_tc[agg_tc['eval']==agg_tc['total_freq']]\n",
    "agg_tc"
   ]
  },
  {
   "cell_type": "code",
   "execution_count": 41,
   "id": "4e20dffe-d0ce-4b44-b317-1f82438df7c9",
   "metadata": {
    "execution": {
     "iopub.execute_input": "2022-09-07T07:34:20.395391Z",
     "iopub.status.busy": "2022-09-07T07:34:20.394968Z",
     "iopub.status.idle": "2022-09-07T07:34:22.765092Z",
     "shell.execute_reply": "2022-09-07T07:34:22.764078Z",
     "shell.execute_reply.started": "2022-09-07T07:34:20.395344Z"
    },
    "tags": []
   },
   "outputs": [],
   "source": [
    "from sklearn.metrics import pairwise_distances\n",
    "from sklearn.metrics.pairwise import pairwise_kernels\n",
    "X = pd.get_dummies(raw_data.loc[:,nominal+discrete_ordinal+binary], columns=nominal+discrete_ordinal)\n",
    "\n",
    "\n",
    "dist = pairwise_distances(X.to_numpy(), metric='jaccard',force_all_finite=False)\n"
   ]
  },
  {
   "cell_type": "code",
   "execution_count": 45,
   "id": "850c8ccd-d9be-4ff3-ae61-6559156caf55",
   "metadata": {
    "execution": {
     "iopub.execute_input": "2022-09-07T07:35:05.188601Z",
     "iopub.status.busy": "2022-09-07T07:35:05.188204Z",
     "iopub.status.idle": "2022-09-07T07:35:05.638788Z",
     "shell.execute_reply": "2022-09-07T07:35:05.638258Z",
     "shell.execute_reply.started": "2022-09-07T07:35:05.188557Z"
    },
    "tags": []
   },
   "outputs": [
    {
     "data": {
      "text/plain": [
       "(0, 0, 0)"
      ]
     },
     "execution_count": 45,
     "metadata": {},
     "output_type": "execute_result"
    }
   ],
   "source": [
    "# tree = KDTree(dist,leaf_size=500,metric='euclidean')\n",
    "tree.get_tree_stats()"
   ]
  },
  {
   "cell_type": "code",
   "execution_count": 50,
   "id": "796e1460-b9d3-4ad8-a450-c9c5cfa59ea8",
   "metadata": {
    "execution": {
     "iopub.execute_input": "2022-09-07T07:41:29.427468Z",
     "iopub.status.busy": "2022-09-07T07:41:29.427048Z",
     "iopub.status.idle": "2022-09-07T07:41:29.852306Z",
     "shell.execute_reply": "2022-09-07T07:41:29.851695Z",
     "shell.execute_reply.started": "2022-09-07T07:41:29.427424Z"
    },
    "tags": []
   },
   "outputs": [],
   "source": [
    "cKe = pairwise_kernels(X,metric='linear',n_jobs=-1)"
   ]
  },
  {
   "cell_type": "code",
   "execution_count": 52,
   "id": "5ce396cb-afe3-45ec-8004-c7c3c546593e",
   "metadata": {
    "execution": {
     "iopub.execute_input": "2022-09-07T07:41:44.464583Z",
     "iopub.status.busy": "2022-09-07T07:41:44.464162Z",
     "iopub.status.idle": "2022-09-07T07:41:44.472711Z",
     "shell.execute_reply": "2022-09-07T07:41:44.471528Z",
     "shell.execute_reply.started": "2022-09-07T07:41:44.464527Z"
    },
    "tags": []
   },
   "outputs": [
    {
     "data": {
      "text/plain": [
       "(3796, 3796)"
      ]
     },
     "execution_count": 52,
     "metadata": {},
     "output_type": "execute_result"
    }
   ],
   "source": [
    "cKe.shape"
   ]
  }
 ],
 "metadata": {
  "kernelspec": {
   "display_name": "Python (ML)",
   "language": "python",
   "name": "ml"
  },
  "language_info": {
   "codemirror_mode": {
    "name": "ipython",
    "version": 3
   },
   "file_extension": ".py",
   "mimetype": "text/x-python",
   "name": "python",
   "nbconvert_exporter": "python",
   "pygments_lexer": "ipython3",
   "version": "3.9.13"
  }
 },
 "nbformat": 4,
 "nbformat_minor": 5
}
