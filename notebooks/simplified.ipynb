{
 "cells": [
  {
   "cell_type": "code",
   "execution_count": 3,
   "id": "a6d9a86a-0692-4bb3-a46c-83d1022d1949",
   "metadata": {},
   "outputs": [
    {
     "name": "stderr",
     "output_type": "stream",
     "text": [
      "Intel(R) Extension for Scikit-learn* enabled (https://github.com/intel/scikit-learn-intelex)\n"
     ]
    }
   ],
   "source": [
    "import pandas as pd\n",
    "import numpy as np\n",
    "from sklearn.preprocessing import (\n",
    "    Binarizer,\n",
    "    StandardScaler,\n",
    "    LabelBinarizer,\n",
    "    OneHotEncoder,\n",
    ")\n",
    "from sklearn.linear_model import LogisticRegression\n",
    "from sklearnex import patch_sklearn\n",
    "\n",
    "patch_sklearn()\n",
    "from sklearn.compose import ColumnTransformer\n",
    "from sklearn.pipeline import Pipeline, make_pipeline\n",
    "# from xgboost import XGBRFClassifier, XGBClassifier\n",
    "from sklearn.neural_network import MLPClassifier\n",
    "# import dtale\n",
    "import matplotlib.pyplot as plt\n",
    "import seaborn as sns\n",
    "from collections import defaultdict\n",
    "\n",
    "# sns.set()\n",
    "pd.options.display.max_columns = 50\n",
    "pd.options.plotting.backend = \"matplotlib\"\n",
    "from sklearn import set_config\n",
    "\n",
    "set_config(display=\"diagram\")\n",
    "from sklearn.preprocessing import (\n",
    "    StandardScaler,\n",
    "    OneHotEncoder,\n",
    "    OrdinalEncoder,\n",
    "    MinMaxScaler,\n",
    ")\n",
    "from sklearn.pipeline import Pipeline, make_pipeline\n",
    "from sklearn.tree import DecisionTreeClassifier, plot_tree, export_graphviz\n",
    "import warnings\n",
    "from sklearn.multiclass import OneVsRestClassifier\n",
    "from sklearn.metrics import classification_report\n",
    "\n",
    "warnings.filterwarnings(\"ignore\")\n",
    "from sklearn.experimental import enable_hist_gradient_boosting\n",
    "from sklearn.ensemble import (\n",
    "    RandomForestClassifier,\n",
    "    ExtraTreesClassifier,\n",
    "    AdaBoostClassifier,\n",
    "    HistGradientBoostingClassifier,\n",
    "    GradientBoostingClassifier,\n",
    ")\n",
    "from sklearn.model_selection import (\n",
    "    train_test_split,\n",
    "    cross_validate,\n",
    "    # StratifiedGroupKFold,\n",
    "\n",
    "    StratifiedKFold,\n",
    ")\n",
    "import sigopt\n",
    "\n",
    "from sklearn.naive_bayes import BernoulliNB, CategoricalNB, MultinomialNB, ComplementNB, GaussianNB\n",
    "from sklearn.model_selection import cross_validate\n",
    "nb_est = [CategoricalNB(), MultinomialNB(), ComplementNB(), GaussianNB()]\n",
    "from sklearn.multiclass import OneVsRestClassifier, OneVsOneClassifier\n",
    "from sklearn.tree import export_graphviz, plot_tree\n",
    "# import seaborn as sns\n",
    "# import matplotlib.pyplot as plt\n",
    "from tqdm import tqdm\n",
    "# from xgboost import XGBClassifier\n",
    "from joblib import parallel_backend\n",
    "# from autosklearn.automl import AutoMLClassifier\n",
    "import sklearn.metrics\n",
    "dtype_info = {\n",
    "    \"v_1\": \"Binary\",\n",
    "    \"v_26\": \"Binary\",\n",
    "    \"v_11\": \"Binary\",\n",
    "    \"v_14\": \"Binary\",\n",
    "    \"v_30\": \"Binary\",\n",
    "    \"v_28\": \"Binary\",\n",
    "    \"v_9\": \"Binary\",\n",
    "    \"v_27\": \"Binary\",\n",
    "    \"v_32\": \"Nominal\",\n",
    "    \"v_4\": \"Nominal\",\n",
    "    \"v_3\": \"Nominal\",\n",
    "    \"v_20\": \"Nominal\",\n",
    "    \"v_21\": \"Nominal\",\n",
    "    \"v_18\": \"Nominal\",\n",
    "    \"v_25\": \"Nominal\",\n",
    "    \"v_12\": \"Nominal\",\n",
    "    \"v_31\": \"Ordinal\",\n",
    "    \"v_15\": \"Ordinal\",\n",
    "    \"v_19\": \"Ordinal\",\n",
    "    \"v_13\": \"Ordinal\",\n",
    "    \"v_33\": \"Ordinal\",\n",
    "    \"v_17\": \"Ordinal\",\n",
    "    \"v_29\": \"Ordinal\",\n",
    "    \"v_23\": \"Ordinal\",\n",
    "    \"v_6\": \"Ordinal\",\n",
    "    \"v_24\": \"Ordinal\",\n",
    "    \"v_10\": \"Ordinal\",\n",
    "    \"v_5\": \"Ordinal\",\n",
    "    \"v_22\": \"Ordinal\",\n",
    "    \"v_0\": \"Ordinal\",\n",
    "    \"v_16\": \"Ratio\",\n",
    "    \"v_2\": \"Ratio\",\n",
    "    \"v_8\": \"Ratio\",\n",
    "    \"v_7\": \"Ratio\",\n",
    "    \"v_39\": \"Ratio\",\n",
    "    \"v_37\": \"Ratio\",\n",
    "    \"v_38\": \"Ratio\",\n",
    "    \"v_34\": \"Ratio\",\n",
    "    \"v_40\": \"Ratio\",\n",
    "    \"v_36\": \"Ratio\",\n",
    "    \"v_35\": \"Ratio\",\n",
    "}\n",
    "data = pd.read_csv('../data/train.csv',index_col=0,)\n",
    "ordinal = [i for i in dtype_info if dtype_info[i] == \"Ordinal\"]\n",
    "nominal = [i for i in dtype_info if dtype_info[i] == \"Nominal\"]\n",
    "binary = [i for i in dtype_info if dtype_info[i] == \"Binary\"]\n",
    "ratio = [i for i in dtype_info if dtype_info[i] == \"Ratio\"]\n",
    "def categorise_data(data):\n",
    "    ordinal_data = data.loc[:, ordinal]\n",
    "    nominal_data = data.loc[:, nominal]\n",
    "    binary_data = data.loc[:, binary]\n",
    "    ratio_data = data.loc[:, ratio]\n",
    "    return ordinal_data, nominal_data, binary_data, ratio_data\n",
    "ordinal_data, nominal_data, binary_data, ratio_data = categorise_data(data)\n",
    "def gen_train_test(data, p):\n",
    "    Y = data.label\n",
    "    X_2= Y_2 = Y[Y==2].index\n",
    "    X_0= Y_0 = Y[Y==0].index\n",
    "    X_1= Y_1 = Y[Y==1].index\n",
    "    train_size = int(p*Y_2.shape[0])\n",
    "    test_size = int((1-p)*Y_2.shape[0])\n",
    "    \n",
    "    train_idx_2 = np.random.choice(Y_2,(train_size,))\n",
    "    train_idx_1 = np.random.choice(Y_1,(train_size,))\n",
    "    train_idx_0 = np.random.choice(Y_0,(train_size,))\n",
    "    train_idx = np.r_[train_idx_0, train_idx_1,train_idx_2]\n",
    "    # train_idx.shape\n",
    "\n",
    "    test_idx_2 = np.random.choice(np.setdiff1d(Y_2, train_idx_2),(test_size,))\n",
    "    test_idx_1 = np.random.choice(np.setdiff1d(Y_1, train_idx_1),(test_size,))\n",
    "    test_idx_0 = np.random.choice(np.setdiff1d(Y_0, train_idx_0),(test_size,))\n",
    "    test_idx = np.r_[test_idx_0, test_idx_1,test_idx_2]\n",
    "    # test_idx.shape\n",
    "    return train_idx, test_idx\n",
    "data__ = pd.read_parquet('../data/data_with_ridit.hdfs', engine='fastparquet')\n",
    "import os\n",
    "os.environ[\"SIGOPT_PROJECT\"] = 'notebooks'"
   ]
  },
  {
   "cell_type": "code",
   "execution_count": 1,
   "id": "a7507a9f-8a5e-4cb4-9cac-15ead9ff6f14",
   "metadata": {},
   "outputs": [
    {
     "name": "stdout",
     "output_type": "stream",
     "text": [
      "SigOpt API token (find at https://app.sigopt.com/tokens/info):"
     ]
    },
    {
     "name": "stdin",
     "output_type": "stream",
     "text": [
      "  ················································\n"
     ]
    },
    {
     "name": "stdout",
     "output_type": "stream",
     "text": [
      "Log Collection\n",
      "\tThis will capture and upload the standard output and standard error of your\n",
      "\tRuns from the CLI and notebook cells so that you can view them on the SigOpt dashboard.\n",
      "Enable log collection [y/N]:"
     ]
    },
    {
     "name": "stdin",
     "output_type": "stream",
     "text": [
      "  y\n"
     ]
    },
    {
     "name": "stdout",
     "output_type": "stream",
     "text": [
      "Notebook Cell Tracking\n",
      "\tThis will record and upload the content of your notebook cells so that you can view them\n",
      "\ton the SigOpt dashboard.\n",
      "Enable cell tracking [y/N]:"
     ]
    },
    {
     "name": "stdin",
     "output_type": "stream",
     "text": [
      "  y\n"
     ]
    }
   ],
   "source": [
    "%reload_ext sigopt\n",
    "%sigopt config"
   ]
  },
  {
   "cell_type": "code",
   "execution_count": 3,
   "id": "a491782e-5fe4-4e17-a197-1341765c6c88",
   "metadata": {},
   "outputs": [],
   "source": [
    "dtc__params = {'ccp_alpha': 0.0,\n",
    " 'class_weight': None,\n",
    " 'criterion': 'gini',\n",
    " 'max_depth': None,\n",
    " 'max_features': None,\n",
    " 'max_leaf_nodes': None,\n",
    " 'min_impurity_decrease': 0.0,\n",
    " 'min_impurity_split': None,\n",
    " 'min_samples_leaf': 1,\n",
    " 'min_samples_split': 2,\n",
    " 'min_weight_fraction_leaf': 0.0,\n",
    " 'random_state': None,\n",
    " 'splitter': 'best'}\n",
    "\n",
    "# dtc.get_params()\n",
    "def evaluate_best_dtc(n_cv):\n",
    "    global data\n",
    "    dtc__params = {'ccp_alpha': 0.0,\n",
    "                 'class_weight': None,\n",
    "                 'criterion': 'gini',\n",
    "                 'max_depth': None,\n",
    "                 'max_features': None,\n",
    "                 'max_leaf_nodes': None,\n",
    "                 'min_impurity_decrease': 0.0,\n",
    "                 'min_impurity_split': None,\n",
    "                 'min_samples_leaf': np.random.randint(1,5),\n",
    "                 'min_samples_split': 2,\n",
    "                 'min_weight_fraction_leaf': 0.0,\n",
    "                 'random_state': 42,\n",
    "                 'splitter': 'best'}\n",
    "    sigopt.log_dataset(\"Ordinal_Data\")\n",
    "    sigopt.log_model(DecisionTreeClassifier().__class__.__name__)\n",
    "    sigopt.log_metadata(key='Features', value=ordinal)\n",
    "    \n",
    "    train_idx, test_idx = gen_train_test(data, 1.0)\n",
    "    # X_train, y_train = ordinal_data.loc[train_idx, :], pd.get_dummies(data['label'].loc[train_idx])\n",
    "    X_train, y_train = ordinal_data.loc[train_idx, :], data['label'].loc[train_idx]\n",
    "    for k,v in dtc__params.items():\n",
    "        sigopt.params.setdefault(k,v)\n",
    "    # clf = OneVsRestClassifier(model, n_jobs=-1)\n",
    "    with parallel_backend('threading', n_jobs=-1):\n",
    "        model = DecisionTreeClassifier(max_features=14, \n",
    "                                       min_samples_leaf=dtc__params['min_samples_leaf'],\n",
    "                                       min_impurity_decrease=sigopt.params.min_impurity_decrease,\n",
    "                                      random_state=42,\n",
    "                                      ccp_alpha=sigopt.params.ccp_alpha)\n",
    "        cv_results = cross_validate(model, X_train, y_train, scoring='f1_macro', return_train_score=True, n_jobs=-1, cv=n_cv, return_estimator=True)\n",
    "        sigopt.params.min_samples_leaf = model.min_samples_leaf\n",
    "    # sigopt.params.ccp_alpha=0\n",
    "    # print(sigopt.params)\n",
    "    sigopt.log_metric(name='f1_macro', value=cv_results['test_score'].mean())\n",
    "    return cv_results"
   ]
  },
  {
   "cell_type": "code",
   "execution_count": 197,
   "id": "4f8359e5-8be6-46a8-9593-8137cc264c71",
   "metadata": {},
   "outputs": [
    {
     "name": "stdout",
     "output_type": "stream",
     "text": [
      "Experiment created, view it on the SigOpt dashboard at https://app.sigopt.com/experiment/526717\n"
     ]
    }
   ],
   "source": [
    "%%experiment\n",
    "{\n",
    "    'name': 'DTC Optimization',\n",
    "    'metrics': [\n",
    "        {\n",
    "            'name': 'f1_macro',\n",
    "            'strategy': 'optimize',\n",
    "            'objective': 'maximize',\n",
    "        }\n",
    "    ],\n",
    "    'parameters': [\n",
    "        {\n",
    "            'name': 'min_impurity_decrease',\n",
    "            'type': 'double',\n",
    "            'bounds': {'min': 0.0, 'max': 1.0}\n",
    "        }\n",
    "\n",
    "    ],\n",
    "    'type':'offline',\n",
    "    'budget': 10\n",
    "}\n",
    "\n"
   ]
  },
  {
   "cell_type": "code",
   "execution_count": 198,
   "id": "03618ec3-94e3-4f89-b793-5e570aa4cf18",
   "metadata": {
    "scrolled": true,
    "tags": []
   },
   "outputs": [
    {
     "name": "stdout",
     "output_type": "stream",
     "text": [
      "Run started, view it on the SigOpt dashboard at https://app.sigopt.com/run/418529\n",
      "Run finished, view it on the SigOpt dashboard at https://app.sigopt.com/run/418529\n",
      "Run started, view it on the SigOpt dashboard at https://app.sigopt.com/run/418530\n",
      "Run finished, view it on the SigOpt dashboard at https://app.sigopt.com/run/418530\n",
      "Run started, view it on the SigOpt dashboard at https://app.sigopt.com/run/418531\n",
      "Run finished, view it on the SigOpt dashboard at https://app.sigopt.com/run/418531\n",
      "Run started, view it on the SigOpt dashboard at https://app.sigopt.com/run/418532\n",
      "Run finished, view it on the SigOpt dashboard at https://app.sigopt.com/run/418532\n",
      "Run started, view it on the SigOpt dashboard at https://app.sigopt.com/run/418533\n",
      "Run finished, view it on the SigOpt dashboard at https://app.sigopt.com/run/418533\n",
      "Run started, view it on the SigOpt dashboard at https://app.sigopt.com/run/418535\n",
      "Run finished, view it on the SigOpt dashboard at https://app.sigopt.com/run/418535\n",
      "Run started, view it on the SigOpt dashboard at https://app.sigopt.com/run/418536\n",
      "Run finished, view it on the SigOpt dashboard at https://app.sigopt.com/run/418536\n",
      "Run started, view it on the SigOpt dashboard at https://app.sigopt.com/run/418537\n",
      "Run finished, view it on the SigOpt dashboard at https://app.sigopt.com/run/418537\n",
      "Run started, view it on the SigOpt dashboard at https://app.sigopt.com/run/418538\n",
      "Run finished, view it on the SigOpt dashboard at https://app.sigopt.com/run/418538\n",
      "Run started, view it on the SigOpt dashboard at https://app.sigopt.com/run/418539\n",
      "Run finished, view it on the SigOpt dashboard at https://app.sigopt.com/run/418539\n"
     ]
    }
   ],
   "source": [
    "%%optimize \n",
    "evaluate_best_dtc(5)"
   ]
  },
  {
   "cell_type": "code",
   "execution_count": null,
   "id": "093e766c-3971-449a-bf29-15fb0fdaeebb",
   "metadata": {},
   "outputs": [],
   "source": [
    "depths = []\n",
    "for i in tqdm(range(100)):\n",
    "    ret= evaluate_best_dtc(5,dtc__params)\n",
    "# ret\n",
    "\n",
    "    for _ in range(5):\n",
    "        depths.append(ret['estimator'][_].get_n_leaves())"
   ]
  },
  {
   "cell_type": "code",
   "execution_count": 125,
   "id": "3e154e35-dca9-4ce2-9381-c7f5ed1a4340",
   "metadata": {},
   "outputs": [
    {
     "data": {
      "image/png": "[encoded data removed]",
      "text/plain": [
       "<Figure size 432x288 with 1 Axes>"
      ]
     },
     "metadata": {},
     "output_type": "display_data"
    }
   ],
   "source": [
    "import matplotlib.pyplot as plt\n",
    "import seaborn as sns\n",
    "sns.set()\n",
    "fig = plt.hist(depths, bins=15)"
   ]
  },
  {
   "cell_type": "code",
   "execution_count": 134,
   "id": "4be3dd5c-d4ef-4779-b8d0-a577a8a426f1",
   "metadata": {},
   "outputs": [],
   "source": [
    "ret['estimator'][2].class_weight"
   ]
  },
  {
   "cell_type": "code",
   "execution_count": 126,
   "id": "aba86679-17a5-411a-b2dd-b84be03c91dc",
   "metadata": {},
   "outputs": [
    {
     "data": {
      "text/plain": [
       "{'fit_time': array([0.01067972, 0.01265502, 0.01166987, 0.01065063, 0.00587249]),\n",
       " 'score_time': array([0.00509834, 0.00788546, 0.00594711, 0.00757289, 0.00130415]),\n",
       " 'estimator': [DecisionTreeClassifier(),\n",
       "  DecisionTreeClassifier(),\n",
       "  DecisionTreeClassifier(),\n",
       "  DecisionTreeClassifier(),\n",
       "  DecisionTreeClassifier()],\n",
       " 'test_score': array([0.64690038, 0.73720556, 0.68111356, 0.73575741, 0.69728152]),\n",
       " 'train_score': array([0.99274181, 0.98873487, 0.9895338 , 0.98871347, 0.98953176])}"
      ]
     },
     "execution_count": 126,
     "metadata": {},
     "output_type": "execute_result"
    }
   ],
   "source": [
    "ret"
   ]
  },
  {
   "cell_type": "code",
   "execution_count": 135,
   "id": "acb28a07-d220-4de1-b168-2fff3aa5b41e",
   "metadata": {},
   "outputs": [],
   "source": [
    "sigopt.params = dtc__params"
   ]
  },
  {
   "cell_type": "code",
   "execution_count": 148,
   "id": "fc884cf6-3356-4f75-b579-ab5b421403ef",
   "metadata": {},
   "outputs": [
    {
     "name": "stdout",
     "output_type": "stream",
     "text": [
      "ccp_alpha 0.0\n",
      "class_weight None\n",
      "criterion gini\n",
      "max_depth None\n",
      "max_features None\n",
      "max_leaf_nodes None\n",
      "min_impurity_decrease 0.0\n",
      "min_impurity_split None\n",
      "min_samples_leaf 1\n",
      "min_samples_split 2\n",
      "min_weight_fraction_leaf 0.0\n",
      "random_state None\n",
      "splitter best\n"
     ]
    }
   ],
   "source": [
    "for k, v in dtc__params.items():\n",
    "    print(k,v)"
   ]
  },
  {
   "cell_type": "code",
   "execution_count": 177,
   "id": "3fa41d9f-0f0b-4909-ac26-9449da360f68",
   "metadata": {},
   "outputs": [
    {
     "data": {
      "text/plain": [
       "{'fit_time': array([0.17336965, 0.10168529, 0.12977386, 0.1595037 , 0.08444548,\n",
       "        0.12363696, 0.16335058, 0.15592885, 0.08076286, 0.09349442]),\n",
       " 'score_time': array([0.00447583, 0.07130623, 0.04552937, 0.02211261, 0.01817894,\n",
       "        0.04955173, 0.00773263, 0.01001453, 0.01860261, 0.00336051]),\n",
       " 'estimator': [RandomForestClassifier(max_features=None, n_jobs=-1, random_state=42),\n",
       "  RandomForestClassifier(max_features=None, n_jobs=-1, random_state=42),\n",
       "  RandomForestClassifier(max_features=None, n_jobs=-1, random_state=42),\n",
       "  RandomForestClassifier(max_features=None, n_jobs=-1, random_state=42),\n",
       "  RandomForestClassifier(max_features=None, n_jobs=-1, random_state=42),\n",
       "  RandomForestClassifier(max_features=None, n_jobs=-1, random_state=42),\n",
       "  RandomForestClassifier(max_features=None, n_jobs=-1, random_state=42),\n",
       "  RandomForestClassifier(max_features=None, n_jobs=-1, random_state=42),\n",
       "  RandomForestClassifier(max_features=None, n_jobs=-1, random_state=42),\n",
       "  RandomForestClassifier(max_features=None, n_jobs=-1, random_state=42)],\n",
       " 'test_score': array([0.70148985, 0.70440978, 0.63279879, 0.72902296, 0.63245371,\n",
       "        0.67690322, 0.66318903, 0.72904466, 0.70106887, 0.76020725]),\n",
       " 'train_score': array([0.88468015, 0.88425725, 0.88719285, 0.88357471, 0.88799025,\n",
       "        0.88781165, 0.89080871, 0.88440548, 0.88381268, 0.88222852])}"
      ]
     },
     "execution_count": 177,
     "metadata": {},
     "output_type": "execute_result"
    }
   ],
   "source": [
    "train_idx, test_idx = gen_train_test(data, 0.75)\n",
    "# X_train, y_train = ordinal_data.loc[train_idx, :], pd.get_dummies(data['label'].loc[train_idx])\n",
    "# X_train, y_train = ordinal_data.loc[train_idx, :], data['label'].loc[train_idx]\n",
    "X_train, y_train = ordinal_data.loc[train_idx, experiment], data['label'].loc[train_idx]\n",
    "for k,v in dtc__params.items():\n",
    "    sigopt.params.setdefault(k,v)\n",
    "# clf = OneVsRestClassifier(model, n_jobs=-1)\n",
    "with parallel_backend('threading', n_jobs=-1):\n",
    "    model = RandomForestClassifier(max_features=None,\n",
    "                                   n_jobs=-1,\n",
    "                                   min_samples_leaf=1,\n",
    "                                  random_state=42,)\n",
    "# cv_results = cross_validate(model, X_train, y_train, scoring='f1_macro', return_train_score=True, n_jobs=-1, cv=n_cv, return_estimator=True)\n",
    "    model.fit(X_train, y_train)\n",
    "    cv_results = cross_validate(model, X_train, y_train, scoring='f1_macro', return_train_score=True, n_jobs=-1, cv=10, return_estimator=True)\n",
    "cv_results\n",
    "    "
   ]
  },
  {
   "cell_type": "code",
   "execution_count": 164,
   "id": "6c55e434-d056-42d9-a048-1f94d2493c5f",
   "metadata": {},
   "outputs": [],
   "source": [
    "# sklearn.tree.export_graphviz(model,'../data/sigopt_dtc.dot', feature_names=X_train.columns,class_names=['0','1','2'],filled=True,leaves_parallel=True,rounded=True, precision=2)\n",
    "import matplotlib.pyplot as plt"
   ]
  },
  {
   "cell_type": "code",
   "execution_count": 168,
   "id": "df51f5e1-0085-4c22-85bf-835230d6fcc1",
   "metadata": {},
   "outputs": [
    {
     "data": {
      "text/plain": [
       "{'v_0', 'v_10', 'v_13', 'v_15', 'v_19', 'v_23', 'v_24', 'v_33', 'v_5'}"
      ]
     },
     "execution_count": 168,
     "metadata": {},
     "output_type": "execute_result"
    }
   ],
   "source": [
    "set(ordinal) - set(['v_31','v_17', 'v_29', 'v_6', 'v_22'])"
   ]
  },
  {
   "cell_type": "code",
   "execution_count": 169,
   "id": "ab7340cc-4dde-4173-a595-2659222df3fa",
   "metadata": {},
   "outputs": [],
   "source": [
    "experiment = ['v_0', 'v_10', 'v_13', 'v_15', 'v_19', 'v_23', 'v_24', 'v_33', 'v_5']"
   ]
  },
  {
   "cell_type": "code",
   "execution_count": 180,
   "id": "cad4a3ed-6725-496e-b677-103408489550",
   "metadata": {},
   "outputs": [],
   "source": [
    "experiment_data = ordinal_data.loc[train_idx, experiment]"
   ]
  },
  {
   "cell_type": "code",
   "execution_count": 182,
   "id": "b067f6b1-700b-4893-abf8-47f87218f10a",
   "metadata": {},
   "outputs": [
    {
     "data": {
      "text/plain": [
       "array([[<AxesSubplot:title={'center':'v_0'}>,\n",
       "        <AxesSubplot:title={'center':'v_10'}>,\n",
       "        <AxesSubplot:title={'center':'v_13'}>],\n",
       "       [<AxesSubplot:title={'center':'v_15'}>,\n",
       "        <AxesSubplot:title={'center':'v_19'}>,\n",
       "        <AxesSubplot:title={'center':'v_23'}>],\n",
       "       [<AxesSubplot:title={'center':'v_24'}>,\n",
       "        <AxesSubplot:title={'center':'v_33'}>,\n",
       "        <AxesSubplot:title={'center':'v_5'}>]], dtype=object)"
      ]
     },
     "execution_count": 182,
     "metadata": {},
     "output_type": "execute_result"
    },
    {
     "data": {
      "image/png": "[encoded data removed]",
      "text/plain": [
       "<Figure size 1440x720 with 9 Axes>"
      ]
     },
     "metadata": {
      "needs_background": "light"
     },
     "output_type": "display_data"
    }
   ],
   "source": [
    "experiment_data.hist(grid=True, figsize=(20,10))"
   ]
  },
  {
   "cell_type": "code",
   "execution_count": 1373,
   "id": "b730c69c-f127-4de3-bd35-b851ac8042c9",
   "metadata": {},
   "outputs": [
    {
     "data": {
      "text/plain": [
       "(0.699674880626504, 0.9757128894860793)"
      ]
     },
     "execution_count": 1373,
     "metadata": {},
     "output_type": "execute_result"
    }
   ],
   "source": [
    "from sklearn.preprocessing import QuantileTransformer\n",
    "qt = QuantileTransformer(n_quantiles=200,output_distribution='normal', random_state=42)\n",
    "train_idx, test_idx = gen_train_test(data, 1.0)\n",
    "X_train, y_train = ordinal_data.loc[train_idx, [ 'v_10', 'v_17', 'v_5', 'v_29', 'v_19', 'v_22', 'v_6']], data['label'].loc[train_idx]\n",
    "for c in X_train:\n",
    "    med = X_train[c].median()\n",
    "    X_train[c] = ((X_train[c])/med)\n",
    "with parallel_backend('threading', n_jobs=-1):\n",
    "    model = DecisionTreeClassifier(criterion='entropy',\n",
    "                                # max_features='sqrt',\n",
    "                            \n",
    "                                # learning_rate=0.\n",
    "                                   # n_jobs=-1,\n",
    "                                   # min_samples_leaf=1,\n",
    "                                  random_state=42,)\n",
    "    model_wf = make_pipeline(qt, model)\n",
    "    cv_results = cross_validate(model_wf, X_train, y_train, scoring='f1_macro', return_train_score=True, n_jobs=-1, cv=3, return_estimator=True, )\n",
    "cv_results['test_score'].mean(),cv_results['train_score'].mean()"
   ]
  },
  {
   "cell_type": "code",
   "execution_count": 1316,
   "id": "17d02cc5-60ff-4bcd-9ed7-42c12d6accb3",
   "metadata": {},
   "outputs": [
    {
     "data": {
      "text/html": [
       "<div>\n",
       "<style scoped>\n",
       "    .dataframe tbody tr th:only-of-type {\n",
       "        vertical-align: middle;\n",
       "    }\n",
       "\n",
       "    .dataframe tbody tr th {\n",
       "        vertical-align: top;\n",
       "    }\n",
       "\n",
       "    .dataframe thead th {\n",
       "        text-align: right;\n",
       "    }\n",
       "</style>\n",
       "<table border=\"1\" class=\"dataframe\">\n",
       "  <thead>\n",
       "    <tr style=\"text-align: right;\">\n",
       "      <th></th>\n",
       "      <th>v_0</th>\n",
       "      <th>v_24</th>\n",
       "      <th>v_13</th>\n",
       "      <th>v_10</th>\n",
       "      <th>v_23</th>\n",
       "      <th>v_15</th>\n",
       "    </tr>\n",
       "  </thead>\n",
       "  <tbody>\n",
       "    <tr>\n",
       "      <th>v_0</th>\n",
       "      <td>1.000000</td>\n",
       "      <td>0.476931</td>\n",
       "      <td>0.420507</td>\n",
       "      <td>0.457374</td>\n",
       "      <td>0.627991</td>\n",
       "      <td>0.514703</td>\n",
       "    </tr>\n",
       "    <tr>\n",
       "      <th>v_24</th>\n",
       "      <td>0.476931</td>\n",
       "      <td>1.000000</td>\n",
       "      <td>0.796977</td>\n",
       "      <td>0.651720</td>\n",
       "      <td>0.480488</td>\n",
       "      <td>0.382483</td>\n",
       "    </tr>\n",
       "    <tr>\n",
       "      <th>v_13</th>\n",
       "      <td>0.420507</td>\n",
       "      <td>0.796977</td>\n",
       "      <td>1.000000</td>\n",
       "      <td>0.641582</td>\n",
       "      <td>0.438588</td>\n",
       "      <td>0.334037</td>\n",
       "    </tr>\n",
       "    <tr>\n",
       "      <th>v_10</th>\n",
       "      <td>0.457374</td>\n",
       "      <td>0.651720</td>\n",
       "      <td>0.641582</td>\n",
       "      <td>1.000000</td>\n",
       "      <td>0.446670</td>\n",
       "      <td>0.416958</td>\n",
       "    </tr>\n",
       "    <tr>\n",
       "      <th>v_23</th>\n",
       "      <td>0.627991</td>\n",
       "      <td>0.480488</td>\n",
       "      <td>0.438588</td>\n",
       "      <td>0.446670</td>\n",
       "      <td>1.000000</td>\n",
       "      <td>0.519431</td>\n",
       "    </tr>\n",
       "    <tr>\n",
       "      <th>v_15</th>\n",
       "      <td>0.514703</td>\n",
       "      <td>0.382483</td>\n",
       "      <td>0.334037</td>\n",
       "      <td>0.416958</td>\n",
       "      <td>0.519431</td>\n",
       "      <td>1.000000</td>\n",
       "    </tr>\n",
       "  </tbody>\n",
       "</table>\n",
       "</div>"
      ],
      "text/plain": [
       "           v_0      v_24      v_13      v_10      v_23      v_15\n",
       "v_0   1.000000  0.476931  0.420507  0.457374  0.627991  0.514703\n",
       "v_24  0.476931  1.000000  0.796977  0.651720  0.480488  0.382483\n",
       "v_13  0.420507  0.796977  1.000000  0.641582  0.438588  0.334037\n",
       "v_10  0.457374  0.651720  0.641582  1.000000  0.446670  0.416958\n",
       "v_23  0.627991  0.480488  0.438588  0.446670  1.000000  0.519431\n",
       "v_15  0.514703  0.382483  0.334037  0.416958  0.519431  1.000000"
      ]
     },
     "execution_count": 1316,
     "metadata": {},
     "output_type": "execute_result"
    }
   ],
   "source": [
    "ordinal_data.loc[:, ['v_0', 'v_24', 'v_13','v_10','v_23', 'v_15']].corr()"
   ]
  },
  {
   "cell_type": "code",
   "execution_count": 1317,
   "id": "6fe13d8b-a01d-4ba9-8750-a3f37ba217a8",
   "metadata": {},
   "outputs": [
    {
     "data": {
      "text/plain": [
       "v_15    0.298115\n",
       "v_33    0.488196\n",
       "v_10    0.480261\n",
       "v_17    0.369335\n",
       "v_5     0.377980\n",
       "v_29    0.351883\n",
       "v_19    0.452982\n",
       "v_22    0.355050\n",
       "v_6     0.435770\n",
       "dtype: float64"
      ]
     },
     "execution_count": 1317,
     "metadata": {},
     "output_type": "execute_result"
    }
   ],
   "source": [
    "# sns.heatmap(ordinal_data.corr(method='kendall'))\n",
    "ordinal_data.corr(method='kendall').loc[:,e[e].index].mean()"
   ]
  },
  {
   "cell_type": "code",
   "execution_count": 1137,
   "id": "948aa3a7-21c8-4623-b707-a62918cd15b7",
   "metadata": {},
   "outputs": [
    {
     "data": {
      "text/plain": [
       "v_31   -0.164478\n",
       "v_23   -0.024082\n",
       "v_24   -0.023771\n",
       "v_0    -0.020235\n",
       "v_13   -0.004228\n",
       "v_15    0.021927\n",
       "v_33    0.042953\n",
       "v_10    0.045527\n",
       "v_17    0.086644\n",
       "v_5     0.124477\n",
       "v_29    0.185171\n",
       "v_19    0.201583\n",
       "v_22    0.232380\n",
       "v_6     0.244456\n",
       "dtype: float64"
      ]
     },
     "execution_count": 1137,
     "metadata": {},
     "output_type": "execute_result"
    }
   ],
   "source": [
    "kendall_ord_vs_label = ordinal_data.corrwith(data.label, method='kendall').sort_values()\n",
    "# e = (kendall_ord_vs_label>0)\n",
    "# e[e].index\n",
    "kendall_ord_vs_label"
   ]
  },
  {
   "cell_type": "code",
   "execution_count": 704,
   "id": "917e15ff-7815-4f12-9bbb-5095bdc7b35c",
   "metadata": {},
   "outputs": [
    {
     "data": {
      "text/plain": [
       "Index(['v_31', 'v_23', 'v_24', 'v_0', 'v_13', 'v_15', 'v_33', 'v_10', 'v_17',\n",
       "       'v_5', 'v_29', 'v_19', 'v_22', 'v_6'],\n",
       "      dtype='object')"
      ]
     },
     "execution_count": 704,
     "metadata": {},
     "output_type": "execute_result"
    }
   ],
   "source": [
    "# set(ordinal) - set(['v_19','v_17', 'v_29', 'v_6', 'v_22'])\n",
    "ordinal_data.corrwith(data.label, method='kendall').sort_values().index"
   ]
  },
  {
   "cell_type": "code",
   "execution_count": 1060,
   "id": "9e89a3bc-1a6e-4dcb-92b8-55f7fa6b08a1",
   "metadata": {},
   "outputs": [
    {
     "data": {
      "text/html": [
       "<div>\n",
       "<style scoped>\n",
       "    .dataframe tbody tr th:only-of-type {\n",
       "        vertical-align: middle;\n",
       "    }\n",
       "\n",
       "    .dataframe tbody tr th {\n",
       "        vertical-align: top;\n",
       "    }\n",
       "\n",
       "    .dataframe thead th {\n",
       "        text-align: right;\n",
       "    }\n",
       "</style>\n",
       "<table border=\"1\" class=\"dataframe\">\n",
       "  <thead>\n",
       "    <tr style=\"text-align: right;\">\n",
       "      <th></th>\n",
       "      <th>v_31</th>\n",
       "      <th>v_15</th>\n",
       "      <th>v_19</th>\n",
       "      <th>v_13</th>\n",
       "      <th>v_33</th>\n",
       "      <th>v_17</th>\n",
       "      <th>v_29</th>\n",
       "      <th>v_23</th>\n",
       "      <th>v_6</th>\n",
       "      <th>v_24</th>\n",
       "      <th>v_10</th>\n",
       "      <th>v_5</th>\n",
       "      <th>v_22</th>\n",
       "      <th>v_0</th>\n",
       "    </tr>\n",
       "  </thead>\n",
       "  <tbody>\n",
       "    <tr>\n",
       "      <th>count</th>\n",
       "      <td>3796.000000</td>\n",
       "      <td>3796.000000</td>\n",
       "      <td>3796.000000</td>\n",
       "      <td>3796.000000</td>\n",
       "      <td>3796.000000</td>\n",
       "      <td>3796.000000</td>\n",
       "      <td>3796.000000</td>\n",
       "      <td>3796.000000</td>\n",
       "      <td>3796.000000</td>\n",
       "      <td>3796.000000</td>\n",
       "      <td>3796.000000</td>\n",
       "      <td>3796.000000</td>\n",
       "      <td>3796.000000</td>\n",
       "      <td>3796.000000</td>\n",
       "    </tr>\n",
       "    <tr>\n",
       "      <th>mean</th>\n",
       "      <td>32.134089</td>\n",
       "      <td>11.609062</td>\n",
       "      <td>23.562171</td>\n",
       "      <td>15.600896</td>\n",
       "      <td>30.127239</td>\n",
       "      <td>50.165701</td>\n",
       "      <td>17.506418</td>\n",
       "      <td>3.975764</td>\n",
       "      <td>13.281876</td>\n",
       "      <td>16.392255</td>\n",
       "      <td>26.064015</td>\n",
       "      <td>39.934932</td>\n",
       "      <td>24.121478</td>\n",
       "      <td>12.998156</td>\n",
       "    </tr>\n",
       "    <tr>\n",
       "      <th>std</th>\n",
       "      <td>7.887596</td>\n",
       "      <td>2.576362</td>\n",
       "      <td>3.757691</td>\n",
       "      <td>3.216409</td>\n",
       "      <td>3.256676</td>\n",
       "      <td>4.670733</td>\n",
       "      <td>5.346593</td>\n",
       "      <td>2.249038</td>\n",
       "      <td>3.674661</td>\n",
       "      <td>2.866872</td>\n",
       "      <td>3.079682</td>\n",
       "      <td>4.507494</td>\n",
       "      <td>5.677114</td>\n",
       "      <td>2.309686</td>\n",
       "    </tr>\n",
       "    <tr>\n",
       "      <th>min</th>\n",
       "      <td>25.000000</td>\n",
       "      <td>9.000000</td>\n",
       "      <td>18.000000</td>\n",
       "      <td>14.000000</td>\n",
       "      <td>23.000000</td>\n",
       "      <td>41.000000</td>\n",
       "      <td>6.000000</td>\n",
       "      <td>3.000000</td>\n",
       "      <td>8.000000</td>\n",
       "      <td>15.000000</td>\n",
       "      <td>19.000000</td>\n",
       "      <td>31.000000</td>\n",
       "      <td>13.000000</td>\n",
       "      <td>12.000000</td>\n",
       "    </tr>\n",
       "    <tr>\n",
       "      <th>25%</th>\n",
       "      <td>27.000000</td>\n",
       "      <td>10.000000</td>\n",
       "      <td>22.000000</td>\n",
       "      <td>14.000000</td>\n",
       "      <td>29.000000</td>\n",
       "      <td>48.000000</td>\n",
       "      <td>17.200000</td>\n",
       "      <td>3.000000</td>\n",
       "      <td>11.000000</td>\n",
       "      <td>15.000000</td>\n",
       "      <td>25.000000</td>\n",
       "      <td>37.000000</td>\n",
       "      <td>24.000000</td>\n",
       "      <td>12.000000</td>\n",
       "    </tr>\n",
       "    <tr>\n",
       "      <th>50%</th>\n",
       "      <td>29.000000</td>\n",
       "      <td>10.000000</td>\n",
       "      <td>24.000000</td>\n",
       "      <td>14.000000</td>\n",
       "      <td>29.000000</td>\n",
       "      <td>49.000000</td>\n",
       "      <td>18.571429</td>\n",
       "      <td>3.000000</td>\n",
       "      <td>13.000000</td>\n",
       "      <td>15.000000</td>\n",
       "      <td>25.000000</td>\n",
       "      <td>39.000000</td>\n",
       "      <td>25.500000</td>\n",
       "      <td>12.000000</td>\n",
       "    </tr>\n",
       "    <tr>\n",
       "      <th>75%</th>\n",
       "      <td>35.000000</td>\n",
       "      <td>12.000000</td>\n",
       "      <td>25.000000</td>\n",
       "      <td>16.000000</td>\n",
       "      <td>31.000000</td>\n",
       "      <td>53.000000</td>\n",
       "      <td>20.000000</td>\n",
       "      <td>3.000000</td>\n",
       "      <td>15.000000</td>\n",
       "      <td>16.000000</td>\n",
       "      <td>27.000000</td>\n",
       "      <td>42.000000</td>\n",
       "      <td>27.000000</td>\n",
       "      <td>12.000000</td>\n",
       "    </tr>\n",
       "    <tr>\n",
       "      <th>max</th>\n",
       "      <td>78.000000</td>\n",
       "      <td>25.000000</td>\n",
       "      <td>45.000000</td>\n",
       "      <td>38.000000</td>\n",
       "      <td>49.000000</td>\n",
       "      <td>86.000000</td>\n",
       "      <td>31.111111</td>\n",
       "      <td>17.000000</td>\n",
       "      <td>28.000000</td>\n",
       "      <td>37.000000</td>\n",
       "      <td>42.000000</td>\n",
       "      <td>64.000000</td>\n",
       "      <td>38.000000</td>\n",
       "      <td>26.000000</td>\n",
       "    </tr>\n",
       "  </tbody>\n",
       "</table>\n",
       "</div>"
      ],
      "text/plain": [
       "              v_31         v_15         v_19         v_13         v_33  \\\n",
       "count  3796.000000  3796.000000  3796.000000  3796.000000  3796.000000   \n",
       "mean     32.134089    11.609062    23.562171    15.600896    30.127239   \n",
       "std       7.887596     2.576362     3.757691     3.216409     3.256676   \n",
       "min      25.000000     9.000000    18.000000    14.000000    23.000000   \n",
       "25%      27.000000    10.000000    22.000000    14.000000    29.000000   \n",
       "50%      29.000000    10.000000    24.000000    14.000000    29.000000   \n",
       "75%      35.000000    12.000000    25.000000    16.000000    31.000000   \n",
       "max      78.000000    25.000000    45.000000    38.000000    49.000000   \n",
       "\n",
       "              v_17         v_29         v_23          v_6         v_24  \\\n",
       "count  3796.000000  3796.000000  3796.000000  3796.000000  3796.000000   \n",
       "mean     50.165701    17.506418     3.975764    13.281876    16.392255   \n",
       "std       4.670733     5.346593     2.249038     3.674661     2.866872   \n",
       "min      41.000000     6.000000     3.000000     8.000000    15.000000   \n",
       "25%      48.000000    17.200000     3.000000    11.000000    15.000000   \n",
       "50%      49.000000    18.571429     3.000000    13.000000    15.000000   \n",
       "75%      53.000000    20.000000     3.000000    15.000000    16.000000   \n",
       "max      86.000000    31.111111    17.000000    28.000000    37.000000   \n",
       "\n",
       "              v_10          v_5         v_22          v_0  \n",
       "count  3796.000000  3796.000000  3796.000000  3796.000000  \n",
       "mean     26.064015    39.934932    24.121478    12.998156  \n",
       "std       3.079682     4.507494     5.677114     2.309686  \n",
       "min      19.000000    31.000000    13.000000    12.000000  \n",
       "25%      25.000000    37.000000    24.000000    12.000000  \n",
       "50%      25.000000    39.000000    25.500000    12.000000  \n",
       "75%      27.000000    42.000000    27.000000    12.000000  \n",
       "max      42.000000    64.000000    38.000000    26.000000  "
      ]
     },
     "execution_count": 1060,
     "metadata": {},
     "output_type": "execute_result"
    }
   ],
   "source": [
    "# ['v_15', 'v_33', 'v_10', 'v_17', 'v_5', 'v_29', 'v_19', 'v_22', 'v_6'] Kendall Correlation highest with label\n",
    "ordinal_data.describe()"
   ]
  },
  {
   "cell_type": "code",
   "execution_count": 1124,
   "id": "dd2f5a20-ebcd-44cb-855b-749b2558b0c3",
   "metadata": {},
   "outputs": [],
   "source": [
    "nom_dum = pd.get_dummies(data.loc[:, nominal], columns=nominal)"
   ]
  },
  {
   "cell_type": "code",
   "execution_count": 1125,
   "id": "fe3ba02a-0eaf-4972-93e9-689880de6541",
   "metadata": {},
   "outputs": [
    {
     "data": {
      "text/plain": [
       "Index(['v_32_6', 'v_32_7', 'v_32_8', 'v_32_9', 'v_32_10', 'v_32_11', 'v_32_12',\n",
       "       'v_32_13', 'v_32_14', 'v_32_15',\n",
       "       ...\n",
       "       'v_12_137', 'v_12_138', 'v_12_139', 'v_12_145', 'v_12_160', 'v_12_162',\n",
       "       'v_12_168', 'v_12_172', 'v_12_177', 'v_12_179'],\n",
       "      dtype='object', length=638)"
      ]
     },
     "execution_count": 1125,
     "metadata": {},
     "output_type": "execute_result"
    }
   ],
   "source": [
    "# nom_dum.drop(nominal,axis=1,inplace=True)\n",
    "nom_dum.columns"
   ]
  },
  {
   "cell_type": "code",
   "execution_count": 1139,
   "id": "2ba1a769-babc-4404-8485-d84dd7fa2adc",
   "metadata": {},
   "outputs": [],
   "source": [
    "# kendall_nom_v_label = nom_dum.corrwith(data.label, method='kendall')\n",
    "# kendall_nom_v_label[kendall_nom_v_label>0.01].sort_values()\n",
    "# nom_kendal_valid = kendall_nom_v_label[kendall_nom_v_label>0.01].sort_values().index"
   ]
  },
  {
   "cell_type": "code",
   "execution_count": 1409,
   "id": "9a3d7e85-f4d5-4445-8ea8-986573f72ba4",
   "metadata": {},
   "outputs": [],
   "source": [
    "# nom_dum_legit_corr = nom_dum.loc[:,nom_kendal_valid].corr(method='kendall')\n",
    "nom_dum_legit_corr = nom_dum.corr(method='kendall')"
   ]
  },
  {
   "cell_type": "code",
   "execution_count": 1416,
   "id": "5600a9f5-ca60-4c0f-b18a-518471db82f4",
   "metadata": {},
   "outputs": [],
   "source": [
    "f = ((nom_dum_legit_corr < -0.01).sum(axis=0) > 160)\n",
    "e2 = f[f].index"
   ]
  },
  {
   "cell_type": "code",
   "execution_count": 1417,
   "id": "0552e0b7-f3c7-483b-a8da-cd4b8031a2dd",
   "metadata": {},
   "outputs": [
    {
     "data": {
      "text/plain": [
       "v_32_6      0.108981\n",
       "v_32_89     0.037825\n",
       "v_32_116   -0.150650\n",
       "v_32_147    0.004436\n",
       "v_32_157    0.046438\n",
       "v_4_17     -0.012248\n",
       "v_4_20     -0.027573\n",
       "v_4_52     -0.008506\n",
       "v_4_54      0.017372\n",
       "v_4_55      0.032969\n",
       "v_4_96      0.035157\n",
       "v_4_100     0.033366\n",
       "v_4_102    -0.026951\n",
       "v_4_121     0.070584\n",
       "v_4_148    -0.026496\n",
       "v_4_155    -0.033378\n",
       "v_4_158    -0.005966\n",
       "v_4_167    -0.052821\n",
       "v_3_5      -0.118238\n",
       "v_3_17      0.012298\n",
       "v_3_31      0.007281\n",
       "v_3_39     -0.004049\n",
       "v_3_44      0.019409\n",
       "v_3_45      0.038434\n",
       "v_3_70      0.013595\n",
       "v_3_79      0.004774\n",
       "v_3_87      0.002805\n",
       "v_3_104     0.026746\n",
       "v_20_6      0.028593\n",
       "v_20_60     0.007392\n",
       "v_20_168    0.055542\n",
       "v_20_251   -0.036510\n",
       "v_20_278    0.027449\n",
       "v_21_3      0.068640\n",
       "v_21_4     -0.061971\n",
       "v_18_3     -0.134429\n",
       "v_18_11     0.017965\n",
       "v_18_12     0.022032\n",
       "v_18_23     0.015617\n",
       "v_18_30     0.018323\n",
       "v_18_38     0.011168\n",
       "v_18_103    0.008756\n",
       "v_25_1      0.031011\n",
       "v_25_5      0.021003\n",
       "v_25_110    0.050400\n",
       "v_25_165   -0.137587\n",
       "v_25_181   -0.044316\n",
       "v_25_183    0.002968\n",
       "v_12_16    -0.002779\n",
       "dtype: float64"
      ]
     },
     "execution_count": 1417,
     "metadata": {},
     "output_type": "execute_result"
    }
   ],
   "source": [
    "nom_dum.loc[:,e2].corrwith(data.label, method='kendall')\n",
    "nom_dum.loc[:,e2].corrwith(data.label)"
   ]
  },
  {
   "cell_type": "code",
   "execution_count": 3,
   "id": "73b73dd7-e94e-4a14-8862-f8dd75963dd8",
   "metadata": {},
   "outputs": [],
   "source": [
    "dtc = RandomForestClassifier(criterion='gini', random_state=42)"
   ]
  },
  {
   "cell_type": "code",
   "execution_count": 5,
   "id": "6993a4cb-1df4-4ba0-88fc-70c6e562bcfb",
   "metadata": {},
   "outputs": [
    {
     "data": {
      "text/plain": [
       "{'fit_time': array([0.14069819, 0.13676572, 0.14937949, 0.14447856, 0.09823632,\n",
       "        0.15595841, 0.135391  , 0.15466595, 0.12151432, 0.12056446]),\n",
       " 'score_time': array([0.00430202, 0.0066185 , 0.00564098, 0.02986598, 0.00554204,\n",
       "        0.00778198, 0.00798416, 0.00675464, 0.0118072 , 0.00685859]),\n",
       " 'estimator': [RandomForestClassifier(random_state=42),\n",
       "  RandomForestClassifier(random_state=42),\n",
       "  RandomForestClassifier(random_state=42),\n",
       "  RandomForestClassifier(random_state=42),\n",
       "  RandomForestClassifier(random_state=42),\n",
       "  RandomForestClassifier(random_state=42),\n",
       "  RandomForestClassifier(random_state=42),\n",
       "  RandomForestClassifier(random_state=42),\n",
       "  RandomForestClassifier(random_state=42),\n",
       "  RandomForestClassifier(random_state=42)],\n",
       " 'test_score': array([0.65279291, 0.66159978, 0.5947116 , 0.72323131, 0.6745203 ,\n",
       "        0.69382614, 0.6381798 , 0.62606354, 0.58700523, 0.6462607 ]),\n",
       " 'train_score': array([0.98494384, 0.98209191, 0.98280332, 0.98280873, 0.98424467,\n",
       "        0.98352941, 0.98353679, 0.98281231, 0.98353643, 0.98281348])}"
      ]
     },
     "execution_count": 5,
     "metadata": {},
     "output_type": "execute_result"
    }
   ],
   "source": [
    "train_idx, test_idx = gen_train_test(data, 0.75)\n",
    "# X_train, y_train = nom_dum.loc[train_idx,:], data['label'].loc[train_idx]\n",
    "X_train, y_train = nominal_data.loc[train_idx,:].astype('category'), data['label'].loc[train_idx]\n",
    "X_test, y_test = nominal_data.loc[test_idx,:].astype('category'), data[\"label\"].loc[test_idx]\n",
    "# X_train, y_train = nominal_data.loc[train_idx,:], data['label'].loc[train_idx]\n",
    "# X_train, y_train = nom_dum.iloc[train_idx,imp_nom], data['label'].loc[train_idx]\n",
    "# cv_results = cross_validate(dtc, X_train, y_train, scoring='f1_macro', return_train_score=True, n_jobs=-1, cv=10, return_estimator=True, )\n",
    "# cv_results"
   ]
  },
  {
   "cell_type": "code",
   "execution_count": null,
   "id": "7d339963-1888-4ba6-8b7d-43baba279ef3",
   "metadata": {},
   "outputs": [],
   "source": [
    "from autosklearn.automl import AutoMLClassifier\n",
    "automl = AutoMLClassifier(time_left_for_this_task=3600, per_run_time_limit=60,n_jobs=-1,precision=64,ensemble_size=100, ensemble_nbest=100, max_models_on_disc=500, temporary_directory='../data/automl5', delete_tmp_folder_after_terminate=False,seed=50, initial_configurations_via_metalearning=500)\n",
    "automl.fit(X_train,y_train,X_test=X_test,y_test=y_test,dataset_name='nominal_data')\n",
    "\n",
    "\n",
    "with open('../data/automl_clf.pkl', 'wb') as fp:\n",
    "    pickle.dump(automl, fp)"
   ]
  },
  {
   "cell_type": "code",
   "execution_count": 20,
   "id": "282b302d-26a5-4aa1-808c-8154e9635cae",
   "metadata": {},
   "outputs": [
    {
     "data": {
      "text/plain": [
       "[(0.12,\n",
       "  SimpleClassificationPipeline({'balancing:strategy': 'none', 'classifier:__choice__': 'gradient_boosting', 'data_preprocessor:__choice__': 'feature_type', 'feature_preprocessor:__choice__': 'feature_agglomeration', 'classifier:gradient_boosting:early_stop': 'off', 'classifier:gradient_boosting:l2_regularization': 1.1509514015236061e-10, 'classifier:gradient_boosting:learning_rate': 0.0746859361006727, 'classifier:gradient_boosting:loss': 'auto', 'classifier:gradient_boosting:max_bins': 255, 'classifier:gradient_boosting:max_depth': 'None', 'classifier:gradient_boosting:max_leaf_nodes': 191, 'classifier:gradient_boosting:min_samples_leaf': 15, 'classifier:gradient_boosting:scoring': 'loss', 'classifier:gradient_boosting:tol': 1e-07, 'data_preprocessor:feature_type:categorical_transformer:categorical_encoding:__choice__': 'no_encoding', 'data_preprocessor:feature_type:categorical_transformer:category_coalescence:__choice__': 'minority_coalescer', 'data_preprocessor:feature_type:numerical_transformer:imputation:strategy': 'mean', 'data_preprocessor:feature_type:numerical_transformer:rescaling:__choice__': 'standardize', 'feature_preprocessor:feature_agglomeration:affinity': 'manhattan', 'feature_preprocessor:feature_agglomeration:linkage': 'complete', 'feature_preprocessor:feature_agglomeration:n_clusters': 339, 'feature_preprocessor:feature_agglomeration:pooling_func': 'mean', 'data_preprocessor:feature_type:categorical_transformer:category_coalescence:minority_coalescer:minimum_fraction': 0.0037412417566693988},\n",
       "  dataset_properties={\n",
       "    'task': 2,\n",
       "    'sparse': False,\n",
       "    'multilabel': False,\n",
       "    'multiclass': True,\n",
       "    'target_type': 'classification',\n",
       "    'signed': False})),\n",
       " (0.1,\n",
       "  SimpleClassificationPipeline({'balancing:strategy': 'weighting', 'classifier:__choice__': 'gradient_boosting', 'data_preprocessor:__choice__': 'feature_type', 'feature_preprocessor:__choice__': 'feature_agglomeration', 'classifier:gradient_boosting:early_stop': 'train', 'classifier:gradient_boosting:l2_regularization': 1.1517822907511439e-10, 'classifier:gradient_boosting:learning_rate': 0.037980373660424734, 'classifier:gradient_boosting:loss': 'auto', 'classifier:gradient_boosting:max_bins': 255, 'classifier:gradient_boosting:max_depth': 'None', 'classifier:gradient_boosting:max_leaf_nodes': 151, 'classifier:gradient_boosting:min_samples_leaf': 15, 'classifier:gradient_boosting:scoring': 'loss', 'classifier:gradient_boosting:tol': 1e-07, 'data_preprocessor:feature_type:categorical_transformer:categorical_encoding:__choice__': 'encoding', 'data_preprocessor:feature_type:categorical_transformer:category_coalescence:__choice__': 'minority_coalescer', 'data_preprocessor:feature_type:numerical_transformer:imputation:strategy': 'mean', 'data_preprocessor:feature_type:numerical_transformer:rescaling:__choice__': 'quantile_transformer', 'feature_preprocessor:feature_agglomeration:affinity': 'euclidean', 'feature_preprocessor:feature_agglomeration:linkage': 'average', 'feature_preprocessor:feature_agglomeration:n_clusters': 330, 'feature_preprocessor:feature_agglomeration:pooling_func': 'max', 'classifier:gradient_boosting:n_iter_no_change': 2, 'data_preprocessor:feature_type:categorical_transformer:category_coalescence:minority_coalescer:minimum_fraction': 0.0036123166177391237, 'data_preprocessor:feature_type:numerical_transformer:rescaling:quantile_transformer:n_quantiles': 1000, 'data_preprocessor:feature_type:numerical_transformer:rescaling:quantile_transformer:output_distribution': 'normal'},\n",
       "  dataset_properties={\n",
       "    'task': 2,\n",
       "    'sparse': False,\n",
       "    'multilabel': False,\n",
       "    'multiclass': True,\n",
       "    'target_type': 'classification',\n",
       "    'signed': False})),\n",
       " (0.1,\n",
       "  SimpleClassificationPipeline({'balancing:strategy': 'none', 'classifier:__choice__': 'gradient_boosting', 'data_preprocessor:__choice__': 'feature_type', 'feature_preprocessor:__choice__': 'feature_agglomeration', 'classifier:gradient_boosting:early_stop': 'off', 'classifier:gradient_boosting:l2_regularization': 1.1600464102743338e-10, 'classifier:gradient_boosting:learning_rate': 0.07495198834496551, 'classifier:gradient_boosting:loss': 'auto', 'classifier:gradient_boosting:max_bins': 255, 'classifier:gradient_boosting:max_depth': 'None', 'classifier:gradient_boosting:max_leaf_nodes': 104, 'classifier:gradient_boosting:min_samples_leaf': 16, 'classifier:gradient_boosting:scoring': 'loss', 'classifier:gradient_boosting:tol': 1e-07, 'data_preprocessor:feature_type:categorical_transformer:categorical_encoding:__choice__': 'no_encoding', 'data_preprocessor:feature_type:categorical_transformer:category_coalescence:__choice__': 'minority_coalescer', 'data_preprocessor:feature_type:numerical_transformer:imputation:strategy': 'mean', 'data_preprocessor:feature_type:numerical_transformer:rescaling:__choice__': 'quantile_transformer', 'feature_preprocessor:feature_agglomeration:affinity': 'cosine', 'feature_preprocessor:feature_agglomeration:linkage': 'complete', 'feature_preprocessor:feature_agglomeration:n_clusters': 280, 'feature_preprocessor:feature_agglomeration:pooling_func': 'max', 'data_preprocessor:feature_type:categorical_transformer:category_coalescence:minority_coalescer:minimum_fraction': 0.0037594601089442287, 'data_preprocessor:feature_type:numerical_transformer:rescaling:quantile_transformer:n_quantiles': 988, 'data_preprocessor:feature_type:numerical_transformer:rescaling:quantile_transformer:output_distribution': 'normal'},\n",
       "  dataset_properties={\n",
       "    'task': 2,\n",
       "    'sparse': False,\n",
       "    'multilabel': False,\n",
       "    'multiclass': True,\n",
       "    'target_type': 'classification',\n",
       "    'signed': False})),\n",
       " (0.1,\n",
       "  SimpleClassificationPipeline({'balancing:strategy': 'none', 'classifier:__choice__': 'gradient_boosting', 'data_preprocessor:__choice__': 'feature_type', 'feature_preprocessor:__choice__': 'feature_agglomeration', 'classifier:gradient_boosting:early_stop': 'off', 'classifier:gradient_boosting:l2_regularization': 1.2501149207129124e-08, 'classifier:gradient_boosting:learning_rate': 0.07436954970672492, 'classifier:gradient_boosting:loss': 'auto', 'classifier:gradient_boosting:max_bins': 255, 'classifier:gradient_boosting:max_depth': 'None', 'classifier:gradient_boosting:max_leaf_nodes': 169, 'classifier:gradient_boosting:min_samples_leaf': 16, 'classifier:gradient_boosting:scoring': 'loss', 'classifier:gradient_boosting:tol': 1e-07, 'data_preprocessor:feature_type:categorical_transformer:categorical_encoding:__choice__': 'no_encoding', 'data_preprocessor:feature_type:categorical_transformer:category_coalescence:__choice__': 'minority_coalescer', 'data_preprocessor:feature_type:numerical_transformer:imputation:strategy': 'most_frequent', 'data_preprocessor:feature_type:numerical_transformer:rescaling:__choice__': 'quantile_transformer', 'feature_preprocessor:feature_agglomeration:affinity': 'cosine', 'feature_preprocessor:feature_agglomeration:linkage': 'average', 'feature_preprocessor:feature_agglomeration:n_clusters': 349, 'feature_preprocessor:feature_agglomeration:pooling_func': 'max', 'data_preprocessor:feature_type:categorical_transformer:category_coalescence:minority_coalescer:minimum_fraction': 0.003633873556476878, 'data_preprocessor:feature_type:numerical_transformer:rescaling:quantile_transformer:n_quantiles': 1050, 'data_preprocessor:feature_type:numerical_transformer:rescaling:quantile_transformer:output_distribution': 'normal'},\n",
       "  dataset_properties={\n",
       "    'task': 2,\n",
       "    'sparse': False,\n",
       "    'multilabel': False,\n",
       "    'multiclass': True,\n",
       "    'target_type': 'classification',\n",
       "    'signed': False})),\n",
       " (0.08,\n",
       "  SimpleClassificationPipeline({'balancing:strategy': 'none', 'classifier:__choice__': 'gradient_boosting', 'data_preprocessor:__choice__': 'feature_type', 'feature_preprocessor:__choice__': 'feature_agglomeration', 'classifier:gradient_boosting:early_stop': 'off', 'classifier:gradient_boosting:l2_regularization': 1.3427116794471975e-10, 'classifier:gradient_boosting:learning_rate': 0.03930700770824783, 'classifier:gradient_boosting:loss': 'auto', 'classifier:gradient_boosting:max_bins': 255, 'classifier:gradient_boosting:max_depth': 'None', 'classifier:gradient_boosting:max_leaf_nodes': 74, 'classifier:gradient_boosting:min_samples_leaf': 15, 'classifier:gradient_boosting:scoring': 'loss', 'classifier:gradient_boosting:tol': 1e-07, 'data_preprocessor:feature_type:categorical_transformer:categorical_encoding:__choice__': 'encoding', 'data_preprocessor:feature_type:categorical_transformer:category_coalescence:__choice__': 'minority_coalescer', 'data_preprocessor:feature_type:numerical_transformer:imputation:strategy': 'most_frequent', 'data_preprocessor:feature_type:numerical_transformer:rescaling:__choice__': 'quantile_transformer', 'feature_preprocessor:feature_agglomeration:affinity': 'cosine', 'feature_preprocessor:feature_agglomeration:linkage': 'complete', 'feature_preprocessor:feature_agglomeration:n_clusters': 347, 'feature_preprocessor:feature_agglomeration:pooling_func': 'mean', 'data_preprocessor:feature_type:categorical_transformer:category_coalescence:minority_coalescer:minimum_fraction': 0.003739779653007621, 'data_preprocessor:feature_type:numerical_transformer:rescaling:quantile_transformer:n_quantiles': 1000, 'data_preprocessor:feature_type:numerical_transformer:rescaling:quantile_transformer:output_distribution': 'normal'},\n",
       "  dataset_properties={\n",
       "    'task': 2,\n",
       "    'sparse': False,\n",
       "    'multilabel': False,\n",
       "    'multiclass': True,\n",
       "    'target_type': 'classification',\n",
       "    'signed': False})),\n",
       " (0.06,\n",
       "  SimpleClassificationPipeline({'balancing:strategy': 'none', 'classifier:__choice__': 'gradient_boosting', 'data_preprocessor:__choice__': 'feature_type', 'feature_preprocessor:__choice__': 'feature_agglomeration', 'classifier:gradient_boosting:early_stop': 'train', 'classifier:gradient_boosting:l2_regularization': 1.1600464102743338e-10, 'classifier:gradient_boosting:learning_rate': 0.07269071395995376, 'classifier:gradient_boosting:loss': 'auto', 'classifier:gradient_boosting:max_bins': 255, 'classifier:gradient_boosting:max_depth': 'None', 'classifier:gradient_boosting:max_leaf_nodes': 151, 'classifier:gradient_boosting:min_samples_leaf': 15, 'classifier:gradient_boosting:scoring': 'loss', 'classifier:gradient_boosting:tol': 1e-07, 'data_preprocessor:feature_type:categorical_transformer:categorical_encoding:__choice__': 'no_encoding', 'data_preprocessor:feature_type:categorical_transformer:category_coalescence:__choice__': 'minority_coalescer', 'data_preprocessor:feature_type:numerical_transformer:imputation:strategy': 'most_frequent', 'data_preprocessor:feature_type:numerical_transformer:rescaling:__choice__': 'quantile_transformer', 'feature_preprocessor:feature_agglomeration:affinity': 'euclidean', 'feature_preprocessor:feature_agglomeration:linkage': 'ward', 'feature_preprocessor:feature_agglomeration:n_clusters': 344, 'feature_preprocessor:feature_agglomeration:pooling_func': 'max', 'classifier:gradient_boosting:n_iter_no_change': 13, 'data_preprocessor:feature_type:categorical_transformer:category_coalescence:minority_coalescer:minimum_fraction': 0.003699457110292216, 'data_preprocessor:feature_type:numerical_transformer:rescaling:quantile_transformer:n_quantiles': 1029, 'data_preprocessor:feature_type:numerical_transformer:rescaling:quantile_transformer:output_distribution': 'normal'},\n",
       "  dataset_properties={\n",
       "    'task': 2,\n",
       "    'sparse': False,\n",
       "    'multilabel': False,\n",
       "    'multiclass': True,\n",
       "    'target_type': 'classification',\n",
       "    'signed': False})),\n",
       " (0.04,\n",
       "  SimpleClassificationPipeline({'balancing:strategy': 'none', 'classifier:__choice__': 'gradient_boosting', 'data_preprocessor:__choice__': 'feature_type', 'feature_preprocessor:__choice__': 'feature_agglomeration', 'classifier:gradient_boosting:early_stop': 'off', 'classifier:gradient_boosting:l2_regularization': 1.1949713265729372e-10, 'classifier:gradient_boosting:learning_rate': 0.07163441729737076, 'classifier:gradient_boosting:loss': 'auto', 'classifier:gradient_boosting:max_bins': 255, 'classifier:gradient_boosting:max_depth': 'None', 'classifier:gradient_boosting:max_leaf_nodes': 87, 'classifier:gradient_boosting:min_samples_leaf': 15, 'classifier:gradient_boosting:scoring': 'loss', 'classifier:gradient_boosting:tol': 1e-07, 'data_preprocessor:feature_type:categorical_transformer:categorical_encoding:__choice__': 'no_encoding', 'data_preprocessor:feature_type:categorical_transformer:category_coalescence:__choice__': 'minority_coalescer', 'data_preprocessor:feature_type:numerical_transformer:imputation:strategy': 'median', 'data_preprocessor:feature_type:numerical_transformer:rescaling:__choice__': 'power_transformer', 'feature_preprocessor:feature_agglomeration:affinity': 'euclidean', 'feature_preprocessor:feature_agglomeration:linkage': 'complete', 'feature_preprocessor:feature_agglomeration:n_clusters': 338, 'feature_preprocessor:feature_agglomeration:pooling_func': 'mean', 'data_preprocessor:feature_type:categorical_transformer:category_coalescence:minority_coalescer:minimum_fraction': 0.0035782632303363727},\n",
       "  dataset_properties={\n",
       "    'task': 2,\n",
       "    'sparse': False,\n",
       "    'multilabel': False,\n",
       "    'multiclass': True,\n",
       "    'target_type': 'classification',\n",
       "    'signed': False})),\n",
       " (0.04,\n",
       "  SimpleClassificationPipeline({'balancing:strategy': 'none', 'classifier:__choice__': 'gradient_boosting', 'data_preprocessor:__choice__': 'feature_type', 'feature_preprocessor:__choice__': 'feature_agglomeration', 'classifier:gradient_boosting:early_stop': 'train', 'classifier:gradient_boosting:l2_regularization': 1.265271748147543e-10, 'classifier:gradient_boosting:learning_rate': 0.07547526344862635, 'classifier:gradient_boosting:loss': 'auto', 'classifier:gradient_boosting:max_bins': 255, 'classifier:gradient_boosting:max_depth': 'None', 'classifier:gradient_boosting:max_leaf_nodes': 87, 'classifier:gradient_boosting:min_samples_leaf': 15, 'classifier:gradient_boosting:scoring': 'loss', 'classifier:gradient_boosting:tol': 1e-07, 'data_preprocessor:feature_type:categorical_transformer:categorical_encoding:__choice__': 'encoding', 'data_preprocessor:feature_type:categorical_transformer:category_coalescence:__choice__': 'minority_coalescer', 'data_preprocessor:feature_type:numerical_transformer:imputation:strategy': 'median', 'data_preprocessor:feature_type:numerical_transformer:rescaling:__choice__': 'none', 'feature_preprocessor:feature_agglomeration:affinity': 'euclidean', 'feature_preprocessor:feature_agglomeration:linkage': 'complete', 'feature_preprocessor:feature_agglomeration:n_clusters': 343, 'feature_preprocessor:feature_agglomeration:pooling_func': 'median', 'classifier:gradient_boosting:n_iter_no_change': 5, 'data_preprocessor:feature_type:categorical_transformer:category_coalescence:minority_coalescer:minimum_fraction': 0.003740335052308483},\n",
       "  dataset_properties={\n",
       "    'task': 2,\n",
       "    'sparse': False,\n",
       "    'multilabel': False,\n",
       "    'multiclass': True,\n",
       "    'target_type': 'classification',\n",
       "    'signed': False})),\n",
       " (0.04,\n",
       "  SimpleClassificationPipeline({'balancing:strategy': 'weighting', 'classifier:__choice__': 'gradient_boosting', 'data_preprocessor:__choice__': 'feature_type', 'feature_preprocessor:__choice__': 'feature_agglomeration', 'classifier:gradient_boosting:early_stop': 'train', 'classifier:gradient_boosting:l2_regularization': 1.4711146543096225e-10, 'classifier:gradient_boosting:learning_rate': 0.0329532203620643, 'classifier:gradient_boosting:loss': 'auto', 'classifier:gradient_boosting:max_bins': 255, 'classifier:gradient_boosting:max_depth': 'None', 'classifier:gradient_boosting:max_leaf_nodes': 120, 'classifier:gradient_boosting:min_samples_leaf': 15, 'classifier:gradient_boosting:scoring': 'loss', 'classifier:gradient_boosting:tol': 1e-07, 'data_preprocessor:feature_type:categorical_transformer:categorical_encoding:__choice__': 'no_encoding', 'data_preprocessor:feature_type:categorical_transformer:category_coalescence:__choice__': 'minority_coalescer', 'data_preprocessor:feature_type:numerical_transformer:imputation:strategy': 'most_frequent', 'data_preprocessor:feature_type:numerical_transformer:rescaling:__choice__': 'quantile_transformer', 'feature_preprocessor:feature_agglomeration:affinity': 'cosine', 'feature_preprocessor:feature_agglomeration:linkage': 'complete', 'feature_preprocessor:feature_agglomeration:n_clusters': 340, 'feature_preprocessor:feature_agglomeration:pooling_func': 'max', 'classifier:gradient_boosting:n_iter_no_change': 11, 'data_preprocessor:feature_type:categorical_transformer:category_coalescence:minority_coalescer:minimum_fraction': 0.003505685258697547, 'data_preprocessor:feature_type:numerical_transformer:rescaling:quantile_transformer:n_quantiles': 1164, 'data_preprocessor:feature_type:numerical_transformer:rescaling:quantile_transformer:output_distribution': 'uniform'},\n",
       "  dataset_properties={\n",
       "    'task': 2,\n",
       "    'sparse': False,\n",
       "    'multilabel': False,\n",
       "    'multiclass': True,\n",
       "    'target_type': 'classification',\n",
       "    'signed': False})),\n",
       " (0.04,\n",
       "  SimpleClassificationPipeline({'balancing:strategy': 'weighting', 'classifier:__choice__': 'gradient_boosting', 'data_preprocessor:__choice__': 'feature_type', 'feature_preprocessor:__choice__': 'feature_agglomeration', 'classifier:gradient_boosting:early_stop': 'train', 'classifier:gradient_boosting:l2_regularization': 4.5292008203029305e-09, 'classifier:gradient_boosting:learning_rate': 0.06481974635213106, 'classifier:gradient_boosting:loss': 'auto', 'classifier:gradient_boosting:max_bins': 255, 'classifier:gradient_boosting:max_depth': 'None', 'classifier:gradient_boosting:max_leaf_nodes': 183, 'classifier:gradient_boosting:min_samples_leaf': 12, 'classifier:gradient_boosting:scoring': 'loss', 'classifier:gradient_boosting:tol': 1e-07, 'data_preprocessor:feature_type:categorical_transformer:categorical_encoding:__choice__': 'encoding', 'data_preprocessor:feature_type:categorical_transformer:category_coalescence:__choice__': 'minority_coalescer', 'data_preprocessor:feature_type:numerical_transformer:imputation:strategy': 'mean', 'data_preprocessor:feature_type:numerical_transformer:rescaling:__choice__': 'power_transformer', 'feature_preprocessor:feature_agglomeration:affinity': 'euclidean', 'feature_preprocessor:feature_agglomeration:linkage': 'average', 'feature_preprocessor:feature_agglomeration:n_clusters': 342, 'feature_preprocessor:feature_agglomeration:pooling_func': 'mean', 'classifier:gradient_boosting:n_iter_no_change': 2, 'data_preprocessor:feature_type:categorical_transformer:category_coalescence:minority_coalescer:minimum_fraction': 0.003749903673440288},\n",
       "  dataset_properties={\n",
       "    'task': 2,\n",
       "    'sparse': False,\n",
       "    'multilabel': False,\n",
       "    'multiclass': True,\n",
       "    'target_type': 'classification',\n",
       "    'signed': False})),\n",
       " (0.04,\n",
       "  SimpleClassificationPipeline({'balancing:strategy': 'weighting', 'classifier:__choice__': 'gradient_boosting', 'data_preprocessor:__choice__': 'feature_type', 'feature_preprocessor:__choice__': 'feature_agglomeration', 'classifier:gradient_boosting:early_stop': 'off', 'classifier:gradient_boosting:l2_regularization': 1.0009711743414182e-10, 'classifier:gradient_boosting:learning_rate': 0.02637040143113899, 'classifier:gradient_boosting:loss': 'auto', 'classifier:gradient_boosting:max_bins': 255, 'classifier:gradient_boosting:max_depth': 'None', 'classifier:gradient_boosting:max_leaf_nodes': 100, 'classifier:gradient_boosting:min_samples_leaf': 14, 'classifier:gradient_boosting:scoring': 'loss', 'classifier:gradient_boosting:tol': 1e-07, 'data_preprocessor:feature_type:categorical_transformer:categorical_encoding:__choice__': 'encoding', 'data_preprocessor:feature_type:categorical_transformer:category_coalescence:__choice__': 'minority_coalescer', 'data_preprocessor:feature_type:numerical_transformer:imputation:strategy': 'mean', 'data_preprocessor:feature_type:numerical_transformer:rescaling:__choice__': 'quantile_transformer', 'feature_preprocessor:feature_agglomeration:affinity': 'euclidean', 'feature_preprocessor:feature_agglomeration:linkage': 'average', 'feature_preprocessor:feature_agglomeration:n_clusters': 329, 'feature_preprocessor:feature_agglomeration:pooling_func': 'max', 'data_preprocessor:feature_type:categorical_transformer:category_coalescence:minority_coalescer:minimum_fraction': 0.003570536441392901, 'data_preprocessor:feature_type:numerical_transformer:rescaling:quantile_transformer:n_quantiles': 683, 'data_preprocessor:feature_type:numerical_transformer:rescaling:quantile_transformer:output_distribution': 'uniform'},\n",
       "  dataset_properties={\n",
       "    'task': 2,\n",
       "    'sparse': False,\n",
       "    'multilabel': False,\n",
       "    'multiclass': True,\n",
       "    'target_type': 'classification',\n",
       "    'signed': False})),\n",
       " (0.02,\n",
       "  SimpleClassificationPipeline({'balancing:strategy': 'none', 'classifier:__choice__': 'gradient_boosting', 'data_preprocessor:__choice__': 'feature_type', 'feature_preprocessor:__choice__': 'feature_agglomeration', 'classifier:gradient_boosting:early_stop': 'train', 'classifier:gradient_boosting:l2_regularization': 1.4636266741598085e-10, 'classifier:gradient_boosting:learning_rate': 0.06322081380130261, 'classifier:gradient_boosting:loss': 'auto', 'classifier:gradient_boosting:max_bins': 255, 'classifier:gradient_boosting:max_depth': 'None', 'classifier:gradient_boosting:max_leaf_nodes': 95, 'classifier:gradient_boosting:min_samples_leaf': 15, 'classifier:gradient_boosting:scoring': 'loss', 'classifier:gradient_boosting:tol': 1e-07, 'data_preprocessor:feature_type:categorical_transformer:categorical_encoding:__choice__': 'no_encoding', 'data_preprocessor:feature_type:categorical_transformer:category_coalescence:__choice__': 'minority_coalescer', 'data_preprocessor:feature_type:numerical_transformer:imputation:strategy': 'median', 'data_preprocessor:feature_type:numerical_transformer:rescaling:__choice__': 'minmax', 'feature_preprocessor:feature_agglomeration:affinity': 'euclidean', 'feature_preprocessor:feature_agglomeration:linkage': 'average', 'feature_preprocessor:feature_agglomeration:n_clusters': 345, 'feature_preprocessor:feature_agglomeration:pooling_func': 'mean', 'classifier:gradient_boosting:n_iter_no_change': 10, 'data_preprocessor:feature_type:categorical_transformer:category_coalescence:minority_coalescer:minimum_fraction': 0.003610436561973923},\n",
       "  dataset_properties={\n",
       "    'task': 2,\n",
       "    'sparse': False,\n",
       "    'multilabel': False,\n",
       "    'multiclass': True,\n",
       "    'target_type': 'classification',\n",
       "    'signed': False})),\n",
       " (0.02,\n",
       "  SimpleClassificationPipeline({'balancing:strategy': 'none', 'classifier:__choice__': 'gradient_boosting', 'data_preprocessor:__choice__': 'feature_type', 'feature_preprocessor:__choice__': 'feature_agglomeration', 'classifier:gradient_boosting:early_stop': 'train', 'classifier:gradient_boosting:l2_regularization': 2.0637038654296175e-10, 'classifier:gradient_boosting:learning_rate': 0.06509482922373813, 'classifier:gradient_boosting:loss': 'auto', 'classifier:gradient_boosting:max_bins': 255, 'classifier:gradient_boosting:max_depth': 'None', 'classifier:gradient_boosting:max_leaf_nodes': 104, 'classifier:gradient_boosting:min_samples_leaf': 14, 'classifier:gradient_boosting:scoring': 'loss', 'classifier:gradient_boosting:tol': 1e-07, 'data_preprocessor:feature_type:categorical_transformer:categorical_encoding:__choice__': 'no_encoding', 'data_preprocessor:feature_type:categorical_transformer:category_coalescence:__choice__': 'minority_coalescer', 'data_preprocessor:feature_type:numerical_transformer:imputation:strategy': 'median', 'data_preprocessor:feature_type:numerical_transformer:rescaling:__choice__': 'quantile_transformer', 'feature_preprocessor:feature_agglomeration:affinity': 'cosine', 'feature_preprocessor:feature_agglomeration:linkage': 'average', 'feature_preprocessor:feature_agglomeration:n_clusters': 346, 'feature_preprocessor:feature_agglomeration:pooling_func': 'mean', 'classifier:gradient_boosting:n_iter_no_change': 7, 'data_preprocessor:feature_type:categorical_transformer:category_coalescence:minority_coalescer:minimum_fraction': 0.003610436561973923, 'data_preprocessor:feature_type:numerical_transformer:rescaling:quantile_transformer:n_quantiles': 902, 'data_preprocessor:feature_type:numerical_transformer:rescaling:quantile_transformer:output_distribution': 'normal'},\n",
       "  dataset_properties={\n",
       "    'task': 2,\n",
       "    'sparse': False,\n",
       "    'multilabel': False,\n",
       "    'multiclass': True,\n",
       "    'target_type': 'classification',\n",
       "    'signed': False})),\n",
       " (0.02,\n",
       "  SimpleClassificationPipeline({'balancing:strategy': 'none', 'classifier:__choice__': 'gradient_boosting', 'data_preprocessor:__choice__': 'feature_type', 'feature_preprocessor:__choice__': 'feature_agglomeration', 'classifier:gradient_boosting:early_stop': 'train', 'classifier:gradient_boosting:l2_regularization': 1.1600464102743338e-10, 'classifier:gradient_boosting:learning_rate': 0.0661631347254422, 'classifier:gradient_boosting:loss': 'auto', 'classifier:gradient_boosting:max_bins': 255, 'classifier:gradient_boosting:max_depth': 'None', 'classifier:gradient_boosting:max_leaf_nodes': 104, 'classifier:gradient_boosting:min_samples_leaf': 15, 'classifier:gradient_boosting:scoring': 'loss', 'classifier:gradient_boosting:tol': 1e-07, 'data_preprocessor:feature_type:categorical_transformer:categorical_encoding:__choice__': 'no_encoding', 'data_preprocessor:feature_type:categorical_transformer:category_coalescence:__choice__': 'minority_coalescer', 'data_preprocessor:feature_type:numerical_transformer:imputation:strategy': 'median', 'data_preprocessor:feature_type:numerical_transformer:rescaling:__choice__': 'quantile_transformer', 'feature_preprocessor:feature_agglomeration:affinity': 'euclidean', 'feature_preprocessor:feature_agglomeration:linkage': 'ward', 'feature_preprocessor:feature_agglomeration:n_clusters': 350, 'feature_preprocessor:feature_agglomeration:pooling_func': 'mean', 'classifier:gradient_boosting:n_iter_no_change': 10, 'data_preprocessor:feature_type:categorical_transformer:category_coalescence:minority_coalescer:minimum_fraction': 0.0035137796151956334, 'data_preprocessor:feature_type:numerical_transformer:rescaling:quantile_transformer:n_quantiles': 1000, 'data_preprocessor:feature_type:numerical_transformer:rescaling:quantile_transformer:output_distribution': 'uniform'},\n",
       "  dataset_properties={\n",
       "    'task': 2,\n",
       "    'sparse': False,\n",
       "    'multilabel': False,\n",
       "    'multiclass': True,\n",
       "    'target_type': 'classification',\n",
       "    'signed': False})),\n",
       " (0.02,\n",
       "  SimpleClassificationPipeline({'balancing:strategy': 'none', 'classifier:__choice__': 'gradient_boosting', 'data_preprocessor:__choice__': 'feature_type', 'feature_preprocessor:__choice__': 'feature_agglomeration', 'classifier:gradient_boosting:early_stop': 'train', 'classifier:gradient_boosting:l2_regularization': 1.1505890285870646e-10, 'classifier:gradient_boosting:learning_rate': 0.06500697421558099, 'classifier:gradient_boosting:loss': 'auto', 'classifier:gradient_boosting:max_bins': 255, 'classifier:gradient_boosting:max_depth': 'None', 'classifier:gradient_boosting:max_leaf_nodes': 220, 'classifier:gradient_boosting:min_samples_leaf': 15, 'classifier:gradient_boosting:scoring': 'loss', 'classifier:gradient_boosting:tol': 1e-07, 'data_preprocessor:feature_type:categorical_transformer:categorical_encoding:__choice__': 'encoding', 'data_preprocessor:feature_type:categorical_transformer:category_coalescence:__choice__': 'minority_coalescer', 'data_preprocessor:feature_type:numerical_transformer:imputation:strategy': 'most_frequent', 'data_preprocessor:feature_type:numerical_transformer:rescaling:__choice__': 'quantile_transformer', 'feature_preprocessor:feature_agglomeration:affinity': 'manhattan', 'feature_preprocessor:feature_agglomeration:linkage': 'average', 'feature_preprocessor:feature_agglomeration:n_clusters': 348, 'feature_preprocessor:feature_agglomeration:pooling_func': 'max', 'classifier:gradient_boosting:n_iter_no_change': 2, 'data_preprocessor:feature_type:categorical_transformer:category_coalescence:minority_coalescer:minimum_fraction': 0.003505685258697547, 'data_preprocessor:feature_type:numerical_transformer:rescaling:quantile_transformer:n_quantiles': 1057, 'data_preprocessor:feature_type:numerical_transformer:rescaling:quantile_transformer:output_distribution': 'normal'},\n",
       "  dataset_properties={\n",
       "    'task': 2,\n",
       "    'sparse': False,\n",
       "    'multilabel': False,\n",
       "    'multiclass': True,\n",
       "    'target_type': 'classification',\n",
       "    'signed': False})),\n",
       " (0.02,\n",
       "  SimpleClassificationPipeline({'balancing:strategy': 'weighting', 'classifier:__choice__': 'gradient_boosting', 'data_preprocessor:__choice__': 'feature_type', 'feature_preprocessor:__choice__': 'feature_agglomeration', 'classifier:gradient_boosting:early_stop': 'train', 'classifier:gradient_boosting:l2_regularization': 1.6482173244516076e-10, 'classifier:gradient_boosting:learning_rate': 0.06509482922373813, 'classifier:gradient_boosting:loss': 'auto', 'classifier:gradient_boosting:max_bins': 255, 'classifier:gradient_boosting:max_depth': 'None', 'classifier:gradient_boosting:max_leaf_nodes': 88, 'classifier:gradient_boosting:min_samples_leaf': 14, 'classifier:gradient_boosting:scoring': 'loss', 'classifier:gradient_boosting:tol': 1e-07, 'data_preprocessor:feature_type:categorical_transformer:categorical_encoding:__choice__': 'encoding', 'data_preprocessor:feature_type:categorical_transformer:category_coalescence:__choice__': 'minority_coalescer', 'data_preprocessor:feature_type:numerical_transformer:imputation:strategy': 'median', 'data_preprocessor:feature_type:numerical_transformer:rescaling:__choice__': 'power_transformer', 'feature_preprocessor:feature_agglomeration:affinity': 'euclidean', 'feature_preprocessor:feature_agglomeration:linkage': 'complete', 'feature_preprocessor:feature_agglomeration:n_clusters': 343, 'feature_preprocessor:feature_agglomeration:pooling_func': 'mean', 'classifier:gradient_boosting:n_iter_no_change': 3, 'data_preprocessor:feature_type:categorical_transformer:category_coalescence:minority_coalescer:minimum_fraction': 0.003610436561973923},\n",
       "  dataset_properties={\n",
       "    'task': 2,\n",
       "    'sparse': False,\n",
       "    'multilabel': False,\n",
       "    'multiclass': True,\n",
       "    'target_type': 'classification',\n",
       "    'signed': False})),\n",
       " (0.02,\n",
       "  SimpleClassificationPipeline({'balancing:strategy': 'none', 'classifier:__choice__': 'gradient_boosting', 'data_preprocessor:__choice__': 'feature_type', 'feature_preprocessor:__choice__': 'feature_agglomeration', 'classifier:gradient_boosting:early_stop': 'train', 'classifier:gradient_boosting:l2_regularization': 1.1600464102743338e-10, 'classifier:gradient_boosting:learning_rate': 0.06353927989314849, 'classifier:gradient_boosting:loss': 'auto', 'classifier:gradient_boosting:max_bins': 255, 'classifier:gradient_boosting:max_depth': 'None', 'classifier:gradient_boosting:max_leaf_nodes': 87, 'classifier:gradient_boosting:min_samples_leaf': 15, 'classifier:gradient_boosting:scoring': 'loss', 'classifier:gradient_boosting:tol': 1e-07, 'data_preprocessor:feature_type:categorical_transformer:categorical_encoding:__choice__': 'encoding', 'data_preprocessor:feature_type:categorical_transformer:category_coalescence:__choice__': 'minority_coalescer', 'data_preprocessor:feature_type:numerical_transformer:imputation:strategy': 'median', 'data_preprocessor:feature_type:numerical_transformer:rescaling:__choice__': 'power_transformer', 'feature_preprocessor:feature_agglomeration:affinity': 'manhattan', 'feature_preprocessor:feature_agglomeration:linkage': 'complete', 'feature_preprocessor:feature_agglomeration:n_clusters': 343, 'feature_preprocessor:feature_agglomeration:pooling_func': 'mean', 'classifier:gradient_boosting:n_iter_no_change': 3, 'data_preprocessor:feature_type:categorical_transformer:category_coalescence:minority_coalescer:minimum_fraction': 0.0035137796151956334},\n",
       "  dataset_properties={\n",
       "    'task': 2,\n",
       "    'sparse': False,\n",
       "    'multilabel': False,\n",
       "    'multiclass': True,\n",
       "    'target_type': 'classification',\n",
       "    'signed': False})),\n",
       " (0.02,\n",
       "  SimpleClassificationPipeline({'balancing:strategy': 'none', 'classifier:__choice__': 'gradient_boosting', 'data_preprocessor:__choice__': 'feature_type', 'feature_preprocessor:__choice__': 'feature_agglomeration', 'classifier:gradient_boosting:early_stop': 'train', 'classifier:gradient_boosting:l2_regularization': 1.1225131681036979e-10, 'classifier:gradient_boosting:learning_rate': 0.03930700770824783, 'classifier:gradient_boosting:loss': 'auto', 'classifier:gradient_boosting:max_bins': 255, 'classifier:gradient_boosting:max_depth': 'None', 'classifier:gradient_boosting:max_leaf_nodes': 70, 'classifier:gradient_boosting:min_samples_leaf': 15, 'classifier:gradient_boosting:scoring': 'loss', 'classifier:gradient_boosting:tol': 1e-07, 'data_preprocessor:feature_type:categorical_transformer:categorical_encoding:__choice__': 'no_encoding', 'data_preprocessor:feature_type:categorical_transformer:category_coalescence:__choice__': 'minority_coalescer', 'data_preprocessor:feature_type:numerical_transformer:imputation:strategy': 'most_frequent', 'data_preprocessor:feature_type:numerical_transformer:rescaling:__choice__': 'none', 'feature_preprocessor:feature_agglomeration:affinity': 'cosine', 'feature_preprocessor:feature_agglomeration:linkage': 'complete', 'feature_preprocessor:feature_agglomeration:n_clusters': 335, 'feature_preprocessor:feature_agglomeration:pooling_func': 'mean', 'classifier:gradient_boosting:n_iter_no_change': 11, 'data_preprocessor:feature_type:categorical_transformer:category_coalescence:minority_coalescer:minimum_fraction': 0.0031230663998206773},\n",
       "  dataset_properties={\n",
       "    'task': 2,\n",
       "    'sparse': False,\n",
       "    'multilabel': False,\n",
       "    'multiclass': True,\n",
       "    'target_type': 'classification',\n",
       "    'signed': False})),\n",
       " (0.02,\n",
       "  SimpleClassificationPipeline({'balancing:strategy': 'weighting', 'classifier:__choice__': 'gradient_boosting', 'data_preprocessor:__choice__': 'feature_type', 'feature_preprocessor:__choice__': 'no_preprocessing', 'classifier:gradient_boosting:early_stop': 'train', 'classifier:gradient_boosting:l2_regularization': 1.2592352743549368e-10, 'classifier:gradient_boosting:learning_rate': 0.051348402398340764, 'classifier:gradient_boosting:loss': 'auto', 'classifier:gradient_boosting:max_bins': 255, 'classifier:gradient_boosting:max_depth': 'None', 'classifier:gradient_boosting:max_leaf_nodes': 156, 'classifier:gradient_boosting:min_samples_leaf': 12, 'classifier:gradient_boosting:scoring': 'loss', 'classifier:gradient_boosting:tol': 1e-07, 'data_preprocessor:feature_type:categorical_transformer:categorical_encoding:__choice__': 'encoding', 'data_preprocessor:feature_type:categorical_transformer:category_coalescence:__choice__': 'minority_coalescer', 'data_preprocessor:feature_type:numerical_transformer:imputation:strategy': 'median', 'data_preprocessor:feature_type:numerical_transformer:rescaling:__choice__': 'quantile_transformer', 'classifier:gradient_boosting:n_iter_no_change': 7, 'data_preprocessor:feature_type:categorical_transformer:category_coalescence:minority_coalescer:minimum_fraction': 0.0036782028842471236, 'data_preprocessor:feature_type:numerical_transformer:rescaling:quantile_transformer:n_quantiles': 930, 'data_preprocessor:feature_type:numerical_transformer:rescaling:quantile_transformer:output_distribution': 'uniform'},\n",
       "  dataset_properties={\n",
       "    'task': 2,\n",
       "    'sparse': False,\n",
       "    'multilabel': False,\n",
       "    'multiclass': True,\n",
       "    'target_type': 'classification',\n",
       "    'signed': False})),\n",
       " (0.02,\n",
       "  SimpleClassificationPipeline({'balancing:strategy': 'weighting', 'classifier:__choice__': 'gradient_boosting', 'data_preprocessor:__choice__': 'feature_type', 'feature_preprocessor:__choice__': 'no_preprocessing', 'classifier:gradient_boosting:early_stop': 'train', 'classifier:gradient_boosting:l2_regularization': 2.1099104491106928e-10, 'classifier:gradient_boosting:learning_rate': 0.06036893173206004, 'classifier:gradient_boosting:loss': 'auto', 'classifier:gradient_boosting:max_bins': 255, 'classifier:gradient_boosting:max_depth': 'None', 'classifier:gradient_boosting:max_leaf_nodes': 125, 'classifier:gradient_boosting:min_samples_leaf': 15, 'classifier:gradient_boosting:scoring': 'loss', 'classifier:gradient_boosting:tol': 1e-07, 'data_preprocessor:feature_type:categorical_transformer:categorical_encoding:__choice__': 'no_encoding', 'data_preprocessor:feature_type:categorical_transformer:category_coalescence:__choice__': 'minority_coalescer', 'data_preprocessor:feature_type:numerical_transformer:imputation:strategy': 'most_frequent', 'data_preprocessor:feature_type:numerical_transformer:rescaling:__choice__': 'power_transformer', 'classifier:gradient_boosting:n_iter_no_change': 15, 'data_preprocessor:feature_type:categorical_transformer:category_coalescence:minority_coalescer:minimum_fraction': 0.0036279585489096943},\n",
       "  dataset_properties={\n",
       "    'task': 2,\n",
       "    'sparse': False,\n",
       "    'multilabel': False,\n",
       "    'multiclass': True,\n",
       "    'target_type': 'classification',\n",
       "    'signed': False})),\n",
       " (0.02,\n",
       "  SimpleClassificationPipeline({'balancing:strategy': 'none', 'classifier:__choice__': 'gradient_boosting', 'data_preprocessor:__choice__': 'feature_type', 'feature_preprocessor:__choice__': 'feature_agglomeration', 'classifier:gradient_boosting:early_stop': 'train', 'classifier:gradient_boosting:l2_regularization': 1.1509514015236061e-10, 'classifier:gradient_boosting:learning_rate': 0.06477651561729557, 'classifier:gradient_boosting:loss': 'auto', 'classifier:gradient_boosting:max_bins': 255, 'classifier:gradient_boosting:max_depth': 'None', 'classifier:gradient_boosting:max_leaf_nodes': 170, 'classifier:gradient_boosting:min_samples_leaf': 15, 'classifier:gradient_boosting:scoring': 'loss', 'classifier:gradient_boosting:tol': 1e-07, 'data_preprocessor:feature_type:categorical_transformer:categorical_encoding:__choice__': 'no_encoding', 'data_preprocessor:feature_type:categorical_transformer:category_coalescence:__choice__': 'minority_coalescer', 'data_preprocessor:feature_type:numerical_transformer:imputation:strategy': 'most_frequent', 'data_preprocessor:feature_type:numerical_transformer:rescaling:__choice__': 'quantile_transformer', 'feature_preprocessor:feature_agglomeration:affinity': 'euclidean', 'feature_preprocessor:feature_agglomeration:linkage': 'average', 'feature_preprocessor:feature_agglomeration:n_clusters': 347, 'feature_preprocessor:feature_agglomeration:pooling_func': 'mean', 'classifier:gradient_boosting:n_iter_no_change': 1, 'data_preprocessor:feature_type:categorical_transformer:category_coalescence:minority_coalescer:minimum_fraction': 0.003749903673440288, 'data_preprocessor:feature_type:numerical_transformer:rescaling:quantile_transformer:n_quantiles': 1032, 'data_preprocessor:feature_type:numerical_transformer:rescaling:quantile_transformer:output_distribution': 'normal'},\n",
       "  dataset_properties={\n",
       "    'task': 2,\n",
       "    'sparse': False,\n",
       "    'multilabel': False,\n",
       "    'multiclass': True,\n",
       "    'target_type': 'classification',\n",
       "    'signed': False})),\n",
       " (0.02,\n",
       "  SimpleClassificationPipeline({'balancing:strategy': 'none', 'classifier:__choice__': 'gradient_boosting', 'data_preprocessor:__choice__': 'feature_type', 'feature_preprocessor:__choice__': 'feature_agglomeration', 'classifier:gradient_boosting:early_stop': 'train', 'classifier:gradient_boosting:l2_regularization': 1.0976886802252566e-10, 'classifier:gradient_boosting:learning_rate': 0.011027966381006104, 'classifier:gradient_boosting:loss': 'auto', 'classifier:gradient_boosting:max_bins': 255, 'classifier:gradient_boosting:max_depth': 'None', 'classifier:gradient_boosting:max_leaf_nodes': 165, 'classifier:gradient_boosting:min_samples_leaf': 16, 'classifier:gradient_boosting:scoring': 'loss', 'classifier:gradient_boosting:tol': 1e-07, 'data_preprocessor:feature_type:categorical_transformer:categorical_encoding:__choice__': 'no_encoding', 'data_preprocessor:feature_type:categorical_transformer:category_coalescence:__choice__': 'minority_coalescer', 'data_preprocessor:feature_type:numerical_transformer:imputation:strategy': 'most_frequent', 'data_preprocessor:feature_type:numerical_transformer:rescaling:__choice__': 'none', 'feature_preprocessor:feature_agglomeration:affinity': 'euclidean', 'feature_preprocessor:feature_agglomeration:linkage': 'ward', 'feature_preprocessor:feature_agglomeration:n_clusters': 329, 'feature_preprocessor:feature_agglomeration:pooling_func': 'mean', 'classifier:gradient_boosting:n_iter_no_change': 2, 'data_preprocessor:feature_type:categorical_transformer:category_coalescence:minority_coalescer:minimum_fraction': 0.0036160922892381634},\n",
       "  dataset_properties={\n",
       "    'task': 2,\n",
       "    'sparse': False,\n",
       "    'multilabel': False,\n",
       "    'multiclass': True,\n",
       "    'target_type': 'classification',\n",
       "    'signed': False})),\n",
       " (0.02,\n",
       "  SimpleClassificationPipeline({'balancing:strategy': 'none', 'classifier:__choice__': 'gradient_boosting', 'data_preprocessor:__choice__': 'feature_type', 'feature_preprocessor:__choice__': 'feature_agglomeration', 'classifier:gradient_boosting:early_stop': 'train', 'classifier:gradient_boosting:l2_regularization': 1.1359867700838453e-10, 'classifier:gradient_boosting:learning_rate': 0.048170655946802775, 'classifier:gradient_boosting:loss': 'auto', 'classifier:gradient_boosting:max_bins': 255, 'classifier:gradient_boosting:max_depth': 'None', 'classifier:gradient_boosting:max_leaf_nodes': 88, 'classifier:gradient_boosting:min_samples_leaf': 15, 'classifier:gradient_boosting:scoring': 'loss', 'classifier:gradient_boosting:tol': 1e-07, 'data_preprocessor:feature_type:categorical_transformer:categorical_encoding:__choice__': 'no_encoding', 'data_preprocessor:feature_type:categorical_transformer:category_coalescence:__choice__': 'minority_coalescer', 'data_preprocessor:feature_type:numerical_transformer:imputation:strategy': 'most_frequent', 'data_preprocessor:feature_type:numerical_transformer:rescaling:__choice__': 'quantile_transformer', 'feature_preprocessor:feature_agglomeration:affinity': 'cosine', 'feature_preprocessor:feature_agglomeration:linkage': 'complete', 'feature_preprocessor:feature_agglomeration:n_clusters': 376, 'feature_preprocessor:feature_agglomeration:pooling_func': 'max', 'classifier:gradient_boosting:n_iter_no_change': 2, 'data_preprocessor:feature_type:categorical_transformer:category_coalescence:minority_coalescer:minimum_fraction': 0.003762426499254021, 'data_preprocessor:feature_type:numerical_transformer:rescaling:quantile_transformer:n_quantiles': 1010, 'data_preprocessor:feature_type:numerical_transformer:rescaling:quantile_transformer:output_distribution': 'normal'},\n",
       "  dataset_properties={\n",
       "    'task': 2,\n",
       "    'sparse': False,\n",
       "    'multilabel': False,\n",
       "    'multiclass': True,\n",
       "    'target_type': 'classification',\n",
       "    'signed': False}))]"
      ]
     },
     "execution_count": 20,
     "metadata": {},
     "output_type": "execute_result"
    }
   ],
   "source": [
    "automl.get_models_with_weights()"
   ]
  },
  {
   "cell_type": "code",
   "execution_count": null,
   "id": "bba0a4fe-1a66-4712-acee-66a979ee3ef6",
   "metadata": {},
   "outputs": [],
   "source": []
  }
 ],
 "metadata": {
  "kernelspec": {
   "display_name": "Python (autoskl)",
   "language": "python",
   "name": "autoskl"
  },
  "language_info": {
   "codemirror_mode": {
    "name": "ipython",
    "version": 3
   },
   "file_extension": ".py",
   "mimetype": "text/x-python",
   "name": "python",
   "nbconvert_exporter": "python",
   "pygments_lexer": "ipython3",
   "version": "3.9.10"
  },
  "widgets": {
   "application/vnd.jupyter.widget-state+json": {
    "state": {},
    "version_major": 2,
    "version_minor": 0
   }
  }
 },
 "nbformat": 4,
 "nbformat_minor": 5
}
