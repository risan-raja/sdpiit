{
 "cells": [
  {
   "cell_type": "code",
   "execution_count": 1,
   "id": "ea47ac9b-50c1-49ba-9be4-a5a5f38fcff7",
   "metadata": {},
   "outputs": [],
   "source": [
    "import pandas as pd\n",
    "import numpy as np\n",
    "from sklearn.preprocessing import Binarizer,StandardScaler,LabelBinarizer,OneHotEncoder\n",
    "\n",
    "from sklearn.compose import ColumnTransformer\n",
    "from sklearn.pipeline import Pipeline, make_pipeline\n",
    "import dtale\n",
    "import matplotlib.pyplot as plt\n",
    "import seaborn as sns\n",
    "sns.set()"
   ]
  },
  {
   "cell_type": "markdown",
   "id": "a2c60071-b551-4454-9f06-b12c3a6574c7",
   "metadata": {},
   "source": [
    "#### Libraries Permitted\n",
    "    Scikit-learn\n",
    "    XGBoost\n",
    "    NumPy\n",
    "    Pandas\n",
    "    SciPy\n",
    "    Pickle\n",
    "    Seaborn\n",
    "    Matplotlib"
   ]
  },
  {
   "cell_type": "markdown",
   "id": "c24df64d-2d17-4441-ba30-e16e2a59da95",
   "metadata": {},
   "source": [
    "#### Type of Columns\n",
    "\n",
    "    'v_1': 'Binary',\n",
    "    'v_26': 'Binary',\n",
    "    'v_11': 'Binary',\n",
    "    'v_14': 'Binary',\n",
    "    'v_30': 'Binary',\n",
    "    'v_28': 'Binary', \n",
    "    'v_9': 'Binary', \n",
    "    'v_27': 'Binary',\n",
    "    'v_32': 'Nominal', \n",
    "    'v_4': 'Nominal',\n",
    "    'v_3': 'Nominal',\n",
    "    'v_20': 'Nominal',\n",
    "    'v_21': 'Nominal',\n",
    "    'v_18': 'Nominal',\n",
    "    'v_25': 'Nominal',\n",
    "    'v_12': 'Nominal', \n",
    "    'v_31': 'Ordinal',\n",
    "    'v_15': 'Ordinal',\n",
    "    'v_19': 'Ordinal',\n",
    "    'v_13': 'Ordinal',\n",
    "    'v_33': 'Ordinal',\n",
    "    'v_17': 'Ordinal',\n",
    "    'v_29': 'Ordinal',\n",
    "    'v_23': 'Ordinal',\n",
    "    'v_6': 'Ordinal', \n",
    "    'v_24': 'Ordinal', \n",
    "    'v_10': 'Ordinal', \n",
    "    'v_5': 'Ordinal',\n",
    "    'v_22': 'Ordinal',\n",
    "    'v_0': 'Ordinal',\n",
    "    'v_16': 'Ratio',\n",
    "    'v_2': 'Ratio',\n",
    "    'v_8': 'Ratio',\n",
    "    'v_7': 'Ratio'\n"
   ]
  },
  {
   "cell_type": "markdown",
   "id": "bbed4c79-41ab-438c-8c1e-14b5b8f45518",
   "metadata": {},
   "source": [
    "#### Discrete Columns\n",
    "['v_21', 'v_32', 'v_15', 'v_4', 'v_1', 'v_8', 'v_12', 'v_25', 'v_20', 'v_18', 'v_3', 'v_11', 'v_14', 'v_26', 'v_27', 'v_30', 'v_9', 'v_31', 'v_28', 'v_13', 'v_33', 'v_17', 'v_19', 'v_23', 'v_24', 'v_10', 'v_5', 'v_6', 'v_0', 'v_34', 'v_35', 'v_36', 'v_37', 'v_38', 'v_39', 'v_40', 'label']"
   ]
  },
  {
   "cell_type": "code",
   "execution_count": 2,
   "id": "ed51c1ba-d782-4a08-beb1-3844b13306ba",
   "metadata": {
    "tags": []
   },
   "outputs": [
    {
     "data": {
      "text/plain": [
       "['v_0',\n",
       " 'v_1',\n",
       " 'v_10',\n",
       " 'v_11',\n",
       " 'v_12',\n",
       " 'v_13',\n",
       " 'v_14',\n",
       " 'v_15',\n",
       " 'v_16',\n",
       " 'v_17',\n",
       " 'v_18',\n",
       " 'v_19',\n",
       " 'v_2',\n",
       " 'v_20',\n",
       " 'v_21',\n",
       " 'v_22',\n",
       " 'v_23',\n",
       " 'v_24',\n",
       " 'v_25',\n",
       " 'v_26',\n",
       " 'v_27',\n",
       " 'v_28',\n",
       " 'v_29',\n",
       " 'v_3',\n",
       " 'v_30',\n",
       " 'v_31',\n",
       " 'v_32',\n",
       " 'v_33',\n",
       " 'v_4',\n",
       " 'v_5',\n",
       " 'v_6',\n",
       " 'v_7',\n",
       " 'v_8',\n",
       " 'v_9']"
      ]
     },
     "execution_count": 2,
     "metadata": {},
     "output_type": "execute_result"
    }
   ],
   "source": [
    "dtype_info = {\n",
    "    \"v_1\": \"Binary\",\n",
    "    \"v_26\": \"Binary\",\n",
    "    \"v_11\": \"Binary\",\n",
    "    \"v_14\": \"Binary\",\n",
    "    \"v_30\": \"Binary\",\n",
    "    \"v_28\": \"Binary\",\n",
    "    \"v_9\": \"Binary\",\n",
    "    \"v_27\": \"Binary\",\n",
    "    \"v_32\": \"Nominal\",\n",
    "    \"v_4\": \"Nominal\",\n",
    "    \"v_3\": \"Nominal\",\n",
    "    \"v_20\": \"Nominal\",\n",
    "    \"v_21\": \"Nominal\",\n",
    "    \"v_18\": \"Nominal\",\n",
    "    \"v_25\": \"Nominal\",\n",
    "    \"v_12\": \"Nominal\",\n",
    "    \"v_31\": \"Ordinal\",\n",
    "    \"v_15\": \"Ordinal\",\n",
    "    \"v_19\": \"Ordinal\",\n",
    "    \"v_13\": \"Ordinal\",\n",
    "    \"v_33\": \"Ordinal\",\n",
    "    \"v_17\": \"Ordinal\",\n",
    "    \"v_29\": \"Ordinal\",\n",
    "    \"v_23\": \"Ordinal\",\n",
    "    \"v_6\": \"Ordinal\",\n",
    "    \"v_24\": \"Ordinal\",\n",
    "    \"v_10\": \"Ordinal\",\n",
    "    \"v_5\": \"Ordinal\",\n",
    "    \"v_22\": \"Ordinal\",\n",
    "    \"v_0\": \"Ordinal\",\n",
    "    \"v_16\": \"Ratio\",\n",
    "    \"v_2\": \"Ratio\",\n",
    "    \"v_8\": \"Ratio\",\n",
    "    \"v_7\": \"Ratio\",\n",
    "}\n",
    "sorted(dtype_info)"
   ]
  },
  {
   "cell_type": "code",
   "execution_count": 3,
   "id": "287d177a-7d62-4aa1-9685-79f428ba2b4e",
   "metadata": {},
   "outputs": [],
   "source": [
    "data = pd.read_pickle(\"../data/train.pkl\")"
   ]
  },
  {
   "cell_type": "code",
   "execution_count": 51,
   "id": "bc610f9c-4d05-4756-b96b-688cd0fe591c",
   "metadata": {},
   "outputs": [],
   "source": [
    "# analysis = dtale.show(data, inlace=True, notebook=False)\n",
    "# # plot = ordinal_data.hist(figsize=(20,15),layout=(5,4),legend=True,bins=10)\n",
    "# analysis"
   ]
  },
  {
   "cell_type": "code",
   "execution_count": 40,
   "id": "84301842-d560-4b56-824e-1303c9fe7548",
   "metadata": {},
   "outputs": [],
   "source": [
    "discrete = data.select_dtypes(include=\"int64\")\n",
    "numeric = data.select_dtypes(include=\"float64\")\n",
    "\n",
    "ordinal = [i for i in dtype_info if dtype_info[i] == \"Ordinal\"]\n",
    "nominal = [i for i in dtype_info if dtype_info[i] == \"Nominal\"]\n",
    "binary = [i for i in dtype_info if dtype_info[i] == \"Binary\"]"
   ]
  },
  {
   "cell_type": "code",
   "execution_count": 5,
   "id": "1f120c17-f2f9-4754-8851-af457e1c027e",
   "metadata": {},
   "outputs": [],
   "source": [
    "def categorise_data(data):\n",
    "    ordinal_data = data.loc[:,ordinal]\n",
    "    nominal_data = data.loc[:,nominal]\n",
    "    binary_data = data.loc[:,binary]\n",
    "    return ordinal_data, nominal_data, binary_data\n",
    "# ordinal_data.to_pickle('../data/ordinal_data.pkl')\n",
    "# nominal_data.to_pickle('../data/nominal_data.pkl')\n",
    "# binary_data.to_pickle('../data/binary_data.pkl')\n",
    "ordinal_data = pd.read_pickle('../data/ordinal_data.pkl')\n",
    "nominal_data = pd.read_pickle('../data/nominal_data.pkl')\n",
    "binary_data = pd.read_pickle('../data/binary_data.pkl')"
   ]
  },
  {
   "cell_type": "code",
   "execution_count": 7,
   "id": "d6183690-3e96-436a-a29e-2e628bd55de2",
   "metadata": {},
   "outputs": [],
   "source": [
    "%matplotlib inline"
   ]
  },
  {
   "cell_type": "markdown",
   "id": "28da01bc-ea6e-4acc-8e7b-46416b89aea6",
   "metadata": {
    "slideshow": {
     "slide_type": "slide"
    },
    "tags": []
   },
   "source": [
    "#### Histograms of Ordinal Data\n",
    "![Image](../imgs/hist_ordinal.png)\n",
    "\n",
    "#### Histograms of Nominal Data\n",
    "![Image](../imgs/hist_nominal.png)\n",
    "\n",
    "#### Histograms of Binary Data\n",
    "![Image](../imgs/hist_binary.png)"
   ]
  },
  {
   "cell_type": "code",
   "execution_count": 179,
   "id": "efb7fe49-bc01-4091-8286-f24c56ceaafe",
   "metadata": {},
   "outputs": [],
   "source": [
    "# data.to_pickle('../data/train.pkl')\n",
    "# # data = pd.read_csv('../data/train.csv', index_col=0)"
   ]
  },
  {
   "cell_type": "code",
   "execution_count": 166,
   "id": "8a59efe8-4832-4fb9-85ff-e0e39f50faca",
   "metadata": {},
   "outputs": [],
   "source": [
    "def separate_floating_value(ordinal_data):\n",
    "    ordinal_data['decimal_values_29'] = 0\n",
    "    ordinal_data['decimal_values_22'] = 0\n",
    "    ordinal_data.decimal_values_22 = ordinal_data.v_22 - ordinal_data.v_22.round()\n",
    "    ordinal_data.decimal_values_29 = ordinal_data.v_29 - ordinal_data.v_29.round()\n",
    "    ordinal_data.v_29 = ordinal_data['v_29'].round()\n",
    "    ordinal_data.v_22 = ordinal_data['v_22'].round()\n",
    "    return ordinal_data"
   ]
  },
  {
   "cell_type": "code",
   "execution_count": 8,
   "id": "8f5f07ad-acad-4709-a9b4-65a521332225",
   "metadata": {
    "tags": []
   },
   "outputs": [
    {
     "data": {
      "image/png": "[encoded data removed]",
      "text/plain": [
       "<Figure size 2160x360 with 1 Axes>"
      ]
     },
     "metadata": {
      "needs_background": "light"
     },
     "output_type": "display_data"
    }
   ],
   "source": [
    "categorical = ordinal+nominal\n",
    "oridinal_categories_total= {}\n",
    "for c in ordinal:\n",
    "    # print(c, len(data[c].unique()))\n",
    "    oridinal_categories_total[c]=len(data[c].unique())\n",
    "fig = plt.figure(figsize=(30,5))\n",
    "    \n",
    "fig = sns.barplot(x=ordinal,saturation=1, y=list(oridinal_categories_total.values()), label='Total Catagories in Each Ordinal Feature',color='r')\n",
    "plt.legend()\n",
    "# plt.table(ordinal)\n",
    "plt.show()"
   ]
  },
  {
   "cell_type": "markdown",
   "id": "2ad386eb-748b-4484-bb55-4f2a96ae954e",
   "metadata": {},
   "source": [
    "##### After Removing the decimal Part from the features"
   ]
  },
  {
   "cell_type": "code",
   "execution_count": 9,
   "id": "27360416-5050-4a76-bbc3-afef65842788",
   "metadata": {
    "tags": []
   },
   "outputs": [
    {
     "data": {
      "image/png": "[encoded data removed]",
      "text/plain": [
       "<Figure size 2160x360 with 1 Axes>"
      ]
     },
     "metadata": {
      "needs_background": "light"
     },
     "output_type": "display_data"
    }
   ],
   "source": [
    "categorical = ordinal+nominal\n",
    "oridinal_categories_total= {}\n",
    "for c in ordinal_data.columns:\n",
    "    # print(c, len(data[c].unique()))\n",
    "    oridinal_categories_total[c]=len(ordinal_data[c].unique())\n",
    "fig = plt.figure(figsize=(30,5))\n",
    "    \n",
    "fig = sns.barplot(x=ordinal_data.columns,saturation=1, y=list(oridinal_categories_total.values()), label='Total Catagories in Each Ordinal Feature',color='r')\n",
    "# plt.table(ordinal)\n",
    "# fig = plt.title\n",
    "plt.xlabel = \"After CLeanup\"\n",
    "fig = plt.legend()\n",
    "fig = plt.show()"
   ]
  },
  {
   "cell_type": "code",
   "execution_count": 10,
   "id": "0eeaea5c-8445-474c-a665-3335c0394111",
   "metadata": {},
   "outputs": [
    {
     "data": {
      "text/html": [
       "<style type=\"text/css\">\n",
       "</style>\n",
       "<table id=\"T_ff749\">\n",
       "  <thead>\n",
       "    <tr>\n",
       "      <th class=\"blank level0\" >&nbsp;</th>\n",
       "      <th id=\"T_ff749_level0_col0\" class=\"col_heading level0 col0\" >v_31</th>\n",
       "      <th id=\"T_ff749_level0_col1\" class=\"col_heading level0 col1\" >v_15</th>\n",
       "      <th id=\"T_ff749_level0_col2\" class=\"col_heading level0 col2\" >v_19</th>\n",
       "      <th id=\"T_ff749_level0_col3\" class=\"col_heading level0 col3\" >v_13</th>\n",
       "      <th id=\"T_ff749_level0_col4\" class=\"col_heading level0 col4\" >v_33</th>\n",
       "      <th id=\"T_ff749_level0_col5\" class=\"col_heading level0 col5\" >v_17</th>\n",
       "      <th id=\"T_ff749_level0_col6\" class=\"col_heading level0 col6\" >v_29</th>\n",
       "      <th id=\"T_ff749_level0_col7\" class=\"col_heading level0 col7\" >v_23</th>\n",
       "      <th id=\"T_ff749_level0_col8\" class=\"col_heading level0 col8\" >v_6</th>\n",
       "      <th id=\"T_ff749_level0_col9\" class=\"col_heading level0 col9\" >v_24</th>\n",
       "      <th id=\"T_ff749_level0_col10\" class=\"col_heading level0 col10\" >v_10</th>\n",
       "      <th id=\"T_ff749_level0_col11\" class=\"col_heading level0 col11\" >v_5</th>\n",
       "      <th id=\"T_ff749_level0_col12\" class=\"col_heading level0 col12\" >v_22</th>\n",
       "      <th id=\"T_ff749_level0_col13\" class=\"col_heading level0 col13\" >v_0</th>\n",
       "      <th id=\"T_ff749_level0_col14\" class=\"col_heading level0 col14\" >decimal_values_29</th>\n",
       "      <th id=\"T_ff749_level0_col15\" class=\"col_heading level0 col15\" >decimal_values_22</th>\n",
       "    </tr>\n",
       "  </thead>\n",
       "  <tbody>\n",
       "    <tr>\n",
       "      <th id=\"T_ff749_level0_row0\" class=\"row_heading level0 row0\" >count</th>\n",
       "      <td id=\"T_ff749_row0_col0\" class=\"data row0 col0\" >48</td>\n",
       "      <td id=\"T_ff749_row0_col1\" class=\"data row0 col1\" >17</td>\n",
       "      <td id=\"T_ff749_row0_col2\" class=\"data row0 col2\" >26</td>\n",
       "      <td id=\"T_ff749_row0_col3\" class=\"data row0 col3\" >22</td>\n",
       "      <td id=\"T_ff749_row0_col4\" class=\"data row0 col4\" >26</td>\n",
       "      <td id=\"T_ff749_row0_col5\" class=\"data row0 col5\" >36</td>\n",
       "      <td id=\"T_ff749_row0_col6\" class=\"data row0 col6\" >26</td>\n",
       "      <td id=\"T_ff749_row0_col7\" class=\"data row0 col7\" >14</td>\n",
       "      <td id=\"T_ff749_row0_col8\" class=\"data row0 col8\" >21</td>\n",
       "      <td id=\"T_ff749_row0_col9\" class=\"data row0 col9\" >22</td>\n",
       "      <td id=\"T_ff749_row0_col10\" class=\"data row0 col10\" >23</td>\n",
       "      <td id=\"T_ff749_row0_col11\" class=\"data row0 col11\" >30</td>\n",
       "      <td id=\"T_ff749_row0_col12\" class=\"data row0 col12\" >26</td>\n",
       "      <td id=\"T_ff749_row0_col13\" class=\"data row0 col13\" >15</td>\n",
       "      <td id=\"T_ff749_row0_col14\" class=\"data row0 col14\" >411</td>\n",
       "      <td id=\"T_ff749_row0_col15\" class=\"data row0 col15\" >403</td>\n",
       "    </tr>\n",
       "  </tbody>\n",
       "</table>\n"
      ],
      "text/plain": [
       "<pandas.io.formats.style.Styler at 0x7f5cde4ca250>"
      ]
     },
     "execution_count": 10,
     "metadata": {},
     "output_type": "execute_result"
    }
   ],
   "source": [
    "# pd\n",
    "temp = pd.DataFrame(oridinal_categories_total,columns=oridinal_categories_total.keys(),index=['count'])\n",
    "temp.style"
   ]
  },
  {
   "cell_type": "code",
   "execution_count": 10,
   "id": "c91d1e13-2382-49d4-8720-d941b5c55dda",
   "metadata": {},
   "outputs": [],
   "source": [
    "for c in ordinal_data.columns:\n",
    "    if 'decimal' not in c:\n",
    "        ordinal_data[c] = ordinal_data[c].astype(np.uint8)"
   ]
  },
  {
   "cell_type": "code",
   "execution_count": 62,
   "id": "f0aa3eaa-bc8f-4630-b002-28081763449e",
   "metadata": {},
   "outputs": [
    {
     "name": "stdout",
     "output_type": "stream",
     "text": [
      "Binary\n",
      "v_1 \t|\t 11\n",
      "------------------------------\n",
      "v_26 \t|\t 11\n",
      "------------------------------\n",
      "v_11 \t|\t 11\n",
      "------------------------------\n",
      "v_14 \t|\t 10\n",
      "------------------------------\n",
      "v_30 \t|\t 11\n",
      "------------------------------\n",
      "v_28 \t|\t 11\n",
      "------------------------------\n",
      "v_9 \t|\t 11\n",
      "------------------------------\n",
      "v_27 \t|\t 11\n",
      "------------------------------\n",
      "\n",
      "\n",
      "\n",
      "\n",
      "\n",
      "Nominal\n",
      "v_32 \t|\t 84\n",
      "------------------------------\n",
      "v_4 \t|\t 98\n",
      "------------------------------\n",
      "v_3 \t|\t 113\n",
      "------------------------------\n",
      "v_20 \t|\t 94\n",
      "------------------------------\n",
      "v_21 \t|\t 22\n",
      "------------------------------\n",
      "v_18 \t|\t 85\n",
      "------------------------------\n",
      "v_25 \t|\t 76\n",
      "------------------------------\n",
      "v_12 \t|\t 37\n",
      "------------------------------\n"
     ]
    }
   ],
   "source": [
    "def print_num_cat(dd):\n",
    "    for c in dd.columns:\n",
    "        print(c,\"\\t|\\t\", len(dd[c].unique()))\n",
    "        print(\"-\"*30)\n",
    "\n",
    "print(\"Binary\")\n",
    "print_num_cat(binary_data)\n",
    "# print(\"-\"*30)\n",
    "print(\"\\n\"*4)\n",
    "\n",
    "print(\"Nominal\")\n",
    "print_num_cat(nominal_data)"
   ]
  },
  {
   "cell_type": "code",
   "execution_count": 136,
   "id": "b8e4273a-9655-4722-bfff-eac9885cdf7c",
   "metadata": {},
   "outputs": [
    {
     "data": {
      "text/plain": [
       "(2496,)"
      ]
     },
     "execution_count": 136,
     "metadata": {},
     "output_type": "execute_result"
    }
   ],
   "source": [
    "ordinal_data.decimal_values_22[ordinal_data.decimal_values_22! = 0].shape"
   ]
  },
  {
   "cell_type": "code",
   "execution_count": null,
   "id": "434fbf8a-7316-4cc9-a8d7-1ffdc6994cc8",
   "metadata": {},
   "outputs": [],
   "source": [
    "fig = plt.figure(figsize=(30,10))\n",
    "\n",
    "hm = sns.heatmap(data.corr())"
   ]
  },
  {
   "cell_type": "code",
   "execution_count": 63,
   "id": "02710f2d-4154-4a5c-bbb4-8ff5e4e7b45d",
   "metadata": {},
   "outputs": [],
   "source": [
    "corr_mat = data.corr()"
   ]
  },
  {
   "cell_type": "code",
   "execution_count": null,
   "id": "1410ac74-75f4-4aee-bcbf-30a0233bdc55",
   "metadata": {},
   "outputs": [],
   "source": [
    "training_target = data.label\n",
    "df = data.drop(['label'],axis=1)\n",
    "# len(df.columns)\n",
    "corr_mat"
   ]
  },
  {
   "cell_type": "code",
   "execution_count": 42,
   "id": "3005004f-658e-4e95-9262-199b5dadf37a",
   "metadata": {},
   "outputs": [],
   "source": [
    "# others = [c for c in data.columns if '__' not in c]\n",
    "def rename_with_type_label(data):\n",
    "    global ordinal,nominal,binary\n",
    "    rn_mp_ord = {c: f'ord__{c}' for c in ordinal}\n",
    "    rn_mp_nom = {c: f'nom__{c}' for c in nominal}\n",
    "    rn_mp_bin = {c: f'bin__{c}' for c in binary}\n",
    "    # rn_mp_num = {c: f'bin__{c}' for c in binary}\n",
    "    rn_mp_bin.update(rn_mp_nom)\n",
    "    rn_mp_ord.update(rn_mp_bin)\n",
    "    sorted(rn_mp_ord)\n",
    "\n",
    "    data = data.rename(rn_mp_ord,axis=1)\n",
    "    return data\n",
    "data = rename_with_type_label(data)"
   ]
  },
  {
   "cell_type": "code",
   "execution_count": 71,
   "id": "351c20f7-3aaf-49f2-8254-8bfbd6c07767",
   "metadata": {},
   "outputs": [],
   "source": [
    "others = [c for c in data.columns if '__' not in c]\n",
    "\n",
    "other_data = data.loc[:,others]\n",
    "\n",
    "data.columns\n",
    "from collections import defaultdict\n",
    "\n",
    "\n",
    "def gen_adj_list(threshold, data=data):\n",
    "    adj_list = defaultdict(list)\n",
    "    corr_mat = data.corr()\n",
    "    for c in data.columns:\n",
    "        # adj_list[c].append()\n",
    "        e = list(corr_mat[corr_mat[c]>=threshold][c].index)\n",
    "        e.remove(c)\n",
    "        adj_list[c]=e\n",
    "        # print(e)\n",
    "        # break\n",
    "    return adj_list"
   ]
  },
  {
   "cell_type": "markdown",
   "id": "cae13bd0-4f86-4de9-8e4d-0b6500c87d59",
   "metadata": {},
   "source": [
    "#### Correlation graph of features with correl > 0.5\n",
    "<img src=\"../imgs/correl_0.5.png\" alt=\"Drawing\" style=\"width: 1900px;height: 500px;\"/>"
   ]
  },
  {
   "cell_type": "code",
   "execution_count": 195,
   "id": "0d5ccb11-a02f-4c81-8bc1-162997747cc6",
   "metadata": {},
   "outputs": [],
   "source": [
    "medi = medi.loc[:,['v_29','v_22','decimal_values_29','decimal_values_22']]\n",
    "\n",
    "medi_29 = medi.sort_values(by='v_29', axis=0)\n",
    "\n",
    "medi_29.sort_values(by='v_29',inplace=True)\n",
    "\n",
    "tempdf = pd.DataFrame()\n",
    "\n",
    "tempdf['v_29'] = medi_29.v_29 + medi_29.decimal_values_29\n",
    "\n",
    "tempdf['v_22'] = medi_29.v_22 + medi_29.decimal_values_22"
   ]
  },
  {
   "cell_type": "code",
   "execution_count": 75,
   "id": "70201430-a059-45bd-b983-468acbdcc907",
   "metadata": {},
   "outputs": [],
   "source": [
    "from numpy.random  import default_rng\n",
    "rng = default_rng(1212)"
   ]
  },
  {
   "cell_type": "code",
   "execution_count": 80,
   "id": "88273f7f-5fb1-48a7-9134-1f5702bd97d6",
   "metadata": {},
   "outputs": [],
   "source": [
    "d = rng.integers(3,size=20)"
   ]
  },
  {
   "cell_type": "code",
   "execution_count": 81,
   "id": "f93cbc19-5023-4481-9b1d-1e61bceab05a",
   "metadata": {},
   "outputs": [
    {
     "data": {
      "text/plain": [
       "array([0, 0, 0, 1, 2, 1, 0, 2, 1, 2, 2, 0, 1, 1, 2, 1, 0, 0, 2, 2])"
      ]
     },
     "execution_count": 81,
     "metadata": {},
     "output_type": "execute_result"
    }
   ],
   "source": [
    "d."
   ]
  },
  {
   "cell_type": "code",
   "execution_count": 82,
   "id": "f0856212-72c1-4588-bf6a-7bd63217c178",
   "metadata": {},
   "outputs": [],
   "source": [
    " \n",
    "def isPrime(n):\n",
    "    if n <= 1:\n",
    "        return False\n",
    "    if n <= 3:\n",
    "        return True\n",
    "    if n % 2 == 0 or n % 3 == 0:\n",
    "        return False\n",
    "    for i in range(5, int(np.sqrt(n) + 1), 6):\n",
    "        if n % i == 0 or n % (i + 2) == 0:\n",
    "            return False\n",
    "    return True\n",
    "\n",
    "\n",
    "def nextPrime(N):\n",
    "    if N <= 1:\n",
    "        return 2\n",
    "    prime = N\n",
    "    found = False\n",
    "    while not found:\n",
    "        prime = prime + 1\n",
    "        if isPrime(prime):\n",
    "            found = True\n",
    "    return prime\n"
   ]
  },
  {
   "cell_type": "code",
   "execution_count": 83,
   "id": "da4cea65-850a-40e1-a46c-96dbf682847e",
   "metadata": {},
   "outputs": [
    {
     "data": {
      "text/plain": [
       "97"
      ]
     },
     "execution_count": 83,
     "metadata": {},
     "output_type": "execute_result"
    }
   ],
   "source": [
    "nextPrime(89)"
   ]
  },
  {
   "cell_type": "code",
   "execution_count": 96,
   "id": "ce5a03c0-224c-4e59-9c90-781da8bbf9fc",
   "metadata": {},
   "outputs": [
    {
     "data": {
      "text/plain": [
       "array([[0.        , 1.        , 0.47619048, ..., 0.95238095, 0.92857143,\n",
       "        0.66666667],\n",
       "       [1.        , 0.        , 1.        , ..., 0.97619048, 0.95238095,\n",
       "        0.97619048],\n",
       "       [0.47619048, 1.        , 0.        , ..., 0.92857143, 0.95238095,\n",
       "        0.5952381 ],\n",
       "       ...,\n",
       "       [0.95238095, 0.97619048, 0.92857143, ..., 0.        , 0.95238095,\n",
       "        0.9047619 ],\n",
       "       [0.92857143, 0.95238095, 0.95238095, ..., 0.95238095, 0.        ,\n",
       "        0.97619048],\n",
       "       [0.66666667, 0.97619048, 0.5952381 , ..., 0.9047619 , 0.97619048,\n",
       "        0.        ]])"
      ]
     },
     "execution_count": 96,
     "metadata": {},
     "output_type": "execute_result"
    }
   ],
   "source": [
    "from sklearn.metrics import pairwise_distances\n",
    "from joblib import parallel_backend\n",
    "with parallel_backend('threading'):\n",
    "    r = pairwise_distances(data, metric='hamming',n_jobs=-1)\n",
    "r"
   ]
  },
  {
   "cell_type": "code",
   "execution_count": 107,
   "id": "87dd00d9-7eab-4a02-84f5-4457c764908e",
   "metadata": {},
   "outputs": [],
   "source": [
    "def Hamming_distance(a, b):\n",
    "    \"Funtion to calculate hamming distance between array a and b\"\n",
    "    ham = 0\n",
    "    for i in range(a.shape[0]):\n",
    "        if a[i] != b[i]:\n",
    "            ham += 1\n",
    "    return ham"
   ]
  },
  {
   "cell_type": "code",
   "execution_count": 125,
   "id": "7bab5560-1b62-47e7-a6ca-599fe6f30812",
   "metadata": {},
   "outputs": [],
   "source": [
    "hd = np.empty(shape=(len(binary),len(binary)))\n",
    "for i, c in enumerate(binary):\n",
    "    x = binary_data.loc[:, c].to_numpy()\n",
    "    for j, e in enumerate(binary):\n",
    "        y = binary_data.loc[:, e].to_numpy()\n",
    "        tps = x-y\n",
    "        tps = np.abs(tps)\n",
    "        # print(c,e, len(np.where(tps>0)[0]))\n",
    "        hd[i][j] = len(np.where(tps > 0)[0])"
   ]
  },
  {
   "cell_type": "code",
   "execution_count": 126,
   "id": "7cc93d94-6152-48b8-8876-5cd0151ab2c0",
   "metadata": {},
   "outputs": [
    {
     "data": {
      "text/plain": [
       "array([[   0., 3127., 1828., 3369., 2569., 3329., 2721., 1259.],\n",
       "       [3127.,    0., 2391., 1023., 1796., 1026., 1656., 3365.],\n",
       "       [1828., 2391.,    0., 2335., 2441., 2318., 2181., 1994.],\n",
       "       [3369., 1023., 2335.,    0., 1770.,  760., 1414., 3312.],\n",
       "       [2569., 1796., 2441., 1770.,    0., 1777., 2200., 2648.],\n",
       "       [3329., 1026., 2318.,  760., 1777.,    0., 1452., 3331.],\n",
       "       [2721., 1656., 2181., 1414., 2200., 1452.,    0., 2664.],\n",
       "       [1259., 3365., 1994., 3312., 2648., 3331., 2664.,    0.]])"
      ]
     },
     "execution_count": 126,
     "metadata": {},
     "output_type": "execute_result"
    }
   ],
   "source": [
    "hd"
   ]
  },
  {
   "cell_type": "code",
   "execution_count": 130,
   "id": "bc684b87-d6af-4f32-addb-c72389ce7da6",
   "metadata": {},
   "outputs": [
    {
     "name": "stdout",
     "output_type": "stream",
     "text": [
      "0      336\n",
      "1     2817\n",
      "2       74\n",
      "3       73\n",
      "4       78\n",
      "5       84\n",
      "6       50\n",
      "7       78\n",
      "8       83\n",
      "9       59\n",
      "10      64\n",
      "Name: v_1, dtype: int64\n",
      "================================================================================\n",
      "0     2801\n",
      "1      397\n",
      "2       72\n",
      "3       80\n",
      "4       75\n",
      "5       72\n",
      "6       65\n",
      "7       89\n",
      "8       71\n",
      "9       68\n",
      "10       6\n",
      "Name: v_26, dtype: int64\n",
      "================================================================================\n",
      "0     1413\n",
      "1     1770\n",
      "2       67\n",
      "3       65\n",
      "4       73\n",
      "5       65\n",
      "6       64\n",
      "7       75\n",
      "8       73\n",
      "9       86\n",
      "10      45\n",
      "Name: v_11, dtype: int64\n",
      "================================================================================\n",
      "0    3115\n",
      "1     118\n",
      "2      75\n",
      "3      66\n",
      "4      70\n",
      "5      75\n",
      "6      72\n",
      "7      78\n",
      "8      69\n",
      "9      58\n",
      "Name: v_14, dtype: int64\n",
      "================================================================================\n",
      "0     2036\n",
      "1     1145\n",
      "2       66\n",
      "3       72\n",
      "4       96\n",
      "5       58\n",
      "6       80\n",
      "7       67\n",
      "8       71\n",
      "9       76\n",
      "10      29\n",
      "Name: v_30, dtype: int64\n",
      "================================================================================\n",
      "0     3089\n",
      "1      154\n",
      "2       68\n",
      "3       70\n",
      "4       72\n",
      "5       63\n",
      "6       70\n",
      "7       67\n",
      "8       72\n",
      "9       70\n",
      "10       1\n",
      "Name: v_28, dtype: int64\n",
      "================================================================================\n",
      "0     2374\n",
      "1      837\n",
      "2       74\n",
      "3       76\n",
      "4       67\n",
      "5       77\n",
      "6       66\n",
      "7       57\n",
      "8       63\n",
      "9       78\n",
      "10      27\n",
      "Name: v_9, dtype: int64\n",
      "================================================================================\n",
      "0      377\n",
      "1     2777\n",
      "2       70\n",
      "3       64\n",
      "4       75\n",
      "5       58\n",
      "6       75\n",
      "7       82\n",
      "8       83\n",
      "9       73\n",
      "10      62\n",
      "Name: v_27, dtype: int64\n",
      "================================================================================\n"
     ]
    }
   ],
   "source": [
    "for c in binary_data.columns:\n",
    "    print(binary_data[c].value_counts().sort_index())\n",
    "    print(\"=\"*80)"
   ]
  },
  {
   "cell_type": "code",
   "execution_count": null,
   "id": "54b837c4-437c-4d59-8e4d-adac223a3660",
   "metadata": {},
   "outputs": [],
   "source": []
  }
 ],
 "metadata": {
  "kernelspec": {
   "display_name": "Python 3 (ipykernel)",
   "language": "python",
   "name": "python3"
  },
  "language_info": {
   "codemirror_mode": {
    "name": "ipython",
    "version": 3
   },
   "file_extension": ".py",
   "mimetype": "text/x-python",
   "name": "python",
   "nbconvert_exporter": "python",
   "pygments_lexer": "ipython3",
   "version": "3.9.10"
  }
 },
 "nbformat": 4,
 "nbformat_minor": 5
}
