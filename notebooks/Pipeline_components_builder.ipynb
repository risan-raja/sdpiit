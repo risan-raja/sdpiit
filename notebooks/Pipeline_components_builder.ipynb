{
 "cells": [
  {
   "cell_type": "code",
   "execution_count": 1,
   "id": "6f3c0459-482d-4867-8f09-ba1723a13fac",
   "metadata": {
    "tags": []
   },
   "outputs": [
    {
     "name": "stderr",
     "output_type": "stream",
     "text": [
      "Intel(R) Extension for Scikit-learn* enabled (https://github.com/intel/scikit-learn-intelex)\n"
     ]
    }
   ],
   "source": [
    "from pymongo import MongoClient\n",
    "\n",
    "import warnings\n",
    "from sklearnex import patch_sklearn\n",
    "\n",
    "patch_sklearn()\n",
    "import numpy as np\n",
    "import pandas as pd\n",
    "from category_encoders import (\n",
    "    BackwardDifferenceEncoder,\n",
    "    BaseNEncoder,\n",
    "    BinaryEncoder,\n",
    "    CatBoostEncoder,\n",
    "    CountEncoder,\n",
    "    GLMMEncoder,\n",
    "    HelmertEncoder,\n",
    "    JamesSteinEncoder,\n",
    "    LeaveOneOutEncoder,\n",
    "    MEstimateEncoder,\n",
    "    QuantileEncoder,\n",
    "    SummaryEncoder,\n",
    "    TargetEncoder,\n",
    "    WOEEncoder,\n",
    ")\n",
    "from sklearn import set_config\n",
    "from sklearn.base import clone as model_clone\n",
    "from sklearn.cluster import *\n",
    "from sklearn.compose import *\n",
    "from sklearn.cross_decomposition import *\n",
    "from sklearn.decomposition import *\n",
    "from sklearn.ensemble import *\n",
    "from sklearn.feature_selection import *\n",
    "from sklearn.gaussian_process import *\n",
    "from sklearn.linear_model import *\n",
    "from sklearn.metrics import *\n",
    "from sklearn.model_selection import *\n",
    "from sklearn.multioutput import *\n",
    "from sklearn.multiclass import *\n",
    "from sklearn.naive_bayes import *\n",
    "from sklearn.neighbors import *\n",
    "from sklearn.neural_network import *\n",
    "from sklearn.pipeline import *\n",
    "from sklearn.preprocessing import *\n",
    "from sklearn.svm import *\n",
    "from sklearn.tree import *\n",
    "from sklearn.utils import *\n",
    "from sklearn.dummy import *\n",
    "from sklearn.semi_supervised import *\n",
    "from sklearn.discriminant_analysis import *\n",
    "import sklearnex, daal4py\n",
    "\n",
    "from tqdm import tqdm, trange\n",
    "from xgboost import XGBClassifier, XGBRFClassifier\n",
    "from BorutaShap import BorutaShap\n",
    "\n",
    "from sklearn.calibration import *\n",
    "pd.options.plotting.backend = \"plotly\"\n",
    "pd.options.display.max_columns = 50\n",
    "set_config(display=\"diagram\")\n",
    "warnings.filterwarnings(\"ignore\")\n",
    "import pickle\n",
    "from collections import defaultdict\n",
    "\n",
    "import matplotlib.pyplot as plt\n",
    "import seaborn as sns\n",
    "from joblib import parallel_backend\n",
    "from joblib.memory import Memory\n",
    "\n",
    "sns.set()\n",
    "from pprint import pprint\n",
    "from helpers import PolynomialWrapper as PWrapper\n",
    "from helpers import NestedCVWrapper as NCVWrapper\n",
    "from helpers import ColumnSelectors\n",
    "import sklearn\n",
    "from helpers import DFCollection\n",
    "from helpers import plot_mean_std_max\n",
    "from helpers import CustomMetrics\n",
    "\n",
    "mem = Memory(location='../data/joblib_memory/')"
   ]
  },
  {
   "cell_type": "code",
   "execution_count": 2,
   "id": "aebac6f9-6fad-4c50-bdc9-ab04d2613cfa",
   "metadata": {
    "tags": []
   },
   "outputs": [],
   "source": [
    "cls_names = [\n",
    "    sklearn.ensemble._weight_boosting.AdaBoostClassifier,\n",
    "    sklearn.naive_bayes.BernoulliNB,\n",
    "    # sklearn.naive_bayes.CategoricalNB,\n",
    "    # sklearn.naive_bayes.ComplementNB,\n",
    "    sklearn.tree._classes.DecisionTreeClassifier,\n",
    "    sklearn.tree._classes.ExtraTreeClassifier,\n",
    "    sklearn.ensemble._forest.ExtraTreesClassifier,\n",
    "    sklearn.naive_bayes.GaussianNB,\n",
    "    # sklearn.gaussian_process._gpc.GaussianProcessClassifier,\n",
    "    sklearn.ensemble._gb.GradientBoostingClassifier,\n",
    "    sklearn.ensemble._hist_gradient_boosting.gradient_boosting.HistGradientBoostingClassifier,\n",
    "    sklearn.neighbors.KNeighborsClassifier,\n",
    "    sklearn.svm._classes.LinearSVC,\n",
    "    sklearn.linear_model.LogisticRegression,\n",
    "    # sklearn.linear_model._logistic.LogisticRegressionCV,\n",
    "    # sklearn.neural_network._multilayer_perceptron.MLPClassifier,\n",
    "    sklearn.naive_bayes.MultinomialNB,\n",
    "    # sklearn.neighbors._nearest_centroid.NearestCentroid,\n",
    "    sklearn.svm.NuSVC,\n",
    "    sklearn.linear_model._passive_aggressive.PassiveAggressiveClassifier,\n",
    "    sklearn.linear_model._perceptron.Perceptron,\n",
    "    # sklearn.neighbors._classification.RadiusNeighborsClassifier,\n",
    "    sklearn.ensemble._forest.RandomForestClassifier,\n",
    "    sklearn.linear_model._ridge.RidgeClassifier,\n",
    "    # sklearn.linear_model._ridge.RidgeClassifierCV,\n",
    "    sklearn.linear_model._stochastic_gradient.SGDClassifier,\n",
    "    sklearn.svm.SVC,\n",
    "]\n",
    "db = DFCollection()\n",
    "column_selector = ColumnSelectors()\n",
    "classifiers = [f() for f in cls_names]\n",
    "dtype_info = column_selector.dtype_info\n",
    "ordinal = column_selector.ordinal_cols\n",
    "nominal = column_selector.nominal_cols\n",
    "binary = column_selector.binary_cols\n",
    "ratio = column_selector.ratio_cols\n",
    "\n",
    "\n",
    "final_data = db.final_data\n",
    "final_pred_data = db.final_pred_data\n",
    "baseline_prediction_data = db.baseline_prediction_data\n",
    "data_logit = db.data_logits\n",
    "prediction_data = db.prediction_data\n",
    "master_data = db.master\n",
    "given_data = db.data\n",
    "\n",
    "ordinal_data, nominal_data, binary_data, ratio_data = db.categorise_data()\n",
    "nominal_categories = db.nominal_categories\n",
    "ordinal_categories = db.ordinal_categories\n",
    "class_labels, n_classes, class_priors = class_distribution(final_data.target.to_numpy().reshape(-1,1))\n",
    "\n",
    "def gen_balanced_trained_test(data, p):\n",
    "    Y = data.target\n",
    "    X_2 = Y_2 = Y[Y == 2].index\n",
    "    X_0 = Y_0 = Y[Y == 0].index\n",
    "    X_1 = Y_1 = Y[Y == 1].index\n",
    "    train_size = int(p * Y_2.shape[0])\n",
    "    test_size = int((1 - p) * Y_2.shape[0])\n",
    "\n",
    "    train_idx_2 = np.random.choice(Y_2, (train_size,))\n",
    "    train_idx_1 = np.random.choice(Y_1, (train_size,))\n",
    "    train_idx_0 = np.random.choice(Y_0, (train_size,))\n",
    "    train_idx = np.r_[train_idx_0, train_idx_1, train_idx_2]\n",
    "    # train_idx.shape\n",
    "\n",
    "    test_idx_2 = np.random.choice(np.setdiff1d(Y_2, train_idx_2), (test_size,))\n",
    "    test_idx_1 = np.random.choice(np.setdiff1d(Y_1, train_idx_1), (test_size,))\n",
    "    test_idx_0 = np.random.choice(np.setdiff1d(Y_0, train_idx_0), (test_size,))\n",
    "    test_idx = np.r_[test_idx_0, test_idx_1, test_idx_2]\n",
    "    # test_idx.shape\n",
    "    return train_idx, test_idx\n",
    "\n",
    "\n",
    "def gen_nominal_maps(bs: pd.DataFrame = master_data) -> tuple[defaultdict, defaultdict]:\n",
    "    nominal_master_db = bs.loc[:, nominal]\n",
    "    nominal_cont_map = defaultdict(dict)\n",
    "    nominal_indvl_map = defaultdict(dict)\n",
    "    for c in nominal:\n",
    "        un = sorted(nominal_master_db[c].unique().tolist())\n",
    "        n = len(un)\n",
    "        new_id = list(range(n))\n",
    "        nominal_indvl_map[c] = dict(zip(un, new_id))\n",
    "    start = 0\n",
    "    for c in nominal:\n",
    "        un = sorted(nominal_master_db[c].unique().tolist())\n",
    "        n = len(un)\n",
    "        new_id = list(range(start, start + n))\n",
    "        nominal_cont_map[c] = dict(zip(un, new_id))\n",
    "        start += n\n",
    "    return nominal_indvl_map, nominal_cont_map\n",
    "\n",
    "\n",
    "# nominal_indvl_map, nominal_cont_map = gen_nominal_maps()\n",
    "# nominal_master_db = bs.loc[:, nominal]\n",
    "\n",
    "# nominal_master_db_indvl = nominal_master_db.copy()\n",
    "# nominal_master_db_cont = nominal_master_db.copy()\n",
    "\n",
    "\n",
    "# nominal_indvl_map\n",
    "def nm_indvl_data_trnsform(row):\n",
    "    for c in nominal:\n",
    "        curr = row[c]\n",
    "        row[c] = nominal_indvl_map[c][curr]\n",
    "    return row\n",
    "\n",
    "\n",
    "# test1_nominal = nominal_master_db_indvl.apply(nm_indvl_data_trnsform, axis=1)\n",
    "\n",
    "\n",
    "def nm_cont_data_trnsform(row):\n",
    "    for c in nominal:\n",
    "        curr = row[c]\n",
    "        row[c] = nominal_cont_map[c][curr]\n",
    "    return row\n",
    "\n",
    "\n",
    "# test2_nominal = nominal_master_db_cont.apply(nm_cont_data_trnsform, axis=1)\n",
    "# prediction_data = pd.read_pickle(\"../data/pred_data.pkl\")\n",
    "# est_ = [(\"cnb\",CategoricalNB()),]\n",
    "\n",
    "\n",
    "def wf_create(cat_encoder=TargetEncoder, model=None):\n",
    "    \"\"\"\n",
    "    :param cat_encoder: category_encoders\n",
    "    :param model: scikit-learn Model\n",
    "    :return pipe: sklearn.pipeline.Pipline\n",
    "    Examples of model param:\n",
    "\n",
    "    model = ComplementNB(norm=True,fit_prior=True,)\n",
    "    model = MultinomialNB()\n",
    "    model = LogisticRegression(n_jobs=-1, max_iter=10000,random_state=19)\n",
    "    \"\"\"\n",
    "    _steps = []\n",
    "    encoder__name = cat_encoder.__class__.__name__\n",
    "    _steps.append(\n",
    "        (\"PW\" + encoder__name, PolynomialWrapper(feature_encoder=cat_encoder))\n",
    "    )\n",
    "    if model is None:\n",
    "        passordinal_columns\n",
    "    else:\n",
    "        model__name = model.__class__.__name__\n",
    "        _steps.append((model__name, model))\n",
    "    pipe = Pipeline(steps=_steps)\n",
    "    return pipe"
   ]
  },
  {
   "cell_type": "code",
   "execution_count": 3,
   "id": "84be34c5-7688-44ca-a1ff-997c325ac06d",
   "metadata": {
    "tags": []
   },
   "outputs": [],
   "source": [
    "classifiers = [\n",
    "    AdaBoostClassifier(),\n",
    "    BaggingClassifier(),\n",
    "    BernoulliNB(),\n",
    "    CalibratedClassifierCV(),\n",
    "    CategoricalNB(),\n",
    "    ComplementNB(),\n",
    "    DecisionTreeClassifier(),\n",
    "    DummyClassifier(),\n",
    "    ExtraTreeClassifier(),\n",
    "    ExtraTreesClassifier(),\n",
    "    GaussianNB(),\n",
    "    GaussianProcessClassifier(),\n",
    "    GradientBoostingClassifier(),\n",
    "    HistGradientBoostingClassifier(),\n",
    "    KNeighborsClassifier(),\n",
    "    LabelPropagation(),\n",
    "    LabelSpreading(),\n",
    "    LinearDiscriminantAnalysis(),\n",
    "    LinearSVC(),\n",
    "    LogisticRegression(),\n",
    "    LogisticRegressionCV(),\n",
    "    MLPClassifier(),\n",
    "    MultinomialNB(),\n",
    "    NearestCentroid(),\n",
    "    NuSVC(),\n",
    "    PassiveAggressiveClassifier(),\n",
    "    Perceptron(),\n",
    "    QuadraticDiscriminantAnalysis(),\n",
    "    RadiusNeighborsClassifier(),\n",
    "    RandomForestClassifier(),\n",
    "    RidgeClassifier(),\n",
    "    RidgeClassifierCV(),\n",
    "    SGDClassifier(),\n",
    "    SVC(),\n",
    "]\n",
    "\n",
    "\n",
    "# combiners = [sklearn.multioutput.ClassifierChain,\n",
    "#  sklearn.multioutput.MultiOutputClassifier,\n",
    "#  sklearn.multiclass.OneVsOneClassifier,\n",
    "#  sklearn.multiclass.OneVsRestClassifier,\n",
    "#  sklearn.multiclass.OutputCodeClassifier,\n",
    "#  sklearn.ensemble._stacking.StackingClassifier,\n",
    "#  sklearn.ensemble._voting.VotingClassifier\n",
    "# ]"
   ]
  },
  {
   "cell_type": "markdown",
   "id": "e7324839-adc8-499e-8d0e-a4959a233483",
   "metadata": {},
   "source": [
    "```python\n",
    "Template\n",
    "X = final_data.loc[:,categories]\n",
    "y = final_data.target.to_numpy().reshape(-1,1)\n",
    "X_train, X_test, y_train, y_test = train_test_split(X,y, random_state=10, test_size=0.3)\n",
    "```"
   ]
  },
  {
   "cell_type": "code",
   "execution_count": 36,
   "id": "99833584-d6fd-4fa7-9a45-79d42c05b025",
   "metadata": {},
   "outputs": [
    {
     "name": "stdout",
     "output_type": "stream",
     "text": [
      "              precision    recall  f1-score   support\n",
      "\n",
      "           0       0.48      0.31      0.38       382\n",
      "           1       0.52      0.82      0.64       552\n",
      "           2       0.35      0.04      0.07       205\n",
      "\n",
      "    accuracy                           0.51      1139\n",
      "   macro avg       0.45      0.39      0.36      1139\n",
      "weighted avg       0.48      0.51      0.45      1139\n",
      "\n",
      "              precision    recall  f1-score   support\n",
      "\n",
      "           0       0.65      0.63      0.64       382\n",
      "           1       0.73      0.81      0.77       552\n",
      "           2       0.33      0.26      0.29       205\n",
      "\n",
      "    accuracy                           0.65      1139\n",
      "   macro avg       0.57      0.56      0.57      1139\n",
      "weighted avg       0.63      0.65      0.64      1139\n",
      "\n"
     ]
    },
    {
     "data": {
      "image/png": "[encoded data removed]",
      "text/plain": [
       "<Figure size 720x720 with 3 Axes>"
      ]
     },
     "metadata": {},
     "output_type": "display_data"
    }
   ],
   "source": [
    "# ohe = OneHotEncoder(min_frequency=0.0001, handle_unknown='infrequent_if_exist', sparse=False,dtype=np.int32)\n",
    "# X_train_t = ohe.fit_transform(nominal_data)\n",
    "reports = []\n",
    "fig, ax = plt.subplots(3,1,figsize=(10,10))\n",
    "i = 0\n",
    "for categories in [nominal, ordinal]:\n",
    "    X = final_data.loc[:,categories]\n",
    "    y = final_data.target.to_numpy().reshape(-1,1)\n",
    "    X_train, X_test, y_train, y_test = train_test_split(X,y, random_state=10, test_size=0.3)\n",
    "    feature_names = categories\n",
    "    model = QuadraticDiscriminantAnalysis(priors=class_priors,store_covariance=True,reg_param=0.0001 )\n",
    "    # model = De\n",
    "    # ovr_qda.fit(X_train, y_train)\n",
    "    # y_pred = QDA_.fit(X_train, y_train)\n",
    "    cv_= RepeatedStratifiedKFold(n_splits=3,n_repeats=5, random_state=10)\n",
    "    pipe =  Pipeline(steps=[('polynomialwrapper',\n",
    "                 PWrapper(feature_encoder=WOEEncoder())),\n",
    "                (model.__class__.__name__,\n",
    "                 QuadraticDiscriminantAnalysis(priors=class_priors,\n",
    "                                               reg_param=0.0001,\n",
    "                                               store_covariance=True))], memory=mem)\n",
    "    def analyze_model(ax=ax,i = i,X=X,y=y, pipe=pipe, feature_names=categories):\n",
    "        with parallel_backend('multiprocessing'):\n",
    "            cv_model = cross_validate(pipe, X, y, cv = cv_,return_train_score=True,n_jobs=-1)\n",
    "            ax[i].plot(np.arange(15), cv_model['test_score'], label=f'{feature_names[0].split(\"__\")[0].upper()}  Data')\n",
    "            ax[i].legend()\n",
    "            ax[2].plot(np.arange(15), cv_model['test_score'], label=f'{feature_names[0].split(\"__\")[0].upper()}  Data')\n",
    "            ax[2].legend()\n",
    "    analyze_model()\n",
    "    y_pred = model.fit(X_train, y_train).predict(X_test)\n",
    "    print(classification_report(y_test,y_pred, output_dict=False))\n",
    "    c_report = classification_report(y_test,y_pred, output_dict=True)\n",
    "    reports.append(c_report)\n",
    "    # break\n",
    "    i+=1"
   ]
  },
  {
   "cell_type": "code",
   "execution_count": 201,
   "id": "6ee05158-3077-4957-b3f4-e3c2cd5872ca",
   "metadata": {},
   "outputs": [],
   "source": [
    "ordinal_proc_data_v2 = data_logit.drop(binary+nominal+ratio+['label'], axis=1)"
   ]
  },
  {
   "cell_type": "code",
   "execution_count": 75,
   "id": "886fe9f2-7a40-45b4-bf80-7b9e0bc69d76",
   "metadata": {},
   "outputs": [
    {
     "data": {
      "application/vnd.plotly.v1+json": {
       "config": {
        "plotlyServerURL": "https://plot.ly"
       },
       "data": [
        {
         "hovertemplate": "variable=0<br>index=%{x}<br>value=%{y}<extra></extra>",
         "legendgroup": "0",
         "line": {
          "color": "#636efa",
          "dash": "solid"
         },
         "marker": {
          "symbol": "circle"
         },
         "mode": "lines",
         "name": "0",
         "orientation": "v",
         "showlegend": true,
         "type": "scatter",
         "x": [
          "Pj__v_0",
          "Pj__v_10",
          "Pj__v_13",
          "Pj__v_15",
          "Pj__v_17",
          "Pj__v_19",
          "Pj__v_22",
          "Pj__v_23",
          "Pj__v_24",
          "Pj__v_29",
          "Pj__v_31",
          "Pj__v_33",
          "Pj__v_5",
          "Pj__v_6",
          "count__v_0",
          "count__v_10",
          "count__v_13",
          "count__v_15",
          "count__v_17",
          "count__v_19",
          "count__v_22",
          "count__v_23",
          "count__v_24",
          "count__v_29",
          "count__v_31",
          "count__v_33",
          "count__v_5",
          "count__v_6",
          "logit__v_0",
          "logit__v_10",
          "logit__v_13",
          "logit__v_15",
          "logit__v_17",
          "logit__v_19",
          "logit__v_22",
          "logit__v_23",
          "logit__v_24",
          "logit__v_29",
          "logit__v_31",
          "logit__v_33",
          "logit__v_5",
          "logit__v_6",
          "midrank__v_0",
          "midrank__v_10",
          "midrank__v_13",
          "midrank__v_15",
          "midrank__v_17",
          "midrank__v_19",
          "midrank__v_22",
          "midrank__v_23",
          "midrank__v_24",
          "midrank__v_29",
          "midrank__v_31",
          "midrank__v_33",
          "midrank__v_5",
          "midrank__v_6",
          "ordinal__v_0",
          "ordinal__v_10",
          "ordinal__v_13",
          "ordinal__v_15",
          "ordinal__v_17",
          "ordinal__v_19",
          "ordinal__v_22",
          "ordinal__v_23",
          "ordinal__v_24",
          "ordinal__v_29",
          "ordinal__v_31",
          "ordinal__v_33",
          "ordinal__v_5",
          "ordinal__v_6",
          "oum__v_0",
          "oum__v_10",
          "oum__v_13",
          "oum__v_15",
          "oum__v_17",
          "oum__v_19",
          "oum__v_22",
          "oum__v_23",
          "oum__v_24",
          "oum__v_29",
          "oum__v_31",
          "oum__v_33",
          "oum__v_5",
          "oum__v_6",
          "ridit_score__v_0",
          "ridit_score__v_10",
          "ridit_score__v_13",
          "ridit_score__v_15",
          "ridit_score__v_17",
          "ridit_score__v_19",
          "ridit_score__v_22",
          "ridit_score__v_23",
          "ridit_score__v_24",
          "ridit_score__v_29",
          "ridit_score__v_31",
          "ridit_score__v_33",
          "ridit_score__v_5",
          "ridit_score__v_6"
         ],
         "xaxis": "x",
         "y": [
          0.020402183193386374,
          -0.011549002208039316,
          0.005960245196287208,
          -0.02212090660398431,
          0.08121287244386126,
          0.057720728329610886,
          -0.23385590816997223,
          0.023274462425081174,
          0.024020380953962965,
          -0.18865769977184893,
          0.16294562222513737,
          -0.012015776449436178,
          0.08345704393023204,
          -0.05887988306435005,
          0.020402183193386374,
          -0.011549002208039316,
          0.005960245196287208,
          -0.02212090660398431,
          0.08121287244386126,
          0.057720728329610886,
          -0.23385590816997223,
          0.023274462425081174,
          0.024020380953962965,
          -0.18865769977184893,
          0.16294562222513737,
          -0.012015776449436178,
          0.08345704393023204,
          -0.05887988306435005,
          0.020402183193386374,
          -0.011549002208039316,
          0.005960245196287208,
          -0.02212090660398431,
          0.08121287244386126,
          0.057720728329610886,
          -0.23385590816997223,
          0.023274462425081174,
          0.024020380953962965,
          -0.18865769977184893,
          0.16294562222513737,
          -0.012015776449436178,
          0.08345704393023204,
          -0.05887988306435005,
          0.020947821062222642,
          0.013048439114721628,
          0.010258644292947003,
          -0.02148352290333339,
          0.1348814607027358,
          0.215863256778242,
          -0.19082380940326274,
          0.022341949484521777,
          0.025576163882904804,
          -0.14855939386259737,
          0.12928679582012717,
          0.00866293183123574,
          0.16040856569796863,
          0.23331936161307648,
          -0.02023532561470873,
          0.045526954163015464,
          -0.0042276874720884195,
          0.02192725657419712,
          0.086643509368389,
          0.20158257123736636,
          0.23237983520479497,
          -0.02408173769304276,
          -0.023770659649622987,
          0.18517061656031814,
          -0.16447791832821373,
          0.042953417041111636,
          0.12447682536543755,
          0.2444555225417396,
          -0.02023532561470873,
          0.045526954163015464,
          -0.0042276874720884195,
          0.02192725657419712,
          0.086643509368389,
          0.20158257123736636,
          0.23237983520479497,
          -0.02408173769304276,
          -0.023770659649622987,
          0.18517061656031814,
          -0.16447791832821373,
          0.042953417041111636,
          0.12447682536543755,
          0.2444555225417396,
          -0.02023532561470873,
          0.045526954163015464,
          -0.0042276874720884195,
          0.02192725657419712,
          0.086643509368389,
          0.20158257123736636,
          0.23237983520479497,
          -0.02408173769304276,
          -0.023770659649622987,
          0.18517061656031814,
          -0.16447791832821373,
          0.042953417041111636,
          0.12447682536543755,
          0.2444555225417396
         ],
         "yaxis": "y"
        }
       ],
       "layout": {
        "autosize": true,
        "legend": {
         "title": {
          "text": "variable"
         },
         "tracegroupgap": 0
        },
        "margin": {
         "t": 60
        },
        "template": {
         "data": {
          "bar": [
           {
            "error_x": {
             "color": "#2a3f5f"
            },
            "error_y": {
             "color": "#2a3f5f"
            },
            "marker": {
             "line": {
              "color": "#E5ECF6",
              "width": 0.5
             },
             "pattern": {
              "fillmode": "overlay",
              "size": 10,
              "solidity": 0.2
             }
            },
            "type": "bar"
           }
          ],
          "barpolar": [
           {
            "marker": {
             "line": {
              "color": "#E5ECF6",
              "width": 0.5
             },
             "pattern": {
              "fillmode": "overlay",
              "size": 10,
              "solidity": 0.2
             }
            },
            "type": "barpolar"
           }
          ],
          "carpet": [
           {
            "aaxis": {
             "endlinecolor": "#2a3f5f",
             "gridcolor": "white",
             "linecolor": "white",
             "minorgridcolor": "white",
             "startlinecolor": "#2a3f5f"
            },
            "baxis": {
             "endlinecolor": "#2a3f5f",
             "gridcolor": "white",
             "linecolor": "white",
             "minorgridcolor": "white",
             "startlinecolor": "#2a3f5f"
            },
            "type": "carpet"
           }
          ],
          "choropleth": [
           {
            "colorbar": {
             "outlinewidth": 0,
             "ticks": ""
            },
            "type": "choropleth"
           }
          ],
          "contour": [
           {
            "colorbar": {
             "outlinewidth": 0,
             "ticks": ""
            },
            "colorscale": [
             [
              0,
              "#0d0887"
             ],
             [
              0.1111111111111111,
              "#46039f"
             ],
             [
              0.2222222222222222,
              "#7201a8"
             ],
             [
              0.3333333333333333,
              "#9c179e"
             ],
             [
              0.4444444444444444,
              "#bd3786"
             ],
             [
              0.5555555555555556,
              "#d8576b"
             ],
             [
              0.6666666666666666,
              "#ed7953"
             ],
             [
              0.7777777777777778,
              "#fb9f3a"
             ],
             [
              0.8888888888888888,
              "#fdca26"
             ],
             [
              1,
              "#f0f921"
             ]
            ],
            "type": "contour"
           }
          ],
          "contourcarpet": [
           {
            "colorbar": {
             "outlinewidth": 0,
             "ticks": ""
            },
            "type": "contourcarpet"
           }
          ],
          "heatmap": [
           {
            "colorbar": {
             "outlinewidth": 0,
             "ticks": ""
            },
            "colorscale": [
             [
              0,
              "#0d0887"
             ],
             [
              0.1111111111111111,
              "#46039f"
             ],
             [
              0.2222222222222222,
              "#7201a8"
             ],
             [
              0.3333333333333333,
              "#9c179e"
             ],
             [
              0.4444444444444444,
              "#bd3786"
             ],
             [
              0.5555555555555556,
              "#d8576b"
             ],
             [
              0.6666666666666666,
              "#ed7953"
             ],
             [
              0.7777777777777778,
              "#fb9f3a"
             ],
             [
              0.8888888888888888,
              "#fdca26"
             ],
             [
              1,
              "#f0f921"
             ]
            ],
            "type": "heatmap"
           }
          ],
          "heatmapgl": [
           {
            "colorbar": {
             "outlinewidth": 0,
             "ticks": ""
            },
            "colorscale": [
             [
              0,
              "#0d0887"
             ],
             [
              0.1111111111111111,
              "#46039f"
             ],
             [
              0.2222222222222222,
              "#7201a8"
             ],
             [
              0.3333333333333333,
              "#9c179e"
             ],
             [
              0.4444444444444444,
              "#bd3786"
             ],
             [
              0.5555555555555556,
              "#d8576b"
             ],
             [
              0.6666666666666666,
              "#ed7953"
             ],
             [
              0.7777777777777778,
              "#fb9f3a"
             ],
             [
              0.8888888888888888,
              "#fdca26"
             ],
             [
              1,
              "#f0f921"
             ]
            ],
            "type": "heatmapgl"
           }
          ],
          "histogram": [
           {
            "marker": {
             "pattern": {
              "fillmode": "overlay",
              "size": 10,
              "solidity": 0.2
             }
            },
            "type": "histogram"
           }
          ],
          "histogram2d": [
           {
            "colorbar": {
             "outlinewidth": 0,
             "ticks": ""
            },
            "colorscale": [
             [
              0,
              "#0d0887"
             ],
             [
              0.1111111111111111,
              "#46039f"
             ],
             [
              0.2222222222222222,
              "#7201a8"
             ],
             [
              0.3333333333333333,
              "#9c179e"
             ],
             [
              0.4444444444444444,
              "#bd3786"
             ],
             [
              0.5555555555555556,
              "#d8576b"
             ],
             [
              0.6666666666666666,
              "#ed7953"
             ],
             [
              0.7777777777777778,
              "#fb9f3a"
             ],
             [
              0.8888888888888888,
              "#fdca26"
             ],
             [
              1,
              "#f0f921"
             ]
            ],
            "type": "histogram2d"
           }
          ],
          "histogram2dcontour": [
           {
            "colorbar": {
             "outlinewidth": 0,
             "ticks": ""
            },
            "colorscale": [
             [
              0,
              "#0d0887"
             ],
             [
              0.1111111111111111,
              "#46039f"
             ],
             [
              0.2222222222222222,
              "#7201a8"
             ],
             [
              0.3333333333333333,
              "#9c179e"
             ],
             [
              0.4444444444444444,
              "#bd3786"
             ],
             [
              0.5555555555555556,
              "#d8576b"
             ],
             [
              0.6666666666666666,
              "#ed7953"
             ],
             [
              0.7777777777777778,
              "#fb9f3a"
             ],
             [
              0.8888888888888888,
              "#fdca26"
             ],
             [
              1,
              "#f0f921"
             ]
            ],
            "type": "histogram2dcontour"
           }
          ],
          "mesh3d": [
           {
            "colorbar": {
             "outlinewidth": 0,
             "ticks": ""
            },
            "type": "mesh3d"
           }
          ],
          "parcoords": [
           {
            "line": {
             "colorbar": {
              "outlinewidth": 0,
              "ticks": ""
             }
            },
            "type": "parcoords"
           }
          ],
          "pie": [
           {
            "automargin": true,
            "type": "pie"
           }
          ],
          "scatter": [
           {
            "fillpattern": {
             "fillmode": "overlay",
             "size": 10,
             "solidity": 0.2
            },
            "type": "scatter"
           }
          ],
          "scatter3d": [
           {
            "line": {
             "colorbar": {
              "outlinewidth": 0,
              "ticks": ""
             }
            },
            "marker": {
             "colorbar": {
              "outlinewidth": 0,
              "ticks": ""
             }
            },
            "type": "scatter3d"
           }
          ],
          "scattercarpet": [
           {
            "marker": {
             "colorbar": {
              "outlinewidth": 0,
              "ticks": ""
             }
            },
            "type": "scattercarpet"
           }
          ],
          "scattergeo": [
           {
            "marker": {
             "colorbar": {
              "outlinewidth": 0,
              "ticks": ""
             }
            },
            "type": "scattergeo"
           }
          ],
          "scattergl": [
           {
            "marker": {
             "colorbar": {
              "outlinewidth": 0,
              "ticks": ""
             }
            },
            "type": "scattergl"
           }
          ],
          "scattermapbox": [
           {
            "marker": {
             "colorbar": {
              "outlinewidth": 0,
              "ticks": ""
             }
            },
            "type": "scattermapbox"
           }
          ],
          "scatterpolar": [
           {
            "marker": {
             "colorbar": {
              "outlinewidth": 0,
              "ticks": ""
             }
            },
            "type": "scatterpolar"
           }
          ],
          "scatterpolargl": [
           {
            "marker": {
             "colorbar": {
              "outlinewidth": 0,
              "ticks": ""
             }
            },
            "type": "scatterpolargl"
           }
          ],
          "scatterternary": [
           {
            "marker": {
             "colorbar": {
              "outlinewidth": 0,
              "ticks": ""
             }
            },
            "type": "scatterternary"
           }
          ],
          "surface": [
           {
            "colorbar": {
             "outlinewidth": 0,
             "ticks": ""
            },
            "colorscale": [
             [
              0,
              "#0d0887"
             ],
             [
              0.1111111111111111,
              "#46039f"
             ],
             [
              0.2222222222222222,
              "#7201a8"
             ],
             [
              0.3333333333333333,
              "#9c179e"
             ],
             [
              0.4444444444444444,
              "#bd3786"
             ],
             [
              0.5555555555555556,
              "#d8576b"
             ],
             [
              0.6666666666666666,
              "#ed7953"
             ],
             [
              0.7777777777777778,
              "#fb9f3a"
             ],
             [
              0.8888888888888888,
              "#fdca26"
             ],
             [
              1,
              "#f0f921"
             ]
            ],
            "type": "surface"
           }
          ],
          "table": [
           {
            "cells": {
             "fill": {
              "color": "#EBF0F8"
             },
             "line": {
              "color": "white"
             }
            },
            "header": {
             "fill": {
              "color": "#C8D4E3"
             },
             "line": {
              "color": "white"
             }
            },
            "type": "table"
           }
          ]
         },
         "layout": {
          "annotationdefaults": {
           "arrowcolor": "#2a3f5f",
           "arrowhead": 0,
           "arrowwidth": 1
          },
          "autotypenumbers": "strict",
          "coloraxis": {
           "colorbar": {
            "outlinewidth": 0,
            "ticks": ""
           }
          },
          "colorscale": {
           "diverging": [
            [
             0,
             "#8e0152"
            ],
            [
             0.1,
             "#c51b7d"
            ],
            [
             0.2,
             "#de77ae"
            ],
            [
             0.3,
             "#f1b6da"
            ],
            [
             0.4,
             "#fde0ef"
            ],
            [
             0.5,
             "#f7f7f7"
            ],
            [
             0.6,
             "#e6f5d0"
            ],
            [
             0.7,
             "#b8e186"
            ],
            [
             0.8,
             "#7fbc41"
            ],
            [
             0.9,
             "#4d9221"
            ],
            [
             1,
             "#276419"
            ]
           ],
           "sequential": [
            [
             0,
             "#0d0887"
            ],
            [
             0.1111111111111111,
             "#46039f"
            ],
            [
             0.2222222222222222,
             "#7201a8"
            ],
            [
             0.3333333333333333,
             "#9c179e"
            ],
            [
             0.4444444444444444,
             "#bd3786"
            ],
            [
             0.5555555555555556,
             "#d8576b"
            ],
            [
             0.6666666666666666,
             "#ed7953"
            ],
            [
             0.7777777777777778,
             "#fb9f3a"
            ],
            [
             0.8888888888888888,
             "#fdca26"
            ],
            [
             1,
             "#f0f921"
            ]
           ],
           "sequentialminus": [
            [
             0,
             "#0d0887"
            ],
            [
             0.1111111111111111,
             "#46039f"
            ],
            [
             0.2222222222222222,
             "#7201a8"
            ],
            [
             0.3333333333333333,
             "#9c179e"
            ],
            [
             0.4444444444444444,
             "#bd3786"
            ],
            [
             0.5555555555555556,
             "#d8576b"
            ],
            [
             0.6666666666666666,
             "#ed7953"
            ],
            [
             0.7777777777777778,
             "#fb9f3a"
            ],
            [
             0.8888888888888888,
             "#fdca26"
            ],
            [
             1,
             "#f0f921"
            ]
           ]
          },
          "colorway": [
           "#636efa",
           "#EF553B",
           "#00cc96",
           "#ab63fa",
           "#FFA15A",
           "#19d3f3",
           "#FF6692",
           "#B6E880",
           "#FF97FF",
           "#FECB52"
          ],
          "font": {
           "color": "#2a3f5f"
          },
          "geo": {
           "bgcolor": "white",
           "lakecolor": "white",
           "landcolor": "#E5ECF6",
           "showlakes": true,
           "showland": true,
           "subunitcolor": "white"
          },
          "hoverlabel": {
           "align": "left"
          },
          "hovermode": "closest",
          "mapbox": {
           "style": "light"
          },
          "paper_bgcolor": "white",
          "plot_bgcolor": "#E5ECF6",
          "polar": {
           "angularaxis": {
            "gridcolor": "white",
            "linecolor": "white",
            "ticks": ""
           },
           "bgcolor": "#E5ECF6",
           "radialaxis": {
            "gridcolor": "white",
            "linecolor": "white",
            "ticks": ""
           }
          },
          "scene": {
           "xaxis": {
            "backgroundcolor": "#E5ECF6",
            "gridcolor": "white",
            "gridwidth": 2,
            "linecolor": "white",
            "showbackground": true,
            "ticks": "",
            "zerolinecolor": "white"
           },
           "yaxis": {
            "backgroundcolor": "#E5ECF6",
            "gridcolor": "white",
            "gridwidth": 2,
            "linecolor": "white",
            "showbackground": true,
            "ticks": "",
            "zerolinecolor": "white"
           },
           "zaxis": {
            "backgroundcolor": "#E5ECF6",
            "gridcolor": "white",
            "gridwidth": 2,
            "linecolor": "white",
            "showbackground": true,
            "ticks": "",
            "zerolinecolor": "white"
           }
          },
          "shapedefaults": {
           "line": {
            "color": "#2a3f5f"
           }
          },
          "ternary": {
           "aaxis": {
            "gridcolor": "white",
            "linecolor": "white",
            "ticks": ""
           },
           "baxis": {
            "gridcolor": "white",
            "linecolor": "white",
            "ticks": ""
           },
           "bgcolor": "#E5ECF6",
           "caxis": {
            "gridcolor": "white",
            "linecolor": "white",
            "ticks": ""
           }
          },
          "title": {
           "x": 0.05
          },
          "xaxis": {
           "automargin": true,
           "gridcolor": "white",
           "linecolor": "white",
           "ticks": "",
           "title": {
            "standoff": 15
           },
           "zerolinecolor": "white",
           "zerolinewidth": 2
          },
          "yaxis": {
           "automargin": true,
           "gridcolor": "white",
           "linecolor": "white",
           "ticks": "",
           "title": {
            "standoff": 15
           },
           "zerolinecolor": "white",
           "zerolinewidth": 2
          }
         }
        },
        "xaxis": {
         "anchor": "y",
         "autorange": true,
         "domain": [
          0,
          1
         ],
         "range": [
          0,
          97
         ],
         "title": {
          "text": "index"
         },
         "type": "category"
        },
        "yaxis": {
         "anchor": "x",
         "autorange": false,
         "domain": [
          0,
          1
         ],
         "range": [
          -0.13499167525198905,
          0.3964654699832463
         ],
         "title": {
          "text": "value"
         },
         "type": "linear"
        }
       }
      },
      "image/png": "[encoded data removed]",
      "text/html": [
       "<div>                            <div id=\"3a67dbbf-4be4-4efe-a7d4-66d365cc6edf\" class=\"plotly-graph-div\" style=\"height:525px; width:100%;\"></div>            <script type=\"text/javascript\">                require([\"plotly\"], function(Plotly) {                    window.PLOTLYENV=window.PLOTLYENV || {};                                    if (document.getElementById(\"3a67dbbf-4be4-4efe-a7d4-66d365cc6edf\")) {                    Plotly.newPlot(                        \"3a67dbbf-4be4-4efe-a7d4-66d365cc6edf\",                        [{\"hovertemplate\":\"variable=0<br>index=%{x}<br>value=%{y}<extra></extra>\",\"legendgroup\":\"0\",\"line\":{\"color\":\"#636efa\",\"dash\":\"solid\"},\"marker\":{\"symbol\":\"circle\"},\"mode\":\"lines\",\"name\":\"0\",\"orientation\":\"v\",\"showlegend\":true,\"x\":[\"Pj__v_0\",\"Pj__v_10\",\"Pj__v_13\",\"Pj__v_15\",\"Pj__v_17\",\"Pj__v_19\",\"Pj__v_22\",\"Pj__v_23\",\"Pj__v_24\",\"Pj__v_29\",\"Pj__v_31\",\"Pj__v_33\",\"Pj__v_5\",\"Pj__v_6\",\"count__v_0\",\"count__v_10\",\"count__v_13\",\"count__v_15\",\"count__v_17\",\"count__v_19\",\"count__v_22\",\"count__v_23\",\"count__v_24\",\"count__v_29\",\"count__v_31\",\"count__v_33\",\"count__v_5\",\"count__v_6\",\"logit__v_0\",\"logit__v_10\",\"logit__v_13\",\"logit__v_15\",\"logit__v_17\",\"logit__v_19\",\"logit__v_22\",\"logit__v_23\",\"logit__v_24\",\"logit__v_29\",\"logit__v_31\",\"logit__v_33\",\"logit__v_5\",\"logit__v_6\",\"midrank__v_0\",\"midrank__v_10\",\"midrank__v_13\",\"midrank__v_15\",\"midrank__v_17\",\"midrank__v_19\",\"midrank__v_22\",\"midrank__v_23\",\"midrank__v_24\",\"midrank__v_29\",\"midrank__v_31\",\"midrank__v_33\",\"midrank__v_5\",\"midrank__v_6\",\"ordinal__v_0\",\"ordinal__v_10\",\"ordinal__v_13\",\"ordinal__v_15\",\"ordinal__v_17\",\"ordinal__v_19\",\"ordinal__v_22\",\"ordinal__v_23\",\"ordinal__v_24\",\"ordinal__v_29\",\"ordinal__v_31\",\"ordinal__v_33\",\"ordinal__v_5\",\"ordinal__v_6\",\"oum__v_0\",\"oum__v_10\",\"oum__v_13\",\"oum__v_15\",\"oum__v_17\",\"oum__v_19\",\"oum__v_22\",\"oum__v_23\",\"oum__v_24\",\"oum__v_29\",\"oum__v_31\",\"oum__v_33\",\"oum__v_5\",\"oum__v_6\",\"ridit_score__v_0\",\"ridit_score__v_10\",\"ridit_score__v_13\",\"ridit_score__v_15\",\"ridit_score__v_17\",\"ridit_score__v_19\",\"ridit_score__v_22\",\"ridit_score__v_23\",\"ridit_score__v_24\",\"ridit_score__v_29\",\"ridit_score__v_31\",\"ridit_score__v_33\",\"ridit_score__v_5\",\"ridit_score__v_6\"],\"xaxis\":\"x\",\"y\":[0.020402183193386374,-0.011549002208039316,0.005960245196287208,-0.02212090660398431,0.08121287244386126,0.057720728329610886,-0.23385590816997223,0.023274462425081174,0.024020380953962965,-0.18865769977184893,0.16294562222513737,-0.012015776449436178,0.08345704393023204,-0.05887988306435005,0.020402183193386374,-0.011549002208039316,0.005960245196287208,-0.02212090660398431,0.08121287244386126,0.057720728329610886,-0.23385590816997223,0.023274462425081174,0.024020380953962965,-0.18865769977184893,0.16294562222513737,-0.012015776449436178,0.08345704393023204,-0.05887988306435005,0.020402183193386374,-0.011549002208039316,0.005960245196287208,-0.02212090660398431,0.08121287244386126,0.057720728329610886,-0.23385590816997223,0.023274462425081174,0.024020380953962965,-0.18865769977184893,0.16294562222513737,-0.012015776449436178,0.08345704393023204,-0.05887988306435005,0.020947821062222642,0.013048439114721628,0.010258644292947003,-0.02148352290333339,0.1348814607027358,0.215863256778242,-0.19082380940326274,0.022341949484521777,0.025576163882904804,-0.14855939386259737,0.12928679582012717,0.00866293183123574,0.16040856569796863,0.23331936161307648,-0.02023532561470873,0.045526954163015464,-0.0042276874720884195,0.02192725657419712,0.086643509368389,0.20158257123736636,0.23237983520479497,-0.02408173769304276,-0.023770659649622987,0.18517061656031814,-0.16447791832821373,0.042953417041111636,0.12447682536543755,0.2444555225417396,-0.02023532561470873,0.045526954163015464,-0.0042276874720884195,0.02192725657419712,0.086643509368389,0.20158257123736636,0.23237983520479497,-0.02408173769304276,-0.023770659649622987,0.18517061656031814,-0.16447791832821373,0.042953417041111636,0.12447682536543755,0.2444555225417396,-0.02023532561470873,0.045526954163015464,-0.0042276874720884195,0.02192725657419712,0.086643509368389,0.20158257123736636,0.23237983520479497,-0.02408173769304276,-0.023770659649622987,0.18517061656031814,-0.16447791832821373,0.042953417041111636,0.12447682536543755,0.2444555225417396],\"yaxis\":\"y\",\"type\":\"scatter\"}],                        {\"template\":{\"data\":{\"histogram2dcontour\":[{\"type\":\"histogram2dcontour\",\"colorbar\":{\"outlinewidth\":0,\"ticks\":\"\"},\"colorscale\":[[0.0,\"#0d0887\"],[0.1111111111111111,\"#46039f\"],[0.2222222222222222,\"#7201a8\"],[0.3333333333333333,\"#9c179e\"],[0.4444444444444444,\"#bd3786\"],[0.5555555555555556,\"#d8576b\"],[0.6666666666666666,\"#ed7953\"],[0.7777777777777778,\"#fb9f3a\"],[0.8888888888888888,\"#fdca26\"],[1.0,\"#f0f921\"]]}],\"choropleth\":[{\"type\":\"choropleth\",\"colorbar\":{\"outlinewidth\":0,\"ticks\":\"\"}}],\"histogram2d\":[{\"type\":\"histogram2d\",\"colorbar\":{\"outlinewidth\":0,\"ticks\":\"\"},\"colorscale\":[[0.0,\"#0d0887\"],[0.1111111111111111,\"#46039f\"],[0.2222222222222222,\"#7201a8\"],[0.3333333333333333,\"#9c179e\"],[0.4444444444444444,\"#bd3786\"],[0.5555555555555556,\"#d8576b\"],[0.6666666666666666,\"#ed7953\"],[0.7777777777777778,\"#fb9f3a\"],[0.8888888888888888,\"#fdca26\"],[1.0,\"#f0f921\"]]}],\"heatmap\":[{\"type\":\"heatmap\",\"colorbar\":{\"outlinewidth\":0,\"ticks\":\"\"},\"colorscale\":[[0.0,\"#0d0887\"],[0.1111111111111111,\"#46039f\"],[0.2222222222222222,\"#7201a8\"],[0.3333333333333333,\"#9c179e\"],[0.4444444444444444,\"#bd3786\"],[0.5555555555555556,\"#d8576b\"],[0.6666666666666666,\"#ed7953\"],[0.7777777777777778,\"#fb9f3a\"],[0.8888888888888888,\"#fdca26\"],[1.0,\"#f0f921\"]]}],\"heatmapgl\":[{\"type\":\"heatmapgl\",\"colorbar\":{\"outlinewidth\":0,\"ticks\":\"\"},\"colorscale\":[[0.0,\"#0d0887\"],[0.1111111111111111,\"#46039f\"],[0.2222222222222222,\"#7201a8\"],[0.3333333333333333,\"#9c179e\"],[0.4444444444444444,\"#bd3786\"],[0.5555555555555556,\"#d8576b\"],[0.6666666666666666,\"#ed7953\"],[0.7777777777777778,\"#fb9f3a\"],[0.8888888888888888,\"#fdca26\"],[1.0,\"#f0f921\"]]}],\"contourcarpet\":[{\"type\":\"contourcarpet\",\"colorbar\":{\"outlinewidth\":0,\"ticks\":\"\"}}],\"contour\":[{\"type\":\"contour\",\"colorbar\":{\"outlinewidth\":0,\"ticks\":\"\"},\"colorscale\":[[0.0,\"#0d0887\"],[0.1111111111111111,\"#46039f\"],[0.2222222222222222,\"#7201a8\"],[0.3333333333333333,\"#9c179e\"],[0.4444444444444444,\"#bd3786\"],[0.5555555555555556,\"#d8576b\"],[0.6666666666666666,\"#ed7953\"],[0.7777777777777778,\"#fb9f3a\"],[0.8888888888888888,\"#fdca26\"],[1.0,\"#f0f921\"]]}],\"surface\":[{\"type\":\"surface\",\"colorbar\":{\"outlinewidth\":0,\"ticks\":\"\"},\"colorscale\":[[0.0,\"#0d0887\"],[0.1111111111111111,\"#46039f\"],[0.2222222222222222,\"#7201a8\"],[0.3333333333333333,\"#9c179e\"],[0.4444444444444444,\"#bd3786\"],[0.5555555555555556,\"#d8576b\"],[0.6666666666666666,\"#ed7953\"],[0.7777777777777778,\"#fb9f3a\"],[0.8888888888888888,\"#fdca26\"],[1.0,\"#f0f921\"]]}],\"mesh3d\":[{\"type\":\"mesh3d\",\"colorbar\":{\"outlinewidth\":0,\"ticks\":\"\"}}],\"scatter\":[{\"fillpattern\":{\"fillmode\":\"overlay\",\"size\":10,\"solidity\":0.2},\"type\":\"scatter\"}],\"parcoords\":[{\"type\":\"parcoords\",\"line\":{\"colorbar\":{\"outlinewidth\":0,\"ticks\":\"\"}}}],\"scatterpolargl\":[{\"type\":\"scatterpolargl\",\"marker\":{\"colorbar\":{\"outlinewidth\":0,\"ticks\":\"\"}}}],\"bar\":[{\"error_x\":{\"color\":\"#2a3f5f\"},\"error_y\":{\"color\":\"#2a3f5f\"},\"marker\":{\"line\":{\"color\":\"#E5ECF6\",\"width\":0.5},\"pattern\":{\"fillmode\":\"overlay\",\"size\":10,\"solidity\":0.2}},\"type\":\"bar\"}],\"scattergeo\":[{\"type\":\"scattergeo\",\"marker\":{\"colorbar\":{\"outlinewidth\":0,\"ticks\":\"\"}}}],\"scatterpolar\":[{\"type\":\"scatterpolar\",\"marker\":{\"colorbar\":{\"outlinewidth\":0,\"ticks\":\"\"}}}],\"histogram\":[{\"marker\":{\"pattern\":{\"fillmode\":\"overlay\",\"size\":10,\"solidity\":0.2}},\"type\":\"histogram\"}],\"scattergl\":[{\"type\":\"scattergl\",\"marker\":{\"colorbar\":{\"outlinewidth\":0,\"ticks\":\"\"}}}],\"scatter3d\":[{\"type\":\"scatter3d\",\"line\":{\"colorbar\":{\"outlinewidth\":0,\"ticks\":\"\"}},\"marker\":{\"colorbar\":{\"outlinewidth\":0,\"ticks\":\"\"}}}],\"scattermapbox\":[{\"type\":\"scattermapbox\",\"marker\":{\"colorbar\":{\"outlinewidth\":0,\"ticks\":\"\"}}}],\"scatterternary\":[{\"type\":\"scatterternary\",\"marker\":{\"colorbar\":{\"outlinewidth\":0,\"ticks\":\"\"}}}],\"scattercarpet\":[{\"type\":\"scattercarpet\",\"marker\":{\"colorbar\":{\"outlinewidth\":0,\"ticks\":\"\"}}}],\"carpet\":[{\"aaxis\":{\"endlinecolor\":\"#2a3f5f\",\"gridcolor\":\"white\",\"linecolor\":\"white\",\"minorgridcolor\":\"white\",\"startlinecolor\":\"#2a3f5f\"},\"baxis\":{\"endlinecolor\":\"#2a3f5f\",\"gridcolor\":\"white\",\"linecolor\":\"white\",\"minorgridcolor\":\"white\",\"startlinecolor\":\"#2a3f5f\"},\"type\":\"carpet\"}],\"table\":[{\"cells\":{\"fill\":{\"color\":\"#EBF0F8\"},\"line\":{\"color\":\"white\"}},\"header\":{\"fill\":{\"color\":\"#C8D4E3\"},\"line\":{\"color\":\"white\"}},\"type\":\"table\"}],\"barpolar\":[{\"marker\":{\"line\":{\"color\":\"#E5ECF6\",\"width\":0.5},\"pattern\":{\"fillmode\":\"overlay\",\"size\":10,\"solidity\":0.2}},\"type\":\"barpolar\"}],\"pie\":[{\"automargin\":true,\"type\":\"pie\"}]},\"layout\":{\"autotypenumbers\":\"strict\",\"colorway\":[\"#636efa\",\"#EF553B\",\"#00cc96\",\"#ab63fa\",\"#FFA15A\",\"#19d3f3\",\"#FF6692\",\"#B6E880\",\"#FF97FF\",\"#FECB52\"],\"font\":{\"color\":\"#2a3f5f\"},\"hovermode\":\"closest\",\"hoverlabel\":{\"align\":\"left\"},\"paper_bgcolor\":\"white\",\"plot_bgcolor\":\"#E5ECF6\",\"polar\":{\"bgcolor\":\"#E5ECF6\",\"angularaxis\":{\"gridcolor\":\"white\",\"linecolor\":\"white\",\"ticks\":\"\"},\"radialaxis\":{\"gridcolor\":\"white\",\"linecolor\":\"white\",\"ticks\":\"\"}},\"ternary\":{\"bgcolor\":\"#E5ECF6\",\"aaxis\":{\"gridcolor\":\"white\",\"linecolor\":\"white\",\"ticks\":\"\"},\"baxis\":{\"gridcolor\":\"white\",\"linecolor\":\"white\",\"ticks\":\"\"},\"caxis\":{\"gridcolor\":\"white\",\"linecolor\":\"white\",\"ticks\":\"\"}},\"coloraxis\":{\"colorbar\":{\"outlinewidth\":0,\"ticks\":\"\"}},\"colorscale\":{\"sequential\":[[0.0,\"#0d0887\"],[0.1111111111111111,\"#46039f\"],[0.2222222222222222,\"#7201a8\"],[0.3333333333333333,\"#9c179e\"],[0.4444444444444444,\"#bd3786\"],[0.5555555555555556,\"#d8576b\"],[0.6666666666666666,\"#ed7953\"],[0.7777777777777778,\"#fb9f3a\"],[0.8888888888888888,\"#fdca26\"],[1.0,\"#f0f921\"]],\"sequentialminus\":[[0.0,\"#0d0887\"],[0.1111111111111111,\"#46039f\"],[0.2222222222222222,\"#7201a8\"],[0.3333333333333333,\"#9c179e\"],[0.4444444444444444,\"#bd3786\"],[0.5555555555555556,\"#d8576b\"],[0.6666666666666666,\"#ed7953\"],[0.7777777777777778,\"#fb9f3a\"],[0.8888888888888888,\"#fdca26\"],[1.0,\"#f0f921\"]],\"diverging\":[[0,\"#8e0152\"],[0.1,\"#c51b7d\"],[0.2,\"#de77ae\"],[0.3,\"#f1b6da\"],[0.4,\"#fde0ef\"],[0.5,\"#f7f7f7\"],[0.6,\"#e6f5d0\"],[0.7,\"#b8e186\"],[0.8,\"#7fbc41\"],[0.9,\"#4d9221\"],[1,\"#276419\"]]},\"xaxis\":{\"gridcolor\":\"white\",\"linecolor\":\"white\",\"ticks\":\"\",\"title\":{\"standoff\":15},\"zerolinecolor\":\"white\",\"automargin\":true,\"zerolinewidth\":2},\"yaxis\":{\"gridcolor\":\"white\",\"linecolor\":\"white\",\"ticks\":\"\",\"title\":{\"standoff\":15},\"zerolinecolor\":\"white\",\"automargin\":true,\"zerolinewidth\":2},\"scene\":{\"xaxis\":{\"backgroundcolor\":\"#E5ECF6\",\"gridcolor\":\"white\",\"linecolor\":\"white\",\"showbackground\":true,\"ticks\":\"\",\"zerolinecolor\":\"white\",\"gridwidth\":2},\"yaxis\":{\"backgroundcolor\":\"#E5ECF6\",\"gridcolor\":\"white\",\"linecolor\":\"white\",\"showbackground\":true,\"ticks\":\"\",\"zerolinecolor\":\"white\",\"gridwidth\":2},\"zaxis\":{\"backgroundcolor\":\"#E5ECF6\",\"gridcolor\":\"white\",\"linecolor\":\"white\",\"showbackground\":true,\"ticks\":\"\",\"zerolinecolor\":\"white\",\"gridwidth\":2}},\"shapedefaults\":{\"line\":{\"color\":\"#2a3f5f\"}},\"annotationdefaults\":{\"arrowcolor\":\"#2a3f5f\",\"arrowhead\":0,\"arrowwidth\":1},\"geo\":{\"bgcolor\":\"white\",\"landcolor\":\"#E5ECF6\",\"subunitcolor\":\"white\",\"showland\":true,\"showlakes\":true,\"lakecolor\":\"white\"},\"title\":{\"x\":0.05},\"mapbox\":{\"style\":\"light\"}}},\"xaxis\":{\"anchor\":\"y\",\"domain\":[0.0,1.0],\"title\":{\"text\":\"index\"}},\"yaxis\":{\"anchor\":\"x\",\"domain\":[0.0,1.0],\"title\":{\"text\":\"value\"}},\"legend\":{\"title\":{\"text\":\"variable\"},\"tracegroupgap\":0},\"margin\":{\"t\":60}},                        {\"responsive\": true}                    ).then(function(){\n",
       "                            \n",
       "var gd = document.getElementById('3a67dbbf-4be4-4efe-a7d4-66d365cc6edf');\n",
       "var x = new MutationObserver(function (mutations, observer) {{\n",
       "        var display = window.getComputedStyle(gd).display;\n",
       "        if (!display || display === 'none') {{\n",
       "            console.log([gd, 'removed!']);\n",
       "            Plotly.purge(gd);\n",
       "            observer.disconnect();\n",
       "        }}\n",
       "}});\n",
       "\n",
       "// Listen for the removal of the full notebook cells\n",
       "var notebookContainer = gd.closest('#notebook-container');\n",
       "if (notebookContainer) {{\n",
       "    x.observe(notebookContainer, {childList: true});\n",
       "}}\n",
       "\n",
       "// Listen for the clearing of the current output cell\n",
       "var outputEl = gd.closest('.output');\n",
       "if (outputEl) {{\n",
       "    x.observe(outputEl, {childList: true});\n",
       "}}\n",
       "\n",
       "                        })                };                });            </script>        </div>"
      ]
     },
     "metadata": {},
     "output_type": "display_data"
    }
   ],
   "source": [
    "# reports\n",
    "ordinal_proc_data.corrwith(final_data.target,method='kendall').sort_index().plot()"
   ]
  },
  {
   "cell_type": "code",
   "execution_count": 79,
   "id": "b45f4f69-7985-469c-b190-7c3d307219e7",
   "metadata": {},
   "outputs": [],
   "source": [
    "# feature_correls = ordinal_proc_data.corrwith(final_data.target, method='kendall').sort_values(ascending=False).plot()\n",
    "ordinal_proc_data.loc[:,ordinal] = ordinal_proc_data.loc[:,ordinal].astype('category')"
   ]
  },
  {
   "cell_type": "code",
   "execution_count": 108,
   "id": "59ab000d-1e9e-4ff5-8671-c4dbdede2b94",
   "metadata": {},
   "outputs": [
    {
     "name": "stdout",
     "output_type": "stream",
     "text": [
      "HelmertEncoder(cols=['ordinal__v_0', 'ordinal__v_10', 'ordinal__v_13',\n",
      "                     'ordinal__v_15', 'ordinal__v_17', 'ordinal__v_19',\n",
      "                     'ordinal__v_22', 'ordinal__v_23', 'ordinal__v_24',\n",
      "                     'ordinal__v_29', 'ordinal__v_31', 'ordinal__v_33',\n",
      "                     'ordinal__v_5', 'ordinal__v_6']) failed\n",
      "Trying to run Solo\n",
      "SummaryEncoder(cols=['ordinal__v_0', 'ordinal__v_10', 'ordinal__v_13',\n",
      "                     'ordinal__v_15', 'ordinal__v_17', 'ordinal__v_19',\n",
      "                     'ordinal__v_22', 'ordinal__v_23', 'ordinal__v_24',\n",
      "                     'ordinal__v_29', 'ordinal__v_31', 'ordinal__v_33',\n",
      "                     'ordinal__v_5', 'ordinal__v_6']) failed\n",
      "Trying to run Solo\n",
      "BackwardDifferenceEncoder(cols=['ordinal__v_0', 'ordinal__v_10',\n",
      "                                'ordinal__v_13', 'ordinal__v_15',\n",
      "                                'ordinal__v_17', 'ordinal__v_19',\n",
      "                                'ordinal__v_22', 'ordinal__v_23',\n",
      "                                'ordinal__v_24', 'ordinal__v_29',\n",
      "                                'ordinal__v_31', 'ordinal__v_33',\n",
      "                                'ordinal__v_5', 'ordinal__v_6']) failed\n",
      "Trying to run Solo\n"
     ]
    }
   ],
   "source": [
    "# ordinal_data\n",
    "cols = ordinal\n",
    "reports = []\n",
    "transformed_f = {}\n",
    "\n",
    "category_encoders = [TargetEncoder(cols = ordinal), \n",
    "                     WOEEncoder(cols = ordinal),\n",
    "                     JamesSteinEncoder(cols = ordinal),\n",
    "                     HelmertEncoder(cols = ordinal),\n",
    "                     # OrdinalEncoder(),\n",
    "                     SummaryEncoder(cols = ordinal),\n",
    "                     LeaveOneOutEncoder(cols = ordinal),\n",
    "                     BackwardDifferenceEncoder(cols = ordinal)]\n",
    "for ce in category_encoders:\n",
    "    fail = 0\n",
    "    encoder = PWrapper(ce)\n",
    "    try:\n",
    "        f_tra = encoder.fit_transform(ordinal_proc_data,final_data.target)\n",
    "    except:\n",
    "        print(f'{ce} failed')\n",
    "        print('Trying to run Solo')\n",
    "        fail=1\n",
    "    try:\n",
    "        if fail == 1:\n",
    "            f_tra = ce.fit_transform(ordinal_proc_data,final_data.target)\n",
    "    except:\n",
    "        print(\"Even Solo Failed !!! SKIPPING!!!!!\")\n",
    "        fail=0\n",
    "        continue\n",
    "    fcorr = f_tra.corrwith(final_data.target,method='kendall').sort_values(ascending=False)\n",
    "    reports.append(fcorr)\n",
    "    fail=0\n",
    "    transformed_f[ce.__class__.__name__]= f_tra \n"
   ]
  },
  {
   "cell_type": "code",
   "execution_count": null,
   "id": "a531dd63-b126-46dc-bb08-566e5b446b56",
   "metadata": {},
   "outputs": [],
   "source": [
    "sns.set()\n",
    "threshold = 0.25\n",
    "for i in range(7):\n",
    "    p_l: pd.Series = reports[i]\n",
    "    print(list(transformed_f.keys())[i])\n",
    "    print(p_l[(p_l>threshold)|(p_l<-threshold)].index)\n",
    "    print(p_l[(p_l>threshold)|(p_l<-threshold)].shape)\n",
    "    print(p_l[(p_l>threshold)|(p_l<-threshold)].mean())\n",
    "    print(p_l[(p_l>threshold)|(p_l<-threshold)])\n",
    "    print()\n",
    "    \n",
    "    \n",
    "    print('-'*40)\n",
    "# plt.hlines(0,)"
   ]
  },
  {
   "cell_type": "code",
   "execution_count": null,
   "id": "afa5862d-e7e2-4d07-a228-fd823f626144",
   "metadata": {},
   "outputs": [],
   "source": [
    "category_encoders = [\n",
    "    # TargetEncoder(cols = ordinal,smoothing=0), \n",
    "    #                  WOEEncoder(cols = ordinal,regularization=0.00000001),\n",
    "    #                  JamesSteinEncoder(cols = ordinal,model='pooled'),\n",
    "                     HelmertEncoder(cols = ordinal),\n",
    "                     # OrdinalEncoder(),\n",
    "                     SummaryEncoder(cols = ordinal,quantiles=np.linspace(0.01,1,num=20),m=0),\n",
    "                     # LeaveOneOutEncoder(cols = ordinal),]\n",
    "                     BackwardDifferenceEncoder(cols = ordinal)]\n",
    "\n",
    "cat_ct = []\n",
    "numeric_prob =list( set(X.columns) - set(ordinal))\n",
    "for encoder in category_encoders:\n",
    "    c_ct = ColumnTransformer([\n",
    "        # ('cat_encoder', PWrapper(encoder),ordinal)\n",
    "        ('cat_encoder', encoder,ordinal),\n",
    "        ('numeric',StandardScaler(),numeric_prob)\n",
    "    ], remainder='drop',n_jobs=-1,sparse_threshold=0,)\n",
    "    cat_ct.append(c_ct)\n",
    "c_ct\n",
    "\n",
    "with parallel_backend('loky'):\n",
    "    X = data_logit.drop(binary+nominal+ratio+['label'], axis=1)\n",
    "    y = final_data.target.to_numpy().reshape(-1,1)\n",
    "    X_train, X_test, y_train, y_test = train_test_split(X,y, random_state=10, test_size=0.2)\n",
    "    for i, ct in enumerate(cat_ct):\n",
    "        pipe = make_pipeline(ct,PowerTransformer(),RFE(DecisionTreeClassifier()), OneVsRestClassifier(XGBClassifier(n_jobs=-1,random_state=0)))\n",
    "        # pipe = make_pipeline(ct,QuantileTransformer(), OneVsOneClassifier(DecisionTreeClassifier(random_state=0)))\n",
    "        y_pred = pipe.fit(X_train, y_train).predict(X_test)\n",
    "        print('-'*90)\n",
    "        print(category_encoders[i].__class__.__name__)\n",
    "        print('-'*30)\n",
    "        print(classification_report(y_test, y_pred))\n",
    "        print('-'*90)\n",
    "        print(\"cohen_kappa_score\\t|\")\n",
    "        print('-'*30)\n",
    "        print(sklearn.metrics.cohen_kappa_score(y_pred, y_test))\n",
    "        print('-'*90)\n",
    "        print(\"balanced_accuracy_score\\t|\")\n",
    "        print('-'*30)\n",
    "        print(sklearn.metrics.balanced_accuracy_score(y_test, y_pred))\n",
    "        print('-'*90)\n",
    "        print(\"accuracy_score\\t|\")\n",
    "        print('-'*30)\n",
    "        print(\n",
    "            sklearn.metrics.accuracy_score(\n",
    "                y_test,\n",
    "                y_pred,\n",
    "            )\n",
    "            * 0.85\n",
    "        )\n",
    "        print('-'*90)\n",
    "        print(\"f1_score_micro\\t|\")\n",
    "        print('-'*30)\n",
    "        print(sklearn.metrics.f1_score(y_test, y_pred, average=\"micro\"))\n",
    "        print('-'*90)\n",
    "        print(\"f1_score_macro\\t|\")\n",
    "        print('-'*30)\n",
    "        print(sklearn.metrics.f1_score(y_test, y_pred, average=\"macro\"))\n",
    "        print('-'*90)\n",
    "        print(\"f1_score_weighted\\t|\")\n",
    "        print('-'*30)\n",
    "        print(sklearn.metrics.f1_score(y_test, y_pred, average=\"weighted\"))\n",
    "        print('-'*90)\n",
    "        "
   ]
  },
  {
   "cell_type": "markdown",
   "id": "522d8f60-62e8-4302-bf96-c87f0385547f",
   "metadata": {
    "jupyter": {
     "source_hidden": true
    },
    "tags": []
   },
   "source": [
    "\n",
    "#### Logit Data\n",
    "        ------------------------------------------------------------------------------------------\n",
    "        HelmertEncoder\n",
    "        ------------------------------\n",
    "                      precision    recall  f1-score   support\n",
    "\n",
    "                   0       0.67      0.66      0.67       252\n",
    "                   1       0.77      0.86      0.81       372\n",
    "                   2       0.34      0.24      0.28       136\n",
    "\n",
    "            accuracy                           0.68       760\n",
    "           macro avg       0.59      0.59      0.59       760\n",
    "        weighted avg       0.66      0.68      0.67       760\n",
    "\n",
    "        ------------------------------------------------------------------------------------------\n",
    "        cohen_kappa_score\t|\n",
    "        ------------------------------\n",
    "        0.47171683376212825\n",
    "        ------------------------------------------------------------------------------------------\n",
    "        balanced_accuracy_score\t|\n",
    "        ------------------------------\n",
    "        0.5860691947029708\n",
    "        ------------------------------------------------------------------------------------------\n",
    "        accuracy_score\t|\n",
    "        ------------------------------\n",
    "        0.5804605263157894\n",
    "        ------------------------------------------------------------------------------------------\n",
    "        f1_score_micro\t|\n",
    "        ------------------------------\n",
    "        0.6828947368421052\n",
    "        ------------------------------------------------------------------------------------------\n",
    "        f1_score_macro\t|\n",
    "        ------------------------------\n",
    "        0.5854230771592995\n",
    "        ------------------------------------------------------------------------------------------\n",
    "        f1_score_weighted\t|\n",
    "        ------------------------------\n",
    "        0.6675997660948015\n",
    "        ------------------------------------------------------------------------------------------\n",
    "        ------------------------------------------------------------------------------------------\n",
    "        SummaryEncoder\n",
    "        ------------------------------\n",
    "                      precision    recall  f1-score   support\n",
    "\n",
    "                   0       0.66      0.65      0.66       252\n",
    "                   1       0.74      0.81      0.77       372\n",
    "                   2       0.32      0.24      0.27       136\n",
    "\n",
    "            accuracy                           0.66       760\n",
    "           macro avg       0.57      0.57      0.57       760\n",
    "        weighted avg       0.64      0.66      0.64       760\n",
    "\n",
    "        ------------------------------------------------------------------------------------------\n",
    "        cohen_kappa_score\t|\n",
    "        ------------------------------\n",
    "        0.4297562316715543\n",
    "        ------------------------------------------------------------------------------------------\n",
    "        balanced_accuracy_score\t|\n",
    "        ------------------------------\n",
    "        0.5675268315211389\n",
    "        ------------------------------------------------------------------------------------------\n",
    "        accuracy_score\t|\n",
    "        ------------------------------\n",
    "        0.5569736842105263\n",
    "        ------------------------------------------------------------------------------------------\n",
    "        f1_score_micro\t|\n",
    "        ------------------------------\n",
    "        0.6552631578947369\n",
    "        ------------------------------------------------------------------------------------------\n",
    "        f1_score_macro\t|\n",
    "        ------------------------------\n",
    "        0.5675982905982906\n",
    "        ------------------------------------------------------------------------------------------\n",
    "        f1_score_weighted\t|\n",
    "        ------------------------------\n",
    "        0.6444995951417003\n",
    "        ------------------------------------------------------------------------------------------\n",
    "        ------------------------------------------------------------------------------------------\n",
    "        BackwardDifferenceEncoder\n",
    "        ------------------------------\n",
    "                      precision    recall  f1-score   support\n",
    "\n",
    "                   0       0.61      0.69      0.65       252\n",
    "                   1       0.75      0.78      0.77       372\n",
    "                   2       0.37      0.24      0.29       136\n",
    "\n",
    "            accuracy                           0.66       760\n",
    "           macro avg       0.58      0.57      0.57       760\n",
    "        weighted avg       0.64      0.66      0.64       760\n",
    "\n",
    "        ------------------------------------------------------------------------------------------\n",
    "        cohen_kappa_score\t|\n",
    "        ------------------------------\n",
    "        0.43063673067904973\n",
    "        ------------------------------------------------------------------------------------------\n",
    "        balanced_accuracy_score\t|\n",
    "        ------------------------------\n",
    "        0.5713670772968685\n",
    "        ------------------------------------------------------------------------------------------\n",
    "        accuracy_score\t|\n",
    "        ------------------------------\n",
    "        0.5569736842105263\n",
    "        ------------------------------------------------------------------------------------------\n",
    "        f1_score_micro\t|\n",
    "        ------------------------------\n",
    "        0.6552631578947369\n",
    "        ------------------------------------------------------------------------------------------\n",
    "        f1_score_macro\t|\n",
    "        ------------------------------\n",
    "        0.5695615697198475\n",
    "        ------------------------------------------------------------------------------------------\n",
    "        f1_score_weighted\t|\n",
    "        ------------------------------\n",
    "        0.6429621528314725\n",
    "        ------------------------------------------------------------------------------------------\n"
   ]
  },
  {
   "cell_type": "code",
   "execution_count": 206,
   "id": "88ec1ba2-3400-4e39-8563-dcbcdb6cff90",
   "metadata": {},
   "outputs": [],
   "source": [
    "pipe"
   ]
  },
  {
   "cell_type": "code",
   "execution_count": null,
   "id": "73929bde-a2a5-4c68-99a8-152d8b312d20",
   "metadata": {},
   "outputs": [],
   "source": []
  }
 ],
 "metadata": {
  "kernelspec": {
   "display_name": "Python (autoskl)",
   "language": "python",
   "name": "autoskl"
  },
  "language_info": {
   "codemirror_mode": {
    "name": "ipython",
    "version": 3
   },
   "file_extension": ".py",
   "mimetype": "text/x-python",
   "name": "python",
   "nbconvert_exporter": "python",
   "pygments_lexer": "ipython3",
   "version": "3.9.10"
  },
  "neptune": {
   "notebookId": "96c56ed5-cedc-489d-b67b-a97867268074",
   "projectVersion": 2
  },
  "widgets": {
   "application/vnd.jupyter.widget-state+json": {
    "state": {},
    "version_major": 2,
    "version_minor": 0
   }
  }
 },
 "nbformat": 4,
 "nbformat_minor": 5
}
