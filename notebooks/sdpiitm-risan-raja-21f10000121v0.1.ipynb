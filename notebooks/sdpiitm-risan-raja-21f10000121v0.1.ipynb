{
 "cells": [
  {
   "cell_type": "markdown",
   "metadata": {
    "tags": []
   },
   "source": [
    "##    Libraries Import"
   ]
  },
  {
   "cell_type": "code",
   "execution_count": 1,
   "metadata": {
    "scrolled": true,
    "tags": []
   },
   "outputs": [
    {
     "name": "stdout",
     "output_type": "stream",
     "text": [
      "importing Jupyter notebook from setup_transform.ipynb\n"
     ]
    },
    {
     "name": "stderr",
     "output_type": "stream",
     "text": [
      "Intel(R) Extension for Scikit-learn* enabled (https://github.com/intel/scikit-learn-intelex)\n",
      "\n",
      "KeyboardInterrupt\n",
      "\n"
     ]
    }
   ],
   "source": [
    "# import widen_notebook\n",
    "from mysetup import NotebookFinder\n",
    "import sys\n",
    "sys.meta_path.append(NotebookFinder())\n",
    "\n",
    "from setup_transform import *\n",
    "%matplotlib inline"
   ]
  },
  {
   "cell_type": "code",
   "execution_count": null,
   "metadata": {},
   "outputs": [],
   "source": [
    "from category_encoders import PolynomialEncoder\n",
    "from category_encoders.wrapper import PolynomialWrapper as PW\n",
    "y = raw_data.target\n",
    "\n",
    "cl_weight = sklearn.utils.compute_class_weight(class_weight='balanced',classes=[0,1,2],y=y)\n",
    "CLASS_WEIGHTS = {i:cl_weight[i] for i in range(3)}    \n",
    "lgr_params = dict(class_weight=CLASS_WEIGHTS,fit_intercept=True,multi_class='multinomial',max_iter=20000,random_state=42,n_jobs=24,cv=RepeatedStratifiedKFold(n_splits=3,n_repeats=3,random_state=30),scoring='f1_macro',solver='liblinear',Cs=100)\n",
    "encoder = PolynomialEncoder(cols=ordinal[:-1])\n",
    "lgr_params['solver'] = 'saga'\n",
    "lgr_params['l1_ratios'] = np.linspace(0.0001,0.9999,num=100)\n",
    "lgr_params['penalty'] = 'elasticnet'\n",
    "model = LogisticRegressionCV(**lgr_params)\n",
    "X = ordinal_data.iloc[:,:-1]\n",
    "y = raw_data.target\n",
    "X_train, X_test, y_train, y_test = gen_train_test(X,y,0.8)\n",
    "clf = make_pipeline(PolynomialEncoder(cols=ordinal[:-1]),PowerTransformer(),model)\n",
    "with parallel_backend('loky', n_jobs=24):\n",
    "    y_pred = clf.fit(X_train,y_train).predict(X_test)\n",
    "    print(classification_report(y_test,y_pred))\n",
    "    disp = ConfusionMatrixDisplay.from_predictions(y_test,y_pred)\n",
    "\n",
    "clf\n",
    "\n",
    "with parallel_backend('loky', n_jobs=24):\n",
    "    y_pred = clf.fit(X_train,y_train).predict(X_test)\n",
    "    print(classification_report(y_test,y_pred))\n",
    "    disp = ConfusionMatrixDisplay.from_predictions(y_test,y_pred)"
   ]
  }
 ],
 "metadata": {
  "kernelspec": {
   "display_name": "Python (autoskl)",
   "language": "python",
   "name": "autoskl"
  },
  "language_info": {
   "codemirror_mode": {
    "name": "ipython",
    "version": 3
   },
   "file_extension": ".py",
   "mimetype": "text/x-python",
   "name": "python",
   "nbconvert_exporter": "python",
   "pygments_lexer": "ipython3",
   "version": "3.9.10"
  },
  "toc-autonumbering": true,
  "toc-showcode": false,
  "toc-showmarkdowntxt": false,
  "toc-showtags": false,
  "widgets": {
   "application/vnd.jupyter.widget-state+json": {
    "state": {},
    "version_major": 2,
    "version_minor": 0
   }
  }
 },
 "nbformat": 4,
 "nbformat_minor": 4
}
