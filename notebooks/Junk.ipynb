{
 "cells": [
  {
   "cell_type": "code",
   "execution_count": null,
   "id": "6f413b37-355f-4418-85bb-221f0c1cfb55",
   "metadata": {},
   "outputs": [],
   "source": []
  },
  {
   "cell_type": "code",
   "execution_count": 20,
   "id": "79e6eb66-31f5-4464-b93a-050bf4dd0281",
   "metadata": {
    "tags": []
   },
   "outputs": [],
   "source": [
    "features_selected = {0: [], 1: [], 2: []}\n",
    "selectors = {0: [], 1: [], 2: []}\n",
    "feature_selection_df = {0: None, 1: None, 2: None}\n",
    "feature_performance = {0: None, 1: None, 2: None}\n",
    "improvements = {0: [], 1: [], 2: []}"
   ]
  },
  {
   "cell_type": "code",
   "execution_count": null,
   "id": "af9c84b5-15e2-45f7-99cc-81ae8fe580a1",
   "metadata": {
    "tags": []
   },
   "outputs": [],
   "source": [
    "estimator = make_pipeline(\n",
    "    VarianceThreshold(),\n",
    "    LogisticRegression(\n",
    "        solver=\"liblinear\", n_jobs=-1, C=0.03, random_state=2, fit_intercept=False\n",
    "    ),\n",
    ")\n",
    "\n",
    "try:\n",
    "    idx = 0\n",
    "    for X, y in tr_nom_db:\n",
    "        X_train, X_test, y_train, y_test = train_test_split(\n",
    "            enc_nom_df, y, test_size=0.3, random_state=42\n",
    "        )\n",
    "        vt = VarianceThreshold()\n",
    "        print(f\"Shape of data {X_train.shape}\")\n",
    "        __c = vt.fit_transform(X_train)\n",
    "        print(f\"Dim Reduction {X_train.shape[1]-__c.shape[1]}\")\n",
    "\n",
    "        # Baseline\n",
    "        model = model_clone(estimator)\n",
    "        model.fit(X_train, y_train)\n",
    "        acc_init = sklearn.metrics.f1_score(\n",
    "            model.predict(X_test), y_test, average=\"micro\"\n",
    "        )\n",
    "        print(f\"baseline f-1 score {acc_init}\")\n",
    "        print(f\"Running SFS\")\n",
    "        with parallel_backend(\"loky\"):\n",
    "            # selector = SequentialFeatureSelector(model_clone(estimator),tol=0.001,n_features_to_select='auto',cv=RepeatedStratifiedKFold(n_splits=3,n_repeats=2),n_jobs=-1,scoring='f1_micro',)\n",
    "            selector = RFEC(\n",
    "                model_clone(estimator)[1],\n",
    "                step=5,\n",
    "                cv=RepeatedStratifiedKFold(n_splits=3, n_repeats=2),\n",
    "                n_jobs=-1,\n",
    "                scoring=\"f1_micro\",\n",
    "            )\n",
    "            selector.fit(enc_nom_df, y)\n",
    "        new_data = selector.transform(enc_nom_df)\n",
    "        print(f\"SFS Dim Reduction {X_train.shape[1]-new_data.shape[1]}\")\n",
    "\n",
    "        X_train, X_test, y_train, y_test = train_test_split(\n",
    "            new_data, y, test_size=0.3, random_state=42\n",
    "        )\n",
    "        model = model_clone(estimator)\n",
    "        model.fit(X_train, y_train)\n",
    "        acc_improved = sklearn.metrics.f1_score(\n",
    "            model.predict(X_test), y_test, average=\"micro\"\n",
    "        )\n",
    "        print(f\"Improved By {acc_improved - acc_init} on {idx} Label\")\n",
    "        improvements[idx].append(acc_improved - acc_init)\n",
    "        print(f\"New F-1 Score {acc_improved}\")\n",
    "        idx += 1\n",
    "except KeyboardInterrupt:\n",
    "    print(\"Stopped Checking\")\n",
    "    # print(acc_improved)\n",
    "    print(acc_init)"
   ]
  },
  {
   "cell_type": "code",
   "execution_count": null,
   "id": "124ab066-d162-42ec-bd05-92fa5a2af936",
   "metadata": {
    "tags": []
   },
   "outputs": [],
   "source": [
    "sns.set()\n",
    "# pd.options.plotting.backend = \"matplotlib\"\n",
    "targets = pd.get_dummies(final_data.target)\n",
    "f_sets_kendall = {}\n",
    "f_sets_p = {}\n",
    "for i in range(3):\n",
    "    g1 = (\n",
    "        final_data_indvl.drop([\"target\"], axis=1)\n",
    "        .astype(np.float64)\n",
    "        .corrwith(pd.get_dummies(final_data.target)[i], method=\"kendall\")\n",
    "        .sort_values()\n",
    "    )\n",
    "    g2 = g1[(g1 > 0) | (g1 < 0)]\n",
    "    non_lin, lin = g1[g1 < 0].index, g1[g1 > 0].index\n",
    "    f_sets_kendall[i] = (non_lin, lin)\n",
    "    g1 = (\n",
    "        final_data_indvl.drop([\"target\"], axis=1)\n",
    "        .astype(np.float64)\n",
    "        .corrwith(pd.get_dummies(final_data.target)[i], method=\"pearson\")\n",
    "        .sort_values()\n",
    "    )\n",
    "    g2 = g1[(g1 > 0) | (g1 < 0)]\n",
    "    non_lin, lin = g1[g1 < 0].index, g1[g1 > 0].index\n",
    "    f_sets_p[i] = (non_lin, lin)"
   ]
  },
  {
   "cell_type": "code",
   "execution_count": null,
   "id": "40241e9e-28d5-4807-a1f0-e840cef8188a",
   "metadata": {
    "tags": []
   },
   "outputs": [],
   "source": [
    "for k, v in f_sets_kendall.items():\n",
    "    nl, l = f_sets_kendall[k]\n",
    "    print(len(nl), len(l))"
   ]
  },
  {
   "cell_type": "code",
   "execution_count": null,
   "id": "a8f64428-e859-4b37-b476-f4225cf3351c",
   "metadata": {
    "tags": []
   },
   "outputs": [],
   "source": [
    "# nd: pd.DataFrame = final_data.loc[:,nominal].astype('float')\n",
    "# nd.corrwith(final_data.loc[:,binary+ordinal+ratio].astype('float'))\n",
    "final_data_indvl.corr(method=\"kendall\")\n",
    "\n",
    "fi_indvl_corr = final_data_indvl.corr(method=\"kendall\")"
   ]
  },
  {
   "cell_type": "code",
   "execution_count": null,
   "id": "3a35671b-4e14-42fd-8649-8413f6a7fd0f",
   "metadata": {
    "jupyter": {
     "source_hidden": true
    },
    "tags": []
   },
   "outputs": [],
   "source": [
    "# MAX 0.56\n",
    "\n",
    "\n",
    "# Import Data and One Hot Encode with Drop First\n",
    "final_data_indvl = pd.get_dummies(\n",
    "    final_data_indvl, columns=nominal, drop_first=True, sparse=False, dtype=np.float64\n",
    ")\n",
    "mean_test_val_clf = defaultdict(list)\n",
    "# model = NuSVC(nu=0.5,kernel='poly',degree=2,random_state=0)\n",
    "mem = Memory(\"../data/tmp/\")\n",
    "for clf in tqdm(classifiers):\n",
    "    nw_noms = list(\n",
    "        set(final_data_indvl.columns)\n",
    "        - set(binary)\n",
    "        - set(ratio)\n",
    "        - set(ordinal)\n",
    "        - {\"target\"}\n",
    "    )\n",
    "    for _i in range(5, 150, 50):\n",
    "        feature_agglomeration = FeatureAgglomeration(\n",
    "            n_clusters=_i,\n",
    "            affinity=\"euclidean\",\n",
    "            memory=mem,\n",
    "            compute_full_tree=True,\n",
    "            linkage=\"ward\",\n",
    "            compute_distances=True,\n",
    "        )\n",
    "        check = feature_agglomeration.fit_transform(\n",
    "            final_data_indvl.loc[:, nw_noms].astype(np.float64)\n",
    "        )\n",
    "        with parallel_backend(\"loky\"):\n",
    "            # rpt = cross_validate(OneVsOneClassifier(NuSVC(nu=0.5,kernel='poly',degree=4,random_state=0)),check,final_data.target,cv=3,n_jobs=-1)\n",
    "            try:\n",
    "                rpt = cross_validate(\n",
    "                    OneVsOneClassifier(clf),\n",
    "                    check,\n",
    "                    final_data.target,\n",
    "                    cv=3,\n",
    "                    n_jobs=-1,\n",
    "                    scoring=\"f1_micro\",\n",
    "                )\n",
    "            except:\n",
    "                continue\n",
    "            # rpt = cross_validate(OneVsOneClassifier(LogisticRegression(fit_intercept=False,n_jobs=-1,random_state=0)),check,final_data.target,cv=3,n_jobs=-1)\n",
    "        mean_test_val_clf[clf.__class__.__name__].append(\n",
    "            (_i, rpt[\"test_score\"].mean(), rpt[\"test_score\"].std())\n",
    "        )\n",
    "\n",
    "\n",
    "# sns.set()\n",
    "# plot_agg_perf()\n",
    "mean_test_val_clf"
   ]
  },
  {
   "cell_type": "code",
   "execution_count": null,
   "id": "99ee227e-ae45-4efe-85e2-994c9622b997",
   "metadata": {
    "jupyter": {
     "source_hidden": true
    },
    "scrolled": true,
    "tags": []
   },
   "outputs": [],
   "source": [
    "# MAX 0.56\n",
    "\n",
    "\n",
    "# Pipeline\n",
    "final_data_indvl = pd.get_dummies(\n",
    "    final_data_indvl, columns=nominal, drop_first=True, sparse=False, dtype=np.float64\n",
    ")\n",
    "nw_noms = list(\n",
    "    set(final_data_indvl.columns) - set(binary) - set(ratio) - set(ordinal) - {\"target\"}\n",
    ")\n",
    "mem = Memory(\"../data/tmp3/\")\n",
    "mean_test_val_clf = defaultdict(list)\n",
    "for clf in tqdm(classifiers):\n",
    "    pipe = Pipeline(\n",
    "        steps=[\n",
    "            (\"variancethreshold\", VarianceThreshold()),\n",
    "            (\"rfecv\", RFE(estimator=clf)),\n",
    "            (clf.__class__.__name__, clf),\n",
    "        ]\n",
    "    )\n",
    "    with parallel_backend(\"loky\"):\n",
    "        try:\n",
    "            rpt = cross_validate(\n",
    "                OneVsOneClassifier(pipe, n_jobs=-1),\n",
    "                final_data_indvl.loc[:, nw_noms],\n",
    "                final_data.target,\n",
    "                cv=3,\n",
    "                n_jobs=-1,\n",
    "                scoring=\"f1_micro\",\n",
    "            )\n",
    "        except:\n",
    "            continue\n",
    "        # rpt = cross_validate(OneVsOneClassifier(LogisticRegression(fit_intercept=False,n_jobs=-1,random_state=0)),check,final_data.target,cv=3,n_jobs=-1)\n",
    "    mean_test_val_clf[clf.__class__.__name__].append(\n",
    "        (rpt[\"test_score\"].mean(), rpt[\"test_score\"].std())\n",
    "    )\n",
    "mean_test_val_clf"
   ]
  },
  {
   "cell_type": "code",
   "execution_count": null,
   "id": "57360a66-b97a-47c6-9553-96885b9ff6ee",
   "metadata": {
    "jupyter": {
     "source_hidden": true
    },
    "tags": []
   },
   "outputs": [],
   "source": [
    "def plot_agg_perf(mean_test_val):\n",
    "    plt.figure(figsize=(10, 5))\n",
    "    # for i in range(3):\n",
    "    c, mu, err = zip(*mean_test_val)\n",
    "    nerr = np.asarray(mu) + -1 * np.asarray(err)\n",
    "    perr = np.asarray(mu) + np.asarray(err)\n",
    "    # perr = mu+err\n",
    "    fi = plt.plot(c, perr)\n",
    "    fi = plt.plot(c, mu, label=f\"Mean Test Score in Label\")\n",
    "    fi = plt.plot(c, nerr)\n",
    "    plt.fill_between(\n",
    "        c, perr, nerr, \"r\", alpha=0.5, color=\"g\", animated=True, cmap=\"inferno\"\n",
    "    )\n",
    "    tg = plt.legend(loc=\"lower right\")"
   ]
  },
  {
   "cell_type": "code",
   "execution_count": null,
   "id": "5c4ac338-b4d0-4ccc-9a58-ca9058a9d507",
   "metadata": {
    "jupyter": {
     "source_hidden": true
    },
    "tags": []
   },
   "outputs": [],
   "source": [
    "xgb_params = {\n",
    "    \"base_score\": None,\n",
    "    \"booster\": \"gbtree\",\n",
    "    # 'colsample_bylevel': None,\n",
    "    # 'colsample_bynode': None,\n",
    "    # 'colsample_bytree': None,\n",
    "    \"gamma\": 0,\n",
    "    # 'gpu_id': None,\n",
    "    \"importance_type\": \"total_cover\",\n",
    "    # 'interaction_constraints': None,\n",
    "    \"learning_rate\": 0.2,\n",
    "    \"eval_metric\": \"aucpr\",\n",
    "    \"max_delta_step\": None,\n",
    "    # 'max_depth': 0,\n",
    "    \"min_child_weight\": 1,\n",
    "    # 'missing': np.nan,\n",
    "    \"monotone_constraints\": None,\n",
    "    \"n_estimators\": 100,\n",
    "    # 'updater': 'grow_colmaker',\n",
    "    \"n_jobs\": -1,\n",
    "    \"num_parallel_tree\": None,\n",
    "    \"random_state\": 42,\n",
    "    \"reg_alpha\": None,\n",
    "    \"reg_lambda\": None,\n",
    "    \"scale_pos_weight\": None,\n",
    "    \"subsample\": 0.5,\n",
    "    \"tree_method\": \"approx\",\n",
    "    \"use_label_encoder\": False,\n",
    "    \"validate_parameters\": None,\n",
    "    \"verbosity\": 1,\n",
    "}\n",
    "h2 = XGBClassifier(n_jobs=-1)\n",
    "\n",
    "\n",
    "le = LabelEncoder()\n",
    "\n",
    "# h1.fit(X,y)\n",
    "\n",
    "\n",
    "# h1 = XGBClassifier(n_estimators=50,random_state=0,max_depth=30,n_jobs=-1,eval_metric='mlogloss')\n",
    "h1 = XGBClassifier(n_jobs=-1)\n",
    "\n",
    "\n",
    "fbc = FeatBoostClassifier(\n",
    "    [\n",
    "        h1,\n",
    "        LogisticRegression(\n",
    "            random_state=43,\n",
    "            tol=0.00000001,\n",
    "            max_iter=10000,\n",
    "            n_jobs=-1,\n",
    "            fit_intercept=False,\n",
    "        ),\n",
    "    ],\n",
    "    number_of_folds=3,\n",
    "    max_number_of_features=50,\n",
    "    metric=\"f1\",\n",
    "    verbose=2,\n",
    "    siso_ranking_size=20,\n",
    ")\n",
    "# fbc = FeatBoostClassifier(RandomForestClassifier(n_jobs=-1))"
   ]
  },
  {
   "cell_type": "code",
   "execution_count": null,
   "id": "071a2124-ac7b-4dc1-8900-44dbeb58e0ee",
   "metadata": {
    "jupyter": {
     "source_hidden": true
    },
    "scrolled": true,
    "tags": []
   },
   "outputs": [],
   "source": [
    "with parallel_backend(\"loky\"):\n",
    "    fbc.fit(x__, y)"
   ]
  },
  {
   "cell_type": "code",
   "execution_count": null,
   "id": "bfba77e8-8b6c-424b-aeef-96be5e401a45",
   "metadata": {
    "jupyter": {
     "source_hidden": true
    },
    "tags": []
   },
   "outputs": [],
   "source": [
    "x__ = final_data_indvl.loc[:, nw_noms].to_numpy()"
   ]
  },
  {
   "cell_type": "code",
   "execution_count": null,
   "id": "bb87d2bf-869d-4986-9ca1-8d438b5167cb",
   "metadata": {
    "jupyter": {
     "source_hidden": true
    },
    "tags": []
   },
   "outputs": [],
   "source": [
    "tx__ = fbc.transform(x__)"
   ]
  },
  {
   "cell_type": "code",
   "execution_count": null,
   "id": "4604be4a-8edd-4895-9eed-c597b10096ae",
   "metadata": {
    "jupyter": {
     "source_hidden": true
    },
    "tags": []
   },
   "outputs": [],
   "source": [
    "lcv = LogisticRegressionCV(\n",
    "    Cs=100,\n",
    "    fit_intercept=False,\n",
    "    cv=RepeatedStratifiedKFold(n_repeats=3, n_splits=3),\n",
    "    dual=False,\n",
    "    penalty=\"l2\",\n",
    "    scoring=\"f1_macro\",\n",
    "    solver=\"lbfgs\",\n",
    "    tol=0.0000000001,\n",
    "    max_iter=10000,\n",
    "    # class_weight=None,\n",
    "    n_jobs=-1,\n",
    "    verbose=0,\n",
    "    refit=True,\n",
    "    # intercept_scaling=1.0,\n",
    "    multi_class=\"ovr\",\n",
    "    random_state=42,\n",
    "    l1_ratios=np.linspace(0.0001, 0.9999, num=10),\n",
    ")\n",
    "lcv"
   ]
  },
  {
   "cell_type": "code",
   "execution_count": 195,
   "id": "d5b705d3-d7a2-4838-9ce2-f38b45c9f8a0",
   "metadata": {},
   "outputs": [],
   "source": [
    "medi = medi.loc[:, [\"v_29\", \"v_22\", \"decimal_values_29\", \"decimal_values_22\"]]\n",
    "\n",
    "medi_29 = medi.sort_values(by=\"v_29\", axis=0)\n",
    "\n",
    "medi_29.sort_values(by=\"v_29\", inplace=True)\n",
    "\n",
    "tempdf = pd.DataFrame()\n",
    "\n",
    "tempdf[\"v_29\"] = medi_29.v_29 + medi_29.decimal_values_29\n",
    "\n",
    "tempdf[\"v_22\"] = medi_29.v_22 + medi_29.decimal_values_22"
   ]
  },
  {
   "cell_type": "code",
   "execution_count": 140,
   "id": "b7e0f887-ad4c-4d28-9879-ad6551228fbb",
   "metadata": {
    "jupyter": {
     "source_hidden": true
    },
    "tags": []
   },
   "outputs": [],
   "source": [
    "# # ordinal_data.columns\n",
    "\n",
    "# ordinal_data.v_29 = data.v_29\n",
    "\n",
    "# ordinal_data.v_22 = data.v_22\n",
    "\n",
    "# ordinal_data = separate_floating_value(ordinal_data)\n",
    "\n",
    "# nominal_data = nominal_data.astype(np.uint8)\n",
    "\n",
    "# nominal_data.info()"
   ]
  },
  {
   "cell_type": "code",
   "execution_count": 212,
   "id": "37171ed0-61f5-4321-b257-3668fec243fa",
   "metadata": {},
   "outputs": [
    {
     "data": {
      "text/plain": [
       "v_21    -0.042747\n",
       "v_32    -0.099336\n",
       "v_15     0.012123\n",
       "v_4     -0.019453\n",
       "v_1     -0.012368\n",
       "v_8     -0.057983\n",
       "v_12     0.010495\n",
       "v_25    -0.076107\n",
       "v_20    -0.045745\n",
       "v_18     0.041063\n",
       "v_3      0.064006\n",
       "v_11    -0.000913\n",
       "v_14    -0.005858\n",
       "v_26    -0.036007\n",
       "v_27     0.023907\n",
       "v_30    -0.048670\n",
       "v_9     -0.001762\n",
       "v_31    -0.198527\n",
       "v_28     0.004836\n",
       "v_13    -0.006180\n",
       "v_33     0.029574\n",
       "v_17     0.098969\n",
       "v_19     0.215180\n",
       "v_29     0.297882\n",
       "v_23    -0.019353\n",
       "v_24    -0.030006\n",
       "v_10     0.029318\n",
       "v_5      0.147685\n",
       "v_6      0.278750\n",
       "v_22     0.373071\n",
       "v_0     -0.035275\n",
       "v_7     -0.041763\n",
       "v_2     -0.045008\n",
       "v_16     0.023932\n",
       "v_34    -0.017565\n",
       "v_35     0.006083\n",
       "v_36     0.013118\n",
       "v_37    -0.004187\n",
       "v_38    -0.005791\n",
       "v_39    -0.007229\n",
       "v_40    -0.003273\n",
       "label    1.000000\n",
       "Name: label, dtype: float64"
      ]
     },
     "execution_count": 212,
     "metadata": {},
     "output_type": "execute_result"
    }
   ],
   "source": [
    "# corr_dat = data.corr()\n",
    "corr_dat.label"
   ]
  },
  {
   "cell_type": "code",
   "execution_count": 57,
   "id": "2560ee3e-787f-41f2-9d11-e700dae36c24",
   "metadata": {
    "tags": []
   },
   "outputs": [],
   "source": [
    "from pyvis.network import Network\n",
    "\n",
    "\n",
    "adj_list = gen_adj_list(0.9, data=data)\n",
    "\n",
    "\n",
    "# Adding Nodes\n",
    "def addfnetnodes(nets, data):\n",
    "    for c, f in enumerate(data.columns):\n",
    "        colr = None\n",
    "        if \"nom\" in f:\n",
    "            colr = \"#008000\"\n",
    "        elif \"ord\" in f:\n",
    "            colr = \"#800080\"\n",
    "        elif \"bin\" in f:\n",
    "            colr = \"#FFEC00\"\n",
    "        elif \"label\" in f:\n",
    "            colr = \"#D800FF\"\n",
    "        else:\n",
    "            colr = \"#FF0083\"\n",
    "        nets.add_node(c, label=f, shape=\"circle\", color=colr)\n",
    "    return nets\n",
    "\n",
    "\n",
    "def addfnetedges(nt: Network, nnli):\n",
    "    global adj_list\n",
    "    corr_mat = data.corr()\n",
    "    for nd in adj_list:\n",
    "        if len(adj_list[nd]) > 0:\n",
    "            for conn in adj_list[nd]:\n",
    "                nt.add_edge(nnli[nd], nnli[conn], weight=corr_mat.loc[nd, conn])\n",
    "    return nt\n",
    "\n",
    "\n",
    "def draw_feature_network():\n",
    "    global data, adj_list\n",
    "    fnet = Network(\n",
    "        notebook=False,\n",
    "        heading=\"Clustering of Features\",\n",
    "        height=\"1080px\",\n",
    "        width=\"2000px\",\n",
    "        font_color=\"#46ff00\",\n",
    "        bgcolor=\"#9ed6c8\",\n",
    "    )\n",
    "    fnet = addfnetnodes(fnet, data)\n",
    "    nnli = {f[\"label\"]: f[\"id\"] for f in fnet.nodes}  #  net_node_label_ids\n",
    "    fnet = addfnetedges(fnet, nnli)\n",
    "    fnet.toggle_physics(True)\n",
    "    fnet.set_options(\n",
    "        \"\"\"\n",
    "        const options = {\n",
    "        \"edges\": {\n",
    "        \"color\": {\n",
    "          \"inherit\": true\n",
    "        },\n",
    "        \"selfReferenceSize\": null,\n",
    "        \"selfReference\": {\n",
    "          \"angle\": 0.7853981633974483,\n",
    "          \"renderBehindTheNode\": false\n",
    "        },\n",
    "        \"smooth\": {\n",
    "          \"type\": \"vertical\",\n",
    "          \"forceDirection\": \"vertical\"\n",
    "        }\n",
    "        },\n",
    "        \"interaction\": {\n",
    "        \"hover\": true,\n",
    "        \"multiselect\": true,\n",
    "        \"navigationButtons\": true\n",
    "        },\n",
    "        \"manipulation\": {\n",
    "        \"enabled\": true,\n",
    "        \"initiallyActive\": true\n",
    "        },\n",
    "        \"physics\": {\n",
    "        \"hierarchicalRepulsion\": {\n",
    "          \"centralGravity\": 0,\n",
    "          \"springLength\": 440,\n",
    "          \"springConstant\": 0,\n",
    "          \"nodeDistance\": 90,\n",
    "          \"damping\": 1,\n",
    "          \"avoidOverlap\": 0.46\n",
    "        },\n",
    "        \"maxVelocity\": 1,\n",
    "        \"minVelocity\": 0.01,\n",
    "        \"solver\": \"hierarchicalRepulsion\",\n",
    "        \"timestep\": 0.54,\n",
    "        \"wind\": {\n",
    "          \"x\": 0\n",
    "        }\n",
    "        }\n",
    "        }\n",
    "        \"\"\"\n",
    "    )\n",
    "    return fnet"
   ]
  },
  {
   "cell_type": "code",
   "execution_count": 197,
   "id": "df9795a9-7e38-43fb-8549-5d947d6045c3",
   "metadata": {},
   "outputs": [
    {
     "name": "stdout",
     "output_type": "stream",
     "text": [
      "<class 'pandas.core.frame.DataFrame'>\n",
      "Int64Index: 3796 entries, 0 to 3795\n",
      "Data columns (total 8 columns):\n",
      " #   Column  Non-Null Count  Dtype\n",
      "---  ------  --------------  -----\n",
      " 0   v_1     3796 non-null   int64\n",
      " 1   v_26    3796 non-null   int64\n",
      " 2   v_11    3796 non-null   int64\n",
      " 3   v_14    3796 non-null   int64\n",
      " 4   v_30    3796 non-null   int64\n",
      " 5   v_28    3796 non-null   int64\n",
      " 6   v_9     3796 non-null   int64\n",
      " 7   v_27    3796 non-null   int64\n",
      "dtypes: int64(8)\n",
      "memory usage: 266.9 KB\n"
     ]
    }
   ],
   "source": [
    "binary_data.info()"
   ]
  },
  {
   "cell_type": "code",
   "execution_count": null,
   "id": "a53fb909-968f-45ed-95ed-5033bbab4229",
   "metadata": {
    "tags": []
   },
   "outputs": [
    {
     "data": {
      "image/png": "[encoded data removed]",
      "text/plain": [
       "<Figure size 2160x360 with 1 Axes>"
      ]
     },
     "metadata": {
      "needs_background": "light"
     },
     "output_type": "display_data"
    }
   ],
   "source": [
    "categorical = ordinal + nominal\n",
    "oridinal_categories_total = {}\n",
    "for c in ordinal:\n",
    "    # print(c, len(data[c].unique()))\n",
    "    oridinal_categories_total[c] = len(data[c].unique())\n",
    "fig = plt.figure(figsize=(30, 5))\n",
    "\n",
    "fig = sns.barplot(\n",
    "    x=ordinal,\n",
    "    saturation=1,\n",
    "    y=list(oridinal_categories_total.values()),\n",
    "    label=\"Total Catagories in Each Ordinal Feature\",\n",
    "    color=\"r\",\n",
    ")\n",
    "plt.legend()\n",
    "# plt.table(ordinal)\n",
    "plt.shor()"
   ]
  },
  {
   "cell_type": "markdown",
   "id": "c87e223f-b49c-4864-bcaf-a461c81bdf3e",
   "metadata": {},
   "source": [
    "##### After Removing the decimal Part from the features"
   ]
  },
  {
   "cell_type": "code",
   "execution_count": null,
   "id": "ddcaa251-967c-450c-9c0e-369e4e28a6c2",
   "metadata": {
    "tags": []
   },
   "outputs": [
    {
     "data": {
      "image/png": "[encoded data removed]",
      "text/plain": [
       "<Figure size 2160x360 with 1 Axes>"
      ]
     },
     "metadata": {
      "needs_background": "light"
     },
     "output_type": "display_data"
    }
   ],
   "source": [
    "categorical = ordinal + nominal\n",
    "oridinal_categories_total = {}\n",
    "for c in ordinal_data.columns:\n",
    "    # print(c, len(data[c].unique()))\n",
    "    oridinal_categories_total[c] = len(ordinal_data[c].unique())\n",
    "fig = plt.figure(figsize=(30, 5))\n",
    "\n",
    "fig = sns.barplot(\n",
    "    x=ordinal_data.columns,\n",
    "    saturation=1,\n",
    "    y=list(oridinal_categories_total.values()),\n",
    "    label=\"Total Catagories in Each Ordinal Feature\",\n",
    "    color=\"r\",\n",
    ")\n",
    "# plt.table(ordinal)\n",
    "# fig = plt.title\n",
    "plt.xlabel = \"After CLeanup\"\n",
    "fig = plt.legend()\n",
    "fig = plt.show()"
   ]
  },
  {
   "cell_type": "code",
   "execution_count": null,
   "id": "0b0ce8d2-f45a-4a1f-bce4-0561a47945d8",
   "metadata": {},
   "outputs": [
    {
     "data": {
      "text/html": [
       "<style type=\"text/css\">\n",
       "</style>\n",
       "<table id=\"T_ff749\">\n",
       "  <thead>\n",
       "    <tr>\n",
       "      <th class=\"blank level0\" >&nbsp;</th>\n",
       "      <th id=\"T_ff749_level0_col0\" class=\"col_heading level0 col0\" >v_31</th>\n",
       "      <th id=\"T_ff749_level0_col1\" class=\"col_heading level0 col1\" >v_15</th>\n",
       "      <th id=\"T_ff749_level0_col2\" class=\"col_heading level0 col2\" >v_19</th>\n",
       "      <th id=\"T_ff749_level0_col3\" class=\"col_heading level0 col3\" >v_13</th>\n",
       "      <th id=\"T_ff749_level0_col4\" class=\"col_heading level0 col4\" >v_33</th>\n",
       "      <th id=\"T_ff749_level0_col5\" class=\"col_heading level0 col5\" >v_17</th>\n",
       "      <th id=\"T_ff749_level0_col6\" class=\"col_heading level0 col6\" >v_29</th>\n",
       "      <th id=\"T_ff749_level0_col7\" class=\"col_heading level0 col7\" >v_23</th>\n",
       "      <th id=\"T_ff749_level0_col8\" class=\"col_heading level0 col8\" >v_6</th>\n",
       "      <th id=\"T_ff749_level0_col9\" class=\"col_heading level0 col9\" >v_24</th>\n",
       "      <th id=\"T_ff749_level0_col10\" class=\"col_heading level0 col10\" >v_10</th>\n",
       "      <th id=\"T_ff749_level0_col11\" class=\"col_heading level0 col11\" >v_5</th>\n",
       "      <th id=\"T_ff749_level0_col12\" class=\"col_heading level0 col12\" >v_22</th>\n",
       "      <th id=\"T_ff749_level0_col13\" class=\"col_heading level0 col13\" >v_0</th>\n",
       "      <th id=\"T_ff749_level0_col14\" class=\"col_heading level0 col14\" >decimal_values_29</th>\n",
       "      <th id=\"T_ff749_level0_col15\" class=\"col_heading level0 col15\" >decimal_values_22</th>\n",
       "    </tr>\n",
       "  </thead>\n",
       "  <tbody>\n",
       "    <tr>\n",
       "      <th id=\"T_ff749_level0_row0\" class=\"row_heading level0 row0\" >count</th>\n",
       "      <td id=\"T_ff749_row0_col0\" class=\"data row0 col0\" >48</td>\n",
       "      <td id=\"T_ff749_row0_col1\" class=\"data row0 col1\" >17</td>\n",
       "      <td id=\"T_ff749_row0_col2\" class=\"data row0 col2\" >26</td>\n",
       "      <td id=\"T_ff749_row0_col3\" class=\"data row0 col3\" >22</td>\n",
       "      <td id=\"T_ff749_row0_col4\" class=\"data row0 col4\" >26</td>\n",
       "      <td id=\"T_ff749_row0_col5\" class=\"data row0 col5\" >36</td>\n",
       "      <td id=\"T_ff749_row0_col6\" class=\"data row0 col6\" >26</td>\n",
       "      <td id=\"T_ff749_row0_col7\" class=\"data row0 col7\" >14</td>\n",
       "      <td id=\"T_ff749_row0_col8\" class=\"data row0 col8\" >21</td>\n",
       "      <td id=\"T_ff749_row0_col9\" class=\"data row0 col9\" >22</td>\n",
       "      <td id=\"T_ff749_row0_col10\" class=\"data row0 col10\" >23</td>\n",
       "      <td id=\"T_ff749_row0_col11\" class=\"data row0 col11\" >30</td>\n",
       "      <td id=\"T_ff749_row0_col12\" class=\"data row0 col12\" >26</td>\n",
       "      <td id=\"T_ff749_row0_col13\" class=\"data row0 col13\" >15</td>\n",
       "      <td id=\"T_ff749_row0_col14\" class=\"data row0 col14\" >411</td>\n",
       "      <td id=\"T_ff749_row0_col15\" class=\"data row0 col15\" >403</td>\n",
       "    </tr>\n",
       "  </tbody>\n",
       "</table>\n"
      ],
      "text/plain": [
       "<pandas.io.formats.style.Styler at 0x7f5cde4ca250>"
      ]
     },
     "execution_count": 10,
     "metadata": {},
     "output_type": "execute_result"
    }
   ],
   "source": [
    "# pd\n",
    "temp = pd.DataFrame(\n",
    "    oridinal_categories_total, columns=oridinal_categories_total.keys(), index=[\"count\"]\n",
    ")\n",
    "temp.style"
   ]
  },
  {
   "cell_type": "code",
   "execution_count": null,
   "id": "f4bffcba-3d98-476e-a78b-33d3d44530fe",
   "metadata": {},
   "outputs": [],
   "source": [
    "for c in ordinal_data.columns:\n",
    "    if \"decimal\" not in c:\n",
    "        ordinal_data[c] = ordinal_data[c].astype(np.uint8)"
   ]
  },
  {
   "cell_type": "code",
   "execution_count": null,
   "id": "6248efd1-0fd6-4812-b28b-565582deb4fe",
   "metadata": {
    "tags": []
   },
   "outputs": [],
   "source": [
    "# def print_num_cat(dd):\n",
    "    for c in dd.columns:\n",
    "        print(c,\"\\t|\\t\", len(dd[c].unique()))\n",
    "        print(\"-\"*30)\n",
    "\n",
    "print(\"Binary\")\n",
    "print_num_cat(binary_data)\n",
    "# print(\"-\"*30)\n",
    "print(\"\\n\"*4)\n",
    "\n",
    "print(\"Nominal\")\n",
    "print_num_cat(nominal_data)\n",
    "print(\"\\n\"*4)\n",
    "print(\"Ordinal\")\n",
    "print_num_cat(ordinal_data)"
   ]
  },
  {
   "cell_type": "code",
   "execution_count": null,
   "id": "2d5353d9-560f-4e15-bc55-01279130d2e7",
   "metadata": {},
   "outputs": [
    {
     "data": {
      "text/plain": [
       "(2496,)"
      ]
     },
     "execution_count": 136,
     "metadata": {},
     "output_type": "execute_result"
    }
   ],
   "source": [
    "ordinal_data.decimal_values_22[ordinal_data.decimal_values_22! = 0].shape"
   ]
  },
  {
   "cell_type": "code",
   "execution_count": null,
   "id": "469216b6-f39b-4073-bc01-3a0bc6036cef",
   "metadata": {},
   "outputs": [],
   "source": [
    "fig = plt.figure(figsize=(30, 10))\n",
    "\n",
    "hm = sns.heatmap(data.corr())"
   ]
  },
  {
   "cell_type": "code",
   "execution_count": null,
   "id": "e5ca1bf3-7c8a-4b45-b1a9-56042c562d73",
   "metadata": {},
   "outputs": [],
   "source": [
    "corr_mat = data.corr()"
   ]
  },
  {
   "cell_type": "code",
   "execution_count": null,
   "id": "1c5b7cf6-248d-4c0f-b41e-963207b96ce8",
   "metadata": {},
   "outputs": [],
   "source": [
    "training_target = data.label\n",
    "df = data.drop([\"label\"], axis=1)\n",
    "# len(df.columns)\n",
    "corr_mat"
   ]
  },
  {
   "cell_type": "code",
   "execution_count": 196,
   "id": "bb343b1f-8a78-46da-a258-ac6d74dd66f1",
   "metadata": {},
   "outputs": [
    {
     "name": "stdout",
     "output_type": "stream",
     "text": [
      "<class 'pandas.core.frame.DataFrame'>\n",
      "Int64Index: 3796 entries, 0 to 3795\n",
      "Data columns (total 16 columns):\n",
      " #   Column             Non-Null Count  Dtype  \n",
      "---  ------             --------------  -----  \n",
      " 0   v_31               3796 non-null   uint8  \n",
      " 1   v_15               3796 non-null   uint8  \n",
      " 2   v_19               3796 non-null   uint8  \n",
      " 3   v_13               3796 non-null   uint8  \n",
      " 4   v_33               3796 non-null   uint8  \n",
      " 5   v_17               3796 non-null   uint8  \n",
      " 6   v_29               3796 non-null   uint8  \n",
      " 7   v_23               3796 non-null   uint8  \n",
      " 8   v_6                3796 non-null   uint8  \n",
      " 9   v_24               3796 non-null   uint8  \n",
      " 10  v_10               3796 non-null   uint8  \n",
      " 11  v_5                3796 non-null   uint8  \n",
      " 12  v_22               3796 non-null   uint8  \n",
      " 13  v_0                3796 non-null   uint8  \n",
      " 14  decimal_values_29  3796 non-null   float64\n",
      " 15  decimal_values_22  3796 non-null   float64\n",
      "dtypes: float64(2), uint8(14)\n",
      "memory usage: 140.9 KB\n"
     ]
    }
   ],
   "source": [
    "ordinal_data.info()"
   ]
  },
  {
   "cell_type": "code",
   "execution_count": 178,
   "id": "71e38e8f-457d-4f39-91c1-25a4bfdccd3b",
   "metadata": {},
   "outputs": [],
   "source": [
    "# for c in ordinal+nominal:\n",
    "#     data[c] = data[c].astype('category')\n",
    "# Too soon"
   ]
  },
  {
   "cell_type": "code",
   "execution_count": 68,
   "id": "46cb80b5-0656-41fc-8839-304eefa0adeb",
   "metadata": {},
   "outputs": [],
   "source": [
    "# data_ = pd.read_csv('../data/train.csv',index_col=0)"
   ]
  }
 ],
 "metadata": {
  "kernelspec": {
   "display_name": "Python 3 (ipykernel)",
   "language": "python",
   "name": "python3"
  },
  "language_info": {
   "codemirror_mode": {
    "name": "ipython",
    "version": 3
   },
   "file_extension": ".py",
   "mimetype": "text/x-python",
   "name": "python",
   "nbconvert_exporter": "python",
   "pygments_lexer": "ipython3",
   "version": "3.9.10"
  },
  "widgets": {
   "application/vnd.jupyter.widget-state+json": {
    "state": {},
    "version_major": 2,
    "version_minor": 0
   }
  }
 },
 "nbformat": 4,
 "nbformat_minor": 5
}
