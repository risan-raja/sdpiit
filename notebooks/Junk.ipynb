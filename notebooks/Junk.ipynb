{
 "cells": [
  {
   "cell_type": "code",
   "execution_count": null,
   "id": "6f413b37-355f-4418-85bb-221f0c1cfb55",
   "metadata": {},
   "outputs": [],
   "source": [
    "def nom_MCA(df,y=None,n_=None):\n",
    "    nom_ohe = OneHotEncoder(sparse=False,categories=nominal_categories(df))\n",
    "    enc_mat = nom_ohe.fit_transform(df.astype('int'))\n",
    "    features_out = nom_ohe.get_feature_names_out()\n",
    "    df_enc = pd.DataFrame(enc_mat,columns=features_out)\n",
    "    # enc_df = df_enc\n",
    "    nvc = nominal_value_counts()\n",
    "    for c in df_enc:\n",
    "        stub = c.split('_')\n",
    "        unique_category = int(stub[-1])\n",
    "        # print(unique_category)\n",
    "        suffix_len = 1+len(str(unique_category))\n",
    "        feature = c[:-suffix_len]\n",
    "        unique_category_count = nvc[feature][unique_category]\n",
    "        # print(unique_category_count)\n",
    "        df_enc.loc[:,c] = (df_enc.loc[:,c]/(unique_category_count/nominal_data.shape[0])) - 1\n",
    "    dime = PCA()\n",
    "    if n_:\n",
    "        dime = PCA(n_components=n_,svd_solver='full',random_state=42)\n",
    "    final_nome_t  = dime.fit_transform(df_enc)\n",
    "    return final_nome_t\n",
    "    \n",
    "    \n",
    "def ord_MCA(df,y=None,n_=None):\n",
    "    ord_ohe = OneHotEncoder(sparse=False,categories=ordinal_categories(df))\n",
    "    enc_mat = ord_ohe.fit_transform(df.astype('int'))\n",
    "    features_out = ord_ohe.get_feature_names_out()\n",
    "    df_enc = pd.DataFrame(enc_mat,columns=features_out)\n",
    "    # enc_df = df_enc\n",
    "    ovc = ordinal_value_counts()\n",
    "    for c in df_enc:\n",
    "        stub = c.split('_')\n",
    "        unique_category = int(stub[-1])\n",
    "        # print(unique_category)\n",
    "        suffix_len = 1+len(str(unique_category))\n",
    "        feature = c[:-suffix_len]\n",
    "        unique_category_count = ovc[feature][unique_category]\n",
    "        # print(unique_category_count)\n",
    "        df_enc.loc[:,c] = (df_enc.loc[:,c]/(unique_category_count/ordinal_data.shape[0])) - 1\n",
    "    dime = PCA()\n",
    "    if n_:\n",
    "        dime = PCA(n_components=n_,svd_solver='full',random_state=42)\n",
    "    final_nome_t  = dime.fit_transform(df_enc)\n",
    "    return final_nome_t\n",
    "\n",
    "\n",
    "ordinal_mca = FunctionTransformer(ord_MCA,kw_args={'n_':None})\n",
    "nominal_mca = FunctionTransformer(nom_MCA,kw_args={'n_':None})"
   ]
  },
  {
   "cell_type": "code",
   "execution_count": 185,
   "id": "f4fd7703-1694-4a7a-b0eb-a138e668079b",
   "metadata": {
    "execution": {
     "iopub.execute_input": "2022-09-06T02:32:37.843680Z",
     "iopub.status.busy": "2022-09-06T02:32:37.843299Z",
     "iopub.status.idle": "2022-09-06T02:32:37.852023Z",
     "shell.execute_reply": "2022-09-06T02:32:37.850442Z",
     "shell.execute_reply.started": "2022-09-06T02:32:37.843636Z"
    },
    "tags": []
   },
   "outputs": [
    {
     "data": {
      "text/plain": [
       "2.3316953316953315"
      ]
     },
     "execution_count": 185,
     "metadata": {},
     "output_type": "execute_result"
    }
   ],
   "source": [
    "3796/1628\n"
   ]
  },
  {
   "cell_type": "code",
   "execution_count": 222,
   "id": "2d2ef3a4-1820-41d8-b6c8-e4ef0a38a182",
   "metadata": {
    "execution": {
     "iopub.execute_input": "2022-09-06T02:46:54.880111Z",
     "iopub.status.busy": "2022-09-06T02:46:54.879731Z",
     "iopub.status.idle": "2022-09-06T02:46:54.890943Z",
     "shell.execute_reply": "2022-09-06T02:46:54.889849Z",
     "shell.execute_reply.started": "2022-09-06T02:46:54.880069Z"
    },
    "tags": []
   },
   "outputs": [
    {
     "data": {
      "text/plain": [
       "3.0     2801\n",
       "4.0      333\n",
       "8.0       77\n",
       "10.0      75\n",
       "6.0       75\n",
       "5.0       72\n",
       "12.0      70\n",
       "11.0      66\n",
       "7.0       64\n",
       "9.0       63\n",
       "33.0      57\n",
       "1.0       43\n",
       "Name: nominal__v_21, dtype: int64"
      ]
     },
     "execution_count": 222,
     "metadata": {},
     "output_type": "execute_result"
    }
   ],
   "source": [
    "X_dn.nominal__v_21.value_counts()"
   ]
  },
  {
   "cell_type": "code",
   "execution_count": 8,
   "id": "61ea81ff-b50c-4dbf-ba85-9f17f8d6ec93",
   "metadata": {
    "execution": {
     "iopub.execute_input": "2022-09-06T02:56:12.661525Z",
     "iopub.status.busy": "2022-09-06T02:56:12.661086Z",
     "iopub.status.idle": "2022-09-06T02:56:12.676530Z",
     "shell.execute_reply": "2022-09-06T02:56:12.675566Z",
     "shell.execute_reply.started": "2022-09-06T02:56:12.661477Z"
    },
    "tags": []
   },
   "outputs": [
    {
     "data": {
      "text/plain": [
       "93"
      ]
     },
     "execution_count": 8,
     "metadata": {},
     "output_type": "execute_result"
    }
   ],
   "source": []
  },
  {
   "cell_type": "code",
   "execution_count": 121,
   "id": "16990116-96af-4bb2-bbed-64f286769499",
   "metadata": {
    "execution": {
     "iopub.execute_input": "2022-09-06T01:48:06.843301Z",
     "iopub.status.busy": "2022-09-06T01:48:06.842836Z",
     "iopub.status.idle": "2022-09-06T01:48:06.866126Z",
     "shell.execute_reply": "2022-09-06T01:48:06.864960Z",
     "shell.execute_reply.started": "2022-09-06T01:48:06.843254Z"
    },
    "tags": []
   },
   "outputs": [],
   "source": [
    "vc_train = {x:raw_data[x].value_counts().to_dict() for x in nominal}\n"
   ]
  },
  {
   "cell_type": "code",
   "execution_count": 122,
   "id": "2f981222-a23c-4b9f-8f63-8b82fb2be738",
   "metadata": {
    "execution": {
     "iopub.execute_input": "2022-09-06T01:48:11.234356Z",
     "iopub.status.busy": "2022-09-06T01:48:11.233835Z",
     "iopub.status.idle": "2022-09-06T01:48:12.577993Z",
     "shell.execute_reply": "2022-09-06T01:48:12.577430Z",
     "shell.execute_reply.started": "2022-09-06T01:48:11.234307Z"
    },
    "tags": []
   },
   "outputs": [],
   "source": [
    "def mark_infreq_nom(row):\n",
    "    for c in nominal:\n",
    "        if row[c] in selected_infreq[c]:\n",
    "            row[c] = infreq_slot[c]\n",
    "    return row\n"
   ]
  },
  {
   "cell_type": "code",
   "execution_count": 216,
   "id": "de2c147b-a555-4ff2-8af8-4da160dee101",
   "metadata": {
    "execution": {
     "iopub.execute_input": "2022-09-06T02:44:50.249622Z",
     "iopub.status.busy": "2022-09-06T02:44:50.249245Z",
     "iopub.status.idle": "2022-09-06T02:44:50.262516Z",
     "shell.execute_reply": "2022-09-06T02:44:50.261605Z",
     "shell.execute_reply.started": "2022-09-06T02:44:50.249581Z"
    },
    "tags": []
   },
   "outputs": [
    {
     "data": {
      "text/plain": [
       "nominal__v_12     37\n",
       "nominal__v_18     95\n",
       "nominal__v_20     98\n",
       "nominal__v_21     22\n",
       "nominal__v_25     80\n",
       "nominal__v_3     124\n",
       "nominal__v_32     84\n",
       "nominal__v_4      98\n",
       "dtype: int64"
      ]
     },
     "execution_count": 216,
     "metadata": {},
     "output_type": "execute_result"
    }
   ],
   "source": [
    "raw_data.loc[:,nominal].nunique()"
   ]
  },
  {
   "cell_type": "code",
   "execution_count": 124,
   "id": "546563a8-321c-44b2-bfbe-e51a2b3edb41",
   "metadata": {
    "execution": {
     "iopub.execute_input": "2022-09-06T01:48:27.397294Z",
     "iopub.status.busy": "2022-09-06T01:48:27.396775Z",
     "iopub.status.idle": "2022-09-06T01:48:28.474108Z",
     "shell.execute_reply": "2022-09-06T01:48:28.472752Z",
     "shell.execute_reply.started": "2022-09-06T01:48:27.397246Z"
    },
    "tags": []
   },
   "outputs": [],
   "source": [
    "raw_master = pd.concat([raw_data.loc[:,raw_data_eval.columns],raw_data_eval],ignore_index=True,axis=0)\n",
    "vc_master = {x:raw_master[x].value_counts().to_dict() for x in nominal}\n",
    "vc_train = {x:raw_data[x].value_counts().to_dict() for x in nominal}\n",
    "vc_eval = {x:raw_data_eval[x].value_counts().to_dict() for x in nominal}\n",
    "\n",
    "\n",
    "def count_encode(row):\n",
    "    for c in nominal:\n",
    "        key = row[c]\n",
    "        new_key = vc_master[c][key]\n",
    "        row[c] = new_key\n",
    "    return row\n",
    "\n",
    "raw_master_ = raw_master.copy()\n",
    "raw_data_ = raw_data.copy()\n",
    "raw_data_eval_ = raw_data_eval.copy()\n",
    "raw_data_.loc[:,nominal]=raw_data.loc[:,nominal].apply(count_encode,axis=1).astype('int')\n",
    "raw_master_.loc[:,nominal]=raw_master.loc[:,nominal].apply(count_encode,axis=1).astype('int')\n",
    "raw_data_eval_.loc[:,nominal]=raw_data_eval.loc[:,nominal].apply(count_encode,axis=1).astype('int')\n",
    "\n",
    "def ordinal_encode_nominal(raw_master_,raw_data_,raw_data_eval_):\n",
    "    ordinal_enc = OrdinalEncoder()\n",
    "    ordinal_enc.fit(raw_master_.loc[:,nominal])\n",
    "    raw_data_enc = ordinal_enc.transform(raw_data_.loc[:,nominal])\n",
    "    raw_data_eval_enc = ordinal_enc.transform(raw_data_eval_.loc[:,nominal])\n",
    "    raw_data_.loc[:,nominal] = raw_data_enc.astype('int')\n",
    "    raw_data_eval_.loc[:,nominal] = raw_data_eval_enc.astype('int')\n",
    "    return raw_master_,raw_data_,raw_data_eval_\n",
    "\n",
    "\n",
    "# raw_master_,raw_data_,raw_data_eval_ = ordinal_encode_nominal(raw_master_,raw_data_,raw_data_eval_)"
   ]
  },
  {
   "cell_type": "code",
   "execution_count": 11,
   "id": "09390511-be11-457a-aafc-772baf6ba9d5",
   "metadata": {
    "execution": {
     "iopub.execute_input": "2022-09-05T23:41:11.332683Z",
     "iopub.status.busy": "2022-09-05T23:41:11.332283Z",
     "iopub.status.idle": "2022-09-05T23:41:11.372434Z",
     "shell.execute_reply": "2022-09-05T23:41:11.371456Z",
     "shell.execute_reply.started": "2022-09-05T23:41:11.332641Z"
    },
    "tags": []
   },
   "outputs": [],
   "source": [
    "nominal_ohe_df = pd.get_dummies(raw_data.loc[:,nominal],columns=nominal,drop_first=False)\n",
    "nominal_count_ohe_df = pd.get_dummies(raw_data_.loc[:,nominal],columns=nominal,drop_first=False)"
   ]
  },
  {
   "cell_type": "code",
   "execution_count": 110,
   "id": "2cafa21d-433b-4643-921a-3682682ce90d",
   "metadata": {
    "execution": {
     "iopub.execute_input": "2022-09-06T01:41:48.930820Z",
     "iopub.status.busy": "2022-09-06T01:41:48.930281Z",
     "iopub.status.idle": "2022-09-06T01:41:48.972809Z",
     "shell.execute_reply": "2022-09-06T01:41:48.971639Z",
     "shell.execute_reply.started": "2022-09-06T01:41:48.930770Z"
    },
    "tags": []
   },
   "outputs": [],
   "source": [
    "# raw_data_.loc[:,nominal]/5424\n",
    "class_labels = [0,1,2]\n",
    "vc_i = {x:{} for x in range(3)}\n",
    "for cl in class_labels:\n",
    "    cp = raw_data[raw_data.target==cl]\n",
    "    cn = raw_data[raw_data.target!=cl]\n",
    "    vc_p = {x:{} for x in nominal }\n",
    "    vc_n = {x:{} for x in nominal }\n",
    "    for c in nominal:\n",
    "        vc_p[c] = cp[c].value_counts().to_dict()        \n",
    "        vc_n[c] = cn[c].value_counts().to_dict()\n",
    "    vc_i[cl]['p'] = vc_p\n",
    "    vc_i[cl]['n'] = vc_n\n",
    "raw_data.target.value_counts()\n",
    "N = raw_data.shape[0]\n",
    "Np_Nn = {1:(1863,N-1863),2:(690,N-690),0:(1243,N-1243)}\n",
    "for cl in vc_i:\n",
    "    Np , Nn = Np_Nn[cl]\n",
    "    # vc_i[cl]['p']\n",
    "    for c in vc_i[cl]['p']:\n",
    "        for k in vc_i[cl]['p'][c]:\n",
    "            vc_i[cl]['p'][c][k] = vc_i[cl]['p'][c][k]/vc_train[c][k]\n",
    "        for k in vc_i[cl]['n'][c]:\n",
    "            vc_i[cl]['n'][c][k] = vc_i[cl]['n'][c][k]/vc_train[c][k]    \n",
    "            \n",
    "# for cl in vc_i:\n",
    "positive = {cl: vc_i[cl]['p'] for cl in vc_i}    \n",
    "negative = {cl: vc_i[cl]['n'] for cl in vc_i}    \n",
    "#  = vc_i[cl]['n']\n"
   ]
  },
  {
   "cell_type": "code",
   "execution_count": 228,
   "id": "059c025b-ebb8-4cea-9565-5d2e0f92fac5",
   "metadata": {
    "execution": {
     "iopub.execute_input": "2022-09-06T02:48:15.450636Z",
     "iopub.status.busy": "2022-09-06T02:48:15.450171Z",
     "iopub.status.idle": "2022-09-06T02:48:16.702258Z",
     "shell.execute_reply": "2022-09-06T02:48:16.701617Z",
     "shell.execute_reply.started": "2022-09-06T02:48:15.450591Z"
    },
    "tags": []
   },
   "outputs": [
    {
     "data": {
      "text/plain": [
       "nominal__v_12    0.01\n",
       "nominal__v_18    0.05\n",
       "nominal__v_20    0.05\n",
       "nominal__v_21    0.01\n",
       "nominal__v_25    0.04\n",
       "nominal__v_3     0.05\n",
       "nominal__v_32    0.07\n",
       "nominal__v_4     0.08\n",
       "Name: target, dtype: float64"
      ]
     },
     "execution_count": 228,
     "metadata": {},
     "output_type": "execute_result"
    }
   ],
   "source": [
    "cramer(raw_data,nominal)"
   ]
  },
  {
   "cell_type": "code",
   "execution_count": 43,
   "id": "b447c1cb-2dab-4e35-9593-81870852c75c",
   "metadata": {
    "execution": {
     "iopub.execute_input": "2022-09-05T13:20:04.484938Z",
     "iopub.status.busy": "2022-09-05T13:20:04.484513Z",
     "iopub.status.idle": "2022-09-05T13:20:04.498836Z",
     "shell.execute_reply": "2022-09-05T13:20:04.497588Z",
     "shell.execute_reply.started": "2022-09-05T13:20:04.484893Z"
    },
    "tags": []
   },
   "outputs": [],
   "source": [
    "j_ohe = {x:sklearn.neighbors. for x in nominal_ohe.columns}\n",
    "j_ohe1 = {x:0 for x in nominal_count_ohe.columns}"
   ]
  },
  {
   "cell_type": "code",
   "execution_count": 49,
   "id": "e2203601-ca71-436e-aece-e944507f658b",
   "metadata": {
    "execution": {
     "iopub.execute_input": "2022-09-05T13:32:59.685772Z",
     "iopub.status.busy": "2022-09-05T13:32:59.685361Z",
     "iopub.status.idle": "2022-09-05T13:33:04.312699Z",
     "shell.execute_reply": "2022-09-05T13:33:04.312125Z",
     "shell.execute_reply.started": "2022-09-05T13:32:59.685729Z"
    },
    "tags": []
   },
   "outputs": [],
   "source": [
    "import scipy.stats as ss\n",
    "def cramers_v(x, y):\n",
    "    confusion_matrix = pd.crosstab(x,y)\n",
    "    chi2 = ss.chi2_contingency(confusion_matrix)[0]\n",
    "    n = confusion_matrix.sum().sum()\n",
    "    phi2 = chi2/n\n",
    "    r,k = confusion_matrix.shape\n",
    "    phi2corr = max(0, phi2-((k-1)*(r-1))/(n-1))\n",
    "    rcorr = r-((r-1)**2)/(n-1)\n",
    "    kcorr = k-((k-1)**2)/(n-1)\n",
    "    return np.sqrt(phi2corr/min((kcorr-1),(rcorr-1)))\n",
    "y = raw_data.target\n",
    "# cramers_v(nominal_ohe,y)\n",
    "j_ohe = {x:cramers_v(nominal_ohe[x],y) for x in nominal_ohe.columns}\n",
    "j_ohe1 = {x:cramers_v(nominal_count_ohe[x],y) for x in nominal_count_ohe.columns}"
   ]
  },
  {
   "cell_type": "code",
   "execution_count": 55,
   "id": "bb9d59c3-c8fb-4d8d-a095-d6b1f9ce85e3",
   "metadata": {
    "execution": {
     "iopub.execute_input": "2022-09-05T13:35:16.077970Z",
     "iopub.status.busy": "2022-09-05T13:35:16.077564Z",
     "iopub.status.idle": "2022-09-05T13:35:16.093255Z",
     "shell.execute_reply": "2022-09-05T13:35:16.092231Z",
     "shell.execute_reply.started": "2022-09-05T13:35:16.077927Z"
    },
    "tags": []
   },
   "outputs": [
    {
     "data": {
      "text/plain": [
       "nominal__v_32_36    0.201769\n",
       "nominal__v_32_38    0.179628\n",
       "nominal__v_4_39     0.166739\n",
       "nominal__v_4_26     0.153747\n",
       "nominal__v_25_33    0.147906\n",
       "                      ...   \n",
       "nominal__v_4_93          NaN\n",
       "nominal__v_4_94          NaN\n",
       "nominal__v_4_95          NaN\n",
       "nominal__v_4_96          NaN\n",
       "nominal__v_4_97          NaN\n",
       "Length: 638, dtype: float64"
      ]
     },
     "execution_count": 55,
     "metadata": {},
     "output_type": "execute_result"
    }
   ],
   "source": [
    "pd.Series(j_ohe,index = nominal_ohe.columns).sort_values(ascending=False)\n",
    "pd.Series(j_ohe1,index = nominal_ohe.columns).sort_values(ascending=False)"
   ]
  },
  {
   "cell_type": "code",
   "execution_count": null,
   "id": "d7e3ca68-306a-4377-8b78-8539d7292ac5",
   "metadata": {},
   "outputs": [],
   "source": []
  },
  {
   "cell_type": "code",
   "execution_count": null,
   "id": "bdd4eaa8-b9f9-495b-94ce-106507a7e789",
   "metadata": {},
   "outputs": [],
   "source": [
    "from sklearn.manifold import *\n",
    "\n",
    "kpca_cols  = make_column_selector(pattern='binary__*|nominal__*|ordinal__*|bin_*|ord_*')\n",
    "ohe_cols = make_column_selector(pattern='nominal__*')\n",
    "\n",
    "kernel_pca = KernelPCA(kernel='cosine',random_state=42,eigen_solver='dense',n_jobs=-1,fit_inverse_transform=False)\n",
    "isomap = Isomap(n_components=2,eigen_solver='dense',n_jobs=-1,)\n",
    "embedding = LocallyLinearEmbedding(n_jobs=-1,random_state=42,max_iter=1000,n_neighbors=100,method='modified')\n",
    "\"\"\"\n",
    "ColumnTransformer\n",
    "\"\"\"\n",
    "\n",
    "trf = ColumnTransformer([\n",
    "    ('kernel_pca',OneHotEncoder(sparse=False),ohe_cols),\n",
    "    ('stdscl',make_pipeline(StandardScaler()),make_column_selector(pattern='ratio__*'))\n",
    "],sparse_threshold=0, remainder='passthrough',n_jobs=-1)\n",
    "# embedding = Isomap()\n",
    "iso_tf = make_pipeline(trf,embedding,memory=CACHE_)\n",
    "X = raw_data.drop(['target'],axis=1)\n",
    "y = raw_data.target\n",
    "with parallel_backend('loky'):\n",
    "    X_t = iso_tf.fit_transform(X)\n",
    "# make_pipeline()\n",
    "\n",
    "fig, ax = plt.subplots(1,1,figsize=(10,10))\n",
    "disp = ax.scatter(X_t[:,0],X_t[:,1],c=y,cmap='plasma')"
   ]
  },
  {
   "cell_type": "code",
   "execution_count": null,
   "id": "bdae9fb1-40a5-4381-aa05-0b2c1b3e5d6e",
   "metadata": {},
   "outputs": [],
   "source": [
    "# X= raw_data.drop(['target'],axis=1)\n",
    "Q = pd.get_dummies(raw_data,columns=nominal+ordinal,drop_first=True,)\n",
    "cols= Q.columns\n",
    "s_cols = [c for c in cols if 'nominal' in c or 'ordinal' in c]\n",
    "X = Q.loc[:, s_cols]\n",
    "# X = nominal_data\n",
    "# X = raw_data.loc[:,nominal+ordinal+binary+['bin_literal','ord_norm','binary_sum']+ratios]\n",
    "\n",
    "y = raw_data.target\n",
    "clf = DecisionTreeClassifier(random_state=42, class_weight='balanced')\n",
    "clf.fit(X,y)\n",
    "from sklearn import inspection\n",
    "with parallel_backend('threading'):\n",
    "    permutation_importance = inspection.permutation_importance(clf,X,y,scoring='f1_macro',random_state=42,n_jobs=-1,n_repeats=2)\n",
    "\n",
    "imp_mean_pd = pd.Series(permutation_importance['importances_mean'],index=X.columns)\n",
    "imp_std_pd = pd.Series(permutation_importance['importances_std'],index=X.columns)\n",
    "\n",
    "importance = pd.DataFrame()\n",
    "importance['mean'] = imp_mean_pd\n",
    "importance['std'] = imp_std_pd\n",
    "importance = importance.sort_values(by='mean',ascending=False)\n",
    "importance[importance['mean']>0.004]\n",
    "importance\n",
    "f_ohe_cols = list(importance[importance['mean']>0.02].index)\n",
    "X = Q.loc[:, f_ohe_cols]\n",
    "\n",
    "\n",
    "f_ohe_cols = list(importance[importance['mean']>0.000001].index)\n",
    "X = Q.loc[:, f_ohe_cols]\n",
    "\n",
    "# X = Q.loc[:, f_ohe_cols]\n",
    "y = raw_data.target\n",
    "model = DecisionTreeClassifier(class_weight='balanced',random_state=42)\n",
    "model = BernoulliNB(binarize=False,fit_prior=False,alpha=0.1234401)\n",
    "model = LogisticRegressionCV(class_weight='balanced',max_iter=100000)\n",
    "# pca = RFE(estimator=LogisticRegression(class_weight='balanced',max_iter=100000),n_features_to_select=250)\n",
    "pca = PCA()\n",
    "# model = RandomForestClassifier(random_state=42,class_weight='balanced_subsample')\n",
    "clf = make_pipeline(pca,OneVsRestClassifier(model),memory=Memory(DATA_SAVE_PATH,verbose=0))\n",
    "scores = cross_validate(clf,X,y,cv=RepeatedStratifiedKFold(n_splits=2,n_repeats=2),n_jobs=-1,scoring='f1_macro',return_train_score=True)\n",
    "scores['test_score'].mean()"
   ]
  },
  {
   "cell_type": "code",
   "execution_count": null,
   "id": "d9226f9f-ae04-486f-986e-cda12000decb",
   "metadata": {},
   "outputs": [],
   "source": [
    "X = raw_data.loc[:,high_variable_f[3]]\n",
    "y = raw_data.target\n",
    "X_train, X_test, y_train, y_test = gen_train_test(X,y, 0.2)\n",
    "calibration = CalibratedClassifierCV(clf,cv=5,n_jobs=-1,ensemble=True,method='sigmoid')\n",
    "calibration.fit(X_train,y_train)\n",
    "clf.fit(X_train,y_train)\n",
    "calibrated_pred = calibration.predict(X_test)\n",
    "y_pred = clf.predict(X_test)\n",
    "fig,ax = plt.subplots(2,1,figsize=(10,10))\n",
    "plt.style.use('fivethirtyeight')\n",
    "disp = ConfusionMatrixDisplay.from_predictions(y_test,calibrated_pred,ax=ax[0])\n",
    "disp = ConfusionMatrixDisplay.from_predictions(y_test,y_pred,ax=ax[1])\n",
    "# scores = cr(clf,X,y,cv=RepeatedStratifiedKFold(**FOLDS),n_jobs=-1,scoring='f1_macro',return_train_score=True)\n",
    "\n",
    "print(classification_report(y_test,calibrated_pred))\n",
    "print(classification_report(y_test,y_pred))"
   ]
  },
  {
   "cell_type": "markdown",
   "id": "18bc08b3-8f03-4bad-bfca-68bbe4e8d38a",
   "metadata": {
    "tags": []
   },
   "source": [
    "### Sort Columns by Alphabetical Order to group similar Data Types"
   ]
  },
  {
   "cell_type": "code",
   "execution_count": 10,
   "id": "2410ef54-6d0a-4952-9252-eb873c98a76e",
   "metadata": {
    "tags": []
   },
   "outputs": [],
   "source": [
    "@run_if_refresh\n",
    "def sort_columns_by_name(raw_data=raw_data, raw_data_eval=raw_data_eval):\n",
    "    raw_data = raw_data.sort_index(axis=1)\n",
    "    raw_data_eval = raw_data_eval.sort_index(axis=1)\n",
    "    raw_data.to_parquet(DATA_SAVE_PATH + \"train.parquet\")\n",
    "    raw_data_eval.to_parquet(DATA_SAVE_PATH + \"test.parquet\")\n",
    "\n",
    "\n",
    "sort_columns_by_name()\n",
    "\n",
    "raw_data, raw_data_eval = reload_raw_data()"
   ]
  },
  {
   "cell_type": "code",
   "execution_count": 11,
   "id": "fba8c109-7383-4852-8f1b-d95ab55703f5",
   "metadata": {},
   "outputs": [
    {
     "name": "stdout",
     "output_type": "stream",
     "text": [
      "              precision    recall  f1-score   support\n",
      "\n",
      "           0       0.82      0.61      0.70       497\n",
      "           1       0.80      0.81      0.81       746\n",
      "           2       0.42      0.60      0.49       276\n",
      "\n",
      "    accuracy                           0.71      1519\n",
      "   macro avg       0.68      0.67      0.67      1519\n",
      "weighted avg       0.74      0.71      0.71      1519\n",
      "\n",
      "F1_Train 0.9800700126137107\n",
      "F1_Test 0.6793181849428934\n"
     ]
    }
   ],
   "source": [
    "baseline(raw_data)"
   ]
  },
  {
   "cell_type": "markdown",
   "id": "2c939944-1b95-4217-9bfc-d94c7d1e2f59",
   "metadata": {
    "tags": []
   },
   "source": [
    "### Ordinal Encoding all Nominal Categories to Reduce <br> Categorical distance and making them Uniform"
   ]
  },
  {
   "cell_type": "code",
   "execution_count": 12,
   "id": "4ff6a61c-20cb-48f3-864d-fd7d4190dece",
   "metadata": {},
   "outputs": [
    {
     "data": {
      "text/plain": [
       "nominal__v_12     37\n",
       "nominal__v_18     95\n",
       "nominal__v_20     98\n",
       "nominal__v_21     22\n",
       "nominal__v_25     80\n",
       "nominal__v_3     124\n",
       "nominal__v_32     84\n",
       "nominal__v_4      98\n",
       "dtype: int64"
      ]
     },
     "execution_count": 12,
     "metadata": {},
     "output_type": "execute_result"
    }
   ],
   "source": [
    "# for c in nominal:\n",
    "# print(sorted(raw_data[c].unique()))\n",
    "nominal_data.nunique()"
   ]
  },
  {
   "cell_type": "code",
   "execution_count": 13,
   "id": "abd284c4-9e6c-41a4-bbf5-822715302d5a",
   "metadata": {},
   "outputs": [],
   "source": [
    "@run_if_refresh\n",
    "def ordinally_encode_nominal_data():\n",
    "    ordinal_enc = OrdinalEncoder(handle_unknown=\"use_encoded_value\", unknown_value=125)\n",
    "    nominal_enc_data = ordinal_enc.fit_transform(raw_data.loc[:, nominal])\n",
    "    nominal_enc_data_eval = ordinal_enc.transform(raw_data_eval.loc[:, nominal])\n",
    "    raw_data.loc[:, nominal] = nominal_enc_data\n",
    "    raw_data_eval.loc[:, nominal] = nominal_enc_data_eval\n",
    "    write_raw_data(raw_data, raw_data_eval)\n",
    "\n",
    "\n",
    "ordinally_encode_nominal_data()\n",
    "raw_data, raw_data_eval = reload_raw_data()"
   ]
  },
  {
   "cell_type": "code",
   "execution_count": 14,
   "id": "3a1e4565-815a-47f6-80c2-f767549745af",
   "metadata": {},
   "outputs": [
    {
     "name": "stdout",
     "output_type": "stream",
     "text": [
      "              precision    recall  f1-score   support\n",
      "\n",
      "           0       0.83      0.62      0.71       497\n",
      "           1       0.80      0.81      0.80       746\n",
      "           2       0.43      0.62      0.50       276\n",
      "\n",
      "    accuracy                           0.71      1519\n",
      "   macro avg       0.69      0.68      0.67      1519\n",
      "weighted avg       0.74      0.71      0.72      1519\n",
      "\n",
      "F1_Train 0.9792954494260291\n",
      "F1_Test 0.6789753846355794\n"
     ]
    }
   ],
   "source": [
    "baseline(raw_data)"
   ]
  },
  {
   "cell_type": "code",
   "execution_count": 15,
   "id": "89202ae1-15f1-463a-928c-b0068bfc1f56",
   "metadata": {},
   "outputs": [
    {
     "data": {
      "text/html": [
       "<div>\n",
       "<style scoped>\n",
       "    .dataframe tbody tr th:only-of-type {\n",
       "        vertical-align: middle;\n",
       "    }\n",
       "\n",
       "    .dataframe tbody tr th {\n",
       "        vertical-align: top;\n",
       "    }\n",
       "\n",
       "    .dataframe thead th {\n",
       "        text-align: right;\n",
       "    }\n",
       "</style>\n",
       "<table border=\"1\" class=\"dataframe\">\n",
       "  <thead>\n",
       "    <tr style=\"text-align: right;\">\n",
       "      <th></th>\n",
       "      <th>binary__v_1</th>\n",
       "      <th>binary__v_11</th>\n",
       "      <th>binary__v_14</th>\n",
       "      <th>binary__v_26</th>\n",
       "      <th>binary__v_27</th>\n",
       "      <th>binary__v_28</th>\n",
       "      <th>binary__v_30</th>\n",
       "      <th>binary__v_9</th>\n",
       "      <th>nominal__v_12</th>\n",
       "      <th>nominal__v_18</th>\n",
       "      <th>nominal__v_20</th>\n",
       "      <th>nominal__v_21</th>\n",
       "      <th>nominal__v_25</th>\n",
       "      <th>nominal__v_3</th>\n",
       "      <th>nominal__v_32</th>\n",
       "      <th>nominal__v_4</th>\n",
       "      <th>ordinal__v_0</th>\n",
       "      <th>ordinal__v_10</th>\n",
       "      <th>ordinal__v_13</th>\n",
       "      <th>ordinal__v_15</th>\n",
       "      <th>ordinal__v_17</th>\n",
       "      <th>ordinal__v_19</th>\n",
       "      <th>ordinal__v_22</th>\n",
       "      <th>ordinal__v_23</th>\n",
       "      <th>ordinal__v_24</th>\n",
       "      <th>ordinal__v_29</th>\n",
       "      <th>ordinal__v_31</th>\n",
       "      <th>ordinal__v_33</th>\n",
       "      <th>ordinal__v_5</th>\n",
       "      <th>ordinal__v_6</th>\n",
       "      <th>ratio__v_16</th>\n",
       "      <th>ratio__v_2</th>\n",
       "      <th>ratio__v_34</th>\n",
       "      <th>ratio__v_35</th>\n",
       "      <th>ratio__v_36</th>\n",
       "      <th>ratio__v_37</th>\n",
       "      <th>ratio__v_38</th>\n",
       "      <th>ratio__v_39</th>\n",
       "      <th>ratio__v_40</th>\n",
       "      <th>ratio__v_7</th>\n",
       "      <th>ratio__v_8</th>\n",
       "      <th>target</th>\n",
       "    </tr>\n",
       "  </thead>\n",
       "  <tbody>\n",
       "    <tr>\n",
       "      <th>count</th>\n",
       "      <td>3796.000000</td>\n",
       "      <td>3796.000000</td>\n",
       "      <td>3796.000000</td>\n",
       "      <td>3796.000000</td>\n",
       "      <td>3796.000000</td>\n",
       "      <td>3796.000000</td>\n",
       "      <td>3796.000000</td>\n",
       "      <td>3796.000000</td>\n",
       "      <td>3796.000000</td>\n",
       "      <td>3796.000000</td>\n",
       "      <td>3796.000000</td>\n",
       "      <td>3796.000000</td>\n",
       "      <td>3796.000000</td>\n",
       "      <td>3796.000000</td>\n",
       "      <td>3796.000000</td>\n",
       "      <td>3796.000000</td>\n",
       "      <td>3796.000000</td>\n",
       "      <td>3796.000000</td>\n",
       "      <td>3796.000000</td>\n",
       "      <td>3796.000000</td>\n",
       "      <td>3796.000000</td>\n",
       "      <td>3796.000000</td>\n",
       "      <td>3796.000000</td>\n",
       "      <td>3796.000000</td>\n",
       "      <td>3796.000000</td>\n",
       "      <td>3796.000000</td>\n",
       "      <td>3796.000000</td>\n",
       "      <td>3796.000000</td>\n",
       "      <td>3796.000000</td>\n",
       "      <td>3796.000000</td>\n",
       "      <td>3796.000000</td>\n",
       "      <td>3796.000000</td>\n",
       "      <td>3796.000000</td>\n",
       "      <td>3796.000000</td>\n",
       "      <td>3796.000000</td>\n",
       "      <td>3796.000000</td>\n",
       "      <td>3796.000000</td>\n",
       "      <td>3796.000000</td>\n",
       "      <td>3796.000000</td>\n",
       "      <td>3796.000000</td>\n",
       "      <td>3796.000000</td>\n",
       "      <td>3796.00000</td>\n",
       "    </tr>\n",
       "    <tr>\n",
       "      <th>mean</th>\n",
       "      <td>0.911486</td>\n",
       "      <td>0.466280</td>\n",
       "      <td>0.179399</td>\n",
       "      <td>0.262118</td>\n",
       "      <td>0.731560</td>\n",
       "      <td>0.040569</td>\n",
       "      <td>0.463646</td>\n",
       "      <td>0.374605</td>\n",
       "      <td>1.340885</td>\n",
       "      <td>30.722339</td>\n",
       "      <td>46.838514</td>\n",
       "      <td>1.250000</td>\n",
       "      <td>32.680717</td>\n",
       "      <td>43.471812</td>\n",
       "      <td>24.723656</td>\n",
       "      <td>45.106955</td>\n",
       "      <td>0.998156</td>\n",
       "      <td>7.064015</td>\n",
       "      <td>1.600896</td>\n",
       "      <td>2.609062</td>\n",
       "      <td>9.165701</td>\n",
       "      <td>5.562171</td>\n",
       "      <td>10.794521</td>\n",
       "      <td>0.975764</td>\n",
       "      <td>1.392255</td>\n",
       "      <td>11.162803</td>\n",
       "      <td>7.134089</td>\n",
       "      <td>7.127239</td>\n",
       "      <td>8.934932</td>\n",
       "      <td>5.281876</td>\n",
       "      <td>0.835901</td>\n",
       "      <td>2.041333</td>\n",
       "      <td>5.341149</td>\n",
       "      <td>50.674658</td>\n",
       "      <td>26.212065</td>\n",
       "      <td>20.837197</td>\n",
       "      <td>31.276607</td>\n",
       "      <td>40.210485</td>\n",
       "      <td>3.278978</td>\n",
       "      <td>12.394810</td>\n",
       "      <td>3.436249</td>\n",
       "      <td>0.85432</td>\n",
       "    </tr>\n",
       "    <tr>\n",
       "      <th>std</th>\n",
       "      <td>0.284079</td>\n",
       "      <td>0.498927</td>\n",
       "      <td>0.383737</td>\n",
       "      <td>0.439844</td>\n",
       "      <td>0.443206</td>\n",
       "      <td>0.197316</td>\n",
       "      <td>0.498742</td>\n",
       "      <td>0.484084</td>\n",
       "      <td>3.988022</td>\n",
       "      <td>18.378995</td>\n",
       "      <td>30.113549</td>\n",
       "      <td>2.969398</td>\n",
       "      <td>25.852215</td>\n",
       "      <td>21.430502</td>\n",
       "      <td>22.510376</td>\n",
       "      <td>25.413765</td>\n",
       "      <td>2.309686</td>\n",
       "      <td>3.079682</td>\n",
       "      <td>3.216409</td>\n",
       "      <td>2.576362</td>\n",
       "      <td>4.670733</td>\n",
       "      <td>3.757691</td>\n",
       "      <td>5.532030</td>\n",
       "      <td>2.249038</td>\n",
       "      <td>2.866872</td>\n",
       "      <td>5.213275</td>\n",
       "      <td>7.887596</td>\n",
       "      <td>3.256676</td>\n",
       "      <td>4.507494</td>\n",
       "      <td>3.674661</td>\n",
       "      <td>3.109413</td>\n",
       "      <td>2.516779</td>\n",
       "      <td>3.507388</td>\n",
       "      <td>29.330820</td>\n",
       "      <td>14.929649</td>\n",
       "      <td>11.984063</td>\n",
       "      <td>17.847942</td>\n",
       "      <td>22.466458</td>\n",
       "      <td>2.618851</td>\n",
       "      <td>3.414303</td>\n",
       "      <td>4.577644</td>\n",
       "      <td>0.69866</td>\n",
       "    </tr>\n",
       "    <tr>\n",
       "      <th>min</th>\n",
       "      <td>0.000000</td>\n",
       "      <td>0.000000</td>\n",
       "      <td>0.000000</td>\n",
       "      <td>0.000000</td>\n",
       "      <td>0.000000</td>\n",
       "      <td>0.000000</td>\n",
       "      <td>0.000000</td>\n",
       "      <td>0.000000</td>\n",
       "      <td>0.000000</td>\n",
       "      <td>0.000000</td>\n",
       "      <td>0.000000</td>\n",
       "      <td>0.000000</td>\n",
       "      <td>0.000000</td>\n",
       "      <td>0.000000</td>\n",
       "      <td>0.000000</td>\n",
       "      <td>0.000000</td>\n",
       "      <td>0.000000</td>\n",
       "      <td>0.000000</td>\n",
       "      <td>0.000000</td>\n",
       "      <td>0.000000</td>\n",
       "      <td>0.000000</td>\n",
       "      <td>0.000000</td>\n",
       "      <td>0.000000</td>\n",
       "      <td>0.000000</td>\n",
       "      <td>0.000000</td>\n",
       "      <td>0.000000</td>\n",
       "      <td>0.000000</td>\n",
       "      <td>0.000000</td>\n",
       "      <td>0.000000</td>\n",
       "      <td>0.000000</td>\n",
       "      <td>-4.060000</td>\n",
       "      <td>-0.800000</td>\n",
       "      <td>0.000000</td>\n",
       "      <td>0.000000</td>\n",
       "      <td>0.000000</td>\n",
       "      <td>0.000000</td>\n",
       "      <td>0.000000</td>\n",
       "      <td>0.000000</td>\n",
       "      <td>0.000000</td>\n",
       "      <td>7.600000</td>\n",
       "      <td>1.000000</td>\n",
       "      <td>0.00000</td>\n",
       "    </tr>\n",
       "    <tr>\n",
       "      <th>25%</th>\n",
       "      <td>1.000000</td>\n",
       "      <td>0.000000</td>\n",
       "      <td>0.000000</td>\n",
       "      <td>0.000000</td>\n",
       "      <td>0.000000</td>\n",
       "      <td>0.000000</td>\n",
       "      <td>0.000000</td>\n",
       "      <td>0.000000</td>\n",
       "      <td>0.000000</td>\n",
       "      <td>18.000000</td>\n",
       "      <td>17.000000</td>\n",
       "      <td>0.000000</td>\n",
       "      <td>4.000000</td>\n",
       "      <td>28.000000</td>\n",
       "      <td>0.000000</td>\n",
       "      <td>18.000000</td>\n",
       "      <td>0.000000</td>\n",
       "      <td>6.000000</td>\n",
       "      <td>0.000000</td>\n",
       "      <td>1.000000</td>\n",
       "      <td>7.000000</td>\n",
       "      <td>4.000000</td>\n",
       "      <td>11.000000</td>\n",
       "      <td>0.000000</td>\n",
       "      <td>0.000000</td>\n",
       "      <td>11.000000</td>\n",
       "      <td>2.000000</td>\n",
       "      <td>6.000000</td>\n",
       "      <td>6.000000</td>\n",
       "      <td>3.000000</td>\n",
       "      <td>-1.700000</td>\n",
       "      <td>0.500000</td>\n",
       "      <td>3.000000</td>\n",
       "      <td>25.000000</td>\n",
       "      <td>13.000000</td>\n",
       "      <td>11.000000</td>\n",
       "      <td>16.000000</td>\n",
       "      <td>21.750000</td>\n",
       "      <td>1.000000</td>\n",
       "      <td>9.400000</td>\n",
       "      <td>1.000000</td>\n",
       "      <td>0.00000</td>\n",
       "    </tr>\n",
       "    <tr>\n",
       "      <th>50%</th>\n",
       "      <td>1.000000</td>\n",
       "      <td>0.000000</td>\n",
       "      <td>0.000000</td>\n",
       "      <td>0.000000</td>\n",
       "      <td>1.000000</td>\n",
       "      <td>0.000000</td>\n",
       "      <td>0.000000</td>\n",
       "      <td>0.000000</td>\n",
       "      <td>0.000000</td>\n",
       "      <td>25.000000</td>\n",
       "      <td>44.000000</td>\n",
       "      <td>0.000000</td>\n",
       "      <td>34.000000</td>\n",
       "      <td>44.000000</td>\n",
       "      <td>28.000000</td>\n",
       "      <td>46.000000</td>\n",
       "      <td>0.000000</td>\n",
       "      <td>6.000000</td>\n",
       "      <td>0.000000</td>\n",
       "      <td>1.000000</td>\n",
       "      <td>8.000000</td>\n",
       "      <td>6.000000</td>\n",
       "      <td>12.000000</td>\n",
       "      <td>0.000000</td>\n",
       "      <td>0.000000</td>\n",
       "      <td>12.000000</td>\n",
       "      <td>4.000000</td>\n",
       "      <td>6.000000</td>\n",
       "      <td>8.000000</td>\n",
       "      <td>5.000000</td>\n",
       "      <td>0.790000</td>\n",
       "      <td>1.400000</td>\n",
       "      <td>5.000000</td>\n",
       "      <td>50.000000</td>\n",
       "      <td>26.000000</td>\n",
       "      <td>21.000000</td>\n",
       "      <td>31.000000</td>\n",
       "      <td>41.000000</td>\n",
       "      <td>3.000000</td>\n",
       "      <td>12.400000</td>\n",
       "      <td>1.000000</td>\n",
       "      <td>1.00000</td>\n",
       "    </tr>\n",
       "    <tr>\n",
       "      <th>75%</th>\n",
       "      <td>1.000000</td>\n",
       "      <td>1.000000</td>\n",
       "      <td>0.000000</td>\n",
       "      <td>1.000000</td>\n",
       "      <td>1.000000</td>\n",
       "      <td>0.000000</td>\n",
       "      <td>1.000000</td>\n",
       "      <td>1.000000</td>\n",
       "      <td>0.000000</td>\n",
       "      <td>48.000000</td>\n",
       "      <td>71.000000</td>\n",
       "      <td>1.000000</td>\n",
       "      <td>60.000000</td>\n",
       "      <td>61.000000</td>\n",
       "      <td>41.000000</td>\n",
       "      <td>67.000000</td>\n",
       "      <td>0.000000</td>\n",
       "      <td>8.000000</td>\n",
       "      <td>2.000000</td>\n",
       "      <td>3.000000</td>\n",
       "      <td>12.000000</td>\n",
       "      <td>7.000000</td>\n",
       "      <td>14.000000</td>\n",
       "      <td>0.000000</td>\n",
       "      <td>1.000000</td>\n",
       "      <td>14.000000</td>\n",
       "      <td>10.000000</td>\n",
       "      <td>8.000000</td>\n",
       "      <td>11.000000</td>\n",
       "      <td>7.000000</td>\n",
       "      <td>2.020000</td>\n",
       "      <td>2.800000</td>\n",
       "      <td>8.000000</td>\n",
       "      <td>76.000000</td>\n",
       "      <td>39.000000</td>\n",
       "      <td>31.000000</td>\n",
       "      <td>47.000000</td>\n",
       "      <td>59.000000</td>\n",
       "      <td>5.000000</td>\n",
       "      <td>14.900000</td>\n",
       "      <td>3.000000</td>\n",
       "      <td>1.00000</td>\n",
       "    </tr>\n",
       "    <tr>\n",
       "      <th>max</th>\n",
       "      <td>1.000000</td>\n",
       "      <td>1.000000</td>\n",
       "      <td>1.000000</td>\n",
       "      <td>1.000000</td>\n",
       "      <td>1.000000</td>\n",
       "      <td>1.000000</td>\n",
       "      <td>1.000000</td>\n",
       "      <td>1.000000</td>\n",
       "      <td>36.000000</td>\n",
       "      <td>94.000000</td>\n",
       "      <td>97.000000</td>\n",
       "      <td>21.000000</td>\n",
       "      <td>79.000000</td>\n",
       "      <td>123.000000</td>\n",
       "      <td>83.000000</td>\n",
       "      <td>97.000000</td>\n",
       "      <td>14.000000</td>\n",
       "      <td>23.000000</td>\n",
       "      <td>24.000000</td>\n",
       "      <td>16.000000</td>\n",
       "      <td>45.000000</td>\n",
       "      <td>27.000000</td>\n",
       "      <td>25.000000</td>\n",
       "      <td>14.000000</td>\n",
       "      <td>22.000000</td>\n",
       "      <td>25.000000</td>\n",
       "      <td>53.000000</td>\n",
       "      <td>26.000000</td>\n",
       "      <td>33.000000</td>\n",
       "      <td>20.000000</td>\n",
       "      <td>12.510000</td>\n",
       "      <td>12.700000</td>\n",
       "      <td>18.000000</td>\n",
       "      <td>107.000000</td>\n",
       "      <td>58.000000</td>\n",
       "      <td>49.000000</td>\n",
       "      <td>69.000000</td>\n",
       "      <td>87.000000</td>\n",
       "      <td>14.000000</td>\n",
       "      <td>25.200000</td>\n",
       "      <td>25.000000</td>\n",
       "      <td>2.00000</td>\n",
       "    </tr>\n",
       "  </tbody>\n",
       "</table>\n",
       "</div>"
      ],
      "text/plain": [
       "       binary__v_1  binary__v_11  binary__v_14  binary__v_26  binary__v_27  \\\n",
       "count  3796.000000   3796.000000   3796.000000   3796.000000   3796.000000   \n",
       "mean      0.911486      0.466280      0.179399      0.262118      0.731560   \n",
       "std       0.284079      0.498927      0.383737      0.439844      0.443206   \n",
       "min       0.000000      0.000000      0.000000      0.000000      0.000000   \n",
       "25%       1.000000      0.000000      0.000000      0.000000      0.000000   \n",
       "50%       1.000000      0.000000      0.000000      0.000000      1.000000   \n",
       "75%       1.000000      1.000000      0.000000      1.000000      1.000000   \n",
       "max       1.000000      1.000000      1.000000      1.000000      1.000000   \n",
       "\n",
       "       binary__v_28  binary__v_30  binary__v_9  nominal__v_12  nominal__v_18  \\\n",
       "count   3796.000000   3796.000000  3796.000000    3796.000000    3796.000000   \n",
       "mean       0.040569      0.463646     0.374605       1.340885      30.722339   \n",
       "std        0.197316      0.498742     0.484084       3.988022      18.378995   \n",
       "min        0.000000      0.000000     0.000000       0.000000       0.000000   \n",
       "25%        0.000000      0.000000     0.000000       0.000000      18.000000   \n",
       "50%        0.000000      0.000000     0.000000       0.000000      25.000000   \n",
       "75%        0.000000      1.000000     1.000000       0.000000      48.000000   \n",
       "max        1.000000      1.000000     1.000000      36.000000      94.000000   \n",
       "\n",
       "       nominal__v_20  nominal__v_21  nominal__v_25  nominal__v_3  \\\n",
       "count    3796.000000    3796.000000    3796.000000   3796.000000   \n",
       "mean       46.838514       1.250000      32.680717     43.471812   \n",
       "std        30.113549       2.969398      25.852215     21.430502   \n",
       "min         0.000000       0.000000       0.000000      0.000000   \n",
       "25%        17.000000       0.000000       4.000000     28.000000   \n",
       "50%        44.000000       0.000000      34.000000     44.000000   \n",
       "75%        71.000000       1.000000      60.000000     61.000000   \n",
       "max        97.000000      21.000000      79.000000    123.000000   \n",
       "\n",
       "       nominal__v_32  nominal__v_4  ordinal__v_0  ordinal__v_10  \\\n",
       "count    3796.000000   3796.000000   3796.000000    3796.000000   \n",
       "mean       24.723656     45.106955      0.998156       7.064015   \n",
       "std        22.510376     25.413765      2.309686       3.079682   \n",
       "min         0.000000      0.000000      0.000000       0.000000   \n",
       "25%         0.000000     18.000000      0.000000       6.000000   \n",
       "50%        28.000000     46.000000      0.000000       6.000000   \n",
       "75%        41.000000     67.000000      0.000000       8.000000   \n",
       "max        83.000000     97.000000     14.000000      23.000000   \n",
       "\n",
       "       ordinal__v_13  ordinal__v_15  ordinal__v_17  ordinal__v_19  \\\n",
       "count    3796.000000    3796.000000    3796.000000    3796.000000   \n",
       "mean        1.600896       2.609062       9.165701       5.562171   \n",
       "std         3.216409       2.576362       4.670733       3.757691   \n",
       "min         0.000000       0.000000       0.000000       0.000000   \n",
       "25%         0.000000       1.000000       7.000000       4.000000   \n",
       "50%         0.000000       1.000000       8.000000       6.000000   \n",
       "75%         2.000000       3.000000      12.000000       7.000000   \n",
       "max        24.000000      16.000000      45.000000      27.000000   \n",
       "\n",
       "       ordinal__v_22  ordinal__v_23  ordinal__v_24  ordinal__v_29  \\\n",
       "count    3796.000000    3796.000000    3796.000000    3796.000000   \n",
       "mean       10.794521       0.975764       1.392255      11.162803   \n",
       "std         5.532030       2.249038       2.866872       5.213275   \n",
       "min         0.000000       0.000000       0.000000       0.000000   \n",
       "25%        11.000000       0.000000       0.000000      11.000000   \n",
       "50%        12.000000       0.000000       0.000000      12.000000   \n",
       "75%        14.000000       0.000000       1.000000      14.000000   \n",
       "max        25.000000      14.000000      22.000000      25.000000   \n",
       "\n",
       "       ordinal__v_31  ordinal__v_33  ordinal__v_5  ordinal__v_6  ratio__v_16  \\\n",
       "count    3796.000000    3796.000000   3796.000000   3796.000000  3796.000000   \n",
       "mean        7.134089       7.127239      8.934932      5.281876     0.835901   \n",
       "std         7.887596       3.256676      4.507494      3.674661     3.109413   \n",
       "min         0.000000       0.000000      0.000000      0.000000    -4.060000   \n",
       "25%         2.000000       6.000000      6.000000      3.000000    -1.700000   \n",
       "50%         4.000000       6.000000      8.000000      5.000000     0.790000   \n",
       "75%        10.000000       8.000000     11.000000      7.000000     2.020000   \n",
       "max        53.000000      26.000000     33.000000     20.000000    12.510000   \n",
       "\n",
       "        ratio__v_2  ratio__v_34  ratio__v_35  ratio__v_36  ratio__v_37  \\\n",
       "count  3796.000000  3796.000000  3796.000000  3796.000000  3796.000000   \n",
       "mean      2.041333     5.341149    50.674658    26.212065    20.837197   \n",
       "std       2.516779     3.507388    29.330820    14.929649    11.984063   \n",
       "min      -0.800000     0.000000     0.000000     0.000000     0.000000   \n",
       "25%       0.500000     3.000000    25.000000    13.000000    11.000000   \n",
       "50%       1.400000     5.000000    50.000000    26.000000    21.000000   \n",
       "75%       2.800000     8.000000    76.000000    39.000000    31.000000   \n",
       "max      12.700000    18.000000   107.000000    58.000000    49.000000   \n",
       "\n",
       "       ratio__v_38  ratio__v_39  ratio__v_40   ratio__v_7   ratio__v_8  \\\n",
       "count  3796.000000  3796.000000  3796.000000  3796.000000  3796.000000   \n",
       "mean     31.276607    40.210485     3.278978    12.394810     3.436249   \n",
       "std      17.847942    22.466458     2.618851     3.414303     4.577644   \n",
       "min       0.000000     0.000000     0.000000     7.600000     1.000000   \n",
       "25%      16.000000    21.750000     1.000000     9.400000     1.000000   \n",
       "50%      31.000000    41.000000     3.000000    12.400000     1.000000   \n",
       "75%      47.000000    59.000000     5.000000    14.900000     3.000000   \n",
       "max      69.000000    87.000000    14.000000    25.200000    25.000000   \n",
       "\n",
       "           target  \n",
       "count  3796.00000  \n",
       "mean      0.85432  \n",
       "std       0.69866  \n",
       "min       0.00000  \n",
       "25%       0.00000  \n",
       "50%       1.00000  \n",
       "75%       1.00000  \n",
       "max       2.00000  "
      ]
     },
     "execution_count": 15,
     "metadata": {},
     "output_type": "execute_result"
    }
   ],
   "source": [
    "raw_data.describe()"
   ]
  },
  {
   "cell_type": "markdown",
   "id": "a094ec0e-d533-4d85-8822-4b8e90308938",
   "metadata": {
    "tags": []
   },
   "source": [
    "### Using Sum of Binary Features"
   ]
  },
  {
   "cell_type": "code",
   "execution_count": 16,
   "id": "e422148d-be8f-4e8f-8007-cdd251629aec",
   "metadata": {},
   "outputs": [],
   "source": [
    "@run_if_refresh\n",
    "def binary_feature_sum(raw_data=raw_data, raw_data_eval=raw_data_eval):\n",
    "    raw_data[\"binary_sum\"] = raw_data.loc[:, binary].sum(axis=1)\n",
    "    raw_data_eval[\"binary_sum\"] = raw_data_eval.loc[:, binary].sum(axis=1)\n",
    "    write_raw_data(raw_data, raw_data_eval)\n",
    "\n",
    "\n",
    "binary_feature_sum()\n",
    "raw_data, raw_data_eval = reload_raw_data()"
   ]
  },
  {
   "cell_type": "code",
   "execution_count": 17,
   "id": "5649bd39-fa7a-4fb3-b89f-d5f583c9266d",
   "metadata": {},
   "outputs": [
    {
     "name": "stdout",
     "output_type": "stream",
     "text": [
      "              precision    recall  f1-score   support\n",
      "\n",
      "           0       0.83      0.61      0.70       497\n",
      "           1       0.79      0.82      0.80       746\n",
      "           2       0.42      0.59      0.50       276\n",
      "\n",
      "    accuracy                           0.71      1519\n",
      "   macro avg       0.68      0.67      0.67      1519\n",
      "weighted avg       0.74      0.71      0.72      1519\n",
      "\n",
      "F1_Train 0.9806183813393191\n",
      "F1_Test 0.680800407426308\n"
     ]
    }
   ],
   "source": [
    "baseline(raw_data)"
   ]
  },
  {
   "cell_type": "markdown",
   "id": "10f1fb65-36a9-46ae-a053-5c4442d5fcb5",
   "metadata": {
    "tags": []
   },
   "source": [
    "### Standardising Ratio Values"
   ]
  },
  {
   "cell_type": "code",
   "execution_count": 18,
   "id": "da946cb9-8cae-486f-b2cb-a95e9dbf69f3",
   "metadata": {},
   "outputs": [],
   "source": [
    "@run_if_refresh\n",
    "def standardise_ratio_features(\n",
    "    raw_data=raw_data.copy(), raw_data_eval=raw_data_eval.copy()\n",
    "):\n",
    "    # Load Data\n",
    "    payload = raw_data.loc[:, ratios]\n",
    "    payload_eval = raw_data_eval.loc[:, ratios]\n",
    "    # Define Scaling Method\n",
    "    scaler1 = QuantileTransformer(\n",
    "        output_distribution=\"normal\", random_state=42, n_quantiles=1000\n",
    "    )\n",
    "    scaler2 = KBinsDiscretizer(\n",
    "        encode=\"onehot-dense\", random_state=10, n_bins=3, strategy=\"kmeans\"\n",
    "    )\n",
    "    # mscaler = make_pipeline(scaler1,scaler2)\n",
    "    mscaler = StandardScaler()\n",
    "    # Apply Scaling\n",
    "    payload_t = mscaler.fit_transform(payload)\n",
    "    payload_eval_t = mscaler.transform(payload_eval)\n",
    "    # New Column Names\n",
    "    new_ordinal_col_names = mscaler.get_feature_names_out()\n",
    "    new_ordinal_col_names = [x.replace(\".\", \"_\") for x in new_ordinal_col_names]\n",
    "    # Create Dataframe with new features to concatenate\n",
    "    tmp_raw_data = pd.DataFrame(\n",
    "        payload_t, columns=new_ordinal_col_names, index=raw_data.index\n",
    "    ).astype(\"int\")\n",
    "    tmp_raw_data_eval = pd.DataFrame(\n",
    "        payload_eval_t, columns=new_ordinal_col_names, index=raw_data_eval.index\n",
    "    ).astype(\"int\")\n",
    "    # Concatenate in place\n",
    "    raw_data = pd.concat([tmp_raw_data, raw_data.drop(ratios, axis=1)], axis=1)\n",
    "    raw_data_eval = pd.concat(\n",
    "        [tmp_raw_data_eval, raw_data_eval.drop(ratios, axis=1)], axis=1\n",
    "    )\n",
    "    # Write modified data to disk\n",
    "    write_raw_data(raw_data, raw_data_eval)\n",
    "    # return raw_data\n",
    "\n",
    "\n",
    "standardise_ratio_features()\n",
    "raw_data, raw_data_eval = reload_raw_data()"
   ]
  },
  {
   "cell_type": "code",
   "execution_count": 19,
   "id": "3a092e31-5019-4746-b477-01fae755333a",
   "metadata": {},
   "outputs": [
    {
     "name": "stdout",
     "output_type": "stream",
     "text": [
      "              precision    recall  f1-score   support\n",
      "\n",
      "           0       0.85      0.62      0.72       497\n",
      "           1       0.81      0.82      0.81       746\n",
      "           2       0.43      0.62      0.51       276\n",
      "\n",
      "    accuracy                           0.72      1519\n",
      "   macro avg       0.69      0.69      0.68      1519\n",
      "weighted avg       0.75      0.72      0.73      1519\n",
      "\n",
      "F1_Train 0.9730306132586725\n",
      "F1_Test 0.6852330197510701\n"
     ]
    }
   ],
   "source": [
    "baseline(raw_data)"
   ]
  },
  {
   "cell_type": "code",
   "execution_count": 20,
   "id": "4ccab260-0aa8-4613-ba7b-4aad88700bde",
   "metadata": {},
   "outputs": [
    {
     "name": "stdout",
     "output_type": "stream",
     "text": [
      "              precision    recall  f1-score   support\n",
      "\n",
      "           0       0.46      0.44      0.45       497\n",
      "           1       0.62      0.49      0.55       746\n",
      "           2       0.25      0.41      0.31       276\n",
      "\n",
      "    accuracy                           0.46      1519\n",
      "   macro avg       0.44      0.45      0.44      1519\n",
      "weighted avg       0.50      0.46      0.47      1519\n",
      "\n",
      "F1_Train 0.9011832457876175\n",
      "F1_Test 0.43304228047789883\n"
     ]
    }
   ],
   "source": [
    "baseline(raw_data.loc[:, nominal + [\"target\"]])"
   ]
  },
  {
   "cell_type": "code",
   "execution_count": 82,
   "id": "5a51838a-c42a-4fe1-94e5-fcefb6ce7d6e",
   "metadata": {},
   "outputs": [
    {
     "name": "stdout",
     "output_type": "stream",
     "text": [
      "(3796, 77)\n"
     ]
    },
    {
     "data": {
      "image/png": "[encoded data removed]",
      "text/plain": [
       "<Figure size 1440x720 with 1 Axes>"
      ]
     },
     "metadata": {},
     "output_type": "display_data"
    }
   ],
   "source": [
    "encoder = PolynomialWrapper(CountEncoder(normalize=True))\n",
    "encoder = BaseNEncoder(base=3)\n",
    "x_t = encoder.fit_transform(\n",
    "    raw_data.loc[:, nominal + ordinal].astype(\"category\"), raw_data.target\n",
    ")\n",
    "print(x_t.shape)\n",
    "disp = x_t.corrwith(raw_data.target, method=\"kendall\").plot(figsize=(20, 10), rot=90)"
   ]
  },
  {
   "cell_type": "code",
   "execution_count": 100,
   "id": "54cd88d9-9e0b-416f-9f33-575e36ef039c",
   "metadata": {},
   "outputs": [
    {
     "name": "stdout",
     "output_type": "stream",
     "text": [
      "              precision    recall  f1-score   support\n",
      "\n",
      "           0       0.73      0.64      0.68       373\n",
      "           1       0.74      0.88      0.80       559\n",
      "           2       0.43      0.30      0.35       207\n",
      "\n",
      "    accuracy                           0.70      1139\n",
      "   macro avg       0.63      0.61      0.61      1139\n",
      "weighted avg       0.68      0.70      0.68      1139\n",
      "\n"
     ]
    }
   ],
   "source": [
    "# encoder = PolynomialWrapper(BaseNEncoder(base=3))\n",
    "encoder = BaseNEncoder(base=30)\n",
    "n_features = encoder.fit_transform(X_train).shape[1]\n",
    "tmp = make_pipeline(\n",
    "    encoder,\n",
    "    HistGradientBoostingClassifier(\n",
    "        categorical_features=[True] * n_features, random_state=42\n",
    "    ),\n",
    ")\n",
    "y_pred = tmp.fit(X_train, y_train).predict(X_test)\n",
    "print(classification_report(y_test, y_pred, labels=[0, 1, 2]))"
   ]
  },
  {
   "cell_type": "code",
   "execution_count": 167,
   "id": "9066dd43-c867-4606-863b-93912d5d1529",
   "metadata": {},
   "outputs": [],
   "source": [
    "n_feature_p = {}\n",
    "n_score_p = {}\n",
    "# encoder = BaseNEncoder(base=i)\n",
    "X = raw_data.loc[:, nominal + ordinal].astype(\"category\")\n",
    "y = raw_data.target\n",
    "X_train, X_test, y_train, y_test = gen_train_test(X, y, test_size=0.3)\n",
    "X_train = X_train.astype(\"category\")\n",
    "X_test = X_test.astype(\"category\")\n",
    "n_score_p[0] = mutual_info_classif(X_test, y_test, discrete_features=True).mean()\n",
    "n_feature_p[0] = X_train.shape[1]\n",
    "\n",
    "\n",
    "def categorise_input(X: pd.DataFrame):\n",
    "    return X.astype(\"category\")\n",
    "\n",
    "\n",
    "categoriser = FunctionTransformer(categorise_input, feature_names_out=\"one-to-one\")\n",
    "for i in range(2, 10, 1):\n",
    "    encoder = make_pipeline(\n",
    "        BaseNEncoder(base=i), categoriser, PolynomialWrapper(JamesSteinEncoder())\n",
    "    )\n",
    "    n_features = encoder.fit_transform(X_train, y_train).shape[1]\n",
    "    # tmp =make_pipeline(encoder,HistGradientBoostingClassifier(categorical_features=[True]*n_features,random_state=42))\n",
    "    # y_pred = tmp.fit(X_train, y_train).predict(X_test)\n",
    "    # print(classification_report(y_test,y_pred,labels=[0,1,2]))\n",
    "    X_train_enc = encoder.fit_transform(X_train, y_train)\n",
    "    X_test_enc = encoder.transform(X_test)\n",
    "    n_score_p[i] = mutual_info_classif(\n",
    "        X_train_enc, y_train, discrete_features=True\n",
    "    ).mean()\n",
    "    n_feature_p[i] = n_features"
   ]
  },
  {
   "cell_type": "code",
   "execution_count": 168,
   "id": "ca834413-c498-4051-8a08-5036cac15fc9",
   "metadata": {},
   "outputs": [
    {
     "data": {
      "text/plain": [
       "({0: 0.07689778640450684,\n",
       "  2: 0.005022425791708347,\n",
       "  3: 0.009250367606439108,\n",
       "  4: 0.011197161357249899,\n",
       "  5: 0.014092863795907207,\n",
       "  6: 0.01588777618515198,\n",
       "  7: 0.01614037551663018,\n",
       "  8: 0.01854815599352313,\n",
       "  9: 0.021927145899901815},\n",
       " {0: 22, 2: 357, 3: 231, 4: 204, 5: 165, 6: 153, 7: 150, 8: 147, 9: 138})"
      ]
     },
     "execution_count": 168,
     "metadata": {},
     "output_type": "execute_result"
    }
   ],
   "source": [
    "(n_score_p, n_feature_p)"
   ]
  },
  {
   "cell_type": "code",
   "execution_count": 169,
   "id": "289b3708-872c-4714-a04c-763cab42205a",
   "metadata": {},
   "outputs": [
    {
     "data": {
      "text/plain": [
       "0.06752700611223024"
      ]
     },
     "execution_count": 169,
     "metadata": {},
     "output_type": "execute_result"
    }
   ],
   "source": [
    "mutual_info_classif(X_train, y_train, discrete_features=True).mean()"
   ]
  },
  {
   "cell_type": "code",
   "execution_count": 135,
   "id": "25bea25f-3365-4c03-a79e-19cfa6a63f7d",
   "metadata": {},
   "outputs": [
    {
     "data": {
      "text/plain": [
       "[<matplotlib.lines.Line2D at 0x7f42318cdeb0>]"
      ]
     },
     "execution_count": 135,
     "metadata": {},
     "output_type": "execute_result"
    },
    {
     "data": {
      "image/png": "[encoded data removed]",
      "text/plain": [
       "<Figure size 432x288 with 1 Axes>"
      ]
     },
     "metadata": {},
     "output_type": "display_data"
    }
   ],
   "source": [
    "# plt.plot(n_feature_p.keys(),n_feature_p.values(),'-^r')\n",
    "plt.plot(n_feature_p.values(), n_score_p.values(), \"-g\")"
   ]
  },
  {
   "cell_type": "code",
   "execution_count": null,
   "id": "a629a322-573b-47b4-8eef-f722eb47ddf3",
   "metadata": {},
   "outputs": [],
   "source": [
    "dum = make_pipeline(categoriser, OneHotEncoder())\n",
    "dum.fit_transform(X_train)"
   ]
  },
  {
   "cell_type": "code",
   "execution_count": 118,
   "id": "7e2ed4bc-a7d3-4c60-a033-f4e9813c71ef",
   "metadata": {},
   "outputs": [
    {
     "data": {
      "text/plain": [
       "0.06892922111251147"
      ]
     },
     "execution_count": 118,
     "metadata": {},
     "output_type": "execute_result"
    }
   ],
   "source": [
    "mutual_info_classif(X_train, y_train, discrete_features=True).mean()"
   ]
  },
  {
   "cell_type": "code",
   "execution_count": 8,
   "id": "f671a6b3-6d97-4da1-80be-81aa55e65249",
   "metadata": {},
   "outputs": [
    {
     "data": {
      "image/png": "[encoded data removed]",
      "text/plain": [
       "<Figure size 3600x1080 with 1 Axes>"
      ]
     },
     "metadata": {
      "needs_background": "light"
     },
     "output_type": "display_data"
    }
   ],
   "source": [
    "m_info_clf = mutual_info_classif(\n",
    "    X=n1df, y=target, discrete_features=True, random_state=42\n",
    ")\n",
    "__featureOrder = m_info_clf.argsort()\n",
    "fig, ax = plt.subplots(1, 1, figsize=(50, 15))\n",
    "plt.style.use(\"seaborn\")\n",
    "plt.rcParams[\"font.size\"] = 16\n",
    "plt.rcParams[\"axes.labelsize\"] = 16\n",
    "plt.rcParams[\"lines.linewidth\"] = 3\n",
    "plt.xticks(rotation=90)\n",
    "ax.plot(\n",
    "    n1df.columns[__featureOrder][-20:],\n",
    "    m_info_clf[__featureOrder][-20:],\n",
    "    \"-ro\",\n",
    "    label=\"mutual_info_classif_ohe_nominal_data\",\n",
    ")\n",
    "ax.legend()\n",
    "disp = ax.set_title(\"Mutual_Info_Classif\")"
   ]
  },
  {
   "cell_type": "code",
   "execution_count": null,
   "id": "21bc8513-7741-486c-a9cc-dfef3f7f308e",
   "metadata": {},
   "outputs": [],
   "source": [
    "scf = {\"f_clf\": f_classif, \"chi2\": chi2}\n",
    "alpha_ = 0.12\n",
    "k_best = 70\n",
    "# class f_selection_party:\n",
    "all_selectors = {}\n",
    "\n",
    "\n",
    "def update_selectors(alpha_, k_best):\n",
    "    global all_selectors\n",
    "    for criterion, _scf in scf.items():\n",
    "        selectors = [\n",
    "            SelectFpr(\n",
    "                chi2,\n",
    "            ),\n",
    "            SelectFdr(chi2),\n",
    "            SelectFwe(chi2),\n",
    "            SelectKBest(chi2, k=k_best),\n",
    "            SelectFwe(chi2),\n",
    "        ]\n",
    "        for slctr in selectors:\n",
    "            all_selectors[criterion + \"-\" + slctr.__class__.__name__] = slctr\n",
    "\n",
    "\n",
    "update_selectors(alpha_=alpha_, k_best=k_best)\n",
    "# feature_selection = Pipeline([(\"feature_selector\", )])\n",
    "feature_selection = FeatureUnion(\n",
    "    transformer_list=list(all_selectors.items()), n_jobs=-1\n",
    ")\n",
    "feature_selection"
   ]
  },
  {
   "cell_type": "code",
   "execution_count": null,
   "id": "91c190ca-bc3b-468f-a6d1-140cfdd37be8",
   "metadata": {},
   "outputs": [],
   "source": [
    "import plotly.express as px\n",
    "import plotly.figure_factory as ff\n",
    "\n",
    "m_info_clf = mutual_info_classif(\n",
    "    X=n1df, y=target, discrete_features=True, random_state=42\n",
    ")\n",
    "f_info = dict(\n",
    "    zip(\n",
    "        n1df.columns,\n",
    "        m_info_clf,\n",
    "    )\n",
    ")\n",
    "micdf = pd.DataFrame(m_info_clf, columns=[\"M_I_C\"], index=n1df.columns)\n",
    "# px.histogram(micdf,marginal='rug',color_discrete_map=px.colors.sequential.Plasma)\n",
    "disp = micdf.plot(kind=\"density\", backend=\"matplotlib\")\n",
    "disp = micdf.plot(kind=\"hist\", backend=\"matplotlib\")"
   ]
  },
  {
   "cell_type": "code",
   "execution_count": null,
   "id": "eabfde6a-5507-4d7c-b960-f69894b16f1d",
   "metadata": {},
   "outputs": [],
   "source": [
    "chi2_f, chi2_p = chi2(X=n1df, y=target)  # ,discrete_features=True,random_state=42)\n",
    "# f_info = dict(zip(n1df.columns,m_info_clf,))\n",
    "# px.histogram(data_frame=chi2df,x='p',color='chi2', histnorm='probability\n",
    "\n",
    "chi2df = pd.DataFrame(np.c_[chi2_f, chi2_p], columns=[\"chi2\", \"p\"], index=n1df.columns)\n",
    "# # px.histogram(micdf,marginal='rug',color_discrete_map=px.colors.sequential.Plasma)\n",
    "# disp = micdf.plot(kind='density',backend='matplotlib')\n",
    "# disp = micdf.plot(kind='hist',backend='matplotlib')"
   ]
  },
  {
   "cell_type": "code",
   "execution_count": null,
   "id": "9bb136cb-d68f-454e-94ae-0dda97293ab7",
   "metadata": {},
   "outputs": [],
   "source": [
    "chi2df[chi2df.p <= 0.12]"
   ]
  },
  {
   "cell_type": "code",
   "execution_count": null,
   "id": "b92f3648-d91e-4ac9-9105-7a138af86101",
   "metadata": {},
   "outputs": [],
   "source": [
    "X_train, X_test, y_train, y_test = train_test(n1df, target, 0.4)"
   ]
  },
  {
   "cell_type": "code",
   "execution_count": null,
   "id": "6c2d7725-e052-4f18-9d44-e8b502e6ccbe",
   "metadata": {},
   "outputs": [],
   "source": [
    "y_train.value_counts()"
   ]
  },
  {
   "cell_type": "code",
   "execution_count": null,
   "id": "d48a0fd1-e064-49c3-b860-5f2930c6516c",
   "metadata": {},
   "outputs": [],
   "source": [
    "def objective(trial: optuna.trial.Trial):\n",
    "    rbm_params = {\n",
    "        \"batch_size\": trial.suggest_int(\"rbm_batch_size\", 5, 1000),\n",
    "        \"learning_rate\": trial.suggest_float(\"rbm_learning_rate\", 1e-03, 1),\n",
    "        \"n_components\": trial.suggest_int(\"rbm_n_components\", 3, 336),\n",
    "        \"n_iter\": trial.suggest_int(\"rbm_epoch\", 10, 100),\n",
    "        \"random_state\": 42,\n",
    "        \"verbose\": 0,\n",
    "    }\n",
    "    rbm = BernoulliRBM(**rbm_params)"
   ]
  },
  {
   "cell_type": "code",
   "execution_count": 60,
   "id": "e027387d-f747-4f95-b68e-fe1889db4f43",
   "metadata": {},
   "outputs": [
    {
     "data": {
      "text/html": [
       "<style>#sk-container-id-15 {color: black;background-color: white;}#sk-container-id-15 pre{padding: 0;}#sk-container-id-15 div.sk-toggleable {background-color: white;}#sk-container-id-15 label.sk-toggleable__label {cursor: pointer;display: block;width: 100%;margin-bottom: 0;padding: 0.3em;box-sizing: border-box;text-align: center;}#sk-container-id-15 label.sk-toggleable__label-arrow:before {content: \"▸\";float: left;margin-right: 0.25em;color: #696969;}#sk-container-id-15 label.sk-toggleable__label-arrow:hover:before {color: black;}#sk-container-id-15 div.sk-estimator:hover label.sk-toggleable__label-arrow:before {color: black;}#sk-container-id-15 div.sk-toggleable__content {max-height: 0;max-width: 0;overflow: hidden;text-align: left;background-color: #f0f8ff;}#sk-container-id-15 div.sk-toggleable__content pre {margin: 0.2em;color: black;border-radius: 0.25em;background-color: #f0f8ff;}#sk-container-id-15 input.sk-toggleable__control:checked~div.sk-toggleable__content {max-height: 200px;max-width: 100%;overflow: auto;}#sk-container-id-15 input.sk-toggleable__control:checked~label.sk-toggleable__label-arrow:before {content: \"▾\";}#sk-container-id-15 div.sk-estimator input.sk-toggleable__control:checked~label.sk-toggleable__label {background-color: #d4ebff;}#sk-container-id-15 div.sk-label input.sk-toggleable__control:checked~label.sk-toggleable__label {background-color: #d4ebff;}#sk-container-id-15 input.sk-hidden--visually {border: 0;clip: rect(1px 1px 1px 1px);clip: rect(1px, 1px, 1px, 1px);height: 1px;margin: -1px;overflow: hidden;padding: 0;position: absolute;width: 1px;}#sk-container-id-15 div.sk-estimator {font-family: monospace;background-color: #f0f8ff;border: 1px dotted black;border-radius: 0.25em;box-sizing: border-box;margin-bottom: 0.5em;}#sk-container-id-15 div.sk-estimator:hover {background-color: #d4ebff;}#sk-container-id-15 div.sk-parallel-item::after {content: \"\";width: 100%;border-bottom: 1px solid gray;flex-grow: 1;}#sk-container-id-15 div.sk-label:hover label.sk-toggleable__label {background-color: #d4ebff;}#sk-container-id-15 div.sk-serial::before {content: \"\";position: absolute;border-left: 1px solid gray;box-sizing: border-box;top: 0;bottom: 0;left: 50%;z-index: 0;}#sk-container-id-15 div.sk-serial {display: flex;flex-direction: column;align-items: center;background-color: white;padding-right: 0.2em;padding-left: 0.2em;position: relative;}#sk-container-id-15 div.sk-item {position: relative;z-index: 1;}#sk-container-id-15 div.sk-parallel {display: flex;align-items: stretch;justify-content: center;background-color: white;position: relative;}#sk-container-id-15 div.sk-item::before, #sk-container-id-15 div.sk-parallel-item::before {content: \"\";position: absolute;border-left: 1px solid gray;box-sizing: border-box;top: 0;bottom: 0;left: 50%;z-index: -1;}#sk-container-id-15 div.sk-parallel-item {display: flex;flex-direction: column;z-index: 1;position: relative;background-color: white;}#sk-container-id-15 div.sk-parallel-item:first-child::after {align-self: flex-end;width: 50%;}#sk-container-id-15 div.sk-parallel-item:last-child::after {align-self: flex-start;width: 50%;}#sk-container-id-15 div.sk-parallel-item:only-child::after {width: 0;}#sk-container-id-15 div.sk-dashed-wrapped {border: 1px dashed gray;margin: 0 0.4em 0.5em 0.4em;box-sizing: border-box;padding-bottom: 0.4em;background-color: white;}#sk-container-id-15 div.sk-label label {font-family: monospace;font-weight: bold;display: inline-block;line-height: 1.2em;}#sk-container-id-15 div.sk-label-container {text-align: center;}#sk-container-id-15 div.sk-container {/* jupyter's `normalize.less` sets `[hidden] { display: none; }` but bootstrap.min.css set `[hidden] { display: none !important; }` so we also need the `!important` here to be able to override the default hidden behavior on the sphinx rendered scikit-learn.org. See: https://github.com/scikit-learn/scikit-learn/issues/21755 */display: inline-block !important;position: relative;}#sk-container-id-15 div.sk-text-repr-fallback {display: none;}</style><div id=\"sk-container-id-15\" class=\"sk-top-container\"><div class=\"sk-text-repr-fallback\"><pre>Pipeline(steps=[(&#x27;columntransformer&#x27;,\n",
       "                 ColumnTransformer(n_jobs=-1, sparse_threshold=0,\n",
       "                                   transformers=[(&#x27;one_hot_enc&#x27;,\n",
       "                                                  Pipeline(memory=Memory(location=None),\n",
       "                                                           steps=[(&#x27;ohe&#x27;,\n",
       "                                                                   OneHotEncoder(drop=&#x27;first&#x27;,\n",
       "                                                                                 min_frequency=0.0001,\n",
       "                                                                                 sparse=False)),\n",
       "                                                                  (&#x27;var_th&#x27;,\n",
       "                                                                   VarianceThreshold(threshold=0.001))]),\n",
       "                                                  [&#x27;nominal__v_12&#x27;,\n",
       "                                                   &#x27;nominal__v_18&#x27;,\n",
       "                                                   &#x27;nominal__v_20&#x27;,\n",
       "                                                   &#x27;nominal__v_21&#x27;,\n",
       "                                                   &#x27;nominal_...\n",
       "                                                 SelectPercentile(percentile=5,\n",
       "                                                                  score_func=&lt;function mutual_info_classif at 0x7f8dfdb43af0&gt;)),\n",
       "                                                (&#x27;F-SelectKBest&#x27;,\n",
       "                                                 SelectKBest(k=40)),\n",
       "                                                (&#x27;F-SelectPercentile&#x27;,\n",
       "                                                 SelectPercentile(percentile=5)),\n",
       "                                                (&#x27;CHI-SelectKBest&#x27;,\n",
       "                                                 SelectKBest(k=40,\n",
       "                                                             score_func=&lt;function chi2 at 0x7f8dfdb30c10&gt;)),\n",
       "                                                (&#x27;CHI-SelectPercentile&#x27;,\n",
       "                                                 SelectPercentile(percentile=5,\n",
       "                                                                  score_func=&lt;function chi2 at 0x7f8dfdb30c10&gt;))]))])</pre><b>In a Jupyter environment, please rerun this cell to show the HTML representation or trust the notebook. <br />On GitHub, the HTML representation is unable to render, please try loading this page with nbviewer.org.</b></div><div class=\"sk-container\" hidden><div class=\"sk-item sk-dashed-wrapped\"><div class=\"sk-label-container\"><div class=\"sk-label sk-toggleable\"><input class=\"sk-toggleable__control sk-hidden--visually\" id=\"sk-estimator-id-156\" type=\"checkbox\" ><label for=\"sk-estimator-id-156\" class=\"sk-toggleable__label sk-toggleable__label-arrow\">Pipeline</label><div class=\"sk-toggleable__content\"><pre>Pipeline(steps=[(&#x27;columntransformer&#x27;,\n",
       "                 ColumnTransformer(n_jobs=-1, sparse_threshold=0,\n",
       "                                   transformers=[(&#x27;one_hot_enc&#x27;,\n",
       "                                                  Pipeline(memory=Memory(location=None),\n",
       "                                                           steps=[(&#x27;ohe&#x27;,\n",
       "                                                                   OneHotEncoder(drop=&#x27;first&#x27;,\n",
       "                                                                                 min_frequency=0.0001,\n",
       "                                                                                 sparse=False)),\n",
       "                                                                  (&#x27;var_th&#x27;,\n",
       "                                                                   VarianceThreshold(threshold=0.001))]),\n",
       "                                                  [&#x27;nominal__v_12&#x27;,\n",
       "                                                   &#x27;nominal__v_18&#x27;,\n",
       "                                                   &#x27;nominal__v_20&#x27;,\n",
       "                                                   &#x27;nominal__v_21&#x27;,\n",
       "                                                   &#x27;nominal_...\n",
       "                                                 SelectPercentile(percentile=5,\n",
       "                                                                  score_func=&lt;function mutual_info_classif at 0x7f8dfdb43af0&gt;)),\n",
       "                                                (&#x27;F-SelectKBest&#x27;,\n",
       "                                                 SelectKBest(k=40)),\n",
       "                                                (&#x27;F-SelectPercentile&#x27;,\n",
       "                                                 SelectPercentile(percentile=5)),\n",
       "                                                (&#x27;CHI-SelectKBest&#x27;,\n",
       "                                                 SelectKBest(k=40,\n",
       "                                                             score_func=&lt;function chi2 at 0x7f8dfdb30c10&gt;)),\n",
       "                                                (&#x27;CHI-SelectPercentile&#x27;,\n",
       "                                                 SelectPercentile(percentile=5,\n",
       "                                                                  score_func=&lt;function chi2 at 0x7f8dfdb30c10&gt;))]))])</pre></div></div></div><div class=\"sk-serial\"><div class=\"sk-item sk-dashed-wrapped\"><div class=\"sk-label-container\"><div class=\"sk-label sk-toggleable\"><input class=\"sk-toggleable__control sk-hidden--visually\" id=\"sk-estimator-id-157\" type=\"checkbox\" ><label for=\"sk-estimator-id-157\" class=\"sk-toggleable__label sk-toggleable__label-arrow\">columntransformer: ColumnTransformer</label><div class=\"sk-toggleable__content\"><pre>ColumnTransformer(n_jobs=-1, sparse_threshold=0,\n",
       "                  transformers=[(&#x27;one_hot_enc&#x27;,\n",
       "                                 Pipeline(memory=Memory(location=None),\n",
       "                                          steps=[(&#x27;ohe&#x27;,\n",
       "                                                  OneHotEncoder(drop=&#x27;first&#x27;,\n",
       "                                                                min_frequency=0.0001,\n",
       "                                                                sparse=False)),\n",
       "                                                 (&#x27;var_th&#x27;,\n",
       "                                                  VarianceThreshold(threshold=0.001))]),\n",
       "                                 [&#x27;nominal__v_12&#x27;, &#x27;nominal__v_18&#x27;,\n",
       "                                  &#x27;nominal__v_20&#x27;, &#x27;nominal__v_21&#x27;,\n",
       "                                  &#x27;nominal__v_25&#x27;, &#x27;nominal__v_3&#x27;,\n",
       "                                  &#x27;nominal__v_32&#x27;, &#x27;nominal__v_4&#x27;])])</pre></div></div></div><div class=\"sk-parallel\"><div class=\"sk-parallel-item\"><div class=\"sk-item\"><div class=\"sk-label-container\"><div class=\"sk-label sk-toggleable\"><input class=\"sk-toggleable__control sk-hidden--visually\" id=\"sk-estimator-id-158\" type=\"checkbox\" ><label for=\"sk-estimator-id-158\" class=\"sk-toggleable__label sk-toggleable__label-arrow\">one_hot_enc</label><div class=\"sk-toggleable__content\"><pre>[&#x27;nominal__v_12&#x27;, &#x27;nominal__v_18&#x27;, &#x27;nominal__v_20&#x27;, &#x27;nominal__v_21&#x27;, &#x27;nominal__v_25&#x27;, &#x27;nominal__v_3&#x27;, &#x27;nominal__v_32&#x27;, &#x27;nominal__v_4&#x27;]</pre></div></div></div><div class=\"sk-serial\"><div class=\"sk-item\"><div class=\"sk-serial\"><div class=\"sk-item\"><div class=\"sk-estimator sk-toggleable\"><input class=\"sk-toggleable__control sk-hidden--visually\" id=\"sk-estimator-id-159\" type=\"checkbox\" ><label for=\"sk-estimator-id-159\" class=\"sk-toggleable__label sk-toggleable__label-arrow\">OneHotEncoder</label><div class=\"sk-toggleable__content\"><pre>OneHotEncoder(drop=&#x27;first&#x27;, min_frequency=0.0001, sparse=False)</pre></div></div></div><div class=\"sk-item\"><div class=\"sk-estimator sk-toggleable\"><input class=\"sk-toggleable__control sk-hidden--visually\" id=\"sk-estimator-id-160\" type=\"checkbox\" ><label for=\"sk-estimator-id-160\" class=\"sk-toggleable__label sk-toggleable__label-arrow\">VarianceThreshold</label><div class=\"sk-toggleable__content\"><pre>VarianceThreshold(threshold=0.001)</pre></div></div></div></div></div></div></div></div></div></div><div class=\"sk-item sk-dashed-wrapped\"><div class=\"sk-label-container\"><div class=\"sk-label sk-toggleable\"><input class=\"sk-toggleable__control sk-hidden--visually\" id=\"sk-estimator-id-161\" type=\"checkbox\" ><label for=\"sk-estimator-id-161\" class=\"sk-toggleable__label sk-toggleable__label-arrow\">featureunion: FeatureUnion</label><div class=\"sk-toggleable__content\"><pre>FeatureUnion(n_jobs=-1,\n",
       "             transformer_list=[(&#x27;F-SelectFpr&#x27;, SelectFpr()),\n",
       "                               (&#x27;F-SelectFdr&#x27;, SelectFdr()),\n",
       "                               (&#x27;F-SelectFwe&#x27;, SelectFwe()),\n",
       "                               (&#x27;CHI-SelectFpr&#x27;,\n",
       "                                SelectFpr(score_func=&lt;function chi2 at 0x7f8dfdb30c10&gt;)),\n",
       "                               (&#x27;CHI-SelectFdr&#x27;,\n",
       "                                SelectFdr(score_func=&lt;function chi2 at 0x7f8dfdb30c10&gt;)),\n",
       "                               (&#x27;CHI-SelectFwe&#x27;,\n",
       "                                SelectFwe(score_func=&lt;function chi2 at 0x7f8dfdb30c10&gt;)),\n",
       "                               (&#x27;MIC-Select...\n",
       "                                SelectPercentile(percentile=5,\n",
       "                                                 score_func=&lt;function mutual_info_classif at 0x7f8dfdb43af0&gt;)),\n",
       "                               (&#x27;F-SelectKBest&#x27;, SelectKBest(k=40)),\n",
       "                               (&#x27;F-SelectPercentile&#x27;,\n",
       "                                SelectPercentile(percentile=5)),\n",
       "                               (&#x27;CHI-SelectKBest&#x27;,\n",
       "                                SelectKBest(k=40,\n",
       "                                            score_func=&lt;function chi2 at 0x7f8dfdb30c10&gt;)),\n",
       "                               (&#x27;CHI-SelectPercentile&#x27;,\n",
       "                                SelectPercentile(percentile=5,\n",
       "                                                 score_func=&lt;function chi2 at 0x7f8dfdb30c10&gt;))])</pre></div></div></div><div class=\"sk-parallel\"><div class=\"sk-parallel-item\"><div class=\"sk-item\"><div class=\"sk-label-container\"><div class=\"sk-label sk-toggleable\"><label>F-SelectFpr</label></div></div><div class=\"sk-serial\"><div class=\"sk-item\"><div class=\"sk-estimator sk-toggleable\"><input class=\"sk-toggleable__control sk-hidden--visually\" id=\"sk-estimator-id-162\" type=\"checkbox\" ><label for=\"sk-estimator-id-162\" class=\"sk-toggleable__label sk-toggleable__label-arrow\">SelectFpr</label><div class=\"sk-toggleable__content\"><pre>SelectFpr()</pre></div></div></div></div></div></div><div class=\"sk-parallel-item\"><div class=\"sk-item\"><div class=\"sk-label-container\"><div class=\"sk-label sk-toggleable\"><label>F-SelectFdr</label></div></div><div class=\"sk-serial\"><div class=\"sk-item\"><div class=\"sk-estimator sk-toggleable\"><input class=\"sk-toggleable__control sk-hidden--visually\" id=\"sk-estimator-id-163\" type=\"checkbox\" ><label for=\"sk-estimator-id-163\" class=\"sk-toggleable__label sk-toggleable__label-arrow\">SelectFdr</label><div class=\"sk-toggleable__content\"><pre>SelectFdr()</pre></div></div></div></div></div></div><div class=\"sk-parallel-item\"><div class=\"sk-item\"><div class=\"sk-label-container\"><div class=\"sk-label sk-toggleable\"><label>F-SelectFwe</label></div></div><div class=\"sk-serial\"><div class=\"sk-item\"><div class=\"sk-estimator sk-toggleable\"><input class=\"sk-toggleable__control sk-hidden--visually\" id=\"sk-estimator-id-164\" type=\"checkbox\" ><label for=\"sk-estimator-id-164\" class=\"sk-toggleable__label sk-toggleable__label-arrow\">SelectFwe</label><div class=\"sk-toggleable__content\"><pre>SelectFwe()</pre></div></div></div></div></div></div><div class=\"sk-parallel-item\"><div class=\"sk-item\"><div class=\"sk-label-container\"><div class=\"sk-label sk-toggleable\"><label>CHI-SelectFpr</label></div></div><div class=\"sk-serial\"><div class=\"sk-item\"><div class=\"sk-estimator sk-toggleable\"><input class=\"sk-toggleable__control sk-hidden--visually\" id=\"sk-estimator-id-165\" type=\"checkbox\" ><label for=\"sk-estimator-id-165\" class=\"sk-toggleable__label sk-toggleable__label-arrow\">SelectFpr</label><div class=\"sk-toggleable__content\"><pre>SelectFpr(score_func=&lt;function chi2 at 0x7f8dfdb30c10&gt;)</pre></div></div></div></div></div></div><div class=\"sk-parallel-item\"><div class=\"sk-item\"><div class=\"sk-label-container\"><div class=\"sk-label sk-toggleable\"><label>CHI-SelectFdr</label></div></div><div class=\"sk-serial\"><div class=\"sk-item\"><div class=\"sk-estimator sk-toggleable\"><input class=\"sk-toggleable__control sk-hidden--visually\" id=\"sk-estimator-id-166\" type=\"checkbox\" ><label for=\"sk-estimator-id-166\" class=\"sk-toggleable__label sk-toggleable__label-arrow\">SelectFdr</label><div class=\"sk-toggleable__content\"><pre>SelectFdr(score_func=&lt;function chi2 at 0x7f8dfdb30c10&gt;)</pre></div></div></div></div></div></div><div class=\"sk-parallel-item\"><div class=\"sk-item\"><div class=\"sk-label-container\"><div class=\"sk-label sk-toggleable\"><label>CHI-SelectFwe</label></div></div><div class=\"sk-serial\"><div class=\"sk-item\"><div class=\"sk-estimator sk-toggleable\"><input class=\"sk-toggleable__control sk-hidden--visually\" id=\"sk-estimator-id-167\" type=\"checkbox\" ><label for=\"sk-estimator-id-167\" class=\"sk-toggleable__label sk-toggleable__label-arrow\">SelectFwe</label><div class=\"sk-toggleable__content\"><pre>SelectFwe(score_func=&lt;function chi2 at 0x7f8dfdb30c10&gt;)</pre></div></div></div></div></div></div><div class=\"sk-parallel-item\"><div class=\"sk-item\"><div class=\"sk-label-container\"><div class=\"sk-label sk-toggleable\"><label>MIC-SelectKBest</label></div></div><div class=\"sk-serial\"><div class=\"sk-item\"><div class=\"sk-estimator sk-toggleable\"><input class=\"sk-toggleable__control sk-hidden--visually\" id=\"sk-estimator-id-168\" type=\"checkbox\" ><label for=\"sk-estimator-id-168\" class=\"sk-toggleable__label sk-toggleable__label-arrow\">SelectKBest</label><div class=\"sk-toggleable__content\"><pre>SelectKBest(k=40, score_func=&lt;function mutual_info_classif at 0x7f8dfdb43af0&gt;)</pre></div></div></div></div></div></div><div class=\"sk-parallel-item\"><div class=\"sk-item\"><div class=\"sk-label-container\"><div class=\"sk-label sk-toggleable\"><label>MIC-SelectPercentile</label></div></div><div class=\"sk-serial\"><div class=\"sk-item\"><div class=\"sk-estimator sk-toggleable\"><input class=\"sk-toggleable__control sk-hidden--visually\" id=\"sk-estimator-id-169\" type=\"checkbox\" ><label for=\"sk-estimator-id-169\" class=\"sk-toggleable__label sk-toggleable__label-arrow\">SelectPercentile</label><div class=\"sk-toggleable__content\"><pre>SelectPercentile(percentile=5,\n",
       "                 score_func=&lt;function mutual_info_classif at 0x7f8dfdb43af0&gt;)</pre></div></div></div></div></div></div><div class=\"sk-parallel-item\"><div class=\"sk-item\"><div class=\"sk-label-container\"><div class=\"sk-label sk-toggleable\"><label>F-SelectKBest</label></div></div><div class=\"sk-serial\"><div class=\"sk-item\"><div class=\"sk-estimator sk-toggleable\"><input class=\"sk-toggleable__control sk-hidden--visually\" id=\"sk-estimator-id-170\" type=\"checkbox\" ><label for=\"sk-estimator-id-170\" class=\"sk-toggleable__label sk-toggleable__label-arrow\">SelectKBest</label><div class=\"sk-toggleable__content\"><pre>SelectKBest(k=40)</pre></div></div></div></div></div></div><div class=\"sk-parallel-item\"><div class=\"sk-item\"><div class=\"sk-label-container\"><div class=\"sk-label sk-toggleable\"><label>F-SelectPercentile</label></div></div><div class=\"sk-serial\"><div class=\"sk-item\"><div class=\"sk-estimator sk-toggleable\"><input class=\"sk-toggleable__control sk-hidden--visually\" id=\"sk-estimator-id-171\" type=\"checkbox\" ><label for=\"sk-estimator-id-171\" class=\"sk-toggleable__label sk-toggleable__label-arrow\">SelectPercentile</label><div class=\"sk-toggleable__content\"><pre>SelectPercentile(percentile=5)</pre></div></div></div></div></div></div><div class=\"sk-parallel-item\"><div class=\"sk-item\"><div class=\"sk-label-container\"><div class=\"sk-label sk-toggleable\"><label>CHI-SelectKBest</label></div></div><div class=\"sk-serial\"><div class=\"sk-item\"><div class=\"sk-estimator sk-toggleable\"><input class=\"sk-toggleable__control sk-hidden--visually\" id=\"sk-estimator-id-172\" type=\"checkbox\" ><label for=\"sk-estimator-id-172\" class=\"sk-toggleable__label sk-toggleable__label-arrow\">SelectKBest</label><div class=\"sk-toggleable__content\"><pre>SelectKBest(k=40, score_func=&lt;function chi2 at 0x7f8dfdb30c10&gt;)</pre></div></div></div></div></div></div><div class=\"sk-parallel-item\"><div class=\"sk-item\"><div class=\"sk-label-container\"><div class=\"sk-label sk-toggleable\"><label>CHI-SelectPercentile</label></div></div><div class=\"sk-serial\"><div class=\"sk-item\"><div class=\"sk-estimator sk-toggleable\"><input class=\"sk-toggleable__control sk-hidden--visually\" id=\"sk-estimator-id-173\" type=\"checkbox\" ><label for=\"sk-estimator-id-173\" class=\"sk-toggleable__label sk-toggleable__label-arrow\">SelectPercentile</label><div class=\"sk-toggleable__content\"><pre>SelectPercentile(percentile=5, score_func=&lt;function chi2 at 0x7f8dfdb30c10&gt;)</pre></div></div></div></div></div></div></div></div></div></div></div></div>"
      ],
      "text/plain": [
       "Pipeline(steps=[('columntransformer',\n",
       "                 ColumnTransformer(n_jobs=-1, sparse_threshold=0,\n",
       "                                   transformers=[('one_hot_enc',\n",
       "                                                  Pipeline(memory=Memory(location=None),\n",
       "                                                           steps=[('ohe',\n",
       "                                                                   OneHotEncoder(drop='first',\n",
       "                                                                                 min_frequency=0.0001,\n",
       "                                                                                 sparse=False)),\n",
       "                                                                  ('var_th',\n",
       "                                                                   VarianceThreshold(threshold=0.001))]),\n",
       "                                                  ['nominal__v_12',\n",
       "                                                   'nominal__v_18',\n",
       "                                                   'nominal__v_20',\n",
       "                                                   'nominal__v_21',\n",
       "                                                   'nominal_...\n",
       "                                                 SelectPercentile(percentile=5,\n",
       "                                                                  score_func=<function mutual_info_classif at 0x7f8dfdb43af0>)),\n",
       "                                                ('F-SelectKBest',\n",
       "                                                 SelectKBest(k=40)),\n",
       "                                                ('F-SelectPercentile',\n",
       "                                                 SelectPercentile(percentile=5)),\n",
       "                                                ('CHI-SelectKBest',\n",
       "                                                 SelectKBest(k=40,\n",
       "                                                             score_func=<function chi2 at 0x7f8dfdb30c10>)),\n",
       "                                                ('CHI-SelectPercentile',\n",
       "                                                 SelectPercentile(percentile=5,\n",
       "                                                                  score_func=<function chi2 at 0x7f8dfdb30c10>))]))])"
      ]
     },
     "execution_count": 60,
     "metadata": {},
     "output_type": "execute_result"
    }
   ],
   "source": [
    "ohe_nominal_feature_selection"
   ]
  },
  {
   "cell_type": "code",
   "execution_count": 61,
   "id": "5e46216d-29e2-417d-bb0c-c40f2e292cfe",
   "metadata": {},
   "outputs": [],
   "source": [
    "with parallel_backend(\"loky\"):\n",
    "    elite_ohe_nominal_features_train = ohe_nominal_feature_selection.fit_transform(\n",
    "        final_data, target\n",
    "    )\n",
    "    elite_ohe_nominal_features_test = ohe_nominal_feature_selection.transform(\n",
    "        final_pred_data\n",
    "    )\n",
    "    f_names = ohe_nominal_feature_selection.get_feature_names_out()\n",
    "    elite_onf_df = pd.DataFrame(elite_ohe_nominal_features_train, columns=f_names)\n",
    "    elite_onf_df = (\n",
    "        elite_onf_df.transpose()\n",
    "        .drop_duplicates(\n",
    "            ignore_index=False,\n",
    "        )\n",
    "        .transpose()\n",
    "    )\n",
    "\n",
    "    f_names_t = {\n",
    "        x: x.split(\"__\")[2] + \"__\" + x.split(\"__\")[3] for x in elite_onf_df.columns\n",
    "    }\n",
    "\n",
    "    # elite_ohe_nominal_features_train = elite_ohe_nominal_features_train.transpose().drop_duplicates(ignore_index=False,).transpose()\n",
    "    elite_onf_df.rename(columns=f_names_t, inplace=True)\n",
    "    elite_onf_df_test = pd.DataFrame(elite_ohe_nominal_features_test, columns=f_names)\n",
    "    elite_onf_df_test = (\n",
    "        elite_onf_df_test.transpose()\n",
    "        .drop_duplicates(\n",
    "            ignore_index=False,\n",
    "        )\n",
    "        .transpose()\n",
    "    )\n",
    "    elite_onf_df_test.rename(columns=f_names_t, inplace=True)"
   ]
  },
  {
   "cell_type": "code",
   "execution_count": 64,
   "id": "489fc54c-c30e-4c0c-b4e2-85309eaf66c4",
   "metadata": {},
   "outputs": [
    {
     "data": {
      "image/png": "[encoded data removed]",
      "text/plain": [
       "<Figure size 3600x720 with 1 Axes>"
      ]
     },
     "metadata": {},
     "output_type": "display_data"
    }
   ],
   "source": [
    "# n1df.loc[:,ch].corrwith(,method='kendall')\n",
    "def multilabel_correlation(df: pd.DataFrame):\n",
    "    multilabel_target = pd.get_dummies(target)\n",
    "    co_0 = df.corrwith(multilabel_target[0], method=\"kendall\")\n",
    "    # print(f'co_0 min {co_0.var()}')\n",
    "    # print(f'co_0 max {co_0.max()}')\n",
    "    co_1 = df.corrwith(multilabel_target[1], method=\"kendall\")\n",
    "    # print(f'co_1 min {co_1.var()}')\n",
    "    # print(f'co_1 max {co_1.max()}')\n",
    "    co_2 = df.corrwith(multilabel_target[2], method=\"kendall\")\n",
    "    # print(f'co_2 min {co_2.var()}')\n",
    "    # print(f'co_2 max {co_2.max()}')\n",
    "    return pd.concat([co_0, co_1, co_2], axis=1)\n",
    "\n",
    "\n",
    "multilabel_correlation(elite_onf_df).sort_index().plot(\n",
    "    kind=\"bar\", figsize=(50, 10), backend=\"matplotlib\"\n",
    ")\n",
    "multilabel_correlation(n1df).plot(kind=\"bar\")\n",
    "\n",
    "\n",
    "def multiclass_correlation(df: pd.DataFrame):\n",
    "    multiclass_target = target\n",
    "    return df.corrwith(target, method=\"kendall\")"
   ]
  },
  {
   "cell_type": "code",
   "execution_count": 361,
   "id": "880251bc-ed3f-4904-80d7-ea7db0151bc7",
   "metadata": {},
   "outputs": [
    {
     "data": {
      "text/plain": [
       "5"
      ]
     },
     "execution_count": 361,
     "metadata": {},
     "output_type": "execute_result"
    }
   ],
   "source": [
    "ovr_bag.n_estimators"
   ]
  },
  {
   "cell_type": "code",
   "execution_count": null,
   "id": "3040f616-a37b-45bd-92e5-b3331b87eb8d",
   "metadata": {},
   "outputs": [],
   "source": [
    "import plotly.express as px\n",
    "import plotly.figure_factory as ff\n",
    "\n",
    "m_info_clf = mutual_info_classif(\n",
    "    X=n1df, y=target, discrete_features=True, random_state=42\n",
    ")\n",
    "f_info = dict(\n",
    "    zip(\n",
    "        n1df.columns,\n",
    "        m_info_clf,\n",
    "    )\n",
    ")\n",
    "micdf = pd.DataFrame(m_info_clf, columns=[\"M_I_C\"], index=n1df.columns)\n",
    "# px.histogram(micdf,marginal='rug',color_discrete_map=px.colors.sequential.Plasma)\n",
    "disp = micdf.plot(kind=\"density\", backend=\"matplotlib\")\n",
    "disp = micdf.plot(kind=\"hist\", backend=\"matplotlib\")"
   ]
  },
  {
   "cell_type": "code",
   "execution_count": null,
   "id": "f6900dd7-07e5-4dca-b73e-5892136f90e1",
   "metadata": {},
   "outputs": [],
   "source": [
    "chi2_f, chi2_p = chi2(X=n1df, y=target)  # ,discrete_features=True,random_state=42)\n",
    "# f_info = dict(zip(n1df.columns,m_info_clf,))\n",
    "# px.histogram(data_frame=chi2df,x='p',color='chi2', histnorm='probability\n",
    "\n",
    "chi2df = pd.DataFrame(np.c_[chi2_f, chi2_p], columns=[\"chi2\", \"p\"], index=n1df.columns)\n",
    "# # px.histogram(micdf,marginal='rug',color_discrete_map=px.colors.sequential.Plasma)\n",
    "# disp = micdf.plot(kind='density',backend='matplotlib')\n",
    "# disp = micdf.plot(kind='hist',backend='matplotlib')"
   ]
  },
  {
   "cell_type": "code",
   "execution_count": null,
   "id": "042d25f0-a032-4f28-a7dd-df4588a7eabf",
   "metadata": {},
   "outputs": [],
   "source": [
    "chi2df[chi2df.p <= 0.12]"
   ]
  },
  {
   "cell_type": "code",
   "execution_count": null,
   "id": "36a9eb05-c99b-457c-9757-3055d4b6d2fd",
   "metadata": {},
   "outputs": [],
   "source": [
    "X_train, X_test, y_train, y_test = train_test(n1df, target, 0.4)"
   ]
  },
  {
   "cell_type": "code",
   "execution_count": null,
   "id": "1b6a072d-721a-42c2-b346-847d97c73c49",
   "metadata": {},
   "outputs": [],
   "source": [
    "y_train.value_counts()"
   ]
  },
  {
   "cell_type": "code",
   "execution_count": null,
   "id": "0930444c-c3b4-4eca-b3af-82db149af6c4",
   "metadata": {},
   "outputs": [],
   "source": [
    "def objective(trial: optuna.trial.Trial):\n",
    "    rbm_params = {\n",
    "        \"batch_size\": trial.suggest_int(\"rbm_batch_size\", 5, 1000),\n",
    "        \"learning_rate\": trial.suggest_float(\"rbm_learning_rate\", 1e-03, 1),\n",
    "        \"n_components\": trial.suggest_int(\"rbm_n_components\", 3, 336),\n",
    "        \"n_iter\": trial.suggest_int(\"rbm_epoch\", 10, 100),\n",
    "        \"random_state\": 42,\n",
    "        \"verbose\": 0,\n",
    "    }\n",
    "    rbm = BernoulliRBM(**rbm_params)"
   ]
  },
  {
   "cell_type": "code",
   "execution_count": 20,
   "id": "79e6eb66-31f5-4464-b93a-050bf4dd0281",
   "metadata": {
    "tags": []
   },
   "outputs": [],
   "source": [
    "features_selected = {0: [], 1: [], 2: []}\n",
    "selectors = {0: [], 1: [], 2: []}\n",
    "feature_selection_df = {0: None, 1: None, 2: None}\n",
    "feature_performance = {0: None, 1: None, 2: None}\n",
    "improvements = {0: [], 1: [], 2: []}"
   ]
  },
  {
   "cell_type": "code",
   "execution_count": null,
   "id": "af9c84b5-15e2-45f7-99cc-81ae8fe580a1",
   "metadata": {
    "tags": []
   },
   "outputs": [],
   "source": [
    "estimator = make_pipeline(\n",
    "    VarianceThreshold(),\n",
    "    LogisticRegression(\n",
    "        solver=\"liblinear\", n_jobs=-1, C=0.03, random_state=2, fit_intercept=False\n",
    "    ),\n",
    ")\n",
    "\n",
    "try:\n",
    "    idx = 0\n",
    "    for X, y in tr_nom_db:\n",
    "        X_train, X_test, y_train, y_test = train_test_split(\n",
    "            enc_nom_df, y, test_size=0.3, random_state=42\n",
    "        )\n",
    "        vt = VarianceThreshold()\n",
    "        print(f\"Shape of data {X_train.shape}\")\n",
    "        __c = vt.fit_transform(X_train)\n",
    "        print(f\"Dim Reduction {X_train.shape[1]-__c.shape[1]}\")\n",
    "\n",
    "        # Baseline\n",
    "        model = model_clone(estimator)\n",
    "        model.fit(X_train, y_train)\n",
    "        acc_init = sklearn.metrics.f1_score(\n",
    "            model.predict(X_test), y_test, average=\"micro\"\n",
    "        )\n",
    "        print(f\"baseline f-1 score {acc_init}\")\n",
    "        print(f\"Running SFS\")\n",
    "        with parallel_backend(\"loky\"):\n",
    "            # selector = SequentialFeatureSelector(model_clone(estimator),tol=0.001,n_features_to_select='auto',cv=RepeatedStratifiedKFold(n_splits=3,n_repeats=2),n_jobs=-1,scoring='f1_micro',)\n",
    "            selector = RFEC(\n",
    "                model_clone(estimator)[1],\n",
    "                step=5,\n",
    "                cv=RepeatedStratifiedKFold(n_splits=3, n_repeats=2),\n",
    "                n_jobs=-1,\n",
    "                scoring=\"f1_micro\",\n",
    "            )\n",
    "            selector.fit(enc_nom_df, y)\n",
    "        new_data = selector.transform(enc_nom_df)\n",
    "        print(f\"SFS Dim Reduction {X_train.shape[1]-new_data.shape[1]}\")\n",
    "\n",
    "        X_train, X_test, y_train, y_test = train_test_split(\n",
    "            new_data, y, test_size=0.3, random_state=42\n",
    "        )\n",
    "        model = model_clone(estimator)\n",
    "        model.fit(X_train, y_train)\n",
    "        acc_improved = sklearn.metrics.f1_score(\n",
    "            model.predict(X_test), y_test, average=\"micro\"\n",
    "        )\n",
    "        print(f\"Improved By {acc_improved - acc_init} on {idx} Label\")\n",
    "        improvements[idx].append(acc_improved - acc_init)\n",
    "        print(f\"New F-1 Score {acc_improved}\")\n",
    "        idx += 1\n",
    "except KeyboardInterrupt:\n",
    "    print(\"Stopped Checking\")\n",
    "    # print(acc_improved)\n",
    "    print(acc_init)"
   ]
  },
  {
   "cell_type": "markdown",
   "id": "73e1405f-34b5-4a27-890b-7967f2a3ba5b",
   "metadata": {
    "tags": []
   },
   "source": [
    "### Delete Unwanted Categories"
   ]
  },
  {
   "cell_type": "raw",
   "id": "a46428d3-5902-4832-b971-157a6379ebcc",
   "metadata": {
    "tags": []
   },
   "source": [
    "#### Unique Categories within each feature"
   ]
  },
  {
   "cell_type": "raw",
   "id": "06df64a1-ab45-43d0-b6b7-20c8358db4c5",
   "metadata": {
    "tags": []
   },
   "source": [
    "\"\"\"\n",
    "Unique Categories within each categorical feature.\n",
    "\"\"\"\n",
    "fig, ax = plt.subplots(2, 2, figsize=(20, 10), squeeze=False, sharey=True)\n",
    "data_to_plot = [ordinal_data, nominal_data, ordinal_data_eval, nominal_data_eval]\n",
    "fig.suptitle(\n",
    "    \"Unique Categories within each categorical feature\".upper(), fontweight=\"bold\"\n",
    ")\n",
    "data_titles = [\n",
    "    \"Ordinal Categories(Train)\",\n",
    "    \"Nominal Categories(Train)\",\n",
    "    \"Ordinal Categories(Eval)\",\n",
    "    \"Nominal Categories(Eval)\",\n",
    "]\n",
    "idx = 0\n",
    "for i in range(2):\n",
    "    for j in range(2):\n",
    "        ax_ = ax[i, j]\n",
    "        data = data_to_plot[idx]\n",
    "\n",
    "        values = data.nunique().values\n",
    "        Xlabels = [x.split(\"__\")[1] for x in data.nunique().index]\n",
    "        disp = ax_.bar(x=Xlabels, height=values)\n",
    "        disp1 = ax_.set_title(data_titles[idx], fontweight=\"bold\")\n",
    "        disp2 = ax_.set_xticklabels(Xlabels, rotation=90)\n",
    "        ax_.bar_label(container=disp, fontweight=\"bold\")\n",
    "        ax_.plot(values, \"-r\")\n",
    "        idx += 1"
   ]
  },
  {
   "cell_type": "raw",
   "id": "59ef95fc-c0e6-40e3-bcc7-60e433c21aab",
   "metadata": {
    "tags": []
   },
   "source": [
    "#### Nominal Categories to Delete"
   ]
  },
  {
   "cell_type": "raw",
   "id": "18a96afa-4db4-4881-816a-a7ba673cc07e",
   "metadata": {
    "tags": []
   },
   "source": [
    "\"\"\"\n",
    "Nominal Categories to delete = Unique_Categories (Union - Intersection)\n",
    "\"\"\"\n",
    "\n",
    "\n",
    "def find_nominal_uncommon_categories(\n",
    "    nominal_data=nominal_data, nominal_data_eval=nominal_data_eval\n",
    "):\n",
    "    missing_categories_dict = {}\n",
    "    for c in nominal:\n",
    "        nominal_data[c]: pd.Series\n",
    "        unique_categories_train = set(nominal_data[c].unique())\n",
    "        # print(unique_categories_test)\n",
    "        unique_categories_eval = set(nominal_data_eval[c].unique())\n",
    "        all_categories = unique_categories_train.union(unique_categories_eval)\n",
    "        common_categories = unique_categories_train.intersection(unique_categories_eval)\n",
    "        missing_categories = all_categories - common_categories\n",
    "        missing_categories_dict[c] = list(missing_categories)\n",
    "    return missing_categories_dict\n",
    "\n",
    "\n",
    "missing_categories_dict = find_nominal_uncommon_categories()\n",
    "\n",
    "\n",
    "def classify_uncommon_nominal_categories_zero(row):\n",
    "    for c in nominal:\n",
    "        if row[c] in missing_categories_dict[c]:\n",
    "            row[c] = 0\n",
    "    return row\n",
    "\n",
    "\n",
    "nominal_data_t = nominal_data.copy()\n",
    "nominal_data_t = nominal_data_t.apply(classify_uncommon_nominal_categories_zero, axis=1)\n",
    "\n",
    "nominal_data_eval_t = nominal_data_eval.copy()\n",
    "nominal_data_eval_t = nominal_data_eval.apply(\n",
    "    classify_uncommon_nominal_categories_zero, axis=1\n",
    ")"
   ]
  },
  {
   "cell_type": "raw",
   "id": "ff9ccf68-cb82-4332-8da0-ea8974e1a6da",
   "metadata": {
    "tags": []
   },
   "source": [
    "total_ambiguos_labels_master = {k: 0 for k in nominal}\n",
    "total_ambiguos_labels_train = {k: 0 for k in nominal}\n",
    "total_ambiguos_labels_eval = {k: 0 for k in nominal}\n",
    "\n",
    "for k, v in missing_categories_dict.items():\n",
    "    value_counts_train = nominal_data[k].value_counts().to_dict()\n",
    "    value_counts_eval = nominal_data_eval[k].value_counts().to_dict()\n",
    "    # print(value_counts_train)\n",
    "    for val in v:\n",
    "        if val in value_counts_train:\n",
    "            # if k in total_ambiguos_labels_train:\n",
    "            total_ambiguos_labels_train[k] += value_counts_train[val]\n",
    "            total_ambiguos_labels_master[k] += value_counts_train[val]\n",
    "        if val in value_counts_eval:\n",
    "            total_ambiguos_labels_eval[k] += value_counts_eval[val]\n",
    "            total_ambiguos_labels_master[k] += value_counts_eval[val]"
   ]
  },
  {
   "cell_type": "raw",
   "id": "acba8449-c4ef-469d-87e4-6356e84b45ac",
   "metadata": {
    "tags": []
   },
   "source": [
    "data_to_plot = [\n",
    "    total_ambiguos_labels_master,\n",
    "    total_ambiguos_labels_train,\n",
    "    total_ambiguos_labels_eval,\n",
    "]\n",
    "data_titles = [\n",
    "    \"Total Ambiguos Nominal Categories (Master)\",\n",
    "    \"Total Ambiguos Nominal Categories (Train)\",\n",
    "    \"Total Ambiguos Nominal Categories (Eval)\",\n",
    "]\n",
    "fig, ax = plt.subplots(1, 3, squeeze=False, figsize=(20, 10))\n",
    "\n",
    "for idx in range(3):\n",
    "    # ax_ = ax[idx]\n",
    "    data = data_to_plot[idx]\n",
    "    disp = ax[0, idx].bar(data.keys(), height=data.values())\n",
    "    disp1 = ax[0, idx].set_xticklabels(data.keys(), rotation=90)\n",
    "    disp = ax[0, idx].bar_label(container=disp, fontweight=\"bold\")\n",
    "    disp2 = ax[0, idx].set_title(data_titles[idx].upper(), fontweight=\"bold\")"
   ]
  },
  {
   "cell_type": "raw",
   "id": "c191e0b0-c23e-4276-a30a-fdc2f15a8acf",
   "metadata": {
    "tags": []
   },
   "source": [
    "\"\"\"\n",
    "Unique Categories within each categorical feature.\n",
    "\"\"\"\n",
    "fig, ax = plt.subplots(2, 2, figsize=(20, 10), squeeze=False, sharey=True)\n",
    "data_to_plot = [ordinal_data, nominal_data_t, ordinal_data_eval, nominal_data_eval_t]\n",
    "fig.suptitle(\n",
    "    \"Unique Categories within each categorical feature \\n After removing uncommon nominal categories\".upper(),\n",
    "    fontweight=\"bold\",\n",
    ")\n",
    "data_titles = [\n",
    "    \"Ordinal Categories(Train)\",\n",
    "    \"Nominal Categories(Train)\",\n",
    "    \"Ordinal Categories(Eval)\",\n",
    "    \"Nominal Categories(Eval)\",\n",
    "]\n",
    "idx = 0\n",
    "for i in range(2):\n",
    "    for j in range(2):\n",
    "        ax_ = ax[i, j]\n",
    "        data = data_to_plot[idx]\n",
    "\n",
    "        values = data.nunique().values\n",
    "        Xlabels = [x.split(\"__\")[1] for x in data.nunique().index]\n",
    "        disp = ax_.bar(x=Xlabels, height=values)\n",
    "        disp1 = ax_.set_title(data_titles[idx], fontweight=\"bold\")\n",
    "        disp2 = ax_.set_xticklabels(Xlabels, rotation=90)\n",
    "        ax_.bar_label(container=disp, fontweight=\"bold\")\n",
    "        ax_.plot(values, \"-r\")\n",
    "        idx += 1"
   ]
  },
  {
   "cell_type": "raw",
   "id": "2dc81e8e-0995-4e4c-a8eb-e9cee545993f",
   "metadata": {
    "tags": []
   },
   "source": [
    "#### Ordinal Categories to delete"
   ]
  },
  {
   "cell_type": "raw",
   "id": "c743b335-2b1c-4a1a-bde7-18feadfbbbac",
   "metadata": {
    "tags": []
   },
   "source": [
    "\"\"\"\n",
    "Ordinal Categories to delete = Unique_Categories (Union - Intersection)\n",
    "\"\"\"\n",
    "\n",
    "\n",
    "def find_ordinal_uncommon_categories(\n",
    "    ordinal_data=ordinal_data, ordinal_data_eval=ordinal_data_eval\n",
    "):\n",
    "    missing_categories_dict = {}\n",
    "    for c in ordinal:\n",
    "        nominal_data[c]: pd.Series\n",
    "        unique_categories_train = set(ordinal_data[c].unique())\n",
    "        # print(unique_categories_test)\n",
    "        unique_categories_eval = set(ordinal_data_eval[c].unique())\n",
    "        all_categories = unique_categories_train.union(unique_categories_eval)\n",
    "        common_categories = unique_categories_train.intersection(unique_categories_eval)\n",
    "        missing_categories = all_categories - common_categories\n",
    "        missing_categories_dict[c] = list(missing_categories)\n",
    "    return missing_categories_dict\n",
    "\n",
    "\n",
    "missing_categories_dict = find_ordinal_uncommon_categories()\n",
    "missing_categories_count_ordinal = {\n",
    "    k: len(v) for k, v in missing_categories_dict.items()\n",
    "}\n",
    "\n",
    "\n",
    "def classify_uncommon_ordinal_categories_zero(row):\n",
    "    for c in ordinal:\n",
    "        if row[c] in missing_categories_dict[c]:\n",
    "            row[c] = 0\n",
    "    return row\n",
    "\n",
    "\n",
    "ordinal_data_t = ordinal_data.copy()\n",
    "ordinal_data_t = ordinal_data_t.apply(classify_uncommon_ordinal_categories_zero, axis=1)\n",
    "\n",
    "ordinal_data_eval_t = ordinal_data_eval.copy()\n",
    "ordianl_data_eval_t = ordinal_data_eval.apply(\n",
    "    classify_uncommon_ordinal_categories_zero, axis=1\n",
    ")"
   ]
  },
  {
   "cell_type": "raw",
   "id": "90d70104-1936-4a58-b82a-2573fa853c37",
   "metadata": {
    "tags": []
   },
   "source": [
    "total_ambiguos_labels_master = {k: 0 for k in ordinal}\n",
    "total_ambiguos_labels_train = {k: 0 for k in ordinal}\n",
    "total_ambiguos_labels_eval = {k: 0 for k in ordinal}\n",
    "\n",
    "for k, v in missing_categories_dict.items():\n",
    "    value_counts_train = ordinal_data[k].value_counts().to_dict()\n",
    "    value_counts_eval = ordinal_data_eval[k].value_counts().to_dict()\n",
    "    # print(value_counts_train)\n",
    "    for val in v:\n",
    "        if val in value_counts_train:\n",
    "            # if k in total_ambiguos_labels_train:\n",
    "            total_ambiguos_labels_train[k] += value_counts_train[val]\n",
    "            total_ambiguos_labels_master[k] += value_counts_train[val]\n",
    "        if val in value_counts_eval:\n",
    "            total_ambiguos_labels_eval[k] += value_counts_eval[val]\n",
    "            total_ambiguos_labels_master[k] += value_counts_eval[val]"
   ]
  },
  {
   "cell_type": "raw",
   "id": "d02a0b2c-bf89-4d9a-921c-0d714cfbb3be",
   "metadata": {
    "tags": []
   },
   "source": [
    "data_to_plot = [\n",
    "    total_ambiguos_labels_master,\n",
    "    total_ambiguos_labels_train,\n",
    "    total_ambiguos_labels_eval,\n",
    "]\n",
    "data_titles = [\n",
    "    \"Total Ambiguos Ordinal Categories (Master)\",\n",
    "    \"Total Ambiguos Ordinal Categories (Train)\",\n",
    "    \"Total Ambiguos Ordinal Categories (Eval)\",\n",
    "]\n",
    "fig, ax = plt.subplots(1, 3, squeeze=False, figsize=(20, 10))\n",
    "\n",
    "for idx in range(3):\n",
    "    # ax_ = ax[idx]\n",
    "    data = data_to_plot[idx]\n",
    "    disp = ax[0, idx].bar(data.keys(), height=data.values())\n",
    "    disp1 = ax[0, idx].set_xticklabels(data.keys(), rotation=90)\n",
    "    disp = ax[0, idx].bar_label(container=disp, fontweight=\"bold\")\n",
    "    disp2 = ax[0, idx].set_title(data_titles[idx].upper(), fontweight=\"bold\")"
   ]
  },
  {
   "cell_type": "raw",
   "id": "ff8ff875-2633-4959-a276-d5d2fae71faf",
   "metadata": {
    "tags": []
   },
   "source": [
    "\"\"\"\n",
    "Unique Categories within each categorical feature.\n",
    "\"\"\"\n",
    "fig, ax = plt.subplots(2, 2, figsize=(20, 10), squeeze=False, sharey=True)\n",
    "data_to_plot = [\n",
    "    ordinal_data_t,\n",
    "    nominal_data_t,\n",
    "    ordinal_data_eval_t,\n",
    "    nominal_data_eval_t,\n",
    "]\n",
    "fig.suptitle(\n",
    "    \"Unique Categories within each categorical feature \\n After removing uncommon nominal and ordinal categories\".upper(),\n",
    "    fontweight=\"bold\",\n",
    ")\n",
    "data_titles = [\n",
    "    \"Ordinal Categories(Train)\",\n",
    "    \"Nominal Categories(Train)\",\n",
    "    \"Ordinal Categories(Eval)\",\n",
    "    \"Nominal Categories(Eval)\",\n",
    "]\n",
    "idx = 0\n",
    "for i in range(2):\n",
    "    for j in range(2):\n",
    "        ax_ = ax[i, j]\n",
    "        data = data_to_plot[idx]\n",
    "\n",
    "        values = data.nunique().values\n",
    "        Xlabels = [x.split(\"__\")[1] for x in data.nunique().index]\n",
    "        disp = ax_.bar(x=Xlabels, height=values)\n",
    "        disp1 = ax_.set_title(data_titles[idx], fontweight=\"bold\")\n",
    "        disp2 = ax_.set_xticklabels(Xlabels, rotation=90)\n",
    "        ax_.bar_label(container=disp, fontweight=\"bold\")\n",
    "        ax_.plot(values, \"-r\")\n",
    "        idx += 1"
   ]
  },
  {
   "cell_type": "code",
   "execution_count": null,
   "id": "124ab066-d162-42ec-bd05-92fa5a2af936",
   "metadata": {
    "tags": []
   },
   "outputs": [],
   "source": [
    "sns.set()\n",
    "# pd.options.plotting.backend = \"matplotlib\"\n",
    "targets = pd.get_dummies(final_data.target)\n",
    "f_sets_kendall = {}\n",
    "f_sets_p = {}\n",
    "for i in range(3):\n",
    "    g1 = (\n",
    "        final_data_indvl.drop([\"target\"], axis=1)\n",
    "        .astype(np.float64)\n",
    "        .corrwith(pd.get_dummies(final_data.target)[i], method=\"kendall\")\n",
    "        .sort_values()\n",
    "    )\n",
    "    g2 = g1[(g1 > 0) | (g1 < 0)]\n",
    "    non_lin, lin = g1[g1 < 0].index, g1[g1 > 0].index\n",
    "    f_sets_kendall[i] = (non_lin, lin)\n",
    "    g1 = (\n",
    "        final_data_indvl.drop([\"target\"], axis=1)\n",
    "        .astype(np.float64)\n",
    "        .corrwith(pd.get_dummies(final_data.target)[i], method=\"pearson\")\n",
    "        .sort_values()\n",
    "    )\n",
    "    g2 = g1[(g1 > 0) | (g1 < 0)]\n",
    "    non_lin, lin = g1[g1 < 0].index, g1[g1 > 0].index\n",
    "    f_sets_p[i] = (non_lin, lin)"
   ]
  },
  {
   "cell_type": "code",
   "execution_count": null,
   "id": "40241e9e-28d5-4807-a1f0-e840cef8188a",
   "metadata": {
    "tags": []
   },
   "outputs": [],
   "source": [
    "for k, v in f_sets_kendall.items():\n",
    "    nl, l = f_sets_kendall[k]\n",
    "    print(len(nl), len(l))"
   ]
  },
  {
   "cell_type": "code",
   "execution_count": null,
   "id": "a8f64428-e859-4b37-b476-f4225cf3351c",
   "metadata": {
    "tags": []
   },
   "outputs": [],
   "source": [
    "# nd: pd.DataFrame = final_data.loc[:,nominal].astype('float')\n",
    "# nd.corrwith(final_data.loc[:,binary+ordinal+ratio].astype('float'))\n",
    "final_data_indvl.corr(method=\"kendall\")\n",
    "\n",
    "fi_indvl_corr = final_data_indvl.corr(method=\"kendall\")"
   ]
  },
  {
   "cell_type": "code",
   "execution_count": null,
   "id": "3a35671b-4e14-42fd-8649-8413f6a7fd0f",
   "metadata": {
    "jupyter": {
     "source_hidden": true
    },
    "tags": []
   },
   "outputs": [],
   "source": [
    "# MAX 0.56\n",
    "\n",
    "\n",
    "# Import Data and One Hot Encode with Drop First\n",
    "final_data_indvl = pd.get_dummies(\n",
    "    final_data_indvl, columns=nominal, drop_first=True, sparse=False, dtype=np.float64\n",
    ")\n",
    "mean_test_val_clf = defaultdict(list)\n",
    "# model = NuSVC(nu=0.5,kernel='poly',degree=2,random_state=0)\n",
    "mem = Memory(\"../data/tmp/\")\n",
    "for clf in tqdm(classifiers):\n",
    "    nw_noms = list(\n",
    "        set(final_data_indvl.columns)\n",
    "        - set(binary)\n",
    "        - set(ratio)\n",
    "        - set(ordinal)\n",
    "        - {\"target\"}\n",
    "    )\n",
    "    for _i in range(5, 150, 50):\n",
    "        feature_agglomeration = FeatureAgglomeration(\n",
    "            n_clusters=_i,\n",
    "            affinity=\"euclidean\",\n",
    "            memory=mem,\n",
    "            compute_full_tree=True,\n",
    "            linkage=\"ward\",\n",
    "            compute_distances=True,\n",
    "        )\n",
    "        check = feature_agglomeration.fit_transform(\n",
    "            final_data_indvl.loc[:, nw_noms].astype(np.float64)\n",
    "        )\n",
    "        with parallel_backend(\"loky\"):\n",
    "            # rpt = cross_validate(OneVsOneClassifier(NuSVC(nu=0.5,kernel='poly',degree=4,random_state=0)),check,final_data.target,cv=3,n_jobs=-1)\n",
    "            try:\n",
    "                rpt = cross_validate(\n",
    "                    OneVsOneClassifier(clf),\n",
    "                    check,\n",
    "                    final_data.target,\n",
    "                    cv=3,\n",
    "                    n_jobs=-1,\n",
    "                    scoring=\"f1_micro\",\n",
    "                )\n",
    "            except:\n",
    "                continue\n",
    "            # rpt = cross_validate(OneVsOneClassifier(LogisticRegression(fit_intercept=False,n_jobs=-1,random_state=0)),check,final_data.target,cv=3,n_jobs=-1)\n",
    "        mean_test_val_clf[clf.__class__.__name__].append(\n",
    "            (_i, rpt[\"test_score\"].mean(), rpt[\"test_score\"].std())\n",
    "        )\n",
    "\n",
    "\n",
    "# sns.set()\n",
    "# plot_agg_perf()\n",
    "mean_test_val_clf"
   ]
  },
  {
   "cell_type": "code",
   "execution_count": null,
   "id": "99ee227e-ae45-4efe-85e2-994c9622b997",
   "metadata": {
    "jupyter": {
     "source_hidden": true
    },
    "scrolled": true,
    "tags": []
   },
   "outputs": [],
   "source": [
    "# MAX 0.56\n",
    "\n",
    "\n",
    "# Pipeline\n",
    "final_data_indvl = pd.get_dummies(\n",
    "    final_data_indvl, columns=nominal, drop_first=True, sparse=False, dtype=np.float64\n",
    ")\n",
    "nw_noms = list(\n",
    "    set(final_data_indvl.columns) - set(binary) - set(ratio) - set(ordinal) - {\"target\"}\n",
    ")\n",
    "mem = Memory(\"../data/tmp3/\")\n",
    "mean_test_val_clf = defaultdict(list)\n",
    "for clf in tqdm(classifiers):\n",
    "    pipe = Pipeline(\n",
    "        steps=[\n",
    "            (\"variancethreshold\", VarianceThreshold()),\n",
    "            (\"rfecv\", RFE(estimator=clf)),\n",
    "            (clf.__class__.__name__, clf),\n",
    "        ]\n",
    "    )\n",
    "    with parallel_backend(\"loky\"):\n",
    "        try:\n",
    "            rpt = cross_validate(\n",
    "                OneVsOneClassifier(pipe, n_jobs=-1),\n",
    "                final_data_indvl.loc[:, nw_noms],\n",
    "                final_data.target,\n",
    "                cv=3,\n",
    "                n_jobs=-1,\n",
    "                scoring=\"f1_micro\",\n",
    "            )\n",
    "        except:\n",
    "            continue\n",
    "        # rpt = cross_validate(OneVsOneClassifier(LogisticRegression(fit_intercept=False,n_jobs=-1,random_state=0)),check,final_data.target,cv=3,n_jobs=-1)\n",
    "    mean_test_val_clf[clf.__class__.__name__].append(\n",
    "        (rpt[\"test_score\"].mean(), rpt[\"test_score\"].std())\n",
    "    )\n",
    "mean_test_val_clf"
   ]
  },
  {
   "cell_type": "code",
   "execution_count": null,
   "id": "57360a66-b97a-47c6-9553-96885b9ff6ee",
   "metadata": {
    "jupyter": {
     "source_hidden": true
    },
    "tags": []
   },
   "outputs": [],
   "source": [
    "def plot_agg_perf(mean_test_val):\n",
    "    plt.figure(figsize=(10, 5))\n",
    "    # for i in range(3):\n",
    "    c, mu, err = zip(*mean_test_val)\n",
    "    nerr = np.asarray(mu) + -1 * np.asarray(err)\n",
    "    perr = np.asarray(mu) + np.asarray(err)\n",
    "    # perr = mu+err\n",
    "    fi = plt.plot(c, perr)\n",
    "    fi = plt.plot(c, mu, label=f\"Mean Test Score in Label\")\n",
    "    fi = plt.plot(c, nerr)\n",
    "    plt.fill_between(\n",
    "        c, perr, nerr, \"r\", alpha=0.5, color=\"g\", animated=True, cmap=\"inferno\"\n",
    "    )\n",
    "    tg = plt.legend(loc=\"lower right\")"
   ]
  },
  {
   "cell_type": "code",
   "execution_count": null,
   "id": "5c4ac338-b4d0-4ccc-9a58-ca9058a9d507",
   "metadata": {
    "jupyter": {
     "source_hidden": true
    },
    "tags": []
   },
   "outputs": [],
   "source": [
    "xgb_params = {\n",
    "    \"base_score\": None,\n",
    "    \"booster\": \"gbtree\",\n",
    "    # 'colsample_bylevel': None,\n",
    "    # 'colsample_bynode': None,\n",
    "    # 'colsample_bytree': None,\n",
    "    \"gamma\": 0,\n",
    "    # 'gpu_id': None,\n",
    "    \"importance_type\": \"total_cover\",\n",
    "    # 'interaction_constraints': None,\n",
    "    \"learning_rate\": 0.2,\n",
    "    \"eval_metric\": \"aucpr\",\n",
    "    \"max_delta_step\": None,\n",
    "    # 'max_depth': 0,\n",
    "    \"min_child_weight\": 1,\n",
    "    # 'missing': np.nan,\n",
    "    \"monotone_constraints\": None,\n",
    "    \"n_estimators\": 100,\n",
    "    # 'updater': 'grow_colmaker',\n",
    "    \"n_jobs\": -1,\n",
    "    \"num_parallel_tree\": None,\n",
    "    \"random_state\": 42,\n",
    "    \"reg_alpha\": None,\n",
    "    \"reg_lambda\": None,\n",
    "    \"scale_pos_weight\": None,\n",
    "    \"subsample\": 0.5,\n",
    "    \"tree_method\": \"approx\",\n",
    "    \"use_label_encoder\": False,\n",
    "    \"validate_parameters\": None,\n",
    "    \"verbosity\": 1,\n",
    "}\n",
    "h2 = XGBClassifier(n_jobs=-1)\n",
    "\n",
    "\n",
    "le = LabelEncoder()\n",
    "\n",
    "# h1.fit(X,y)\n",
    "\n",
    "\n",
    "# h1 = XGBClassifier(n_estimators=50,random_state=0,max_depth=30,n_jobs=-1,eval_metric='mlogloss')\n",
    "h1 = XGBClassifier(n_jobs=-1)\n",
    "\n",
    "\n",
    "fbc = FeatBoostClassifier(\n",
    "    [\n",
    "        h1,\n",
    "        LogisticRegression(\n",
    "            random_state=43,\n",
    "            tol=0.00000001,\n",
    "            max_iter=10000,\n",
    "            n_jobs=-1,\n",
    "            fit_intercept=False,\n",
    "        ),\n",
    "    ],\n",
    "    number_of_folds=3,\n",
    "    max_number_of_features=50,\n",
    "    metric=\"f1\",\n",
    "    verbose=2,\n",
    "    siso_ranking_size=20,\n",
    ")\n",
    "# fbc = FeatBoostClassifier(RandomForestClassifier(n_jobs=-1))"
   ]
  },
  {
   "cell_type": "code",
   "execution_count": null,
   "id": "071a2124-ac7b-4dc1-8900-44dbeb58e0ee",
   "metadata": {
    "jupyter": {
     "source_hidden": true
    },
    "scrolled": true,
    "tags": []
   },
   "outputs": [],
   "source": [
    "with parallel_backend(\"loky\"):\n",
    "    fbc.fit(x__, y)"
   ]
  },
  {
   "cell_type": "code",
   "execution_count": null,
   "id": "bfba77e8-8b6c-424b-aeef-96be5e401a45",
   "metadata": {
    "jupyter": {
     "source_hidden": true
    },
    "tags": []
   },
   "outputs": [],
   "source": [
    "x__ = final_data_indvl.loc[:, nw_noms].to_numpy()"
   ]
  },
  {
   "cell_type": "code",
   "execution_count": null,
   "id": "bb87d2bf-869d-4986-9ca1-8d438b5167cb",
   "metadata": {
    "jupyter": {
     "source_hidden": true
    },
    "tags": []
   },
   "outputs": [],
   "source": [
    "tx__ = fbc.transform(x__)"
   ]
  },
  {
   "cell_type": "code",
   "execution_count": null,
   "id": "4604be4a-8edd-4895-9eed-c597b10096ae",
   "metadata": {
    "jupyter": {
     "source_hidden": true
    },
    "tags": []
   },
   "outputs": [],
   "source": [
    "lcv = LogisticRegressionCV(\n",
    "    Cs=100,\n",
    "    fit_intercept=False,\n",
    "    cv=RepeatedStratifiedKFold(n_repeats=3, n_splits=3),\n",
    "    dual=False,\n",
    "    penalty=\"l2\",\n",
    "    scoring=\"f1_macro\",\n",
    "    solver=\"lbfgs\",\n",
    "    tol=0.0000000001,\n",
    "    max_iter=10000,\n",
    "    # class_weight=None,\n",
    "    n_jobs=-1,\n",
    "    verbose=0,\n",
    "    refit=True,\n",
    "    # intercept_scaling=1.0,\n",
    "    multi_class=\"ovr\",\n",
    "    random_state=42,\n",
    "    l1_ratios=np.linspace(0.0001, 0.9999, num=10),\n",
    ")\n",
    "lcv"
   ]
  },
  {
   "cell_type": "code",
   "execution_count": 195,
   "id": "d5b705d3-d7a2-4838-9ce2-f38b45c9f8a0",
   "metadata": {},
   "outputs": [],
   "source": [
    "medi = medi.loc[:, [\"v_29\", \"v_22\", \"decimal_values_29\", \"decimal_values_22\"]]\n",
    "\n",
    "medi_29 = medi.sort_values(by=\"v_29\", axis=0)\n",
    "\n",
    "medi_29.sort_values(by=\"v_29\", inplace=True)\n",
    "\n",
    "tempdf = pd.DataFrame()\n",
    "\n",
    "tempdf[\"v_29\"] = medi_29.v_29 + medi_29.decimal_values_29\n",
    "\n",
    "tempdf[\"v_22\"] = medi_29.v_22 + medi_29.decimal_values_22"
   ]
  },
  {
   "cell_type": "code",
   "execution_count": 140,
   "id": "b7e0f887-ad4c-4d28-9879-ad6551228fbb",
   "metadata": {
    "jupyter": {
     "source_hidden": true
    },
    "tags": []
   },
   "outputs": [],
   "source": [
    "# # ordinal_data.columns\n",
    "\n",
    "# ordinal_data.v_29 = data.v_29\n",
    "\n",
    "# ordinal_data.v_22 = data.v_22\n",
    "\n",
    "# ordinal_data = separate_floating_value(ordinal_data)\n",
    "\n",
    "# nominal_data = nominal_data.astype(np.uint8)\n",
    "\n",
    "# nominal_data.info()"
   ]
  },
  {
   "cell_type": "code",
   "execution_count": 212,
   "id": "37171ed0-61f5-4321-b257-3668fec243fa",
   "metadata": {},
   "outputs": [
    {
     "data": {
      "text/plain": [
       "v_21    -0.042747\n",
       "v_32    -0.099336\n",
       "v_15     0.012123\n",
       "v_4     -0.019453\n",
       "v_1     -0.012368\n",
       "v_8     -0.057983\n",
       "v_12     0.010495\n",
       "v_25    -0.076107\n",
       "v_20    -0.045745\n",
       "v_18     0.041063\n",
       "v_3      0.064006\n",
       "v_11    -0.000913\n",
       "v_14    -0.005858\n",
       "v_26    -0.036007\n",
       "v_27     0.023907\n",
       "v_30    -0.048670\n",
       "v_9     -0.001762\n",
       "v_31    -0.198527\n",
       "v_28     0.004836\n",
       "v_13    -0.006180\n",
       "v_33     0.029574\n",
       "v_17     0.098969\n",
       "v_19     0.215180\n",
       "v_29     0.297882\n",
       "v_23    -0.019353\n",
       "v_24    -0.030006\n",
       "v_10     0.029318\n",
       "v_5      0.147685\n",
       "v_6      0.278750\n",
       "v_22     0.373071\n",
       "v_0     -0.035275\n",
       "v_7     -0.041763\n",
       "v_2     -0.045008\n",
       "v_16     0.023932\n",
       "v_34    -0.017565\n",
       "v_35     0.006083\n",
       "v_36     0.013118\n",
       "v_37    -0.004187\n",
       "v_38    -0.005791\n",
       "v_39    -0.007229\n",
       "v_40    -0.003273\n",
       "label    1.000000\n",
       "Name: label, dtype: float64"
      ]
     },
     "execution_count": 212,
     "metadata": {},
     "output_type": "execute_result"
    }
   ],
   "source": [
    "# corr_dat = data.corr()\n",
    "corr_dat.label"
   ]
  },
  {
   "cell_type": "code",
   "execution_count": 57,
   "id": "2560ee3e-787f-41f2-9d11-e700dae36c24",
   "metadata": {
    "tags": []
   },
   "outputs": [],
   "source": [
    "from pyvis.network import Network\n",
    "\n",
    "\n",
    "adj_list = gen_adj_list(0.9, data=data)\n",
    "\n",
    "\n",
    "# Adding Nodes\n",
    "def addfnetnodes(nets, data):\n",
    "    for c, f in enumerate(data.columns):\n",
    "        colr = None\n",
    "        if \"nom\" in f:\n",
    "            colr = \"#008000\"\n",
    "        elif \"ord\" in f:\n",
    "            colr = \"#800080\"\n",
    "        elif \"bin\" in f:\n",
    "            colr = \"#FFEC00\"\n",
    "        elif \"label\" in f:\n",
    "            colr = \"#D800FF\"\n",
    "        else:\n",
    "            colr = \"#FF0083\"\n",
    "        nets.add_node(c, label=f, shape=\"circle\", color=colr)\n",
    "    return nets\n",
    "\n",
    "\n",
    "def addfnetedges(nt: Network, nnli):\n",
    "    global adj_list\n",
    "    corr_mat = data.corr()\n",
    "    for nd in adj_list:\n",
    "        if len(adj_list[nd]) > 0:\n",
    "            for conn in adj_list[nd]:\n",
    "                nt.add_edge(nnli[nd], nnli[conn], weight=corr_mat.loc[nd, conn])\n",
    "    return nt\n",
    "\n",
    "\n",
    "def draw_feature_network():\n",
    "    global data, adj_list\n",
    "    fnet = Network(\n",
    "        notebook=False,\n",
    "        heading=\"Clustering of Features\",\n",
    "        height=\"1080px\",\n",
    "        width=\"2000px\",\n",
    "        font_color=\"#46ff00\",\n",
    "        bgcolor=\"#9ed6c8\",\n",
    "    )\n",
    "    fnet = addfnetnodes(fnet, data)\n",
    "    nnli = {f[\"label\"]: f[\"id\"] for f in fnet.nodes}  #  net_node_label_ids\n",
    "    fnet = addfnetedges(fnet, nnli)\n",
    "    fnet.toggle_physics(True)\n",
    "    fnet.set_options(\n",
    "        \"\"\"\n",
    "        const options = {\n",
    "        \"edges\": {\n",
    "        \"color\": {\n",
    "          \"inherit\": true\n",
    "        },\n",
    "        \"selfReferenceSize\": null,\n",
    "        \"selfReference\": {\n",
    "          \"angle\": 0.7853981633974483,\n",
    "          \"renderBehindTheNode\": false\n",
    "        },\n",
    "        \"smooth\": {\n",
    "          \"type\": \"vertical\",\n",
    "          \"forceDirection\": \"vertical\"\n",
    "        }\n",
    "        },\n",
    "        \"interaction\": {\n",
    "        \"hover\": true,\n",
    "        \"multiselect\": true,\n",
    "        \"navigationButtons\": true\n",
    "        },\n",
    "        \"manipulation\": {\n",
    "        \"enabled\": true,\n",
    "        \"initiallyActive\": true\n",
    "        },\n",
    "        \"physics\": {\n",
    "        \"hierarchicalRepulsion\": {\n",
    "          \"centralGravity\": 0,\n",
    "          \"springLength\": 440,\n",
    "          \"springConstant\": 0,\n",
    "          \"nodeDistance\": 90,\n",
    "          \"damping\": 1,\n",
    "          \"avoidOverlap\": 0.46\n",
    "        },\n",
    "        \"maxVelocity\": 1,\n",
    "        \"minVelocity\": 0.01,\n",
    "        \"solver\": \"hierarchicalRepulsion\",\n",
    "        \"timestep\": 0.54,\n",
    "        \"wind\": {\n",
    "          \"x\": 0\n",
    "        }\n",
    "        }\n",
    "        }\n",
    "        \"\"\"\n",
    "    )\n",
    "    return fnet"
   ]
  },
  {
   "cell_type": "code",
   "execution_count": 197,
   "id": "df9795a9-7e38-43fb-8549-5d947d6045c3",
   "metadata": {},
   "outputs": [
    {
     "name": "stdout",
     "output_type": "stream",
     "text": [
      "<class 'pandas.core.frame.DataFrame'>\n",
      "Int64Index: 3796 entries, 0 to 3795\n",
      "Data columns (total 8 columns):\n",
      " #   Column  Non-Null Count  Dtype\n",
      "---  ------  --------------  -----\n",
      " 0   v_1     3796 non-null   int64\n",
      " 1   v_26    3796 non-null   int64\n",
      " 2   v_11    3796 non-null   int64\n",
      " 3   v_14    3796 non-null   int64\n",
      " 4   v_30    3796 non-null   int64\n",
      " 5   v_28    3796 non-null   int64\n",
      " 6   v_9     3796 non-null   int64\n",
      " 7   v_27    3796 non-null   int64\n",
      "dtypes: int64(8)\n",
      "memory usage: 266.9 KB\n"
     ]
    }
   ],
   "source": [
    "binary_data.info()"
   ]
  },
  {
   "cell_type": "code",
   "execution_count": null,
   "id": "a53fb909-968f-45ed-95ed-5033bbab4229",
   "metadata": {
    "tags": []
   },
   "outputs": [
    {
     "data": {
      "image/png": "[encoded data removed]",
      "text/plain": [
       "<Figure size 2160x360 with 1 Axes>"
      ]
     },
     "metadata": {
      "needs_background": "light"
     },
     "output_type": "display_data"
    }
   ],
   "source": [
    "categorical = ordinal + nominal\n",
    "oridinal_categories_total = {}\n",
    "for c in ordinal:\n",
    "    # print(c, len(data[c].unique()))\n",
    "    oridinal_categories_total[c] = len(data[c].unique())\n",
    "fig = plt.figure(figsize=(30, 5))\n",
    "\n",
    "fig = sns.barplot(\n",
    "    x=ordinal,\n",
    "    saturation=1,\n",
    "    y=list(oridinal_categories_total.values()),\n",
    "    label=\"Total Catagories in Each Ordinal Feature\",\n",
    "    color=\"r\",\n",
    ")\n",
    "plt.legend()\n",
    "# plt.table(ordinal)\n",
    "plt.shor()"
   ]
  },
  {
   "cell_type": "markdown",
   "id": "c87e223f-b49c-4864-bcaf-a461c81bdf3e",
   "metadata": {},
   "source": [
    "##### After Removing the decimal Part from the features"
   ]
  },
  {
   "cell_type": "code",
   "execution_count": null,
   "id": "ddcaa251-967c-450c-9c0e-369e4e28a6c2",
   "metadata": {
    "tags": []
   },
   "outputs": [
    {
     "data": {
      "image/png": "[encoded data removed]",
      "text/plain": [
       "<Figure size 2160x360 with 1 Axes>"
      ]
     },
     "metadata": {
      "needs_background": "light"
     },
     "output_type": "display_data"
    }
   ],
   "source": [
    "categorical = ordinal + nominal\n",
    "oridinal_categories_total = {}\n",
    "for c in ordinal_data.columns:\n",
    "    # print(c, len(data[c].unique()))\n",
    "    oridinal_categories_total[c] = len(ordinal_data[c].unique())\n",
    "fig = plt.figure(figsize=(30, 5))\n",
    "\n",
    "fig = sns.barplot(\n",
    "    x=ordinal_data.columns,\n",
    "    saturation=1,\n",
    "    y=list(oridinal_categories_total.values()),\n",
    "    label=\"Total Catagories in Each Ordinal Feature\",\n",
    "    color=\"r\",\n",
    ")\n",
    "# plt.table(ordinal)\n",
    "# fig = plt.title\n",
    "plt.xlabel = \"After CLeanup\"\n",
    "fig = plt.legend()\n",
    "fig = plt.show()"
   ]
  },
  {
   "cell_type": "code",
   "execution_count": null,
   "id": "0b0ce8d2-f45a-4a1f-bce4-0561a47945d8",
   "metadata": {},
   "outputs": [
    {
     "data": {
      "text/html": [
       "<style type=\"text/css\">\n",
       "</style>\n",
       "<table id=\"T_ff749\">\n",
       "  <thead>\n",
       "    <tr>\n",
       "      <th class=\"blank level0\" >&nbsp;</th>\n",
       "      <th id=\"T_ff749_level0_col0\" class=\"col_heading level0 col0\" >v_31</th>\n",
       "      <th id=\"T_ff749_level0_col1\" class=\"col_heading level0 col1\" >v_15</th>\n",
       "      <th id=\"T_ff749_level0_col2\" class=\"col_heading level0 col2\" >v_19</th>\n",
       "      <th id=\"T_ff749_level0_col3\" class=\"col_heading level0 col3\" >v_13</th>\n",
       "      <th id=\"T_ff749_level0_col4\" class=\"col_heading level0 col4\" >v_33</th>\n",
       "      <th id=\"T_ff749_level0_col5\" class=\"col_heading level0 col5\" >v_17</th>\n",
       "      <th id=\"T_ff749_level0_col6\" class=\"col_heading level0 col6\" >v_29</th>\n",
       "      <th id=\"T_ff749_level0_col7\" class=\"col_heading level0 col7\" >v_23</th>\n",
       "      <th id=\"T_ff749_level0_col8\" class=\"col_heading level0 col8\" >v_6</th>\n",
       "      <th id=\"T_ff749_level0_col9\" class=\"col_heading level0 col9\" >v_24</th>\n",
       "      <th id=\"T_ff749_level0_col10\" class=\"col_heading level0 col10\" >v_10</th>\n",
       "      <th id=\"T_ff749_level0_col11\" class=\"col_heading level0 col11\" >v_5</th>\n",
       "      <th id=\"T_ff749_level0_col12\" class=\"col_heading level0 col12\" >v_22</th>\n",
       "      <th id=\"T_ff749_level0_col13\" class=\"col_heading level0 col13\" >v_0</th>\n",
       "      <th id=\"T_ff749_level0_col14\" class=\"col_heading level0 col14\" >decimal_values_29</th>\n",
       "      <th id=\"T_ff749_level0_col15\" class=\"col_heading level0 col15\" >decimal_values_22</th>\n",
       "    </tr>\n",
       "  </thead>\n",
       "  <tbody>\n",
       "    <tr>\n",
       "      <th id=\"T_ff749_level0_row0\" class=\"row_heading level0 row0\" >count</th>\n",
       "      <td id=\"T_ff749_row0_col0\" class=\"data row0 col0\" >48</td>\n",
       "      <td id=\"T_ff749_row0_col1\" class=\"data row0 col1\" >17</td>\n",
       "      <td id=\"T_ff749_row0_col2\" class=\"data row0 col2\" >26</td>\n",
       "      <td id=\"T_ff749_row0_col3\" class=\"data row0 col3\" >22</td>\n",
       "      <td id=\"T_ff749_row0_col4\" class=\"data row0 col4\" >26</td>\n",
       "      <td id=\"T_ff749_row0_col5\" class=\"data row0 col5\" >36</td>\n",
       "      <td id=\"T_ff749_row0_col6\" class=\"data row0 col6\" >26</td>\n",
       "      <td id=\"T_ff749_row0_col7\" class=\"data row0 col7\" >14</td>\n",
       "      <td id=\"T_ff749_row0_col8\" class=\"data row0 col8\" >21</td>\n",
       "      <td id=\"T_ff749_row0_col9\" class=\"data row0 col9\" >22</td>\n",
       "      <td id=\"T_ff749_row0_col10\" class=\"data row0 col10\" >23</td>\n",
       "      <td id=\"T_ff749_row0_col11\" class=\"data row0 col11\" >30</td>\n",
       "      <td id=\"T_ff749_row0_col12\" class=\"data row0 col12\" >26</td>\n",
       "      <td id=\"T_ff749_row0_col13\" class=\"data row0 col13\" >15</td>\n",
       "      <td id=\"T_ff749_row0_col14\" class=\"data row0 col14\" >411</td>\n",
       "      <td id=\"T_ff749_row0_col15\" class=\"data row0 col15\" >403</td>\n",
       "    </tr>\n",
       "  </tbody>\n",
       "</table>\n"
      ],
      "text/plain": [
       "<pandas.io.formats.style.Styler at 0x7f5cde4ca250>"
      ]
     },
     "execution_count": 10,
     "metadata": {},
     "output_type": "execute_result"
    }
   ],
   "source": [
    "# pd\n",
    "temp = pd.DataFrame(\n",
    "    oridinal_categories_total, columns=oridinal_categories_total.keys(), index=[\"count\"]\n",
    ")\n",
    "temp.style"
   ]
  },
  {
   "cell_type": "code",
   "execution_count": null,
   "id": "f4bffcba-3d98-476e-a78b-33d3d44530fe",
   "metadata": {},
   "outputs": [],
   "source": [
    "for c in ordinal_data.columns:\n",
    "    if \"decimal\" not in c:\n",
    "        ordinal_data[c] = ordinal_data[c].astype(np.uint8)"
   ]
  },
  {
   "cell_type": "code",
   "execution_count": null,
   "id": "6248efd1-0fd6-4812-b28b-565582deb4fe",
   "metadata": {
    "tags": []
   },
   "outputs": [],
   "source": [
    "# def print_num_cat(dd):\n",
    "    for c in dd.columns:\n",
    "        print(c,\"\\t|\\t\", len(dd[c].unique()))\n",
    "        print(\"-\"*30)\n",
    "\n",
    "print(\"Binary\")\n",
    "print_num_cat(binary_data)\n",
    "# print(\"-\"*30)\n",
    "print(\"\\n\"*4)\n",
    "\n",
    "print(\"Nominal\")\n",
    "print_num_cat(nominal_data)\n",
    "print(\"\\n\"*4)\n",
    "print(\"Ordinal\")\n",
    "print_num_cat(ordinal_data)"
   ]
  },
  {
   "cell_type": "code",
   "execution_count": null,
   "id": "2d5353d9-560f-4e15-bc55-01279130d2e7",
   "metadata": {},
   "outputs": [
    {
     "data": {
      "text/plain": [
       "(2496,)"
      ]
     },
     "execution_count": 136,
     "metadata": {},
     "output_type": "execute_result"
    }
   ],
   "source": [
    "ordinal_data.decimal_values_22[ordinal_data.decimal_values_22! = 0].shape"
   ]
  },
  {
   "cell_type": "code",
   "execution_count": null,
   "id": "469216b6-f39b-4073-bc01-3a0bc6036cef",
   "metadata": {},
   "outputs": [],
   "source": [
    "fig = plt.figure(figsize=(30, 10))\n",
    "\n",
    "hm = sns.heatmap(data.corr())"
   ]
  },
  {
   "cell_type": "code",
   "execution_count": null,
   "id": "e5ca1bf3-7c8a-4b45-b1a9-56042c562d73",
   "metadata": {},
   "outputs": [],
   "source": [
    "corr_mat = data.corr()"
   ]
  },
  {
   "cell_type": "code",
   "execution_count": null,
   "id": "1c5b7cf6-248d-4c0f-b41e-963207b96ce8",
   "metadata": {},
   "outputs": [],
   "source": [
    "training_target = data.label\n",
    "df = data.drop([\"label\"], axis=1)\n",
    "# len(df.columns)\n",
    "corr_mat"
   ]
  },
  {
   "cell_type": "code",
   "execution_count": 196,
   "id": "bb343b1f-8a78-46da-a258-ac6d74dd66f1",
   "metadata": {},
   "outputs": [
    {
     "name": "stdout",
     "output_type": "stream",
     "text": [
      "<class 'pandas.core.frame.DataFrame'>\n",
      "Int64Index: 3796 entries, 0 to 3795\n",
      "Data columns (total 16 columns):\n",
      " #   Column             Non-Null Count  Dtype  \n",
      "---  ------             --------------  -----  \n",
      " 0   v_31               3796 non-null   uint8  \n",
      " 1   v_15               3796 non-null   uint8  \n",
      " 2   v_19               3796 non-null   uint8  \n",
      " 3   v_13               3796 non-null   uint8  \n",
      " 4   v_33               3796 non-null   uint8  \n",
      " 5   v_17               3796 non-null   uint8  \n",
      " 6   v_29               3796 non-null   uint8  \n",
      " 7   v_23               3796 non-null   uint8  \n",
      " 8   v_6                3796 non-null   uint8  \n",
      " 9   v_24               3796 non-null   uint8  \n",
      " 10  v_10               3796 non-null   uint8  \n",
      " 11  v_5                3796 non-null   uint8  \n",
      " 12  v_22               3796 non-null   uint8  \n",
      " 13  v_0                3796 non-null   uint8  \n",
      " 14  decimal_values_29  3796 non-null   float64\n",
      " 15  decimal_values_22  3796 non-null   float64\n",
      "dtypes: float64(2), uint8(14)\n",
      "memory usage: 140.9 KB\n"
     ]
    }
   ],
   "source": [
    "ordinal_data.info()"
   ]
  },
  {
   "cell_type": "code",
   "execution_count": 178,
   "id": "71e38e8f-457d-4f39-91c1-25a4bfdccd3b",
   "metadata": {},
   "outputs": [],
   "source": [
    "# for c in ordinal+nominal:\n",
    "#     data[c] = data[c].astype('category')\n",
    "# Too soon"
   ]
  },
  {
   "cell_type": "markdown",
   "id": "b1b1eea3-7877-4436-ad55-f15207be5e72",
   "metadata": {
    "tags": []
   },
   "source": [
    "### Delete Unwanted Categories"
   ]
  },
  {
   "cell_type": "raw",
   "id": "00193c1e-51f3-476f-9bc0-4be4016f24bd",
   "metadata": {
    "tags": []
   },
   "source": [
    "#### Unique Categories within each feature"
   ]
  },
  {
   "cell_type": "raw",
   "id": "faeaefee-68ce-4f7c-ad74-49015bf9e9e9",
   "metadata": {
    "tags": []
   },
   "source": [
    "\"\"\"\n",
    "Unique Categories within each categorical feature.\n",
    "\"\"\"\n",
    "fig, ax = plt.subplots(2, 2, figsize=(20, 10), squeeze=False, sharey=True)\n",
    "data_to_plot = [ordinal_data, nominal_data, ordinal_data_eval, nominal_data_eval]\n",
    "fig.suptitle(\n",
    "    \"Unique Categories within each categorical feature\".upper(), fontweight=\"bold\"\n",
    ")\n",
    "data_titles = [\n",
    "    \"Ordinal Categories(Train)\",\n",
    "    \"Nominal Categories(Train)\",\n",
    "    \"Ordinal Categories(Eval)\",\n",
    "    \"Nominal Categories(Eval)\",\n",
    "]\n",
    "idx = 0\n",
    "for i in range(2):\n",
    "    for j in range(2):\n",
    "        ax_ = ax[i, j]\n",
    "        data = data_to_plot[idx]\n",
    "\n",
    "        values = data.nunique().values\n",
    "        Xlabels = [x.split(\"__\")[1] for x in data.nunique().index]\n",
    "        disp = ax_.bar(x=Xlabels, height=values)\n",
    "        disp1 = ax_.set_title(data_titles[idx], fontweight=\"bold\")\n",
    "        disp2 = ax_.set_xticklabels(Xlabels, rotation=90)\n",
    "        ax_.bar_label(container=disp, fontweight=\"bold\")\n",
    "        ax_.plot(values, \"-r\")\n",
    "        idx += 1"
   ]
  },
  {
   "cell_type": "raw",
   "id": "97be6158-00ff-4ed9-b0a2-5021367556f6",
   "metadata": {
    "tags": []
   },
   "source": [
    "#### Nominal Categories to Delete"
   ]
  },
  {
   "cell_type": "raw",
   "id": "aecdc285-81cf-4dc4-9352-518832fae764",
   "metadata": {
    "tags": []
   },
   "source": [
    "\"\"\"\n",
    "Nominal Categories to delete = Unique_Categories (Union - Intersection)\n",
    "\"\"\"\n",
    "\n",
    "\n",
    "def find_nominal_uncommon_categories(\n",
    "    nominal_data=nominal_data, nominal_data_eval=nominal_data_eval\n",
    "):\n",
    "    missing_categories_dict = {}\n",
    "    for c in nominal:\n",
    "        nominal_data[c]: pd.Series\n",
    "        unique_categories_train = set(nominal_data[c].unique())\n",
    "        # print(unique_categories_test)\n",
    "        unique_categories_eval = set(nominal_data_eval[c].unique())\n",
    "        all_categories = unique_categories_train.union(unique_categories_eval)\n",
    "        common_categories = unique_categories_train.intersection(unique_categories_eval)\n",
    "        missing_categories = all_categories - common_categories\n",
    "        missing_categories_dict[c] = list(missing_categories)\n",
    "    return missing_categories_dict\n",
    "\n",
    "\n",
    "missing_categories_dict = find_nominal_uncommon_categories()\n",
    "\n",
    "\n",
    "def classify_uncommon_nominal_categories_zero(row):\n",
    "    for c in nominal:\n",
    "        if row[c] in missing_categories_dict[c]:\n",
    "            row[c] = 0\n",
    "    return row\n",
    "\n",
    "\n",
    "nominal_data_t = nominal_data.copy()\n",
    "nominal_data_t = nominal_data_t.apply(classify_uncommon_nominal_categories_zero, axis=1)\n",
    "\n",
    "nominal_data_eval_t = nominal_data_eval.copy()\n",
    "nominal_data_eval_t = nominal_data_eval.apply(\n",
    "    classify_uncommon_nominal_categories_zero, axis=1\n",
    ")"
   ]
  },
  {
   "cell_type": "raw",
   "id": "06fda77c-2390-4239-878e-e013ba95da4b",
   "metadata": {
    "tags": []
   },
   "source": [
    "total_ambiguos_labels_master = {k: 0 for k in nominal}\n",
    "total_ambiguos_labels_train = {k: 0 for k in nominal}\n",
    "total_ambiguos_labels_eval = {k: 0 for k in nominal}\n",
    "\n",
    "for k, v in missing_categories_dict.items():\n",
    "    value_counts_train = nominal_data[k].value_counts().to_dict()\n",
    "    value_counts_eval = nominal_data_eval[k].value_counts().to_dict()\n",
    "    # print(value_counts_train)\n",
    "    for val in v:\n",
    "        if val in value_counts_train:\n",
    "            # if k in total_ambiguos_labels_train:\n",
    "            total_ambiguos_labels_train[k] += value_counts_train[val]\n",
    "            total_ambiguos_labels_master[k] += value_counts_train[val]\n",
    "        if val in value_counts_eval:\n",
    "            total_ambiguos_labels_eval[k] += value_counts_eval[val]\n",
    "            total_ambiguos_labels_master[k] += value_counts_eval[val]"
   ]
  },
  {
   "cell_type": "raw",
   "id": "00d780f6-de79-4c9f-84ce-18745a5f4b1f",
   "metadata": {
    "tags": []
   },
   "source": [
    "data_to_plot = [\n",
    "    total_ambiguos_labels_master,\n",
    "    total_ambiguos_labels_train,\n",
    "    total_ambiguos_labels_eval,\n",
    "]\n",
    "data_titles = [\n",
    "    \"Total Ambiguos Nominal Categories (Master)\",\n",
    "    \"Total Ambiguos Nominal Categories (Train)\",\n",
    "    \"Total Ambiguos Nominal Categories (Eval)\",\n",
    "]\n",
    "fig, ax = plt.subplots(1, 3, squeeze=False, figsize=(20, 10))\n",
    "\n",
    "for idx in range(3):\n",
    "    # ax_ = ax[idx]\n",
    "    data = data_to_plot[idx]\n",
    "    disp = ax[0, idx].bar(data.keys(), height=data.values())\n",
    "    disp1 = ax[0, idx].set_xticklabels(data.keys(), rotation=90)\n",
    "    disp = ax[0, idx].bar_label(container=disp, fontweight=\"bold\")\n",
    "    disp2 = ax[0, idx].set_title(data_titles[idx].upper(), fontweight=\"bold\")"
   ]
  },
  {
   "cell_type": "raw",
   "id": "97c4aa37-b3fe-4019-bfa5-8699339116fa",
   "metadata": {
    "tags": []
   },
   "source": [
    "\"\"\"\n",
    "Unique Categories within each categorical feature.\n",
    "\"\"\"\n",
    "fig, ax = plt.subplots(2, 2, figsize=(20, 10), squeeze=False, sharey=True)\n",
    "data_to_plot = [ordinal_data, nominal_data_t, ordinal_data_eval, nominal_data_eval_t]\n",
    "fig.suptitle(\n",
    "    \"Unique Categories within each categorical feature \\n After removing uncommon nominal categories\".upper(),\n",
    "    fontweight=\"bold\",\n",
    ")\n",
    "data_titles = [\n",
    "    \"Ordinal Categories(Train)\",\n",
    "    \"Nominal Categories(Train)\",\n",
    "    \"Ordinal Categories(Eval)\",\n",
    "    \"Nominal Categories(Eval)\",\n",
    "]\n",
    "idx = 0\n",
    "for i in range(2):\n",
    "    for j in range(2):\n",
    "        ax_ = ax[i, j]\n",
    "        data = data_to_plot[idx]\n",
    "\n",
    "        values = data.nunique().values\n",
    "        Xlabels = [x.split(\"__\")[1] for x in data.nunique().index]\n",
    "        disp = ax_.bar(x=Xlabels, height=values)\n",
    "        disp1 = ax_.set_title(data_titles[idx], fontweight=\"bold\")\n",
    "        disp2 = ax_.set_xticklabels(Xlabels, rotation=90)\n",
    "        ax_.bar_label(container=disp, fontweight=\"bold\")\n",
    "        ax_.plot(values, \"-r\")\n",
    "        idx += 1"
   ]
  },
  {
   "cell_type": "raw",
   "id": "d69027c7-41cf-431d-bf41-89433e4aa2f3",
   "metadata": {
    "tags": []
   },
   "source": [
    "#### Ordinal Categories to delete"
   ]
  },
  {
   "cell_type": "raw",
   "id": "512fd1c4-9156-47c4-a461-fe2b254d440d",
   "metadata": {
    "tags": []
   },
   "source": [
    "\"\"\"\n",
    "Ordinal Categories to delete = Unique_Categories (Union - Intersection)\n",
    "\"\"\"\n",
    "\n",
    "\n",
    "def find_ordinal_uncommon_categories(\n",
    "    ordinal_data=ordinal_data, ordinal_data_eval=ordinal_data_eval\n",
    "):\n",
    "    missing_categories_dict = {}\n",
    "    for c in ordinal:\n",
    "        nominal_data[c]: pd.Series\n",
    "        unique_categories_train = set(ordinal_data[c].unique())\n",
    "        # print(unique_categories_test)\n",
    "        unique_categories_eval = set(ordinal_data_eval[c].unique())\n",
    "        all_categories = unique_categories_train.union(unique_categories_eval)\n",
    "        common_categories = unique_categories_train.intersection(unique_categories_eval)\n",
    "        missing_categories = all_categories - common_categories\n",
    "        missing_categories_dict[c] = list(missing_categories)\n",
    "    return missing_categories_dict\n",
    "\n",
    "\n",
    "missing_categories_dict = find_ordinal_uncommon_categories()\n",
    "missing_categories_count_ordinal = {\n",
    "    k: len(v) for k, v in missing_categories_dict.items()\n",
    "}\n",
    "\n",
    "\n",
    "def classify_uncommon_ordinal_categories_zero(row):\n",
    "    for c in ordinal:\n",
    "        if row[c] in missing_categories_dict[c]:\n",
    "            row[c] = 0\n",
    "    return row\n",
    "\n",
    "\n",
    "ordinal_data_t = ordinal_data.copy()\n",
    "ordinal_data_t = ordinal_data_t.apply(classify_uncommon_ordinal_categories_zero, axis=1)\n",
    "\n",
    "ordinal_data_eval_t = ordinal_data_eval.copy()\n",
    "ordianl_data_eval_t = ordinal_data_eval.apply(\n",
    "    classify_uncommon_ordinal_categories_zero, axis=1\n",
    ")"
   ]
  },
  {
   "cell_type": "raw",
   "id": "3cd50b57-855f-457e-9d7a-1bfd4f991e33",
   "metadata": {
    "tags": []
   },
   "source": [
    "total_ambiguos_labels_master = {k: 0 for k in ordinal}\n",
    "total_ambiguos_labels_train = {k: 0 for k in ordinal}\n",
    "total_ambiguos_labels_eval = {k: 0 for k in ordinal}\n",
    "\n",
    "for k, v in missing_categories_dict.items():\n",
    "    value_counts_train = ordinal_data[k].value_counts().to_dict()\n",
    "    value_counts_eval = ordinal_data_eval[k].value_counts().to_dict()\n",
    "    # print(value_counts_train)\n",
    "    for val in v:\n",
    "        if val in value_counts_train:\n",
    "            # if k in total_ambiguos_labels_train:\n",
    "            total_ambiguos_labels_train[k] += value_counts_train[val]\n",
    "            total_ambiguos_labels_master[k] += value_counts_train[val]\n",
    "        if val in value_counts_eval:\n",
    "            total_ambiguos_labels_eval[k] += value_counts_eval[val]\n",
    "            total_ambiguos_labels_master[k] += value_counts_eval[val]"
   ]
  },
  {
   "cell_type": "raw",
   "id": "7552e5ad-5ed9-49e3-84e0-74f63f16066d",
   "metadata": {
    "tags": []
   },
   "source": [
    "data_to_plot = [\n",
    "    total_ambiguos_labels_master,\n",
    "    total_ambiguos_labels_train,\n",
    "    total_ambiguos_labels_eval,\n",
    "]\n",
    "data_titles = [\n",
    "    \"Total Ambiguos Ordinal Categories (Master)\",\n",
    "    \"Total Ambiguos Ordinal Categories (Train)\",\n",
    "    \"Total Ambiguos Ordinal Categories (Eval)\",\n",
    "]\n",
    "fig, ax = plt.subplots(1, 3, squeeze=False, figsize=(20, 10))\n",
    "\n",
    "for idx in range(3):\n",
    "    # ax_ = ax[idx]\n",
    "    data = data_to_plot[idx]\n",
    "    disp = ax[0, idx].bar(data.keys(), height=data.values())\n",
    "    disp1 = ax[0, idx].set_xticklabels(data.keys(), rotation=90)\n",
    "    disp = ax[0, idx].bar_label(container=disp, fontweight=\"bold\")\n",
    "    disp2 = ax[0, idx].set_title(data_titles[idx].upper(), fontweight=\"bold\")"
   ]
  },
  {
   "cell_type": "raw",
   "id": "445166a9-ed83-4c1d-a372-c6c100295903",
   "metadata": {
    "tags": []
   },
   "source": [
    "\"\"\"\n",
    "Unique Categories within each categorical feature.\n",
    "\"\"\"\n",
    "fig, ax = plt.subplots(2, 2, figsize=(20, 10), squeeze=False, sharey=True)\n",
    "data_to_plot = [\n",
    "    ordinal_data_t,\n",
    "    nominal_data_t,\n",
    "    ordinal_data_eval_t,\n",
    "    nominal_data_eval_t,\n",
    "]\n",
    "fig.suptitle(\n",
    "    \"Unique Categories within each categorical feature \\n After removing uncommon nominal and ordinal categories\".upper(),\n",
    "    fontweight=\"bold\",\n",
    ")\n",
    "data_titles = [\n",
    "    \"Ordinal Categories(Train)\",\n",
    "    \"Nominal Categories(Train)\",\n",
    "    \"Ordinal Categories(Eval)\",\n",
    "    \"Nominal Categories(Eval)\",\n",
    "]\n",
    "idx = 0\n",
    "for i in range(2):\n",
    "    for j in range(2):\n",
    "        ax_ = ax[i, j]\n",
    "        data = data_to_plot[idx]\n",
    "\n",
    "        values = data.nunique().values\n",
    "        Xlabels = [x.split(\"__\")[1] for x in data.nunique().index]\n",
    "        disp = ax_.bar(x=Xlabels, height=values)\n",
    "        disp1 = ax_.set_title(data_titles[idx], fontweight=\"bold\")\n",
    "        disp2 = ax_.set_xticklabels(Xlabels, rotation=90)\n",
    "        ax_.bar_label(container=disp, fontweight=\"bold\")\n",
    "        ax_.plot(values, \"-r\")\n",
    "        idx += 1"
   ]
  },
  {
   "cell_type": "code",
   "execution_count": 68,
   "id": "46cb80b5-0656-41fc-8839-304eefa0adeb",
   "metadata": {},
   "outputs": [],
   "source": [
    "# data_ = pd.read_csv('../data/train.csv',index_col=0)"
   ]
  }
 ],
 "metadata": {
  "kernelspec": {
   "display_name": "Python 3 (ipykernel)",
   "language": "python",
   "name": "python3"
  },
  "language_info": {
   "codemirror_mode": {
    "name": "ipython",
    "version": 3
   },
   "file_extension": ".py",
   "mimetype": "text/x-python",
   "name": "python",
   "nbconvert_exporter": "python",
   "pygments_lexer": "ipython3",
   "version": "3.9.10"
  },
  "widgets": {
   "application/vnd.jupyter.widget-state+json": {
    "state": {},
    "version_major": 2,
    "version_minor": 0
   }
  }
 },
 "nbformat": 4,
 "nbformat_minor": 5
}
